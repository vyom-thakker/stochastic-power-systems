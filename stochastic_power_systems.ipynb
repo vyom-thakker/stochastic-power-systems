{
 "cells": [
  {
   "cell_type": "code",
   "execution_count": 1,
   "metadata": {},
   "outputs": [],
   "source": [
    "using DataFrames\n",
    "using VegaLite, VegaDatasets\n",
    "using JuMP\n",
    "using LinearAlgebra\n",
    "using GLPK\n",
    "using ChainRulesCore\n",
    "using CSV\n",
    "using Plots"
   ]
  },
  {
   "cell_type": "markdown",
   "metadata": {},
   "source": [
    "## Specify initial conditions"
   ]
  },
  {
   "cell_type": "code",
   "execution_count": 2,
   "metadata": {},
   "outputs": [
    {
     "data": {
      "text/plain": [
       "1×8 Matrix{Int64}:\n",
       " 0  0  0  0  0  1  0  0"
      ]
     },
     "execution_count": 2,
     "metadata": {},
     "output_type": "execute_result"
    }
   ],
   "source": [
    "#initial wind speed\n",
    "w_p_i=[0 1 0 0 0 0 0 0]\n",
    "#initial cloud night\n",
    "s_p_i=[0 0 0 0 0 1 0 0]"
   ]
  },
  {
   "cell_type": "markdown",
   "metadata": {},
   "source": [
    "## Declaration of parameters"
   ]
  },
  {
   "cell_type": "code",
   "execution_count": 3,
   "metadata": {},
   "outputs": [
    {
     "data": {
      "text/plain": [
       "3-element Vector{Int64}:\n",
       "  20\n",
       "  50\n",
       " 100"
      ]
     },
     "execution_count": 3,
     "metadata": {},
     "output_type": "execute_result"
    }
   ],
   "source": [
    "#Conventional generator Min and Max values\n",
    "g_max = [20, 50, 100]\n",
    "g_min = [5,20, 0]\n",
    "#g_min = [0,0, 0]\n",
    "\n",
    "#Conventional generator per MW cost\n",
    "c_g = [27.7, 35.5, 10000]\n",
    "\n",
    "#Conventional generator no load cost\n",
    "c_g0 = [120, 100, 10000]\n",
    "\n",
    "#Wind generator per MW cost\n",
    "c_w = 10\n",
    "\n",
    "#Solar generator per MW cost\n",
    "c_s = 10\n",
    "\n",
    "# Wind power maximum value at each hour for 24 hours\n",
    "w_f = [20 40]\n",
    "\n",
    "#Solar power maximum value at each hour for 24 hours\n",
    "s_f = [15 30]\n",
    "\n",
    "# Load demand for one day or 24 hours\n",
    "d = [35.89 45.5 41.9 38.6 43.16 65.56 45.02 35.63 40.31 56.85 74.55 90 57.22 49.6 59.49 83.5 76.07 90.33 33.78 39.41 34.96 36.73 32.5 29.65]\n",
    "\n",
    "\n",
    "#Minimum uptime and downtime for conventional generation\n",
    "UTg=[2,4,0]\n",
    "UDg=[2,4,0]\n",
    "#UTg=[4,8,0]\n",
    "#UDg=[4,8,0]\n",
    "\n",
    "#Minimum up and down ramp rate for conventional generator\n",
    "UR=[20,50,100]\n",
    "DR=[20,50,100]"
   ]
  },
  {
   "cell_type": "code",
   "execution_count": 15,
   "metadata": {},
   "outputs": [
    {
     "data": {
      "application/vnd.vegalite.v4+json": {
       "data": {
        "values": [
         {
          "Time": 1,
          "value": 10.365366800000002,
          "variable": "Conv"
         },
         {
          "Time": 2,
          "value": 17.03412527019,
          "variable": "Conv"
         },
         {
          "Time": 3,
          "value": 11.513710546391575,
          "variable": "Conv"
         },
         {
          "Time": 4,
          "value": 6.734496260319688,
          "variable": "Conv"
         },
         {
          "Time": 5,
          "value": 10.099718508507225,
          "variable": "Conv"
         },
         {
          "Time": 6,
          "value": 31.510323389919638,
          "variable": "Conv"
         },
         {
          "Time": 7,
          "value": 20,
          "variable": "Conv"
         },
         {
          "Time": 8,
          "value": 20,
          "variable": "Conv"
         },
         {
          "Time": 9,
          "value": 20,
          "variable": "Conv"
         },
         {
          "Time": 10,
          "value": 20.098376453452495,
          "variable": "Conv"
         },
         {
          "Time": 11,
          "value": 37.325817467104386,
          "variable": "Conv"
         },
         {
          "Time": 12,
          "value": 62.18005685435514,
          "variable": "Conv"
         },
         {
          "Time": 13,
          "value": 28.96582276774515,
          "variable": "Conv"
         },
         {
          "Time": 14,
          "value": 20.96382420919899,
          "variable": "Conv"
         },
         {
          "Time": 15,
          "value": 30.516572103874203,
          "variable": "Conv"
         },
         {
          "Time": 16,
          "value": 54.2279176777999,
          "variable": "Conv"
         },
         {
          "Time": 17,
          "value": 46.53275671983344,
          "variable": "Conv"
         },
         {
          "Time": 18,
          "value": 60.556810938350694,
          "variable": "Conv"
         },
         {
          "Time": 19,
          "value": 5,
          "variable": "Conv"
         },
         {
          "Time": 20,
          "value": 9.238632217191387,
          "variable": "Conv"
         },
         {
          "Time": 21,
          "value": 0,
          "variable": "Conv"
         },
         {
          "Time": 22,
          "value": 0,
          "variable": "Conv"
         },
         {
          "Time": 23,
          "value": 0,
          "variable": "Conv"
         },
         {
          "Time": 24,
          "value": 0,
          "variable": "Conv"
         },
         {
          "Time": 1,
          "value": 11.941759999999999,
          "variable": "Wind"
         },
         {
          "Time": 2,
          "value": 15.87843778868,
          "variable": "Wind"
         },
         {
          "Time": 3,
          "value": 18.51376793523153,
          "variable": "Wind"
         },
         {
          "Time": 4,
          "value": 20.510431130824486,
          "variable": "Wind"
         },
         {
          "Time": 5,
          "value": 22.09026662666265,
          "variable": "Wind"
         },
         {
          "Time": 6,
          "value": 23.37434274849795,
          "variable": "Wind"
         },
         {
          "Time": 7,
          "value": 24.43903042868523,
          "variable": "Wind"
         },
         {
          "Time": 8,
          "value": 15.630000000000003,
          "variable": "Wind"
         },
         {
          "Time": 9,
          "value": 20.310000000000002,
          "variable": "Wind"
         },
         {
          "Time": 10,
          "value": 26.755483959065828,
          "variable": "Wind"
         },
         {
          "Time": 11,
          "value": 27.324235083610557,
          "variable": "Wind"
         },
         {
          "Time": 12,
          "value": 27.819943145644853,
          "variable": "Wind"
         },
         {
          "Time": 13,
          "value": 28.25417723225485,
          "variable": "Wind"
         },
         {
          "Time": 14,
          "value": 28.636175790801012,
          "variable": "Wind"
         },
         {
          "Time": 15,
          "value": 28.9734278961258,
          "variable": "Wind"
         },
         {
          "Time": 16,
          "value": 29.2720823222001,
          "variable": "Wind"
         },
         {
          "Time": 17,
          "value": 29.53724328016655,
          "variable": "Wind"
         },
         {
          "Time": 18,
          "value": 29.7731890616493,
          "variable": "Wind"
         },
         {
          "Time": 19,
          "value": 28.78,
          "variable": "Wind"
         },
         {
          "Time": 20,
          "value": 30.17136778280861,
          "variable": "Wind"
         },
         {
          "Time": 21,
          "value": 30.339326086639513,
          "variable": "Wind"
         },
         {
          "Time": 22,
          "value": 30.489693783791676,
          "variable": "Wind"
         },
         {
          "Time": 23,
          "value": 30.624451915897293,
          "variable": "Wind"
         },
         {
          "Time": 24,
          "value": 29.65,
          "variable": "Wind"
         },
         {
          "Time": 1,
          "value": 13.5828732,
          "variable": "Solar"
         },
         {
          "Time": 2,
          "value": 12.587436941130001,
          "variable": "Solar"
         },
         {
          "Time": 3,
          "value": 11.872521518376892,
          "variable": "Solar"
         },
         {
          "Time": 4,
          "value": 11.355072608855828,
          "variable": "Solar"
         },
         {
          "Time": 5,
          "value": 10.970014864830121,
          "variable": "Solar"
         },
         {
          "Time": 6,
          "value": 10.675333861582416,
          "variable": "Solar"
         },
         {
          "Time": 7,
          "value": 0.5809695713147747,
          "variable": "Solar"
         },
         {
          "Time": 8,
          "value": 0,
          "variable": "Solar"
         },
         {
          "Time": 9,
          "value": 0,
          "variable": "Solar"
         },
         {
          "Time": 10,
          "value": 9.99613958748168,
          "variable": "Solar"
         },
         {
          "Time": 11,
          "value": 9.899947449285056,
          "variable": "Solar"
         },
         {
          "Time": 12,
          "value": 0,
          "variable": "Solar"
         },
         {
          "Time": 13,
          "value": 0,
          "variable": "Solar"
         },
         {
          "Time": 14,
          "value": 0,
          "variable": "Solar"
         },
         {
          "Time": 15,
          "value": 0,
          "variable": "Solar"
         },
         {
          "Time": 16,
          "value": 0,
          "variable": "Solar"
         },
         {
          "Time": 17,
          "value": 0,
          "variable": "Solar"
         },
         {
          "Time": 18,
          "value": 0,
          "variable": "Solar"
         },
         {
          "Time": 19,
          "value": 0,
          "variable": "Solar"
         },
         {
          "Time": 20,
          "value": 0,
          "variable": "Solar"
         },
         {
          "Time": 21,
          "value": 4.620673913360488,
          "variable": "Solar"
         },
         {
          "Time": 22,
          "value": 6.240306216208321,
          "variable": "Solar"
         },
         {
          "Time": 23,
          "value": 1.8755480841027072,
          "variable": "Solar"
         },
         {
          "Time": 24,
          "value": 0,
          "variable": "Solar"
         }
        ]
       },
       "encoding": {
        "color": {
         "field": "variable",
         "type": "nominal"
        },
        "x": {
         "field": "Time",
         "type": "quantitative"
        },
        "y": {
         "field": "value",
         "stack": "zero",
         "type": "quantitative"
        }
       },
       "height": 200,
       "mark": "area",
       "width": 450
      },
      "image/png": "[encoded data removed]",
      "image/svg+xml": [
       "<?xml version=\"1.0\" encoding=\"utf-8\"?>\n",
       "<!DOCTYPE svg PUBLIC \"-//W3C//DTD SVG 1.1//EN\" \"http://www.w3.org/Graphics/SVG/1.1/DTD/svg11.dtd\">\n",
       "<svg xmlns=\"http://www.w3.org/2000/svg\" xmlns:xlink=\"http://www.w3.org/1999/xlink\" version=\"1.1\" class=\"marks\" width=\"560\" height=\"247\" viewBox=\"0 0 560 247\"><rect width=\"560\" height=\"247\" fill=\"white\"/><g fill=\"none\" stroke-miterlimit=\"10\" transform=\"translate(42,10)\"><g class=\"mark-group role-frame root\" role=\"graphics-object\" aria-roledescription=\"group mark container\"><g transform=\"translate(0,0)\"><path class=\"background\" aria-hidden=\"true\" d=\"M0.5,0.5h450v200h-450Z\" stroke=\"#ddd\"/><g><g class=\"mark-group role-axis\" aria-hidden=\"true\"><g transform=\"translate(0.5,200.5)\"><path class=\"background\" aria-hidden=\"true\" d=\"M0,0h0v0h0Z\" pointer-events=\"none\"/><g><g class=\"mark-rule role-axis-grid\" pointer-events=\"none\"><line transform=\"translate(0,-200)\" x2=\"0\" y2=\"200\" stroke=\"#ddd\" stroke-width=\"1\" opacity=\"1\"/><line transform=\"translate(38,-200)\" x2=\"0\" y2=\"200\" stroke=\"#ddd\" stroke-width=\"1\" opacity=\"1\"/><line transform=\"translate(75,-200)\" x2=\"0\" y2=\"200\" stroke=\"#ddd\" stroke-width=\"1\" opacity=\"1\"/><line transform=\"translate(113,-200)\" x2=\"0\" y2=\"200\" stroke=\"#ddd\" stroke-width=\"1\" opacity=\"1\"/><line transform=\"translate(150,-200)\" x2=\"0\" y2=\"200\" stroke=\"#ddd\" stroke-width=\"1\" opacity=\"1\"/><line transform=\"translate(188,-200)\" x2=\"0\" y2=\"200\" stroke=\"#ddd\" stroke-width=\"1\" opacity=\"1\"/><line transform=\"translate(225,-200)\" x2=\"0\" y2=\"200\" stroke=\"#ddd\" stroke-width=\"1\" opacity=\"1\"/><line transform=\"translate(263,-200)\" x2=\"0\" y2=\"200\" stroke=\"#ddd\" stroke-width=\"1\" opacity=\"1\"/><line transform=\"translate(300,-200)\" x2=\"0\" y2=\"200\" stroke=\"#ddd\" stroke-width=\"1\" opacity=\"1\"/><line transform=\"translate(338,-200)\" x2=\"0\" y2=\"200\" stroke=\"#ddd\" stroke-width=\"1\" opacity=\"1\"/><line transform=\"translate(375,-200)\" x2=\"0\" y2=\"200\" stroke=\"#ddd\" stroke-width=\"1\" opacity=\"1\"/><line transform=\"translate(413,-200)\" x2=\"0\" y2=\"200\" stroke=\"#ddd\" stroke-width=\"1\" opacity=\"1\"/><line transform=\"translate(450,-200)\" x2=\"0\" y2=\"200\" stroke=\"#ddd\" stroke-width=\"1\" opacity=\"1\"/></g></g><path class=\"foreground\" aria-hidden=\"true\" d=\"\" pointer-events=\"none\" display=\"none\"/></g></g><g class=\"mark-group role-axis\" aria-hidden=\"true\"><g transform=\"translate(0.5,0.5)\"><path class=\"background\" aria-hidden=\"true\" d=\"M0,0h0v0h0Z\" pointer-events=\"none\"/><g><g class=\"mark-rule role-axis-grid\" pointer-events=\"none\"><line transform=\"translate(0,200)\" x2=\"450\" y2=\"0\" stroke=\"#ddd\" stroke-width=\"1\" opacity=\"1\"/><line transform=\"translate(0,160)\" x2=\"450\" y2=\"0\" stroke=\"#ddd\" stroke-width=\"1\" opacity=\"1\"/><line transform=\"translate(0,120)\" x2=\"450\" y2=\"0\" stroke=\"#ddd\" stroke-width=\"1\" opacity=\"1\"/><line transform=\"translate(0,80)\" x2=\"450\" y2=\"0\" stroke=\"#ddd\" stroke-width=\"1\" opacity=\"1\"/><line transform=\"translate(0,40)\" x2=\"450\" y2=\"0\" stroke=\"#ddd\" stroke-width=\"1\" opacity=\"1\"/><line transform=\"translate(0,0)\" x2=\"450\" y2=\"0\" stroke=\"#ddd\" stroke-width=\"1\" opacity=\"1\"/></g></g><path class=\"foreground\" aria-hidden=\"true\" d=\"\" pointer-events=\"none\" display=\"none\"/></g></g><g class=\"mark-group role-axis\" role=\"graphics-symbol\" aria-roledescription=\"axis\" aria-label=\"X-axis titled 'Time' for a linear scale with values from 0 to 24\"><g transform=\"translate(0.5,200.5)\"><path class=\"background\" aria-hidden=\"true\" d=\"M0,0h0v0h0Z\" pointer-events=\"none\"/><g><g class=\"mark-rule role-axis-tick\" pointer-events=\"none\"><line transform=\"translate(0,0)\" x2=\"0\" y2=\"5\" stroke=\"#888\" stroke-width=\"1\" opacity=\"1\"/><line transform=\"translate(38,0)\" x2=\"0\" y2=\"5\" stroke=\"#888\" stroke-width=\"1\" opacity=\"1\"/><line transform=\"translate(75,0)\" x2=\"0\" y2=\"5\" stroke=\"#888\" stroke-width=\"1\" opacity=\"1\"/><line transform=\"translate(113,0)\" x2=\"0\" y2=\"5\" stroke=\"#888\" stroke-width=\"1\" opacity=\"1\"/><line transform=\"translate(150,0)\" x2=\"0\" y2=\"5\" stroke=\"#888\" stroke-width=\"1\" opacity=\"1\"/><line transform=\"translate(188,0)\" x2=\"0\" y2=\"5\" stroke=\"#888\" stroke-width=\"1\" opacity=\"1\"/><line transform=\"translate(225,0)\" x2=\"0\" y2=\"5\" stroke=\"#888\" stroke-width=\"1\" opacity=\"1\"/><line transform=\"translate(263,0)\" x2=\"0\" y2=\"5\" stroke=\"#888\" stroke-width=\"1\" opacity=\"1\"/><line transform=\"translate(300,0)\" x2=\"0\" y2=\"5\" stroke=\"#888\" stroke-width=\"1\" opacity=\"1\"/><line transform=\"translate(338,0)\" x2=\"0\" y2=\"5\" stroke=\"#888\" stroke-width=\"1\" opacity=\"1\"/><line transform=\"translate(375,0)\" x2=\"0\" y2=\"5\" stroke=\"#888\" stroke-width=\"1\" opacity=\"1\"/><line transform=\"translate(413,0)\" x2=\"0\" y2=\"5\" stroke=\"#888\" stroke-width=\"1\" opacity=\"1\"/><line transform=\"translate(450,0)\" x2=\"0\" y2=\"5\" stroke=\"#888\" stroke-width=\"1\" opacity=\"1\"/></g><g class=\"mark-text role-axis-label\" pointer-events=\"none\"><text text-anchor=\"start\" transform=\"translate(0,15)\" font-family=\"sans-serif\" font-size=\"10px\" fill=\"#000\" opacity=\"1\">0</text><text text-anchor=\"middle\" transform=\"translate(37.5,15)\" font-family=\"sans-serif\" font-size=\"10px\" fill=\"#000\" opacity=\"1\">2</text><text text-anchor=\"middle\" transform=\"translate(75,15)\" font-family=\"sans-serif\" font-size=\"10px\" fill=\"#000\" opacity=\"1\">4</text><text text-anchor=\"middle\" transform=\"translate(112.5,15)\" font-family=\"sans-serif\" font-size=\"10px\" fill=\"#000\" opacity=\"1\">6</text><text text-anchor=\"middle\" transform=\"translate(150,15)\" font-family=\"sans-serif\" font-size=\"10px\" fill=\"#000\" opacity=\"1\">8</text><text text-anchor=\"middle\" transform=\"translate(187.5,15)\" font-family=\"sans-serif\" font-size=\"10px\" fill=\"#000\" opacity=\"1\">10</text><text text-anchor=\"middle\" transform=\"translate(225,15)\" font-family=\"sans-serif\" font-size=\"10px\" fill=\"#000\" opacity=\"1\">12</text><text text-anchor=\"middle\" transform=\"translate(262.5,15)\" font-family=\"sans-serif\" font-size=\"10px\" fill=\"#000\" opacity=\"1\">14</text><text text-anchor=\"middle\" transform=\"translate(300,15)\" font-family=\"sans-serif\" font-size=\"10px\" fill=\"#000\" opacity=\"1\">16</text><text text-anchor=\"middle\" transform=\"translate(337.5,15)\" font-family=\"sans-serif\" font-size=\"10px\" fill=\"#000\" opacity=\"1\">18</text><text text-anchor=\"middle\" transform=\"translate(375,15)\" font-family=\"sans-serif\" font-size=\"10px\" fill=\"#000\" opacity=\"1\">20</text><text text-anchor=\"middle\" transform=\"translate(412.5,15)\" font-family=\"sans-serif\" font-size=\"10px\" fill=\"#000\" opacity=\"1\">22</text><text text-anchor=\"end\" transform=\"translate(450,15)\" font-family=\"sans-serif\" font-size=\"10px\" fill=\"#000\" opacity=\"1\">24</text></g><g class=\"mark-rule role-axis-domain\" pointer-events=\"none\"><line transform=\"translate(0,0)\" x2=\"450\" y2=\"0\" stroke=\"#888\" stroke-width=\"1\" opacity=\"1\"/></g><g class=\"mark-text role-axis-title\" pointer-events=\"none\"><text text-anchor=\"middle\" transform=\"translate(225,30)\" font-family=\"sans-serif\" font-size=\"11px\" font-weight=\"bold\" fill=\"#000\" opacity=\"1\">Time</text></g></g><path class=\"foreground\" aria-hidden=\"true\" d=\"\" pointer-events=\"none\" display=\"none\"/></g></g><g class=\"mark-group role-axis\" role=\"graphics-symbol\" aria-roledescription=\"axis\" aria-label=\"Y-axis titled 'value' for a linear scale with values from 0 to 100\"><g transform=\"translate(0.5,0.5)\"><path class=\"background\" aria-hidden=\"true\" d=\"M0,0h0v0h0Z\" pointer-events=\"none\"/><g><g class=\"mark-rule role-axis-tick\" pointer-events=\"none\"><line transform=\"translate(0,200)\" x2=\"-5\" y2=\"0\" stroke=\"#888\" stroke-width=\"1\" opacity=\"1\"/><line transform=\"translate(0,160)\" x2=\"-5\" y2=\"0\" stroke=\"#888\" stroke-width=\"1\" opacity=\"1\"/><line transform=\"translate(0,120)\" x2=\"-5\" y2=\"0\" stroke=\"#888\" stroke-width=\"1\" opacity=\"1\"/><line transform=\"translate(0,80)\" x2=\"-5\" y2=\"0\" stroke=\"#888\" stroke-width=\"1\" opacity=\"1\"/><line transform=\"translate(0,40)\" x2=\"-5\" y2=\"0\" stroke=\"#888\" stroke-width=\"1\" opacity=\"1\"/><line transform=\"translate(0,0)\" x2=\"-5\" y2=\"0\" stroke=\"#888\" stroke-width=\"1\" opacity=\"1\"/></g><g class=\"mark-text role-axis-label\" pointer-events=\"none\"><text text-anchor=\"end\" transform=\"translate(-7,203)\" font-family=\"sans-serif\" font-size=\"10px\" fill=\"#000\" opacity=\"1\">0</text><text text-anchor=\"end\" transform=\"translate(-7,163)\" font-family=\"sans-serif\" font-size=\"10px\" fill=\"#000\" opacity=\"1\">20</text><text text-anchor=\"end\" transform=\"translate(-7,123)\" font-family=\"sans-serif\" font-size=\"10px\" fill=\"#000\" opacity=\"1\">40</text><text text-anchor=\"end\" transform=\"translate(-7,83)\" font-family=\"sans-serif\" font-size=\"10px\" fill=\"#000\" opacity=\"1\">60</text><text text-anchor=\"end\" transform=\"translate(-7,42.99999999999999)\" font-family=\"sans-serif\" font-size=\"10px\" fill=\"#000\" opacity=\"1\">80</text><text text-anchor=\"end\" transform=\"translate(-7,3)\" font-family=\"sans-serif\" font-size=\"10px\" fill=\"#000\" opacity=\"1\">100</text></g><g class=\"mark-rule role-axis-domain\" pointer-events=\"none\"><line transform=\"translate(0,200)\" x2=\"0\" y2=\"-200\" stroke=\"#888\" stroke-width=\"1\" opacity=\"1\"/></g><g class=\"mark-text role-axis-title\" pointer-events=\"none\"><text text-anchor=\"middle\" transform=\"translate(-26,100) rotate(-90) translate(0,-2)\" font-family=\"sans-serif\" font-size=\"11px\" font-weight=\"bold\" fill=\"#000\" opacity=\"1\">value</text></g></g><path class=\"foreground\" aria-hidden=\"true\" d=\"\" pointer-events=\"none\" display=\"none\"/></g></g><g class=\"mark-group role-scope pathgroup\" role=\"graphics-object\" aria-roledescription=\"group mark container\"><g transform=\"translate(0,0)\"><path class=\"background\" aria-hidden=\"true\" d=\"M0,0h450v200h-450Z\"/><g><g class=\"mark-area role-mark marks\" role=\"graphics-object\" aria-roledescription=\"area mark container\"><path aria-label=\"Time: 1; value: 10.3653668; variable: Conv\" role=\"graphics-symbol\" aria-roledescription=\"area mark\" d=\"M18.75,128.22L37.5,108.99999999999999L56.25,116.19999999999999L75,122.8L93.75,113.68L112.5,68.87999999999998L131.25,109.96L150,128.73999999999998L168.75,119.38L187.5,86.3L206.25,50.90000000000001L225,19.999999999999996L243.74999999999997,85.55999999999999L262.5,100.8L281.25,81.02000000000001L300,33.00000000000001L318.75,47.860000000000014L337.5,19.340000000000003L356.25,132.44L375,121.18000000000002L393.75,130.07999999999998L412.5,126.54L431.25,135L450,140.7L450,140.7L431.25,135L412.5,126.54L393.75,130.07999999999998L375,139.65726443438277L356.25,142.44L337.5,140.45362187670142L318.75,140.9255134396669L300,141.4558353555998L281.25,142.0531442077484L262.5,142.727648418398L243.74999999999997,143.4916455354903L225,144.3601137087103L206.25,125.55163493420878L187.5,126.49675290690499L168.75,159.38L150,168.74L131.25,149.96L112.5,131.90064677983926L93.75,133.87943701701445L75,136.2689925206394L56.25,139.22742109278317L37.5,143.06825054038L18.75,148.9507336Z\" fill=\"#4c78a8\"/></g></g><path class=\"foreground\" aria-hidden=\"true\" d=\"\" display=\"none\"/></g><g transform=\"translate(0,0)\"><path class=\"background\" aria-hidden=\"true\" d=\"M0,0h450v200h-450Z\"/><g><g class=\"mark-area role-mark marks\" role=\"graphics-object\" aria-roledescription=\"area mark container\"><path aria-label=\"Time: 1; value: 11.94176; variable: Wind\" role=\"graphics-symbol\" aria-roledescription=\"area mark\" d=\"M18.75,176.11648L37.5,168.24312442264L56.25,162.97246412953695L75,158.97913773835103L93.75,155.81946674667472L112.5,153.2513145030041L131.25,151.12193914262954L150,168.74L168.75,159.38L187.5,146.48903208186834L206.25,145.3515298327789L225,144.3601137087103L243.74999999999997,143.4916455354903L262.5,142.727648418398L281.25,142.0531442077484L300,141.4558353555998L318.75,140.9255134396669L337.5,140.45362187670142L356.25,142.44L375,139.65726443438277L393.75,139.32134782672097L412.5,139.02061243241667L431.25,138.75109616820544L450,140.7L450,200L431.25,200L412.5,200L393.75,200L375,200L356.25,200L337.5,200L318.75,200L300,200L281.25,200L262.5,200L243.74999999999997,200L225,200L206.25,200L187.5,200L168.75,200L150,200L131.25,200L112.5,200L93.75,200L75,200L56.25,200L37.5,200L18.75,200Z\" fill=\"#e45756\"/></g></g><path class=\"foreground\" aria-hidden=\"true\" d=\"\" display=\"none\"/></g><g transform=\"translate(0,0)\"><path class=\"background\" aria-hidden=\"true\" d=\"M0,0h450v200h-450Z\"/><g><g class=\"mark-area role-mark marks\" role=\"graphics-object\" aria-roledescription=\"area mark container\"><path aria-label=\"Time: 1; value: 13.5828732; variable: Solar\" role=\"graphics-symbol\" aria-roledescription=\"area mark\" d=\"M18.75,148.9507336L37.5,143.06825054038L56.25,139.22742109278317L75,136.2689925206394L93.75,133.87943701701445L112.5,131.90064677983926L131.25,149.96L150,168.74L168.75,159.38L187.5,126.49675290690499L206.25,125.55163493420878L225,144.3601137087103L243.74999999999997,143.4916455354903L262.5,142.727648418398L281.25,142.0531442077484L300,141.4558353555998L318.75,140.9255134396669L337.5,140.45362187670142L356.25,142.44L375,139.65726443438277L393.75,130.07999999999998L412.5,126.54L431.25,135L450,140.7L450,140.7L431.25,138.75109616820544L412.5,139.02061243241667L393.75,139.32134782672097L375,139.65726443438277L356.25,142.44L337.5,140.45362187670142L318.75,140.9255134396669L300,141.4558353555998L281.25,142.0531442077484L262.5,142.727648418398L243.74999999999997,143.4916455354903L225,144.3601137087103L206.25,145.3515298327789L187.5,146.48903208186834L168.75,159.38L150,168.74L131.25,151.12193914262954L112.5,153.2513145030041L93.75,155.81946674667472L75,158.97913773835103L56.25,162.97246412953695L37.5,168.24312442264L18.75,176.11648Z\" fill=\"#f58518\"/></g></g><path class=\"foreground\" aria-hidden=\"true\" d=\"\" display=\"none\"/></g></g><g class=\"mark-group role-legend\" role=\"graphics-symbol\" aria-roledescription=\"legend\" aria-label=\"Symbol legend titled 'variable' for fill color with 3 values: Conv, Solar, Wind\"><g transform=\"translate(468,0)\"><path class=\"background\" aria-hidden=\"true\" d=\"M0,0h45v53h-45Z\" pointer-events=\"none\"/><g><g class=\"mark-group role-legend-entry\"><g transform=\"translate(0,16)\"><path class=\"background\" aria-hidden=\"true\" d=\"M0,0h0v0h0Z\" pointer-events=\"none\"/><g><g class=\"mark-group role-scope\" role=\"graphics-object\" aria-roledescription=\"group mark container\"><g transform=\"translate(0,0)\"><path class=\"background\" aria-hidden=\"true\" d=\"M0,0h39v11h-39Z\" pointer-events=\"none\" opacity=\"1\"/><g><g class=\"mark-symbol role-legend-symbol\" pointer-events=\"none\"><path transform=\"translate(6,6)\" d=\"M5,0A5,5,0,1,1,-5,0A5,5,0,1,1,5,0\" fill=\"#4c78a8\" stroke-width=\"1.5\" opacity=\"1\"/></g><g class=\"mark-text role-legend-label\" pointer-events=\"none\"><text text-anchor=\"start\" transform=\"translate(16,9)\" font-family=\"sans-serif\" font-size=\"10px\" fill=\"#000\" opacity=\"1\">Conv</text></g></g><path class=\"foreground\" aria-hidden=\"true\" d=\"\" pointer-events=\"none\" display=\"none\"/></g><g transform=\"translate(0,13)\"><path class=\"background\" aria-hidden=\"true\" d=\"M0,0h39v11h-39Z\" pointer-events=\"none\" opacity=\"1\"/><g><g class=\"mark-symbol role-legend-symbol\" pointer-events=\"none\"><path transform=\"translate(6,6)\" d=\"M5,0A5,5,0,1,1,-5,0A5,5,0,1,1,5,0\" fill=\"#f58518\" stroke-width=\"1.5\" opacity=\"1\"/></g><g class=\"mark-text role-legend-label\" pointer-events=\"none\"><text text-anchor=\"start\" transform=\"translate(16,9)\" font-family=\"sans-serif\" font-size=\"10px\" fill=\"#000\" opacity=\"1\">Solar</text></g></g><path class=\"foreground\" aria-hidden=\"true\" d=\"\" pointer-events=\"none\" display=\"none\"/></g><g transform=\"translate(0,26)\"><path class=\"background\" aria-hidden=\"true\" d=\"M0,0h39v11h-39Z\" pointer-events=\"none\" opacity=\"1\"/><g><g class=\"mark-symbol role-legend-symbol\" pointer-events=\"none\"><path transform=\"translate(6,6)\" d=\"M5,0A5,5,0,1,1,-5,0A5,5,0,1,1,5,0\" fill=\"#e45756\" stroke-width=\"1.5\" opacity=\"1\"/></g><g class=\"mark-text role-legend-label\" pointer-events=\"none\"><text text-anchor=\"start\" transform=\"translate(16,9)\" font-family=\"sans-serif\" font-size=\"10px\" fill=\"#000\" opacity=\"1\">Wind</text></g></g><path class=\"foreground\" aria-hidden=\"true\" d=\"\" pointer-events=\"none\" display=\"none\"/></g></g></g><path class=\"foreground\" aria-hidden=\"true\" d=\"\" pointer-events=\"none\" display=\"none\"/></g></g><g class=\"mark-text role-legend-title\" pointer-events=\"none\"><text text-anchor=\"start\" transform=\"translate(0,9)\" font-family=\"sans-serif\" font-size=\"11px\" font-weight=\"bold\" fill=\"#000\" opacity=\"1\">variable</text></g></g><path class=\"foreground\" aria-hidden=\"true\" d=\"\" pointer-events=\"none\" display=\"none\"/></g></g></g><path class=\"foreground\" aria-hidden=\"true\" d=\"\" display=\"none\"/></g></g></g></svg>\n"
      ],
      "text/plain": [
       "@vlplot(\n",
       "    width=450,\n",
       "    height=200,\n",
       "    mark=\"area\",\n",
       "    encoding={\n",
       "        x={\n",
       "            field=\"Time\"\n",
       "        },\n",
       "        y={\n",
       "            stack=\"zero\",\n",
       "            field=\"value\"\n",
       "        },\n",
       "        color={\n",
       "            field=\"variable\",\n",
       "            type=\"nominal\"\n",
       "        }\n",
       "    },\n",
       "    data={\n",
       "        values=...\n",
       "    }\n",
       ")"
      ]
     },
     "execution_count": 15,
     "metadata": {},
     "output_type": "execute_result"
    }
   ],
   "source": [
    "# MILP Unit Commitment\n",
    "(g_opt, w_opt, s_opt, obj,u,w_diff,s_diff,cost) = solve_ed(g_max, g_min, c_g, c_w, d, w_f, s_f);\n",
    "# Solve stochastic\n",
    "(g_opt, w_opt, s_opt, obj,u, w_diff, s_diff,cost) = solve_st(g_max, g_min, c_g, c_w, d, w_f, s_f,w_p_i,s_p_i);\n",
    "g_opt_tot=g_opt[1,:].+g_opt[2,:]+g_opt[3,:]\n",
    "sNames = [\"Conv\",\"Wind\",\"Solar\"]\n",
    "xLabels = [1,2,3,4,5,6,7,8,9,10,11,12,13,14,15,16,17,18,19,20,21,22,23,24]\n",
    "\n",
    "df = DataFrame(Time=xLabels, Conv=vec(g_opt_tot), Wind=vec(w_opt), Solar=vec(s_opt))\n",
    "df |> stack |> @vlplot(:area, x=:Time, y={:value, stack=:zero}, color=\"variable:n\",width=450, height=200)"
   ]
  },
  {
   "cell_type": "code",
   "execution_count": 16,
   "metadata": {},
   "outputs": [
    {
     "data": {
      "image/svg+xml": [
       "<?xml version=\"1.0\" encoding=\"utf-8\"?>\n",
       "<svg xmlns=\"http://www.w3.org/2000/svg\" xmlns:xlink=\"http://www.w3.org/1999/xlink\" width=\"450\" height=\"180\" viewBox=\"0 0 1800 720\">\n",
       "<defs>\n",
       "  <clipPath id=\"clip300\">\n",
       "    <rect x=\"0\" y=\"0\" width=\"1800\" height=\"720\"/>\n",
       "  </clipPath>\n",
       "</defs>\n",
       "<path clip-path=\"url(#clip300)\" d=\"\n",
       "M0 720 L1800 720 L1800 0 L0 0  Z\n",
       "  \" fill=\"#ffffff\" fill-rule=\"evenodd\" fill-opacity=\"1\"/>\n",
       "<defs>\n",
       "  <clipPath id=\"clip301\">\n",
       "    <rect x=\"360\" y=\"0\" width=\"1261\" height=\"720\"/>\n",
       "  </clipPath>\n",
       "</defs>\n",
       "<path clip-path=\"url(#clip300)\" d=\"\n",
       "M198.677 584.812 L1572.76 584.812 L1572.76 47.2441 L198.677 47.2441  Z\n",
       "  \" fill=\"#ffffff\" fill-rule=\"evenodd\" fill-opacity=\"1\"/>\n",
       "<defs>\n",
       "  <clipPath id=\"clip302\">\n",
       "    <rect x=\"198\" y=\"47\" width=\"1375\" height=\"539\"/>\n",
       "  </clipPath>\n",
       "</defs>\n",
       "<polyline clip-path=\"url(#clip302)\" style=\"stroke:#000000; stroke-linecap:butt; stroke-linejoin:round; stroke-width:2; stroke-opacity:0.1; fill:none\" points=\"\n",
       "  456.317,584.812 456.317,47.2441 \n",
       "  \"/>\n",
       "<polyline clip-path=\"url(#clip302)\" style=\"stroke:#000000; stroke-linecap:butt; stroke-linejoin:round; stroke-width:2; stroke-opacity:0.1; fill:none\" points=\"\n",
       "  742.583,584.812 742.583,47.2441 \n",
       "  \"/>\n",
       "<polyline clip-path=\"url(#clip302)\" style=\"stroke:#000000; stroke-linecap:butt; stroke-linejoin:round; stroke-width:2; stroke-opacity:0.1; fill:none\" points=\"\n",
       "  1028.85,584.812 1028.85,47.2441 \n",
       "  \"/>\n",
       "<polyline clip-path=\"url(#clip302)\" style=\"stroke:#000000; stroke-linecap:butt; stroke-linejoin:round; stroke-width:2; stroke-opacity:0.1; fill:none\" points=\"\n",
       "  1315.12,584.812 1315.12,47.2441 \n",
       "  \"/>\n",
       "<polyline clip-path=\"url(#clip300)\" style=\"stroke:#000000; stroke-linecap:butt; stroke-linejoin:round; stroke-width:4; stroke-opacity:1; fill:none\" points=\"\n",
       "  198.677,584.812 1572.76,584.812 \n",
       "  \"/>\n",
       "<polyline clip-path=\"url(#clip300)\" style=\"stroke:#000000; stroke-linecap:butt; stroke-linejoin:round; stroke-width:4; stroke-opacity:1; fill:none\" points=\"\n",
       "  456.317,584.812 456.317,565.914 \n",
       "  \"/>\n",
       "<polyline clip-path=\"url(#clip300)\" style=\"stroke:#000000; stroke-linecap:butt; stroke-linejoin:round; stroke-width:4; stroke-opacity:1; fill:none\" points=\"\n",
       "  742.583,584.812 742.583,565.914 \n",
       "  \"/>\n",
       "<polyline clip-path=\"url(#clip300)\" style=\"stroke:#000000; stroke-linecap:butt; stroke-linejoin:round; stroke-width:4; stroke-opacity:1; fill:none\" points=\"\n",
       "  1028.85,584.812 1028.85,565.914 \n",
       "  \"/>\n",
       "<polyline clip-path=\"url(#clip300)\" style=\"stroke:#000000; stroke-linecap:butt; stroke-linejoin:round; stroke-width:4; stroke-opacity:1; fill:none\" points=\"\n",
       "  1315.12,584.812 1315.12,565.914 \n",
       "  \"/>\n",
       "<path clip-path=\"url(#clip300)\" d=\"M446.594 607.852 L464.951 607.852 L464.951 611.787 L450.877 611.787 L450.877 620.259 Q451.895 619.912 452.914 619.75 Q453.932 619.565 454.951 619.565 Q460.738 619.565 464.117 622.736 Q467.497 625.907 467.497 631.324 Q467.497 636.903 464.025 640.004 Q460.553 643.083 454.233 643.083 Q452.057 643.083 449.789 642.713 Q447.543 642.342 445.136 641.602 L445.136 636.903 Q447.219 638.037 449.442 638.592 Q451.664 639.148 454.141 639.148 Q458.145 639.148 460.483 637.042 Q462.821 634.935 462.821 631.324 Q462.821 627.713 460.483 625.606 Q458.145 623.5 454.141 623.5 Q452.266 623.5 450.391 623.917 Q448.539 624.333 446.594 625.213 L446.594 607.852 Z\" fill=\"#000000\" fill-rule=\"evenodd\" fill-opacity=\"1\" /><path clip-path=\"url(#clip300)\" d=\"M717.271 638.477 L724.91 638.477 L724.91 612.111 L716.599 613.778 L716.599 609.519 L724.863 607.852 L729.539 607.852 L729.539 638.477 L737.178 638.477 L737.178 642.412 L717.271 642.412 L717.271 638.477 Z\" fill=\"#000000\" fill-rule=\"evenodd\" fill-opacity=\"1\" /><path clip-path=\"url(#clip300)\" d=\"M756.622 610.931 Q753.011 610.931 751.183 614.495 Q749.377 618.037 749.377 625.167 Q749.377 632.273 751.183 635.838 Q753.011 639.379 756.622 639.379 Q760.257 639.379 762.062 635.838 Q763.891 632.273 763.891 625.167 Q763.891 618.037 762.062 614.495 Q760.257 610.931 756.622 610.931 M756.622 607.227 Q762.432 607.227 765.488 611.833 Q768.567 616.417 768.567 625.167 Q768.567 633.893 765.488 638.5 Q762.432 643.083 756.622 643.083 Q750.812 643.083 747.733 638.5 Q744.678 633.893 744.678 625.167 Q744.678 616.417 747.733 611.833 Q750.812 607.227 756.622 607.227 Z\" fill=\"#000000\" fill-rule=\"evenodd\" fill-opacity=\"1\" /><path clip-path=\"url(#clip300)\" d=\"M1004.03 638.477 L1011.67 638.477 L1011.67 612.111 L1003.36 613.778 L1003.36 609.519 L1011.63 607.852 L1016.3 607.852 L1016.3 638.477 L1023.94 638.477 L1023.94 642.412 L1004.03 642.412 L1004.03 638.477 Z\" fill=\"#000000\" fill-rule=\"evenodd\" fill-opacity=\"1\" /><path clip-path=\"url(#clip300)\" d=\"M1033.43 607.852 L1051.79 607.852 L1051.79 611.787 L1037.72 611.787 L1037.72 620.259 Q1038.73 619.912 1039.75 619.75 Q1040.77 619.565 1041.79 619.565 Q1047.58 619.565 1050.96 622.736 Q1054.34 625.907 1054.34 631.324 Q1054.34 636.903 1050.86 640.004 Q1047.39 643.083 1041.07 643.083 Q1038.9 643.083 1036.63 642.713 Q1034.38 642.342 1031.97 641.602 L1031.97 636.903 Q1034.06 638.037 1036.28 638.592 Q1038.5 639.148 1040.98 639.148 Q1044.98 639.148 1047.32 637.042 Q1049.66 634.935 1049.66 631.324 Q1049.66 627.713 1047.32 625.606 Q1044.98 623.5 1040.98 623.5 Q1039.1 623.5 1037.23 623.917 Q1035.38 624.333 1033.43 625.213 L1033.43 607.852 Z\" fill=\"#000000\" fill-rule=\"evenodd\" fill-opacity=\"1\" /><path clip-path=\"url(#clip300)\" d=\"M1293.89 638.477 L1310.21 638.477 L1310.21 642.412 L1288.26 642.412 L1288.26 638.477 Q1290.93 635.722 1295.51 631.092 Q1300.12 626.44 1301.3 625.097 Q1303.54 622.574 1304.42 620.838 Q1305.32 619.079 1305.32 617.389 Q1305.32 614.634 1303.38 612.898 Q1301.46 611.162 1298.36 611.162 Q1296.16 611.162 1293.7 611.926 Q1291.27 612.69 1288.5 614.241 L1288.5 609.519 Q1291.32 608.384 1293.77 607.806 Q1296.23 607.227 1298.26 607.227 Q1303.63 607.227 1306.83 609.912 Q1310.02 612.597 1310.02 617.088 Q1310.02 619.218 1309.21 621.139 Q1308.43 623.037 1306.32 625.63 Q1305.74 626.301 1302.64 629.518 Q1299.54 632.713 1293.89 638.477 Z\" fill=\"#000000\" fill-rule=\"evenodd\" fill-opacity=\"1\" /><path clip-path=\"url(#clip300)\" d=\"M1330.02 610.931 Q1326.41 610.931 1324.58 614.495 Q1322.78 618.037 1322.78 625.167 Q1322.78 632.273 1324.58 635.838 Q1326.41 639.379 1330.02 639.379 Q1333.66 639.379 1335.46 635.838 Q1337.29 632.273 1337.29 625.167 Q1337.29 618.037 1335.46 614.495 Q1333.66 610.931 1330.02 610.931 M1330.02 607.227 Q1335.83 607.227 1338.89 611.833 Q1341.97 616.417 1341.97 625.167 Q1341.97 633.893 1338.89 638.5 Q1335.83 643.083 1330.02 643.083 Q1324.21 643.083 1321.13 638.5 Q1318.08 633.893 1318.08 625.167 Q1318.08 616.417 1321.13 611.833 Q1324.21 607.227 1330.02 607.227 Z\" fill=\"#000000\" fill-rule=\"evenodd\" fill-opacity=\"1\" /><path clip-path=\"url(#clip300)\" d=\"M807.593 673.156 L847.793 673.156 L847.793 678.567 L830.923 678.567 L830.923 720.676 L824.462 720.676 L824.462 678.567 L807.593 678.567 L807.593 673.156 Z\" fill=\"#000000\" fill-rule=\"evenodd\" fill-opacity=\"1\" /><path clip-path=\"url(#clip300)\" d=\"M851.739 685.028 L857.596 685.028 L857.596 720.676 L851.739 720.676 L851.739 685.028 M851.739 671.151 L857.596 671.151 L857.596 678.567 L851.739 678.567 L851.739 671.151 Z\" fill=\"#000000\" fill-rule=\"evenodd\" fill-opacity=\"1\" /><path clip-path=\"url(#clip300)\" d=\"M897.604 691.871 Q899.8 687.924 902.856 686.046 Q905.911 684.169 910.049 684.169 Q915.619 684.169 918.643 688.083 Q921.667 691.967 921.667 699.16 L921.667 720.676 L915.778 720.676 L915.778 699.351 Q915.778 694.226 913.964 691.744 Q912.15 689.261 908.426 689.261 Q903.874 689.261 901.233 692.285 Q898.591 695.309 898.591 700.528 L898.591 720.676 L892.703 720.676 L892.703 699.351 Q892.703 694.195 890.888 691.744 Q889.074 689.261 885.287 689.261 Q880.799 689.261 878.157 692.317 Q875.515 695.34 875.515 700.528 L875.515 720.676 L869.627 720.676 L869.627 685.028 L875.515 685.028 L875.515 690.566 Q877.52 687.288 880.321 685.728 Q883.122 684.169 886.974 684.169 Q890.857 684.169 893.562 686.142 Q896.299 688.115 897.604 691.871 Z\" fill=\"#000000\" fill-rule=\"evenodd\" fill-opacity=\"1\" /><path clip-path=\"url(#clip300)\" d=\"M963.839 701.388 L963.839 704.252 L936.912 704.252 Q937.294 710.3 940.541 713.483 Q943.819 716.634 949.644 716.634 Q953.018 716.634 956.169 715.806 Q959.352 714.979 962.471 713.323 L962.471 718.862 Q959.32 720.198 956.01 720.899 Q952.699 721.599 949.294 721.599 Q940.764 721.599 935.767 716.634 Q930.801 711.668 930.801 703.202 Q930.801 694.449 935.512 689.325 Q940.254 684.169 948.275 684.169 Q955.469 684.169 959.638 688.815 Q963.839 693.431 963.839 701.388 M957.983 699.669 Q957.919 694.863 955.278 691.998 Q952.668 689.134 948.339 689.134 Q943.437 689.134 940.477 691.903 Q937.549 694.672 937.103 699.701 L957.983 699.669 Z\" fill=\"#000000\" fill-rule=\"evenodd\" fill-opacity=\"1\" /><polyline clip-path=\"url(#clip302)\" style=\"stroke:#000000; stroke-linecap:butt; stroke-linejoin:round; stroke-width:2; stroke-opacity:0.1; fill:none\" points=\"\n",
       "  198.677,450.42 1572.76,450.42 \n",
       "  \"/>\n",
       "<polyline clip-path=\"url(#clip302)\" style=\"stroke:#000000; stroke-linecap:butt; stroke-linejoin:round; stroke-width:2; stroke-opacity:0.1; fill:none\" points=\"\n",
       "  198.677,181.636 1572.76,181.636 \n",
       "  \"/>\n",
       "<polyline clip-path=\"url(#clip300)\" style=\"stroke:#000000; stroke-linecap:butt; stroke-linejoin:round; stroke-width:4; stroke-opacity:1; fill:none\" points=\"\n",
       "  198.677,584.812 198.677,47.2441 \n",
       "  \"/>\n",
       "<polyline clip-path=\"url(#clip300)\" style=\"stroke:#000000; stroke-linecap:butt; stroke-linejoin:round; stroke-width:4; stroke-opacity:1; fill:none\" points=\"\n",
       "  198.677,450.42 215.386,450.42 \n",
       "  \"/>\n",
       "<polyline clip-path=\"url(#clip300)\" style=\"stroke:#000000; stroke-linecap:butt; stroke-linejoin:round; stroke-width:4; stroke-opacity:1; fill:none\" points=\"\n",
       "  198.677,181.636 215.386,181.636 \n",
       "  \"/>\n",
       "<path clip-path=\"url(#clip300)\" d=\"M58.4134 433.14 L63.1356 433.14 L70.4041 462.353 L77.6494 433.14 L82.904 433.14 L90.1725 462.353 L97.4178 433.14 L102.163 433.14 L93.4827 467.7 L87.6031 467.7 L80.3114 437.7 L72.9504 467.7 L67.0708 467.7 L58.4134 433.14 Z\" fill=\"#000000\" fill-rule=\"evenodd\" fill-opacity=\"1\" /><path clip-path=\"url(#clip300)\" d=\"M107.14 441.774 L111.399 441.774 L111.399 467.7 L107.14 467.7 L107.14 441.774 M107.14 431.682 L111.399 431.682 L111.399 437.075 L107.14 437.075 L107.14 431.682 Z\" fill=\"#000000\" fill-rule=\"evenodd\" fill-opacity=\"1\" /><path clip-path=\"url(#clip300)\" d=\"M141.862 452.052 L141.862 467.7 L137.603 467.7 L137.603 452.191 Q137.603 448.51 136.168 446.681 Q134.732 444.853 131.862 444.853 Q128.413 444.853 126.422 447.052 Q124.432 449.251 124.432 453.047 L124.432 467.7 L120.149 467.7 L120.149 441.774 L124.432 441.774 L124.432 445.802 Q125.959 443.464 128.02 442.307 Q130.103 441.149 132.811 441.149 Q137.279 441.149 139.57 443.927 Q141.862 446.681 141.862 452.052 Z\" fill=\"#000000\" fill-rule=\"evenodd\" fill-opacity=\"1\" /><path clip-path=\"url(#clip300)\" d=\"M167.417 445.709 L167.417 431.682 L171.677 431.682 L171.677 467.7 L167.417 467.7 L167.417 463.811 Q166.075 466.126 164.015 467.26 Q161.978 468.371 159.107 468.371 Q154.408 468.371 151.445 464.621 Q148.506 460.871 148.506 454.76 Q148.506 448.649 151.445 444.899 Q154.408 441.149 159.107 441.149 Q161.978 441.149 164.015 442.283 Q166.075 443.394 167.417 445.709 M152.904 454.76 Q152.904 459.459 154.825 462.144 Q156.769 464.806 160.149 464.806 Q163.529 464.806 165.473 462.144 Q167.417 459.459 167.417 454.76 Q167.417 450.061 165.473 447.399 Q163.529 444.714 160.149 444.714 Q156.769 444.714 154.825 447.399 Q152.904 450.061 152.904 454.76 Z\" fill=\"#000000\" fill-rule=\"evenodd\" fill-opacity=\"1\" /><path clip-path=\"url(#clip300)\" d=\"M76.2374 165.49 L76.2374 170.05 Q73.5754 168.777 71.2143 168.152 Q68.8532 167.527 66.6541 167.527 Q62.8347 167.527 60.7513 169.009 Q58.6912 170.49 58.6912 173.222 Q58.6912 175.513 60.0569 176.694 Q61.4458 177.851 65.2884 178.569 L68.1124 179.148 Q73.3439 180.143 75.8207 182.666 Q78.3207 185.166 78.3207 189.379 Q78.3207 194.402 74.9411 196.995 Q71.5846 199.587 65.08 199.587 Q62.6263 199.587 59.8486 199.032 Q57.094 198.476 54.131 197.388 L54.131 192.573 Q56.9782 194.171 59.7097 194.981 Q62.4412 195.791 65.08 195.791 Q69.0846 195.791 71.2606 194.217 Q73.4365 192.643 73.4365 189.726 Q73.4365 187.18 71.8624 185.745 Q70.3115 184.31 66.7467 183.592 L63.8995 183.036 Q58.668 181.995 56.3301 179.773 Q53.9921 177.55 53.9921 173.592 Q53.9921 169.009 57.2097 166.37 Q60.4504 163.731 66.1217 163.731 Q68.5522 163.731 71.0754 164.171 Q73.5985 164.611 76.2374 165.49 Z\" fill=\"#000000\" fill-rule=\"evenodd\" fill-opacity=\"1\" /><path clip-path=\"url(#clip300)\" d=\"M95.4734 175.976 Q92.0475 175.976 90.0567 178.662 Q88.066 181.324 88.066 185.976 Q88.066 190.629 90.0336 193.314 Q92.0243 195.976 95.4734 195.976 Q98.8761 195.976 100.867 193.291 Q102.858 190.606 102.858 185.976 Q102.858 181.37 100.867 178.685 Q98.8761 175.976 95.4734 175.976 M95.4734 172.365 Q101.029 172.365 104.2 175.976 Q107.371 179.587 107.371 185.976 Q107.371 192.342 104.2 195.976 Q101.029 199.587 95.4734 199.587 Q89.8947 199.587 86.7234 195.976 Q83.5753 192.342 83.5753 185.976 Q83.5753 179.587 86.7234 175.976 Q89.8947 172.365 95.4734 172.365 Z\" fill=\"#000000\" fill-rule=\"evenodd\" fill-opacity=\"1\" /><path clip-path=\"url(#clip300)\" d=\"M114.432 162.898 L118.691 162.898 L118.691 198.916 L114.432 198.916 L114.432 162.898 Z\" fill=\"#000000\" fill-rule=\"evenodd\" fill-opacity=\"1\" /><path clip-path=\"url(#clip300)\" d=\"M139.385 185.884 Q134.223 185.884 132.232 187.064 Q130.242 188.245 130.242 191.092 Q130.242 193.361 131.723 194.703 Q133.228 196.023 135.797 196.023 Q139.339 196.023 141.469 193.523 Q143.621 190.999 143.621 186.833 L143.621 185.884 L139.385 185.884 M147.881 184.124 L147.881 198.916 L143.621 198.916 L143.621 194.981 Q142.163 197.342 139.987 198.476 Q137.811 199.587 134.663 199.587 Q130.682 199.587 128.32 197.365 Q125.982 195.12 125.982 191.37 Q125.982 186.995 128.899 184.773 Q131.839 182.55 137.649 182.55 L143.621 182.55 L143.621 182.134 Q143.621 179.194 141.677 177.597 Q139.756 175.976 136.26 175.976 Q134.038 175.976 131.932 176.509 Q129.825 177.041 127.881 178.106 L127.881 174.171 Q130.219 173.268 132.418 172.828 Q134.617 172.365 136.7 172.365 Q142.325 172.365 145.103 175.282 Q147.881 178.199 147.881 184.124 Z\" fill=\"#000000\" fill-rule=\"evenodd\" fill-opacity=\"1\" /><path clip-path=\"url(#clip300)\" d=\"M171.677 176.972 Q170.959 176.555 170.103 176.37 Q169.269 176.162 168.251 176.162 Q164.64 176.162 162.695 178.523 Q160.774 180.861 160.774 185.259 L160.774 198.916 L156.492 198.916 L156.492 172.99 L160.774 172.99 L160.774 177.018 Q162.117 174.657 164.269 173.523 Q166.422 172.365 169.501 172.365 Q169.941 172.365 170.473 172.435 Q171.005 172.481 171.654 172.597 L171.677 176.972 Z\" fill=\"#000000\" fill-rule=\"evenodd\" fill-opacity=\"1\" /><g clip-path=\"url(#clip302)\">\n",
       "<image width=\"1374\" height=\"538\" xlink:href=\"data:image/png;base64,\n",
       "iVBORw0KGgoAAAANSUhEUgAABV4AAAIaCAYAAADY01Z/AAAQsElEQVR4nO3asWmVARSGYa+Q1uAE\n",
       "CdhJ0Eoki0gaF0jpCk6TLmQCgxPYSBACAdt7iyRWQYmtve//H8TnmeBrz8vZ3O62j08AyJ0cHE1P\n",
       "WNz9r4fpCYvb2zydnrCK8+9X0xMAAPhLXz68m56wiv3Xb6YnLO7Tx4vpCYv7/PPH9ITF/R/XJAAA\n",
       "AADAioRXAAAAAICY8AoAAAAAEBNeAQAAAABiwisAAAAAQEx4BQAAAACICa8AAAAAADHhFQAAAAAg\n",
       "JrwCAAAAAMSEVwAAAACAmPAKAAAAABATXgEAAAAAYsIrAAAAAEBMeAUAAAAAiAmvAAAAAAAx4RUA\n",
       "AAAAICa8AgAAAADEhFcAAAAAgJjwCgAAAAAQE14BAAAAAGLCKwAAAABATHgFAAAAAIgJrwAAAAAA\n",
       "MeEVAAAAACAmvAIAAAAAxIRXAAAAAICY8AoAAAAAEBNeAQAAAABiwisAAAAAQEx4BQAAAACICa8A\n",
       "AAAAADHhFQAAAAAgJrwCAAAAAMSEVwAAAACAmPAKAAAAABATXgEAAAAAYsIrAAAAAEBMeAUAAAAA\n",
       "iAmvAAAAAAAx4RUAAAAAICa8AgAAAADEhFcAAAAAgJjwCgAAAAAQE14BAAAAAGLCKwAAAABATHgF\n",
       "AAAAAIgJrwAAAAAAMeEVAAAAACAmvAIAAAAAxIRXAAAAAICY8AoAAAAAEBNeAQAAAABiwisAAAAA\n",
       "QEx4BQAAAACICa8AAAAAADHhFQAAAAAgJrwCAAAAAMSEVwAAAACAmPAKAAAAABATXgEAAAAAYsIr\n",
       "AAAAAEBMeAUAAAAAiAmvAAAAAAAx4RUAAAAAICa8AgAAAADEhFcAAAAAgJjwCgAAAAAQE14BAAAA\n",
       "AGLCKwAAAABATHgFAAAAAIgJrwAAAAAAMeEVAAAAACAmvAIAAAAAxIRXAAAAAICY8AoAAAAAEBNe\n",
       "AQAAAABiwisAAAAAQEx4BQAAAACICa8AAAAAADHhFQAAAAAgJrwCAAAAAMSEVwAAAACAmPAKAAAA\n",
       "ABATXgEAAAAAYsIrAAAAAEBMeAUAAAAAiAmvAAAAAAAx4RUAAAAAICa8AgAAAADEhFcAAAAAgJjw\n",
       "CgAAAAAQE14BAAAAAGLCKwAAAABATHgFAAAAAIgJrwAAAAAAMeEVAAAAACAmvAIAAAAAxIRXAAAA\n",
       "AICY8AoAAAAAEBNeAQAAAABiwisAAAAAQEx4BQAAAACICa8AAAAAADHhFQAAAAAgJrwCAAAAAMSE\n",
       "VwAAAACAmPAKAAAAABATXgEAAAAAYsIrAAAAAEBMeAUAAAAAiAmvAAAAAAAx4RUAAAAAICa8AgAA\n",
       "AADEhFcAAAAAgJjwCgAAAAAQE14BAAAAAGLCKwAAAABATHgFAAAAAIgJrwAAAAAAMeEVAAAAACAm\n",
       "vAIAAAAAxIRXAAAAAICY8AoAAAAAEBNeAQAAAABiwisAAAAAQEx4BQAAAACICa8AAAAAADHhFQAA\n",
       "AAAgJrwCAAAAAMSEVwAAAACAmPAKAAAAABATXgEAAAAAYsIrAAAAAEBMeAUAAAAAiAmvAAAAAAAx\n",
       "4RUAAAAAICa8AgAAAADEhFcAAAAAgJjwCgAAAAAQE14BAAAAAGLCKwAAAABATHgFAAAAAIgJrwAA\n",
       "AAAAMeEVAAAAACAmvAIAAAAAxIRXAAAAAICY8AoAAAAAEBNeAQAAAABiwisAAAAAQEx4BQAAAACI\n",
       "Ca8AAAAAADHhFQAAAAAgJrwCAAAAAMSEVwAAAACAmPAKAAAAABATXgEAAAAAYsIrAAAAAEBMeAUA\n",
       "AAAAiAmvAAAAAAAx4RUAAAAAICa8AgAAAADEhFcAAAAAgJjwCgAAAAAQE14BAAAAAGLCKwAAAABA\n",
       "THgFAAAAAIgJrwAAAAAAMeEVAAAAACAmvAIAAAAAxIRXAAAAAICY8AoAAAAAEBNeAQAAAABiwisA\n",
       "AAAAQEx4BQAAAACICa8AAAAAADHhFQAAAAAgJrwCAAAAAMSEVwAAAACAmPAKAAAAABATXgEAAAAA\n",
       "YsIrAAAAAEBMeAUAAAAAiAmvAAAAAAAx4RUAAAAAICa8AgAAAADEhFcAAAAAgJjwCgAAAAAQE14B\n",
       "AAAAAGLCKwAAAABATHgFAAAAAIgJrwAAAAAAMeEVAAAAACAmvAIAAAAAxIRXAAAAAICY8AoAAAAA\n",
       "EBNeAQAAAABiwisAAAAAQEx4BQAAAACICa8AAAAAADHhFQAAAAAgJrwCAAAAAMSEVwAAAACAmPAK\n",
       "AAAAABATXgEAAAAAYsIrAAAAAEBMeAUAAAAAiAmvAAAAAAAx4RUAAAAAICa8AgAAAADEhFcAAAAA\n",
       "gJjwCgAAAAAQE14BAAAAAGLCKwAAAABATHgFAAAAAIgJrwAAAAAAMeEVAAAAACAmvAIAAAAAxIRX\n",
       "AAAAAICY8AoAAAAAEBNeAQAAAABiwisAAAAAQEx4BQAAAACICa8AAAAAADHhFQAAAAAgJrwCAAAA\n",
       "AMSEVwAAAACAmPAKAAAAABATXgEAAAAAYsIrAAAAAEBMeAUAAAAAiAmvAAAAAAAx4RUAAAAAICa8\n",
       "AgAAAADEhFcAAAAAgJjwCgAAAAAQE14BAAAAAGLCKwAAAABATHgFAAAAAIgJrwAAAAAAMeEVAAAA\n",
       "ACAmvAIAAAAAxIRXAAAAAICY8AoAAAAAEBNeAQAAAABiwisAAAAAQEx4BQAAAACICa8AAAAAADHh\n",
       "FQAAAAAgJrwCAAAAAMSEVwAAAACAmPAKAAAAABATXgEAAAAAYsIrAAAAAEBMeAUAAAAAiAmvAAAA\n",
       "AAAx4RUAAAAAICa8AgAAAADEhFcAAAAAgJjwCgAAAAAQE14BAAAAAGLCKwAAAABATHgFAAAAAIgJ\n",
       "rwAAAAAAMeEVAAAAACAmvAIAAAAAxIRXAAAAAICY8AoAAAAAEBNeAQAAAABim9vd9nF6BAD/pveH\n",
       "r6YnLO707fPpCas4PrucngAADLq7/jo9YXHPXrycngD84f7m2/SExfl4BQAAAACICa8AAAAAADHh\n",
       "FQAAAAAgJrwCAAAAAMSEVwAAAACAmPAKAAAAABATXgEAAAAAYsIrAAAAAEBMeAUAAAAAiAmvAAAA\n",
       "AAAx4RUAAAAAICa8AgAAAADEhFcAAAAAgJjwCgAAAAAQE14BAAAAAGLCKwAAAABATHgFAAAAAIgJ\n",
       "rwAAAAAAMeEVAAAAACAmvAIAAAAAxIRXAAAAAICY8AoAAAAAEBNeAQAAAABiwisAAAAAQEx4BQAA\n",
       "AACICa8AAAAAADHhFQAAAAAgJrwCAAAAAMSEVwAAAACAmPAKAAAAABATXgEAAAAAYsIrAAAAAEBM\n",
       "eAUAAAAAiAmvAAAAAAAx4RUAAAAAICa8AgAAAADEhFcAAAAAgJjwCgAAAAAQE14BAAAAAGLCKwAA\n",
       "AABATHgFAAAAAIgJrwAAAAAAMeEVAAAAACAmvAIAAAAAxIRXAAAAAICY8AoAAAAAEBNeAQAAAABi\n",
       "wisAAAAAQEx4BQAAAACICa8AAAAAADHhFQAAAAAgJrwCAAAAAMSEVwAAAACAmPAKAAAAABATXgEA\n",
       "AAAAYsIrAAAAAEBMeAUAAAAAiAmvAAAAAAAx4RUAAAAAICa8AgAAAADEhFcAAAAAgJjwCgAAAAAQ\n",
       "E14BAAAAAGLCKwAAAABATHgFAAAAAIgJrwAAAAAAMeEVAAAAACAmvAIAAAAAxIRXAAAAAICY8AoA\n",
       "AAAAEBNeAQAAAABiwisAAAAAQEx4BQAAAACICa8AAAAAADHhFQAAAAAgJrwCAAAAAMSEVwAAAACA\n",
       "mPAKAAAAABATXgEAAAAAYsIrAAAAAEBMeAUAAAAAiAmvAAAAAAAx4RUAAAAAICa8AgAAAADEhFcA\n",
       "AAAAgJjwCgAAAAAQE14BAAAAAGLCKwAAAABATHgFAAAAAIgJrwAAAAAAMeEVAAAAACAmvAIAAAAA\n",
       "xIRXAAAAAICY8AoAAAAAEBNeAQAAAABiwisAAAAAQEx4BQAAAACICa8AAAAAADHhFQAAAAAgJrwC\n",
       "AAAAAMSEVwAAAACAmPAKAAAAABATXgEAAAAAYsIrAAAAAEBMeAUAAAAAiAmvAAAAAAAx4RUAAAAA\n",
       "ICa8AgAAAADEhFcAAAAAgJjwCgAAAAAQE14BAAAAAGLCKwAAAABATHgFAAAAAIgJrwAAAAAAMeEV\n",
       "AAAAACAmvAIAAAAAxIRXAAAAAICY8AoAAAAAEBNeAQAAAABiwisAAAAAQEx4BQAAAACICa8AAAAA\n",
       "ADHhFQAAAAAgJrwCAAAAAMSEVwAAAACAmPAKAAAAABATXgEAAAAAYsIrAAAAAEBMeAUAAAAAiAmv\n",
       "AAAAAAAx4RUAAAAAICa8AgAAAADEhFcAAAAAgJjwCgAAAAAQE14BAAAAAGLCKwAAAABATHgFAAAA\n",
       "AIgJrwAAAAAAMeEVAAAAACAmvAIAAAAAxIRXAAAAAICY8AoAAAAAEBNeAQAAAABiwisAAAAAQEx4\n",
       "BQAAAACICa8AAAAAADHhFQAAAAAgJrwCAAAAAMSEVwAAAACAmPAKAAAAABATXgEAAAAAYsIrAAAA\n",
       "AEBMeAUAAAAAiAmvAAAAAAAx4RUAAAAAICa8AgAAAADEhFcAAAAAgJjwCgAAAAAQE14BAAAAAGLC\n",
       "KwAAAABATHgFAAAAAIgJrwAAAAAAMeEVAAAAACAmvAIAAAAAxIRXAAAAAICY8AoAAAAAEBNeAQAA\n",
       "AABiwisAAAAAQEx4BQAAAACICa8AAAAAADHhFQAAAAAgJrwCAAAAAMSEVwAAAACAmPAKAAAAABAT\n",
       "XgEAAAAAYsIrAAAAAEBMeAUAAAAAiAmvAAAAAAAx4RUAAAAAICa8AgAAAADEhFcAAAAAgJjwCgAA\n",
       "AAAQE14BAAAAAGLCKwAAAABATHgFAAAAAIgJrwAAAAAAMeEVAAAAACAmvAIAAAAAxIRXAAAAAICY\n",
       "8AoAAAAAEBNeAQAAAABiwisAAAAAQEx4BQAAAACICa8AAAAAADHhFQAAAAAgJrwCAAAAAMSEVwAA\n",
       "AACAmPAKAAAAABATXgEAAAAAYsIrAAAAAEBMeAUAAAAAiAmvAAAAAAAx4RUAAAAAICa8AgAAAADE\n",
       "hFcAAAAAgJjwCgAAAAAQE14BAAAAAGLCKwAAAABATHgFAAAAAIgJrwAAAAAAMeEVAAAAACAmvAIA\n",
       "AAAAxIRXAAAAAICY8AoAAAAAEBNeAQAAAABiwisAAAAAQEx4BQAAAACICa8AAAAAADHhFQAAAAAg\n",
       "JrwCAAAAAMSEVwAAAACAmPAKAAAAABATXgEAAAAAYsIrAAAAAEBMeAUAAAAAiAmvAAAAAAAx4RUA\n",
       "AAAAICa8AgAAAADEhFcAAAAAgJjwCgAAAAAQE14BAAAAAGLCKwAAAABATHgFAAAAAIgJrwAAAAAA\n",
       "MeEVAAAAACAmvAIAAAAAxIRXAAAAAICY8AoAAAAAEBNeAQAAAABiwisAAAAAQEx4BQAAAACICa8A\n",
       "AAAAADHhFQAAAAAgJrwCAAAAAMSEVwAAAACAmPAKAAAAABATXgEAAAAAYsIrAAAAAEBMeAUAAAAA\n",
       "iAmvAAAAAAAx4RUAAAAAICa8AgAAAADEhFcAAAAAgJjwCgAAAAAQE14BAAAAAGLCKwAAAABATHgF\n",
       "AAAAAIgJrwAAAAAAMeEVAAAAACAmvAIAAAAAxIRXAAAAAICY8AoAAAAAEBNeAQAAAABiwisAAAAA\n",
       "QEx4BQAAAACICa8AAAAAADHhFQAAAAAgJrwCAAAAAMR+A8MMISaRvF6OAAAAAElFTkSuQmCC\n",
       "\" transform=\"translate(199, 47)\"/>\n",
       "</g>\n",
       "<defs>\n",
       "  <clipPath id=\"clip303\">\n",
       "    <rect x=\"1608\" y=\"47\" width=\"55\" height=\"539\"/>\n",
       "  </clipPath>\n",
       "</defs>\n",
       "<g clip-path=\"url(#clip303)\">\n",
       "<image width=\"54\" height=\"538\" xlink:href=\"data:image/png;base64,\n",
       "iVBORw0KGgoAAAANSUhEUgAAADYAAAIaCAYAAABrtL65AAADi0lEQVR4nO3dwW0jQQxE0elBX/bo\n",
       "fJx/Wt4oBOEV/otABM1q9mhsn99/P3/PoPfbH+BTZgu75znf/gwfUcc0yx3btNux92z2bLdjm/3a\n",
       "7thmz3Y79tYxyx09xpY71oxZZgvrR1FzVytbreu5Z/SEHu7Ytz/Bhyx3bLNnux3rookpFTVtHpq2\n",
       "e02bh2a2sA5oTeGh6YDWNGOari2aUlFTKmra7jWloqZU1MwWVtxr+kZT04xpOqA1LcGaZkzTOaYp\n",
       "FTWloqZU1MwWVtxrintNca8pFTXNmKZzTFMqakpFTR3TlIqa2cLu+duMj+GOffsTfMhux1YrW62r\n",
       "P0PIKRU1paKmGdPUMU0d03SOaWYLKzw0XTQ1930m/xPecMeaMUznmKaOaUpFTRdNTTOmmS3sntO1\n",
       "hdJKpSnuNXVMc9/OMUszpqljmnZFTTOm6QatmS2s8NDUMc09o6WNltWMeVqpNM2Ypo5p6pjmjv5Z\n",
       "quGONWOY2cK6aGoKD00d09QxzV0tbbSsZsxTxzR1TNM5pmnGNLOF3TP6s7jbsdXSRssq7j2loqZU\n",
       "1JSKmvuMtmy3Y+etY5TezNG0K2pmC+vNHE0rlaa419ynJdjSowFN55imRwOaZkzTrqhpxjSzhXVA\n",
       "awoPTR3TtFJpevymacY0nWOaZkzTOaZpxjSzhd1n9NWczaqeVipPD0w1zZimlUrT5qEpFTVtHppm\n",
       "TDNbWCuVppVKU9xrWqk0paKmzUPTOaapY5p7OscsvZmjmS2slUrTtUXTSqUpFTWloqYlWFMqakpF\n",
       "TbuiplTUzBZW3GsKD03XFk2pqCkVNc2YpoumplTUlIqatnvNbGG91qdppdLUMU2pqGnGNF1bNP3y\n",
       "qaZU1JSKmh6YamYLKzw0hYemlUpzn3ezts2qnlLR0+ah6RzT9KWEphnT1DHNbGHFvabX+jRdWzQ9\n",
       "GtA0Y5qWYE2pqCkVNW33mtnCejSgaaXSdEBrWoI1zZimc0zTL+1oSkVNqajpBq2ZLazw0HRAa3o0\n",
       "oOmXdjTNmKbNQ9PmoSkVNc2YpjdzNLOF9VxR0xKs6YDWtARrmjFN73lo2jw0paKmzUPTjGlmCys8\n",
       "NL01oGkJ1pSKmlYqTTOmacY0vTWg6ct1Tdu9ZrawwkNTeGi6tmh6YKopFTVtHppmTNPmoWnz0DRj\n",
       "mtnC+rZFU3hoWoI197RSWZoxTQ9zNG0emlJRUypq/gMsxg/6ODRhJwAAAABJRU5ErkJggg==\n",
       "\" transform=\"translate(1609, 47)\"/>\n",
       "</g>\n",
       "<path clip-path=\"url(#clip300)\" d=\"M1701.7 566.982 Q1698.09 566.982 1696.26 570.547 Q1694.45 574.088 1694.45 581.218 Q1694.45 588.324 1696.26 591.889 Q1698.09 595.431 1701.7 595.431 Q1705.33 595.431 1707.14 591.889 Q1708.97 588.324 1708.97 581.218 Q1708.97 574.088 1707.14 570.547 Q1705.33 566.982 1701.7 566.982 M1701.7 563.278 Q1707.51 563.278 1710.57 567.885 Q1713.64 572.468 1713.64 581.218 Q1713.64 589.945 1710.57 594.551 Q1707.51 599.134 1701.7 599.134 Q1695.89 599.134 1692.81 594.551 Q1689.76 589.945 1689.76 581.218 Q1689.76 572.468 1692.81 567.885 Q1695.89 563.278 1701.7 563.278 Z\" fill=\"#000000\" fill-rule=\"evenodd\" fill-opacity=\"1\" /><path clip-path=\"url(#clip300)\" d=\"M1695.38 463.564 L1711.7 463.564 L1711.7 467.499 L1689.76 467.499 L1689.76 463.564 Q1692.42 460.809 1697 456.179 Q1701.61 451.527 1702.79 450.184 Q1705.03 447.661 1705.91 445.925 Q1706.82 444.166 1706.82 442.476 Q1706.82 439.721 1704.87 437.985 Q1702.95 436.249 1699.85 436.249 Q1697.65 436.249 1695.2 437.013 Q1692.77 437.777 1689.99 439.328 L1689.99 434.605 Q1692.81 433.471 1695.27 432.892 Q1697.72 432.314 1699.76 432.314 Q1705.13 432.314 1708.32 434.999 Q1711.52 437.684 1711.52 442.175 Q1711.52 444.304 1710.7 446.226 Q1709.92 448.124 1707.81 450.716 Q1707.23 451.388 1704.13 454.605 Q1701.03 457.8 1695.38 463.564 Z\" fill=\"#000000\" fill-rule=\"evenodd\" fill-opacity=\"1\" /><path clip-path=\"url(#clip300)\" d=\"M1721.51 461.619 L1726.4 461.619 L1726.4 467.499 L1721.51 467.499 L1721.51 461.619 Z\" fill=\"#000000\" fill-rule=\"evenodd\" fill-opacity=\"1\" /><path clip-path=\"url(#clip300)\" d=\"M1736.63 432.939 L1754.99 432.939 L1754.99 436.874 L1740.91 436.874 L1740.91 445.346 Q1741.93 444.999 1742.95 444.837 Q1743.97 444.652 1744.99 444.652 Q1750.77 444.652 1754.15 447.823 Q1757.53 450.994 1757.53 456.411 Q1757.53 461.989 1754.06 465.091 Q1750.59 468.17 1744.27 468.17 Q1742.09 468.17 1739.83 467.8 Q1737.58 467.429 1735.17 466.689 L1735.17 461.989 Q1737.26 463.124 1739.48 463.679 Q1741.7 464.235 1744.18 464.235 Q1748.18 464.235 1750.52 462.128 Q1752.86 460.022 1752.86 456.411 Q1752.86 452.8 1750.52 450.693 Q1748.18 448.587 1744.18 448.587 Q1742.3 448.587 1740.43 449.003 Q1738.58 449.42 1736.63 450.3 L1736.63 432.939 Z\" fill=\"#000000\" fill-rule=\"evenodd\" fill-opacity=\"1\" /><path clip-path=\"url(#clip300)\" d=\"M1691.21 301.974 L1709.57 301.974 L1709.57 305.91 L1695.5 305.91 L1695.5 314.382 Q1696.52 314.035 1697.53 313.872 Q1698.55 313.687 1699.57 313.687 Q1705.36 313.687 1708.74 316.859 Q1712.12 320.03 1712.12 325.446 Q1712.12 331.025 1708.64 334.127 Q1705.17 337.206 1698.85 337.206 Q1696.68 337.206 1694.41 336.835 Q1692.16 336.465 1689.76 335.724 L1689.76 331.025 Q1691.84 332.159 1694.06 332.715 Q1696.28 333.271 1698.76 333.271 Q1702.77 333.271 1705.1 331.164 Q1707.44 329.058 1707.44 325.446 Q1707.44 321.835 1705.1 319.729 Q1702.77 317.622 1698.76 317.622 Q1696.89 317.622 1695.01 318.039 Q1693.16 318.456 1691.21 319.335 L1691.21 301.974 Z\" fill=\"#000000\" fill-rule=\"evenodd\" fill-opacity=\"1\" /><path clip-path=\"url(#clip300)\" d=\"M1721.33 330.655 L1726.21 330.655 L1726.21 336.534 L1721.33 336.534 L1721.33 330.655 Z\" fill=\"#000000\" fill-rule=\"evenodd\" fill-opacity=\"1\" /><path clip-path=\"url(#clip300)\" d=\"M1746.4 305.053 Q1742.79 305.053 1740.96 308.618 Q1739.15 312.16 1739.15 319.289 Q1739.15 326.396 1740.96 329.96 Q1742.79 333.502 1746.4 333.502 Q1750.03 333.502 1751.84 329.96 Q1753.67 326.396 1753.67 319.289 Q1753.67 312.16 1751.84 308.618 Q1750.03 305.053 1746.4 305.053 M1746.4 301.349 Q1752.21 301.349 1755.26 305.956 Q1758.34 310.539 1758.34 319.289 Q1758.34 328.016 1755.26 332.622 Q1752.21 337.206 1746.4 337.206 Q1740.59 337.206 1737.51 332.622 Q1734.45 328.016 1734.45 319.289 Q1734.45 310.539 1737.51 305.956 Q1740.59 301.349 1746.4 301.349 Z\" fill=\"#000000\" fill-rule=\"evenodd\" fill-opacity=\"1\" /><path clip-path=\"url(#clip300)\" d=\"M1689.76 171.01 L1711.98 171.01 L1711.98 173.001 L1699.43 205.57 L1694.55 205.57 L1706.35 174.945 L1689.76 174.945 L1689.76 171.01 Z\" fill=\"#000000\" fill-rule=\"evenodd\" fill-opacity=\"1\" /><path clip-path=\"url(#clip300)\" d=\"M1721.1 199.69 L1725.98 199.69 L1725.98 205.57 L1721.1 205.57 L1721.1 199.69 Z\" fill=\"#000000\" fill-rule=\"evenodd\" fill-opacity=\"1\" /><path clip-path=\"url(#clip300)\" d=\"M1736.21 171.01 L1754.57 171.01 L1754.57 174.945 L1740.5 174.945 L1740.5 183.417 Q1741.51 183.07 1742.53 182.908 Q1743.55 182.723 1744.57 182.723 Q1750.36 182.723 1753.74 185.894 Q1757.12 189.066 1757.12 194.482 Q1757.12 200.061 1753.64 203.163 Q1750.17 206.241 1743.85 206.241 Q1741.68 206.241 1739.41 205.871 Q1737.16 205.501 1734.76 204.76 L1734.76 200.061 Q1736.84 201.195 1739.06 201.751 Q1741.28 202.306 1743.76 202.306 Q1747.76 202.306 1750.1 200.2 Q1752.44 198.093 1752.44 194.482 Q1752.44 190.871 1750.1 188.765 Q1747.76 186.658 1743.76 186.658 Q1741.89 186.658 1740.01 187.075 Q1738.16 187.491 1736.21 188.371 L1736.21 171.01 Z\" fill=\"#000000\" fill-rule=\"evenodd\" fill-opacity=\"1\" /><path clip-path=\"url(#clip300)\" d=\"M1690.43 70.6706 L1698.07 70.6706 L1698.07 44.305 L1689.76 45.9716 L1689.76 41.7124 L1698.02 40.0457 L1702.7 40.0457 L1702.7 70.6706 L1710.33 70.6706 L1710.33 74.6057 L1690.43 74.6057 L1690.43 70.6706 Z\" fill=\"#000000\" fill-rule=\"evenodd\" fill-opacity=\"1\" /><path clip-path=\"url(#clip300)\" d=\"M1729.78 43.1244 Q1726.17 43.1244 1724.34 46.6892 Q1722.53 50.2309 1722.53 57.3604 Q1722.53 64.4669 1724.34 68.0317 Q1726.17 71.5733 1729.78 71.5733 Q1733.41 71.5733 1735.22 68.0317 Q1737.05 64.4669 1737.05 57.3604 Q1737.05 50.2309 1735.22 46.6892 Q1733.41 43.1244 1729.78 43.1244 M1729.78 39.4207 Q1735.59 39.4207 1738.64 44.0272 Q1741.72 48.6105 1741.72 57.3604 Q1741.72 66.0873 1738.64 70.6937 Q1735.59 75.277 1729.78 75.277 Q1723.97 75.277 1720.89 70.6937 Q1717.83 66.0873 1717.83 57.3604 Q1717.83 48.6105 1720.89 44.0272 Q1723.97 39.4207 1729.78 39.4207 Z\" fill=\"#000000\" fill-rule=\"evenodd\" fill-opacity=\"1\" /><path clip-path=\"url(#clip300)\" d=\"M1749.94 68.7261 L1754.83 68.7261 L1754.83 74.6057 L1749.94 74.6057 L1749.94 68.7261 Z\" fill=\"#000000\" fill-rule=\"evenodd\" fill-opacity=\"1\" /><path clip-path=\"url(#clip300)\" d=\"M1775.01 43.1244 Q1771.4 43.1244 1769.57 46.6892 Q1767.76 50.2309 1767.76 57.3604 Q1767.76 64.4669 1769.57 68.0317 Q1771.4 71.5733 1775.01 71.5733 Q1778.64 71.5733 1780.45 68.0317 Q1782.28 64.4669 1782.28 57.3604 Q1782.28 50.2309 1780.45 46.6892 Q1778.64 43.1244 1775.01 43.1244 M1775.01 39.4207 Q1780.82 39.4207 1783.88 44.0272 Q1786.95 48.6105 1786.95 57.3604 Q1786.95 66.0873 1783.88 70.6937 Q1780.82 75.277 1775.01 75.277 Q1769.2 75.277 1766.12 70.6937 Q1763.07 66.0873 1763.07 57.3604 Q1763.07 48.6105 1766.12 44.0272 Q1769.2 39.4207 1775.01 39.4207 Z\" fill=\"#000000\" fill-rule=\"evenodd\" fill-opacity=\"1\" /><polyline clip-path=\"url(#clip300)\" style=\"stroke:#000000; stroke-linecap:butt; stroke-linejoin:round; stroke-width:4; stroke-opacity:1; fill:none\" points=\"\n",
       "  1662.76,584.812 1662.76,584.812 1680.76,584.812 1662.76,584.812 1662.76,453.848 1680.76,453.848 1662.76,453.848 1662.76,322.883 1680.76,322.883 1662.76,322.883 \n",
       "  1662.76,191.919 1680.76,191.919 1662.76,191.919 1662.76,60.9545 1680.76,60.9545 1662.76,60.9545 1662.76,47.2441 \n",
       "  \"/>\n",
       "</svg>\n"
      ]
     },
     "execution_count": 16,
     "metadata": {},
     "output_type": "execute_result"
    }
   ],
   "source": [
    "s_diff[1:1,12:20] .=0;\n",
    "p=heatmap([xLabels],[\"Wind\",\"Solar\"],[w_diff;s_diff],c=cgrad(:amp),size = (450,180),xlabel=\"Time\")\n",
    "p\n",
    "#savefig(p,\"og-wastage.svg\")"
   ]
  },
  {
   "cell_type": "code",
   "execution_count": 17,
   "metadata": {},
   "outputs": [
    {
     "data": {
      "image/svg+xml": [
       "<?xml version=\"1.0\" encoding=\"utf-8\"?>\n",
       "<svg xmlns=\"http://www.w3.org/2000/svg\" xmlns:xlink=\"http://www.w3.org/1999/xlink\" width=\"450\" height=\"180\" viewBox=\"0 0 1800 720\">\n",
       "<defs>\n",
       "  <clipPath id=\"clip340\">\n",
       "    <rect x=\"0\" y=\"0\" width=\"1800\" height=\"720\"/>\n",
       "  </clipPath>\n",
       "</defs>\n",
       "<path clip-path=\"url(#clip340)\" d=\"\n",
       "M0 720 L1800 720 L1800 0 L0 0  Z\n",
       "  \" fill=\"#ffffff\" fill-rule=\"evenodd\" fill-opacity=\"1\"/>\n",
       "<defs>\n",
       "  <clipPath id=\"clip341\">\n",
       "    <rect x=\"360\" y=\"0\" width=\"1261\" height=\"720\"/>\n",
       "  </clipPath>\n",
       "</defs>\n",
       "<path clip-path=\"url(#clip340)\" d=\"\n",
       "M344.695 584.812 L1752.76 584.812 L1752.76 47.2441 L344.695 47.2441  Z\n",
       "  \" fill=\"#ffffff\" fill-rule=\"evenodd\" fill-opacity=\"1\"/>\n",
       "<defs>\n",
       "  <clipPath id=\"clip342\">\n",
       "    <rect x=\"344\" y=\"47\" width=\"1409\" height=\"539\"/>\n",
       "  </clipPath>\n",
       "</defs>\n",
       "<polyline clip-path=\"url(#clip342)\" style=\"stroke:#000000; stroke-linecap:butt; stroke-linejoin:round; stroke-width:2; stroke-opacity:0.1; fill:none\" points=\"\n",
       "  615.565,584.812 615.565,47.2441 \n",
       "  \"/>\n",
       "<polyline clip-path=\"url(#clip342)\" style=\"stroke:#000000; stroke-linecap:butt; stroke-linejoin:round; stroke-width:2; stroke-opacity:0.1; fill:none\" points=\"\n",
       "  904.339,584.812 904.339,47.2441 \n",
       "  \"/>\n",
       "<polyline clip-path=\"url(#clip342)\" style=\"stroke:#000000; stroke-linecap:butt; stroke-linejoin:round; stroke-width:2; stroke-opacity:0.1; fill:none\" points=\"\n",
       "  1193.11,584.812 1193.11,47.2441 \n",
       "  \"/>\n",
       "<polyline clip-path=\"url(#clip342)\" style=\"stroke:#000000; stroke-linecap:butt; stroke-linejoin:round; stroke-width:2; stroke-opacity:0.1; fill:none\" points=\"\n",
       "  1481.89,584.812 1481.89,47.2441 \n",
       "  \"/>\n",
       "<polyline clip-path=\"url(#clip340)\" style=\"stroke:#000000; stroke-linecap:butt; stroke-linejoin:round; stroke-width:4; stroke-opacity:1; fill:none\" points=\"\n",
       "  344.695,584.812 1752.76,584.812 \n",
       "  \"/>\n",
       "<polyline clip-path=\"url(#clip340)\" style=\"stroke:#000000; stroke-linecap:butt; stroke-linejoin:round; stroke-width:4; stroke-opacity:1; fill:none\" points=\"\n",
       "  615.565,584.812 615.565,565.914 \n",
       "  \"/>\n",
       "<polyline clip-path=\"url(#clip340)\" style=\"stroke:#000000; stroke-linecap:butt; stroke-linejoin:round; stroke-width:4; stroke-opacity:1; fill:none\" points=\"\n",
       "  904.339,584.812 904.339,565.914 \n",
       "  \"/>\n",
       "<polyline clip-path=\"url(#clip340)\" style=\"stroke:#000000; stroke-linecap:butt; stroke-linejoin:round; stroke-width:4; stroke-opacity:1; fill:none\" points=\"\n",
       "  1193.11,584.812 1193.11,565.914 \n",
       "  \"/>\n",
       "<polyline clip-path=\"url(#clip340)\" style=\"stroke:#000000; stroke-linecap:butt; stroke-linejoin:round; stroke-width:4; stroke-opacity:1; fill:none\" points=\"\n",
       "  1481.89,584.812 1481.89,565.914 \n",
       "  \"/>\n",
       "<path clip-path=\"url(#clip340)\" d=\"M605.843 607.852 L624.199 607.852 L624.199 611.787 L610.125 611.787 L610.125 620.259 Q611.144 619.912 612.162 619.75 Q613.181 619.565 614.199 619.565 Q619.986 619.565 623.366 622.736 Q626.746 625.907 626.746 631.324 Q626.746 636.903 623.273 640.004 Q619.801 643.083 613.482 643.083 Q611.306 643.083 609.037 642.713 Q606.792 642.342 604.385 641.602 L604.385 636.903 Q606.468 638.037 608.69 638.592 Q610.912 639.148 613.389 639.148 Q617.394 639.148 619.732 637.042 Q622.07 634.935 622.07 631.324 Q622.07 627.713 619.732 625.606 Q617.394 623.5 613.389 623.5 Q611.514 623.5 609.639 623.917 Q607.787 624.333 605.843 625.213 L605.843 607.852 Z\" fill=\"#000000\" fill-rule=\"evenodd\" fill-opacity=\"1\" /><path clip-path=\"url(#clip340)\" d=\"M879.026 638.477 L886.665 638.477 L886.665 612.111 L878.355 613.778 L878.355 609.519 L886.619 607.852 L891.295 607.852 L891.295 638.477 L898.934 638.477 L898.934 642.412 L879.026 642.412 L879.026 638.477 Z\" fill=\"#000000\" fill-rule=\"evenodd\" fill-opacity=\"1\" /><path clip-path=\"url(#clip340)\" d=\"M918.378 610.931 Q914.767 610.931 912.938 614.495 Q911.133 618.037 911.133 625.167 Q911.133 632.273 912.938 635.838 Q914.767 639.379 918.378 639.379 Q922.012 639.379 923.818 635.838 Q925.647 632.273 925.647 625.167 Q925.647 618.037 923.818 614.495 Q922.012 610.931 918.378 610.931 M918.378 607.227 Q924.188 607.227 927.244 611.833 Q930.322 616.417 930.322 625.167 Q930.322 633.893 927.244 638.5 Q924.188 643.083 918.378 643.083 Q912.568 643.083 909.489 638.5 Q906.434 633.893 906.434 625.167 Q906.434 616.417 909.489 611.833 Q912.568 607.227 918.378 607.227 Z\" fill=\"#000000\" fill-rule=\"evenodd\" fill-opacity=\"1\" /><path clip-path=\"url(#clip340)\" d=\"M1168.3 638.477 L1175.94 638.477 L1175.94 612.111 L1167.63 613.778 L1167.63 609.519 L1175.89 607.852 L1180.57 607.852 L1180.57 638.477 L1188.21 638.477 L1188.21 642.412 L1168.3 642.412 L1168.3 638.477 Z\" fill=\"#000000\" fill-rule=\"evenodd\" fill-opacity=\"1\" /><path clip-path=\"url(#clip340)\" d=\"M1197.7 607.852 L1216.05 607.852 L1216.05 611.787 L1201.98 611.787 L1201.98 620.259 Q1203 619.912 1204.02 619.75 Q1205.03 619.565 1206.05 619.565 Q1211.84 619.565 1215.22 622.736 Q1218.6 625.907 1218.6 631.324 Q1218.6 636.903 1215.13 640.004 Q1211.65 643.083 1205.33 643.083 Q1203.16 643.083 1200.89 642.713 Q1198.64 642.342 1196.24 641.602 L1196.24 636.903 Q1198.32 638.037 1200.54 638.592 Q1202.77 639.148 1205.24 639.148 Q1209.25 639.148 1211.58 637.042 Q1213.92 634.935 1213.92 631.324 Q1213.92 627.713 1211.58 625.606 Q1209.25 623.5 1205.24 623.5 Q1203.37 623.5 1201.49 623.917 Q1199.64 624.333 1197.7 625.213 L1197.7 607.852 Z\" fill=\"#000000\" fill-rule=\"evenodd\" fill-opacity=\"1\" /><path clip-path=\"url(#clip340)\" d=\"M1460.66 638.477 L1476.98 638.477 L1476.98 642.412 L1455.03 642.412 L1455.03 638.477 Q1457.7 635.722 1462.28 631.092 Q1466.89 626.44 1468.07 625.097 Q1470.31 622.574 1471.19 620.838 Q1472.09 619.079 1472.09 617.389 Q1472.09 614.634 1470.15 612.898 Q1468.23 611.162 1465.13 611.162 Q1462.93 611.162 1460.47 611.926 Q1458.04 612.69 1455.27 614.241 L1455.27 609.519 Q1458.09 608.384 1460.54 607.806 Q1463 607.227 1465.03 607.227 Q1470.4 607.227 1473.6 609.912 Q1476.79 612.597 1476.79 617.088 Q1476.79 619.218 1475.98 621.139 Q1475.2 623.037 1473.09 625.63 Q1472.51 626.301 1469.41 629.518 Q1466.31 632.713 1460.66 638.477 Z\" fill=\"#000000\" fill-rule=\"evenodd\" fill-opacity=\"1\" /><path clip-path=\"url(#clip340)\" d=\"M1496.79 610.931 Q1493.18 610.931 1491.35 614.495 Q1489.55 618.037 1489.55 625.167 Q1489.55 632.273 1491.35 635.838 Q1493.18 639.379 1496.79 639.379 Q1500.43 639.379 1502.23 635.838 Q1504.06 632.273 1504.06 625.167 Q1504.06 618.037 1502.23 614.495 Q1500.43 610.931 1496.79 610.931 M1496.79 607.227 Q1502.6 607.227 1505.66 611.833 Q1508.74 616.417 1508.74 625.167 Q1508.74 633.893 1505.66 638.5 Q1502.6 643.083 1496.79 643.083 Q1490.98 643.083 1487.9 638.5 Q1484.85 633.893 1484.85 625.167 Q1484.85 616.417 1487.9 611.833 Q1490.98 607.227 1496.79 607.227 Z\" fill=\"#000000\" fill-rule=\"evenodd\" fill-opacity=\"1\" /><path clip-path=\"url(#clip340)\" d=\"M970.603 673.156 L1010.8 673.156 L1010.8 678.567 L993.933 678.567 L993.933 720.676 L987.472 720.676 L987.472 678.567 L970.603 678.567 L970.603 673.156 Z\" fill=\"#000000\" fill-rule=\"evenodd\" fill-opacity=\"1\" /><path clip-path=\"url(#clip340)\" d=\"M1014.75 685.028 L1020.61 685.028 L1020.61 720.676 L1014.75 720.676 L1014.75 685.028 M1014.75 671.151 L1020.61 671.151 L1020.61 678.567 L1014.75 678.567 L1014.75 671.151 Z\" fill=\"#000000\" fill-rule=\"evenodd\" fill-opacity=\"1\" /><path clip-path=\"url(#clip340)\" d=\"M1060.61 691.871 Q1062.81 687.924 1065.87 686.046 Q1068.92 684.169 1073.06 684.169 Q1078.63 684.169 1081.65 688.083 Q1084.68 691.967 1084.68 699.16 L1084.68 720.676 L1078.79 720.676 L1078.79 699.351 Q1078.79 694.226 1076.97 691.744 Q1075.16 689.261 1071.44 689.261 Q1066.88 689.261 1064.24 692.285 Q1061.6 695.309 1061.6 700.528 L1061.6 720.676 L1055.71 720.676 L1055.71 699.351 Q1055.71 694.195 1053.9 691.744 Q1052.08 689.261 1048.3 689.261 Q1043.81 689.261 1041.17 692.317 Q1038.52 695.34 1038.52 700.528 L1038.52 720.676 L1032.64 720.676 L1032.64 685.028 L1038.52 685.028 L1038.52 690.566 Q1040.53 687.288 1043.33 685.728 Q1046.13 684.169 1049.98 684.169 Q1053.87 684.169 1056.57 686.142 Q1059.31 688.115 1060.61 691.871 Z\" fill=\"#000000\" fill-rule=\"evenodd\" fill-opacity=\"1\" /><path clip-path=\"url(#clip340)\" d=\"M1126.85 701.388 L1126.85 704.252 L1099.92 704.252 Q1100.3 710.3 1103.55 713.483 Q1106.83 716.634 1112.65 716.634 Q1116.03 716.634 1119.18 715.806 Q1122.36 714.979 1125.48 713.323 L1125.48 718.862 Q1122.33 720.198 1119.02 720.899 Q1115.71 721.599 1112.3 721.599 Q1103.77 721.599 1098.78 716.634 Q1093.81 711.668 1093.81 703.202 Q1093.81 694.449 1098.52 689.325 Q1103.26 684.169 1111.28 684.169 Q1118.48 684.169 1122.65 688.815 Q1126.85 693.431 1126.85 701.388 M1120.99 699.669 Q1120.93 694.863 1118.29 691.998 Q1115.68 689.134 1111.35 689.134 Q1106.45 689.134 1103.49 691.903 Q1100.56 694.672 1100.11 699.701 L1120.99 699.669 Z\" fill=\"#000000\" fill-rule=\"evenodd\" fill-opacity=\"1\" /><polyline clip-path=\"url(#clip342)\" style=\"stroke:#000000; stroke-linecap:butt; stroke-linejoin:round; stroke-width:2; stroke-opacity:0.1; fill:none\" points=\"\n",
       "  344.695,582.289 1752.76,582.289 \n",
       "  \"/>\n",
       "<polyline clip-path=\"url(#clip342)\" style=\"stroke:#000000; stroke-linecap:butt; stroke-linejoin:round; stroke-width:2; stroke-opacity:0.1; fill:none\" points=\"\n",
       "  344.695,486.486 1752.76,486.486 \n",
       "  \"/>\n",
       "<polyline clip-path=\"url(#clip342)\" style=\"stroke:#000000; stroke-linecap:butt; stroke-linejoin:round; stroke-width:2; stroke-opacity:0.1; fill:none\" points=\"\n",
       "  344.695,390.682 1752.76,390.682 \n",
       "  \"/>\n",
       "<polyline clip-path=\"url(#clip342)\" style=\"stroke:#000000; stroke-linecap:butt; stroke-linejoin:round; stroke-width:2; stroke-opacity:0.1; fill:none\" points=\"\n",
       "  344.695,294.879 1752.76,294.879 \n",
       "  \"/>\n",
       "<polyline clip-path=\"url(#clip342)\" style=\"stroke:#000000; stroke-linecap:butt; stroke-linejoin:round; stroke-width:2; stroke-opacity:0.1; fill:none\" points=\"\n",
       "  344.695,199.076 1752.76,199.076 \n",
       "  \"/>\n",
       "<polyline clip-path=\"url(#clip342)\" style=\"stroke:#000000; stroke-linecap:butt; stroke-linejoin:round; stroke-width:2; stroke-opacity:0.1; fill:none\" points=\"\n",
       "  344.695,103.273 1752.76,103.273 \n",
       "  \"/>\n",
       "<polyline clip-path=\"url(#clip340)\" style=\"stroke:#000000; stroke-linecap:butt; stroke-linejoin:round; stroke-width:4; stroke-opacity:1; fill:none\" points=\"\n",
       "  344.695,584.812 344.695,47.2441 \n",
       "  \"/>\n",
       "<polyline clip-path=\"url(#clip340)\" style=\"stroke:#000000; stroke-linecap:butt; stroke-linejoin:round; stroke-width:4; stroke-opacity:1; fill:none\" points=\"\n",
       "  344.695,582.289 363.593,582.289 \n",
       "  \"/>\n",
       "<polyline clip-path=\"url(#clip340)\" style=\"stroke:#000000; stroke-linecap:butt; stroke-linejoin:round; stroke-width:4; stroke-opacity:1; fill:none\" points=\"\n",
       "  344.695,486.486 363.593,486.486 \n",
       "  \"/>\n",
       "<polyline clip-path=\"url(#clip340)\" style=\"stroke:#000000; stroke-linecap:butt; stroke-linejoin:round; stroke-width:4; stroke-opacity:1; fill:none\" points=\"\n",
       "  344.695,390.682 363.593,390.682 \n",
       "  \"/>\n",
       "<polyline clip-path=\"url(#clip340)\" style=\"stroke:#000000; stroke-linecap:butt; stroke-linejoin:round; stroke-width:4; stroke-opacity:1; fill:none\" points=\"\n",
       "  344.695,294.879 363.593,294.879 \n",
       "  \"/>\n",
       "<polyline clip-path=\"url(#clip340)\" style=\"stroke:#000000; stroke-linecap:butt; stroke-linejoin:round; stroke-width:4; stroke-opacity:1; fill:none\" points=\"\n",
       "  344.695,199.076 363.593,199.076 \n",
       "  \"/>\n",
       "<polyline clip-path=\"url(#clip340)\" style=\"stroke:#000000; stroke-linecap:butt; stroke-linejoin:round; stroke-width:4; stroke-opacity:1; fill:none\" points=\"\n",
       "  344.695,103.273 363.593,103.273 \n",
       "  \"/>\n",
       "<path clip-path=\"url(#clip340)\" d=\"M305.751 568.088 Q302.14 568.088 300.311 571.653 Q298.506 575.194 298.506 582.324 Q298.506 589.43 300.311 592.995 Q302.14 596.537 305.751 596.537 Q309.385 596.537 311.191 592.995 Q313.02 589.43 313.02 582.324 Q313.02 575.194 311.191 571.653 Q309.385 568.088 305.751 568.088 M305.751 564.384 Q311.561 564.384 314.617 568.991 Q317.695 573.574 317.695 582.324 Q317.695 591.051 314.617 595.657 Q311.561 600.24 305.751 600.24 Q299.941 600.24 296.862 595.657 Q293.807 591.051 293.807 582.324 Q293.807 573.574 296.862 568.991 Q299.941 564.384 305.751 564.384 Z\" fill=\"#000000\" fill-rule=\"evenodd\" fill-opacity=\"1\" /><path clip-path=\"url(#clip340)\" d=\"M101.87 475.653 L120.227 475.653 L120.227 479.589 L106.153 479.589 L106.153 488.061 Q107.171 487.713 108.19 487.551 Q109.208 487.366 110.227 487.366 Q116.014 487.366 119.394 490.538 Q122.773 493.709 122.773 499.125 Q122.773 504.704 119.301 507.806 Q115.829 510.885 109.509 510.885 Q107.333 510.885 105.065 510.514 Q102.82 510.144 100.412 509.403 L100.412 504.704 Q102.495 505.838 104.718 506.394 Q106.94 506.949 109.417 506.949 Q113.421 506.949 115.759 504.843 Q118.097 502.737 118.097 499.125 Q118.097 495.514 115.759 493.408 Q113.421 491.301 109.417 491.301 Q107.542 491.301 105.667 491.718 Q103.815 492.135 101.87 493.014 L101.87 475.653 Z\" fill=\"#000000\" fill-rule=\"evenodd\" fill-opacity=\"1\" /><path clip-path=\"url(#clip340)\" d=\"M131.986 504.334 L136.87 504.334 L136.87 510.213 L131.986 510.213 L131.986 504.334 Z\" fill=\"#000000\" fill-rule=\"evenodd\" fill-opacity=\"1\" /><path clip-path=\"url(#clip340)\" d=\"M157.055 478.732 Q153.444 478.732 151.616 482.297 Q149.81 485.838 149.81 492.968 Q149.81 500.075 151.616 503.639 Q153.444 507.181 157.055 507.181 Q160.69 507.181 162.495 503.639 Q164.324 500.075 164.324 492.968 Q164.324 485.838 162.495 482.297 Q160.69 478.732 157.055 478.732 M157.055 475.028 Q162.866 475.028 165.921 479.635 Q169 484.218 169 492.968 Q169 501.695 165.921 506.301 Q162.866 510.885 157.055 510.885 Q151.245 510.885 148.167 506.301 Q145.111 501.695 145.111 492.968 Q145.111 484.218 148.167 479.635 Q151.245 475.028 157.055 475.028 Z\" fill=\"#000000\" fill-rule=\"evenodd\" fill-opacity=\"1\" /><path clip-path=\"url(#clip340)\" d=\"M187.217 478.732 Q183.606 478.732 181.777 482.297 Q179.972 485.838 179.972 492.968 Q179.972 500.075 181.777 503.639 Q183.606 507.181 187.217 507.181 Q190.851 507.181 192.657 503.639 Q194.486 500.075 194.486 492.968 Q194.486 485.838 192.657 482.297 Q190.851 478.732 187.217 478.732 M187.217 475.028 Q193.027 475.028 196.083 479.635 Q199.162 484.218 199.162 492.968 Q199.162 501.695 196.083 506.301 Q193.027 510.885 187.217 510.885 Q181.407 510.885 178.328 506.301 Q175.273 501.695 175.273 492.968 Q175.273 484.218 178.328 479.635 Q181.407 475.028 187.217 475.028 Z\" fill=\"#000000\" fill-rule=\"evenodd\" fill-opacity=\"1\" /><path clip-path=\"url(#clip340)\" d=\"M235.55 484.751 L224.972 495.375 L235.55 505.954 L232.796 508.755 L222.171 498.13 L211.546 508.755 L208.814 505.954 L219.37 495.375 L208.814 484.751 L211.546 481.95 L222.171 492.575 L232.796 481.95 L235.55 484.751 Z\" fill=\"#000000\" fill-rule=\"evenodd\" fill-opacity=\"1\" /><path clip-path=\"url(#clip340)\" d=\"M247.911 506.278 L255.55 506.278 L255.55 479.913 L247.24 481.579 L247.24 477.32 L255.504 475.653 L260.18 475.653 L260.18 506.278 L267.819 506.278 L267.819 510.213 L247.911 510.213 L247.911 506.278 Z\" fill=\"#000000\" fill-rule=\"evenodd\" fill-opacity=\"1\" /><path clip-path=\"url(#clip340)\" d=\"M287.263 478.732 Q283.652 478.732 281.823 482.297 Q280.018 485.838 280.018 492.968 Q280.018 500.075 281.823 503.639 Q283.652 507.181 287.263 507.181 Q290.897 507.181 292.703 503.639 Q294.531 500.075 294.531 492.968 Q294.531 485.838 292.703 482.297 Q290.897 478.732 287.263 478.732 M287.263 475.028 Q293.073 475.028 296.129 479.635 Q299.207 484.218 299.207 492.968 Q299.207 501.695 296.129 506.301 Q293.073 510.885 287.263 510.885 Q281.453 510.885 278.374 506.301 Q275.319 501.695 275.319 492.968 Q275.319 484.218 278.374 479.635 Q281.453 475.028 287.263 475.028 Z\" fill=\"#000000\" fill-rule=\"evenodd\" fill-opacity=\"1\" /><path clip-path=\"url(#clip340)\" d=\"M311.903 467.663 Q314.63 468.246 316.153 470.089 Q317.695 471.932 317.695 474.64 Q317.695 478.797 314.837 481.073 Q311.978 483.348 306.712 483.348 Q304.944 483.348 303.063 482.991 Q301.201 482.652 299.207 481.957 L299.207 478.289 Q300.787 479.211 302.668 479.681 Q304.549 480.151 306.599 480.151 Q310.172 480.151 312.034 478.74 Q313.915 477.33 313.915 474.64 Q313.915 472.158 312.166 470.766 Q310.436 469.355 307.332 469.355 L304.06 469.355 L304.06 466.233 L307.483 466.233 Q310.285 466.233 311.771 465.124 Q313.257 463.995 313.257 461.889 Q313.257 459.726 311.715 458.579 Q310.191 457.412 307.332 457.412 Q305.771 457.412 303.985 457.751 Q302.198 458.09 300.054 458.804 L300.054 455.419 Q302.217 454.817 304.097 454.516 Q305.997 454.215 307.671 454.215 Q311.997 454.215 314.517 456.19 Q317.037 458.146 317.037 461.494 Q317.037 463.826 315.702 465.443 Q314.366 467.042 311.903 467.663 Z\" fill=\"#000000\" fill-rule=\"evenodd\" fill-opacity=\"1\" /><path clip-path=\"url(#clip340)\" d=\"M100.66 410.475 L108.298 410.475 L108.298 384.109 L99.9883 385.776 L99.9883 381.517 L108.252 379.85 L112.928 379.85 L112.928 410.475 L120.567 410.475 L120.567 414.41 L100.66 414.41 L100.66 410.475 Z\" fill=\"#000000\" fill-rule=\"evenodd\" fill-opacity=\"1\" /><path clip-path=\"url(#clip340)\" d=\"M130.011 408.53 L134.895 408.53 L134.895 414.41 L130.011 414.41 L130.011 408.53 Z\" fill=\"#000000\" fill-rule=\"evenodd\" fill-opacity=\"1\" /><path clip-path=\"url(#clip340)\" d=\"M155.081 382.929 Q151.469 382.929 149.641 386.494 Q147.835 390.035 147.835 397.165 Q147.835 404.271 149.641 407.836 Q151.469 411.378 155.081 411.378 Q158.715 411.378 160.52 407.836 Q162.349 404.271 162.349 397.165 Q162.349 390.035 160.52 386.494 Q158.715 382.929 155.081 382.929 M155.081 379.225 Q160.891 379.225 163.946 383.832 Q167.025 388.415 167.025 397.165 Q167.025 405.892 163.946 410.498 Q160.891 415.081 155.081 415.081 Q149.27 415.081 146.192 410.498 Q143.136 405.892 143.136 397.165 Q143.136 388.415 146.192 383.832 Q149.27 379.225 155.081 379.225 Z\" fill=\"#000000\" fill-rule=\"evenodd\" fill-opacity=\"1\" /><path clip-path=\"url(#clip340)\" d=\"M185.242 382.929 Q181.631 382.929 179.803 386.494 Q177.997 390.035 177.997 397.165 Q177.997 404.271 179.803 407.836 Q181.631 411.378 185.242 411.378 Q188.877 411.378 190.682 407.836 Q192.511 404.271 192.511 397.165 Q192.511 390.035 190.682 386.494 Q188.877 382.929 185.242 382.929 M185.242 379.225 Q191.053 379.225 194.108 383.832 Q197.187 388.415 197.187 397.165 Q197.187 405.892 194.108 410.498 Q191.053 415.081 185.242 415.081 Q179.432 415.081 176.354 410.498 Q173.298 405.892 173.298 397.165 Q173.298 388.415 176.354 383.832 Q179.432 379.225 185.242 379.225 Z\" fill=\"#000000\" fill-rule=\"evenodd\" fill-opacity=\"1\" /><path clip-path=\"url(#clip340)\" d=\"M233.576 388.947 L222.997 399.572 L233.576 410.151 L230.821 412.952 L220.196 402.327 L209.571 412.952 L206.84 410.151 L217.395 399.572 L206.84 388.947 L209.571 386.146 L220.196 396.771 L230.821 386.146 L233.576 388.947 Z\" fill=\"#000000\" fill-rule=\"evenodd\" fill-opacity=\"1\" /><path clip-path=\"url(#clip340)\" d=\"M245.937 410.475 L253.575 410.475 L253.575 384.109 L245.265 385.776 L245.265 381.517 L253.529 379.85 L258.205 379.85 L258.205 410.475 L265.844 410.475 L265.844 414.41 L245.937 414.41 L245.937 410.475 Z\" fill=\"#000000\" fill-rule=\"evenodd\" fill-opacity=\"1\" /><path clip-path=\"url(#clip340)\" d=\"M285.288 382.929 Q281.677 382.929 279.848 386.494 Q278.043 390.035 278.043 397.165 Q278.043 404.271 279.848 407.836 Q281.677 411.378 285.288 411.378 Q288.922 411.378 290.728 407.836 Q292.557 404.271 292.557 397.165 Q292.557 390.035 290.728 386.494 Q288.922 382.929 285.288 382.929 M285.288 379.225 Q291.098 379.225 294.154 383.832 Q297.233 388.415 297.233 397.165 Q297.233 405.892 294.154 410.498 Q291.098 415.081 285.288 415.081 Q279.478 415.081 276.399 410.498 Q273.344 405.892 273.344 397.165 Q273.344 388.415 276.399 383.832 Q279.478 379.225 285.288 379.225 Z\" fill=\"#000000\" fill-rule=\"evenodd\" fill-opacity=\"1\" /><path clip-path=\"url(#clip340)\" d=\"M309.909 362.23 L300.317 377.22 L309.909 377.22 L309.909 362.23 M308.912 358.92 L313.689 358.92 L313.689 377.22 L317.695 377.22 L317.695 380.379 L313.689 380.379 L313.689 387 L309.909 387 L309.909 380.379 L297.233 380.379 L297.233 376.712 L308.912 358.92 Z\" fill=\"#000000\" fill-rule=\"evenodd\" fill-opacity=\"1\" /><path clip-path=\"url(#clip340)\" d=\"M100.66 314.672 L108.298 314.672 L108.298 288.306 L99.9883 289.973 L99.9883 285.713 L108.252 284.047 L112.928 284.047 L112.928 314.672 L120.567 314.672 L120.567 318.607 L100.66 318.607 L100.66 314.672 Z\" fill=\"#000000\" fill-rule=\"evenodd\" fill-opacity=\"1\" /><path clip-path=\"url(#clip340)\" d=\"M130.011 312.727 L134.895 312.727 L134.895 318.607 L130.011 318.607 L130.011 312.727 Z\" fill=\"#000000\" fill-rule=\"evenodd\" fill-opacity=\"1\" /><path clip-path=\"url(#clip340)\" d=\"M145.127 284.047 L163.483 284.047 L163.483 287.982 L149.409 287.982 L149.409 296.454 Q150.428 296.107 151.446 295.945 Q152.465 295.76 153.483 295.76 Q159.27 295.76 162.65 298.931 Q166.03 302.102 166.03 307.519 Q166.03 313.098 162.557 316.199 Q159.085 319.278 152.766 319.278 Q150.59 319.278 148.321 318.908 Q146.076 318.537 143.669 317.797 L143.669 313.098 Q145.752 314.232 147.974 314.787 Q150.196 315.343 152.673 315.343 Q156.678 315.343 159.016 313.236 Q161.354 311.13 161.354 307.519 Q161.354 303.908 159.016 301.801 Q156.678 299.695 152.673 299.695 Q150.798 299.695 148.923 300.111 Q147.071 300.528 145.127 301.408 L145.127 284.047 Z\" fill=\"#000000\" fill-rule=\"evenodd\" fill-opacity=\"1\" /><path clip-path=\"url(#clip340)\" d=\"M185.242 287.125 Q181.631 287.125 179.803 290.69 Q177.997 294.232 177.997 301.361 Q177.997 308.468 179.803 312.033 Q181.631 315.574 185.242 315.574 Q188.877 315.574 190.682 312.033 Q192.511 308.468 192.511 301.361 Q192.511 294.232 190.682 290.69 Q188.877 287.125 185.242 287.125 M185.242 283.422 Q191.053 283.422 194.108 288.028 Q197.187 292.612 197.187 301.361 Q197.187 310.088 194.108 314.695 Q191.053 319.278 185.242 319.278 Q179.432 319.278 176.354 314.695 Q173.298 310.088 173.298 301.361 Q173.298 292.612 176.354 288.028 Q179.432 283.422 185.242 283.422 Z\" fill=\"#000000\" fill-rule=\"evenodd\" fill-opacity=\"1\" /><path clip-path=\"url(#clip340)\" d=\"M233.576 293.144 L222.997 303.769 L233.576 314.348 L230.821 317.148 L220.196 306.523 L209.571 317.148 L206.84 314.348 L217.395 303.769 L206.84 293.144 L209.571 290.343 L220.196 300.968 L230.821 290.343 L233.576 293.144 Z\" fill=\"#000000\" fill-rule=\"evenodd\" fill-opacity=\"1\" /><path clip-path=\"url(#clip340)\" d=\"M245.937 314.672 L253.575 314.672 L253.575 288.306 L245.265 289.973 L245.265 285.713 L253.529 284.047 L258.205 284.047 L258.205 314.672 L265.844 314.672 L265.844 318.607 L245.937 318.607 L245.937 314.672 Z\" fill=\"#000000\" fill-rule=\"evenodd\" fill-opacity=\"1\" /><path clip-path=\"url(#clip340)\" d=\"M285.288 287.125 Q281.677 287.125 279.848 290.69 Q278.043 294.232 278.043 301.361 Q278.043 308.468 279.848 312.033 Q281.677 315.574 285.288 315.574 Q288.922 315.574 290.728 312.033 Q292.557 308.468 292.557 301.361 Q292.557 294.232 290.728 290.69 Q288.922 287.125 285.288 287.125 M285.288 283.422 Q291.098 283.422 294.154 288.028 Q297.233 292.612 297.233 301.361 Q297.233 310.088 294.154 314.695 Q291.098 319.278 285.288 319.278 Q279.478 319.278 276.399 314.695 Q273.344 310.088 273.344 301.361 Q273.344 292.612 276.399 288.028 Q279.478 283.422 285.288 283.422 Z\" fill=\"#000000\" fill-rule=\"evenodd\" fill-opacity=\"1\" /><path clip-path=\"url(#clip340)\" d=\"M309.909 266.427 L300.317 281.416 L309.909 281.416 L309.909 266.427 M308.912 263.116 L313.689 263.116 L313.689 281.416 L317.695 281.416 L317.695 284.576 L313.689 284.576 L313.689 291.196 L309.909 291.196 L309.909 284.576 L297.233 284.576 L297.233 280.908 L308.912 263.116 Z\" fill=\"#000000\" fill-rule=\"evenodd\" fill-opacity=\"1\" /><path clip-path=\"url(#clip340)\" d=\"M103.877 218.868 L120.196 218.868 L120.196 222.803 L98.2522 222.803 L98.2522 218.868 Q100.914 216.114 105.497 211.484 Q110.104 206.831 111.284 205.489 Q113.53 202.966 114.409 201.229 Q115.312 199.47 115.312 197.78 Q115.312 195.026 113.368 193.29 Q111.447 191.554 108.345 191.554 Q106.146 191.554 103.692 192.318 Q101.261 193.081 98.4836 194.632 L98.4836 189.91 Q101.308 188.776 103.761 188.197 Q106.215 187.618 108.252 187.618 Q113.622 187.618 116.817 190.304 Q120.011 192.989 120.011 197.48 Q120.011 199.609 119.201 201.53 Q118.414 203.429 116.308 206.021 Q115.729 206.692 112.627 209.91 Q109.525 213.104 103.877 218.868 Z\" fill=\"#000000\" fill-rule=\"evenodd\" fill-opacity=\"1\" /><path clip-path=\"url(#clip340)\" d=\"M130.011 216.924 L134.895 216.924 L134.895 222.803 L130.011 222.803 L130.011 216.924 Z\" fill=\"#000000\" fill-rule=\"evenodd\" fill-opacity=\"1\" /><path clip-path=\"url(#clip340)\" d=\"M155.081 191.322 Q151.469 191.322 149.641 194.887 Q147.835 198.429 147.835 205.558 Q147.835 212.665 149.641 216.229 Q151.469 219.771 155.081 219.771 Q158.715 219.771 160.52 216.229 Q162.349 212.665 162.349 205.558 Q162.349 198.429 160.52 194.887 Q158.715 191.322 155.081 191.322 M155.081 187.618 Q160.891 187.618 163.946 192.225 Q167.025 196.808 167.025 205.558 Q167.025 214.285 163.946 218.891 Q160.891 223.475 155.081 223.475 Q149.27 223.475 146.192 218.891 Q143.136 214.285 143.136 205.558 Q143.136 196.808 146.192 192.225 Q149.27 187.618 155.081 187.618 Z\" fill=\"#000000\" fill-rule=\"evenodd\" fill-opacity=\"1\" /><path clip-path=\"url(#clip340)\" d=\"M185.242 191.322 Q181.631 191.322 179.803 194.887 Q177.997 198.429 177.997 205.558 Q177.997 212.665 179.803 216.229 Q181.631 219.771 185.242 219.771 Q188.877 219.771 190.682 216.229 Q192.511 212.665 192.511 205.558 Q192.511 198.429 190.682 194.887 Q188.877 191.322 185.242 191.322 M185.242 187.618 Q191.053 187.618 194.108 192.225 Q197.187 196.808 197.187 205.558 Q197.187 214.285 194.108 218.891 Q191.053 223.475 185.242 223.475 Q179.432 223.475 176.354 218.891 Q173.298 214.285 173.298 205.558 Q173.298 196.808 176.354 192.225 Q179.432 187.618 185.242 187.618 Z\" fill=\"#000000\" fill-rule=\"evenodd\" fill-opacity=\"1\" /><path clip-path=\"url(#clip340)\" d=\"M233.576 197.341 L222.997 207.966 L233.576 218.544 L230.821 221.345 L220.196 210.72 L209.571 221.345 L206.84 218.544 L217.395 207.966 L206.84 197.341 L209.571 194.54 L220.196 205.165 L230.821 194.54 L233.576 197.341 Z\" fill=\"#000000\" fill-rule=\"evenodd\" fill-opacity=\"1\" /><path clip-path=\"url(#clip340)\" d=\"M245.937 218.868 L253.575 218.868 L253.575 192.503 L245.265 194.169 L245.265 189.91 L253.529 188.243 L258.205 188.243 L258.205 218.868 L265.844 218.868 L265.844 222.803 L245.937 222.803 L245.937 218.868 Z\" fill=\"#000000\" fill-rule=\"evenodd\" fill-opacity=\"1\" /><path clip-path=\"url(#clip340)\" d=\"M285.288 191.322 Q281.677 191.322 279.848 194.887 Q278.043 198.429 278.043 205.558 Q278.043 212.665 279.848 216.229 Q281.677 219.771 285.288 219.771 Q288.922 219.771 290.728 216.229 Q292.557 212.665 292.557 205.558 Q292.557 198.429 290.728 194.887 Q288.922 191.322 285.288 191.322 M285.288 187.618 Q291.098 187.618 294.154 192.225 Q297.233 196.808 297.233 205.558 Q297.233 214.285 294.154 218.891 Q291.098 223.475 285.288 223.475 Q279.478 223.475 276.399 218.891 Q273.344 214.285 273.344 205.558 Q273.344 196.808 276.399 192.225 Q279.478 187.618 285.288 187.618 Z\" fill=\"#000000\" fill-rule=\"evenodd\" fill-opacity=\"1\" /><path clip-path=\"url(#clip340)\" d=\"M309.909 170.623 L300.317 185.613 L309.909 185.613 L309.909 170.623 M308.912 167.313 L313.689 167.313 L313.689 185.613 L317.695 185.613 L317.695 188.773 L313.689 188.773 L313.689 195.393 L309.909 195.393 L309.909 188.773 L297.233 188.773 L297.233 185.105 L308.912 167.313 Z\" fill=\"#000000\" fill-rule=\"evenodd\" fill-opacity=\"1\" /><path clip-path=\"url(#clip340)\" d=\"M103.877 123.065 L120.196 123.065 L120.196 127 L98.2522 127 L98.2522 123.065 Q100.914 120.31 105.497 115.681 Q110.104 111.028 111.284 109.685 Q113.53 107.162 114.409 105.426 Q115.312 103.667 115.312 101.977 Q115.312 99.2225 113.368 97.4864 Q111.447 95.7503 108.345 95.7503 Q106.146 95.7503 103.692 96.5142 Q101.261 97.2781 98.4836 98.829 L98.4836 94.1068 Q101.308 92.9726 103.761 92.3939 Q106.215 91.8152 108.252 91.8152 Q113.622 91.8152 116.817 94.5003 Q120.011 97.1855 120.011 101.676 Q120.011 103.806 119.201 105.727 Q118.414 107.625 116.308 110.218 Q115.729 110.889 112.627 114.107 Q109.525 117.301 103.877 123.065 Z\" fill=\"#000000\" fill-rule=\"evenodd\" fill-opacity=\"1\" /><path clip-path=\"url(#clip340)\" d=\"M130.011 121.121 L134.895 121.121 L134.895 127 L130.011 127 L130.011 121.121 Z\" fill=\"#000000\" fill-rule=\"evenodd\" fill-opacity=\"1\" /><path clip-path=\"url(#clip340)\" d=\"M145.127 92.4401 L163.483 92.4401 L163.483 96.3753 L149.409 96.3753 L149.409 104.847 Q150.428 104.5 151.446 104.338 Q152.465 104.153 153.483 104.153 Q159.27 104.153 162.65 107.324 Q166.03 110.496 166.03 115.912 Q166.03 121.491 162.557 124.593 Q159.085 127.671 152.766 127.671 Q150.59 127.671 148.321 127.301 Q146.076 126.931 143.669 126.19 L143.669 121.491 Q145.752 122.625 147.974 123.181 Q150.196 123.736 152.673 123.736 Q156.678 123.736 159.016 121.63 Q161.354 119.523 161.354 115.912 Q161.354 112.301 159.016 110.195 Q156.678 108.088 152.673 108.088 Q150.798 108.088 148.923 108.505 Q147.071 108.922 145.127 109.801 L145.127 92.4401 Z\" fill=\"#000000\" fill-rule=\"evenodd\" fill-opacity=\"1\" /><path clip-path=\"url(#clip340)\" d=\"M185.242 95.5188 Q181.631 95.5188 179.803 99.0836 Q177.997 102.625 177.997 109.755 Q177.997 116.861 179.803 120.426 Q181.631 123.968 185.242 123.968 Q188.877 123.968 190.682 120.426 Q192.511 116.861 192.511 109.755 Q192.511 102.625 190.682 99.0836 Q188.877 95.5188 185.242 95.5188 M185.242 91.8152 Q191.053 91.8152 194.108 96.4216 Q197.187 101.005 197.187 109.755 Q197.187 118.482 194.108 123.088 Q191.053 127.671 185.242 127.671 Q179.432 127.671 176.354 123.088 Q173.298 118.482 173.298 109.755 Q173.298 101.005 176.354 96.4216 Q179.432 91.8152 185.242 91.8152 Z\" fill=\"#000000\" fill-rule=\"evenodd\" fill-opacity=\"1\" /><path clip-path=\"url(#clip340)\" d=\"M233.576 101.537 L222.997 112.162 L233.576 122.741 L230.821 125.542 L220.196 114.917 L209.571 125.542 L206.84 122.741 L217.395 112.162 L206.84 101.537 L209.571 98.7364 L220.196 109.361 L230.821 98.7364 L233.576 101.537 Z\" fill=\"#000000\" fill-rule=\"evenodd\" fill-opacity=\"1\" /><path clip-path=\"url(#clip340)\" d=\"M245.937 123.065 L253.575 123.065 L253.575 96.6994 L245.265 98.366 L245.265 94.1068 L253.529 92.4401 L258.205 92.4401 L258.205 123.065 L265.844 123.065 L265.844 127 L245.937 127 L245.937 123.065 Z\" fill=\"#000000\" fill-rule=\"evenodd\" fill-opacity=\"1\" /><path clip-path=\"url(#clip340)\" d=\"M285.288 95.5188 Q281.677 95.5188 279.848 99.0836 Q278.043 102.625 278.043 109.755 Q278.043 116.861 279.848 120.426 Q281.677 123.968 285.288 123.968 Q288.922 123.968 290.728 120.426 Q292.557 116.861 292.557 109.755 Q292.557 102.625 290.728 99.0836 Q288.922 95.5188 285.288 95.5188 M285.288 91.8152 Q291.098 91.8152 294.154 96.4216 Q297.233 101.005 297.233 109.755 Q297.233 118.482 294.154 123.088 Q291.098 127.671 285.288 127.671 Q279.478 127.671 276.399 123.088 Q273.344 118.482 273.344 109.755 Q273.344 101.005 276.399 96.4216 Q279.478 91.8152 285.288 91.8152 Z\" fill=\"#000000\" fill-rule=\"evenodd\" fill-opacity=\"1\" /><path clip-path=\"url(#clip340)\" d=\"M309.909 74.8199 L300.317 89.8097 L309.909 89.8097 L309.909 74.8199 M308.912 71.5097 L313.689 71.5097 L313.689 89.8097 L317.695 89.8097 L317.695 92.9694 L313.689 92.9694 L313.689 99.5897 L309.909 99.5897 L309.909 92.9694 L297.233 92.9694 L297.233 89.3019 L308.912 71.5097 Z\" fill=\"#000000\" fill-rule=\"evenodd\" fill-opacity=\"1\" /><path clip-path=\"url(#clip340)\" d=\"M13.1364 347.554 L19.9159 347.554 Q16.8922 350.801 15.3963 354.493 Q13.9003 358.153 13.9003 362.291 Q13.9003 370.439 18.8974 374.768 Q23.8627 379.096 33.2839 379.096 Q42.6733 379.096 47.6704 374.768 Q52.6356 370.439 52.6356 362.291 Q52.6356 358.153 51.1397 354.493 Q49.6438 350.801 46.6201 347.554 L53.3359 347.554 Q55.6275 350.928 56.7734 354.716 Q57.9192 358.471 57.9192 362.673 Q57.9192 373.463 51.3307 379.669 Q44.7103 385.876 33.2839 385.876 Q21.8256 385.876 15.2371 379.669 Q8.61679 373.463 8.61679 362.673 Q8.61679 358.408 9.76261 354.652 Q10.8766 350.864 13.1364 347.554 Z\" fill=\"#000000\" fill-rule=\"evenodd\" fill-opacity=\"1\" /><path clip-path=\"url(#clip340)\" d=\"M25.4541 324.065 Q25.4541 328.775 29.1462 331.513 Q32.8065 334.25 39.204 334.25 Q45.6015 334.25 49.2937 331.544 Q52.9539 328.807 52.9539 324.065 Q52.9539 319.386 49.2618 316.649 Q45.5697 313.911 39.204 313.911 Q32.8701 313.911 29.178 316.649 Q25.4541 319.386 25.4541 324.065 M20.4888 324.065 Q20.4888 316.426 25.4541 312.065 Q30.4193 307.705 39.204 307.705 Q47.9569 307.705 52.9539 312.065 Q57.9192 316.426 57.9192 324.065 Q57.9192 331.735 52.9539 336.096 Q47.9569 340.425 39.204 340.425 Q30.4193 340.425 25.4541 336.096 Q20.4888 331.735 20.4888 324.065 Z\" fill=\"#000000\" fill-rule=\"evenodd\" fill-opacity=\"1\" /><path clip-path=\"url(#clip340)\" d=\"M22.3985 275.272 L27.9367 275.272 Q26.6636 277.754 26.027 280.428 Q25.3904 283.101 25.3904 285.966 Q25.3904 290.326 26.7272 292.523 Q28.064 294.687 30.7376 294.687 Q32.7746 294.687 33.9523 293.127 Q35.0981 291.568 36.1485 286.857 L36.5941 284.852 Q37.9309 278.614 40.3817 276.004 Q42.8006 273.362 47.1611 273.362 Q52.1264 273.362 55.0228 277.309 Q57.9192 281.223 57.9192 288.098 Q57.9192 290.963 57.3463 294.082 Q56.8052 297.17 55.6912 300.607 L49.6438 300.607 Q51.3307 297.361 52.19 294.21 Q53.0176 291.058 53.0176 287.971 Q53.0176 283.833 51.6171 281.605 Q50.1849 279.377 47.6067 279.377 Q45.2196 279.377 43.9465 281.001 Q42.6733 282.592 41.4957 288.035 L41.0182 290.072 Q39.8724 295.514 37.5171 297.933 Q35.13 300.352 30.9922 300.352 Q25.9633 300.352 23.2261 296.788 Q20.4888 293.223 20.4888 286.666 Q20.4888 283.42 20.9663 280.555 Q21.4437 277.691 22.3985 275.272 Z\" fill=\"#000000\" fill-rule=\"evenodd\" fill-opacity=\"1\" /><path clip-path=\"url(#clip340)\" d=\"M11.2267 258.243 L21.3482 258.243 L21.3482 246.18 L25.8997 246.18 L25.8997 258.243 L45.2514 258.243 Q49.6119 258.243 50.8533 257.066 Q52.0946 255.856 52.0946 252.196 L52.0946 246.18 L56.9962 246.18 L56.9962 252.196 Q56.9962 258.975 54.4817 261.553 Q51.9354 264.132 45.2514 264.132 L25.8997 264.132 L25.8997 268.428 L21.3482 268.428 L21.3482 264.132 L11.2267 264.132 L11.2267 258.243 Z\" fill=\"#000000\" fill-rule=\"evenodd\" fill-opacity=\"1\" /><polyline clip-path=\"url(#clip342)\" style=\"stroke:#000000; stroke-linecap:butt; stroke-linejoin:round; stroke-width:16; stroke-opacity:1; fill:none\" points=\"\n",
       "  384.546,569.598 442.301,552.803 500.056,538.571 557.81,526.592 615.565,512.597 673.32,482.724 731.075,462.41 788.829,443.895 846.584,424.483 904.339,401.854 \n",
       "  962.094,367.707 1019.85,318.855 1077.6,291.822 1135.36,270.16 1193.11,241.935 1250.87,198.214 1308.62,159.676 1366.38,111.554 1424.13,101.087 1481.89,88.1029 \n",
       "  1539.64,81.4043 1597.4,74.3666 1655.15,68.1394 1712.91,62.4583 \n",
       "  \"/>\n",
       "</svg>\n"
      ]
     },
     "execution_count": 17,
     "metadata": {},
     "output_type": "execute_result"
    }
   ],
   "source": [
    "plot([xLabels],cumsum(vec(cost)),linewidth = 4, linecolor = :black,size = (450,180),xlabel=\"Time\",ylabel=\"Cost\", legend = false) #|> save(\"og-cost.svg\")"
   ]
  },
  {
   "cell_type": "markdown",
   "metadata": {},
   "source": [
    "## Unit Commitment MILP Model"
   ]
  },
  {
   "cell_type": "code",
   "execution_count": 4,
   "metadata": {},
   "outputs": [
    {
     "data": {
      "text/plain": [
       "solve_ed (generic function with 1 method)"
      ]
     },
     "execution_count": 4,
     "metadata": {},
     "output_type": "execute_result"
    }
   ],
   "source": [
    "function solve_ed(g_max, g_min, c_g, c_w, d, w_f, s_f)\n",
    "    ed = Model(GLPK.Optimizer)\n",
    "    \n",
    "#Wind and Solar generation variable for each hour    \n",
    "    @variable(ed, 0 <= w[i=1:1,j=1:24] <= w_f[1])\n",
    "    @variable(ed, 0 <= s[i=1:1,j=1:24] <= s_f[1])\n",
    "    @variable(ed, w_diff[i=1:1,j=1:24])\n",
    "    @constraint(ed,[i=1:1,j=1:24], w_diff[i,j] == w_f[1] .- w[i,j])   \n",
    "    @variable(ed, s_diff[i=1:1,j=1:24])\n",
    "    @constraint(ed,[i=1:1,j=1:24], s_diff[i,j] == s_f[1] .- s[i,j]) \n",
    "    \n",
    "#Unit commitment binary variable for conventional generator    \n",
    "    @variable(ed,u[i=1:3,j=1:24], Bin)\n",
    "    \n",
    "#Conventional generation varaible for each hour     \n",
    "    @variable(ed, 0 <= g[i=1:3,j=1:24] <= g_max[i])\n",
    "    \n",
    "#Objective Minimize generation production cost    \n",
    "    @objective(ed, Min, sum(sum(((g[i,j] *c_g[i])+(u[i,j]*c_g0[i])) for i=1:3)+ (c_w* w[1,j])+(c_s*s[1,j]) for j=1:24))\n",
    "    @variable(ed,cost[j=1:24])\n",
    "    @constraint(ed,[j=1:24], cost[j] == sum(((g[i,j] *c_g[i])+(u[i,j]*c_g0[i])) for i=1:3)+ (c_w* w[1,j])+(c_s*s[1,j]))\n",
    "    \n",
    "#Conventional generation constraints    \n",
    "    @constraint(ed,[i=1:3,j=1:24], g[i,j] <= g_max[i]*u[i,j])\n",
    "    @constraint(ed,[i=1:3,j=1:24], g[i,j] >= g_min[i]*u[i,j]) \n",
    "    @constraint(ed,[i=1:1,j=12:20],s[i,j] ==0) \n",
    "    \n",
    "#Power balance equation constraint   \n",
    "    @constraint(ed,[j=1:24],(sum(g[i,j] for i=1:3)+ w[1,j]+ s[1,j] == d[1,j]))\n",
    "\n",
    "#Minimum uptime and downtime constraint   \n",
    "    @constraint(ed,[j=2:24,i=1:3,s=j+1:min(24,j.+UTg[i,1]-1)],u[i,s]>=u[i,j]-u[i,j-1])\n",
    "    @constraint(ed,[j=1:1,i=1:3,s=j+1:min(24,j.+UTg[i,1]-1)],u[i,s]>=u[i,j]-0)\n",
    "    @constraint(ed,[j=2:24,i=1:3,s=j+1:min(24,j.+UDg[i,1]-1)],(1-u[i,s])>=u[i,j-1]-u[i,j])\n",
    "    @constraint(ed,[j=1:1,i=1:3,s=j+1:min(24,j.+UDg[i,1]-1)],(1-u[i,s])>=0-u[i,j])\n",
    "\n",
    "#Ramp rate up and down constraint\n",
    "    @constraint(ed,[i=1:3,j=2:24], g[i,j]-g[i,j-1]<=UR[i])\n",
    "    @constraint(ed,[i=1:3,j=1:1], g[i,j]-0<=UR[i])\n",
    "    @constraint(ed,[i=1:3,j=2:24], g[i,j-1]-g[i,j]<=DR[i])\n",
    "    @constraint(ed,[i=1:3,j=1:1], 0-g[i,j]<=DR[i])\n",
    "    \n",
    "    optimize!(ed)\n",
    "    return JuMP.value.(g), JuMP.value.(w),JuMP.value.(s), objective_value(ed),JuMP.value.(u),JuMP.value.(w_diff),JuMP.value.(s_diff),JuMP.value.(cost)\n",
    "end"
   ]
  },
  {
   "cell_type": "code",
   "execution_count": 5,
   "metadata": {},
   "outputs": [
    {
     "name": "stdout",
     "output_type": "stream",
     "text": [
      "Dispatch of Conventional Generators: [5.0 10.5 6.899999999999999 5.0 8.159999999999997 0.0 0.0 0.0 0.0 0.0 19.549999999999997 20.0 0.0 -7.105427357601002e-15 19.490000000000002 20.0 20.0 20.0 13.780000000000001 19.409999999999997 5.0 5.0 0.0 0.0; 0.0 0.0 0.0 0.0 0.0 30.560000000000002 20.0 20.0 20.0 21.85 20.0 50.0 37.22 29.60000000000001 20.0 43.5 36.06999999999999 49.999999999999986 -4.440892098500729e-17 0.0 0.0 0.0 0.0 0.0; 0.0 0.0 0.0 0.0 0.0 0.0 0.0 0.0 0.0 0.0 0.0 0.0 0.0 0.0 0.0 0.0 0.0 0.3300000000000125 0.0 0.0 0.0 0.0 0.0 0.0] MW\n",
      "\n",
      "\n",
      "Dispatch of Wind Generator: [20.0 20.0 20.0 20.0 20.0 20.0 20.0 15.630000000000003 20.0 20.0 20.0 20.0 20.0 20.0 20.0 20.0 20.0 20.0 20.0 20.0 20.0 20.0 20.0 20.0] MW\n",
      "\n",
      "\n",
      "Dispatch of Solar Generator: [10.89 15.0 15.0 13.600000000000001 15.0 15.0 5.020000000000003 0.0 0.3100000000000023 15.0 15.0 0.0 0.0 0.0 0.0 0.0 0.0 0.0 0.0 0.0 9.96 11.729999999999997 12.5 9.649999999999999] MW\n",
      "\n",
      "\n",
      "Binary:[1.0 1.0 1.0 1.0 1.0 0.0 0.0 0.0 0.0 0.0 1.0 1.0 0.0 0.0 1.0 1.0 1.0 1.0 1.0 1.0 1.0 1.0 0.0 0.0; 0.0 0.0 0.0 0.0 0.0 1.0 1.0 1.0 1.0 1.0 1.0 1.0 1.0 1.0 1.0 1.0 1.0 1.0 0.0 0.0 0.0 0.0 0.0 0.0; 0.0 0.0 0.0 0.0 0.0 0.0 0.0 0.0 0.0 0.0 0.0 0.0 0.0 0.0 0.0 0.0 0.0 1.0 0.0 0.0 0.0 0.0 0.0 0.0] Bin\n",
      "\n",
      "\n",
      "Total cost: 42429.08300000012$\n",
      "[4.109999999999999 0.0 0.0 1.3999999999999986 0.0 0.0 9.979999999999997 15.0 14.689999999999998 0.0 0.0 15.0 15.0 15.0 15.0 15.0 15.0 15.0 15.0 15.0 5.039999999999999 3.270000000000003 2.5 5.350000000000001]\n",
      "[0.0 0.0 0.0 0.0 0.0 0.0 0.0 4.369999999999997 0.0 0.0 0.0 0.0 0.0 0.0 0.0 0.0 0.0 0.0 0.0 0.0 0.0 0.0 0.0 0.0]\n"
     ]
    }
   ],
   "source": [
    "(g_opt, w_opt, s_opt, obj,u,w_diff,s_diff,cost) = solve_ed(g_max, g_min, c_g, c_w, d, w_f, s_f);\n",
    "\n",
    "println(\"Dispatch of Conventional Generators: \",g_opt, \" MW\")\n",
    "println(\"\\n\")\n",
    "println(\"Dispatch of Wind Generator: \",w_opt, \" MW\")\n",
    "println(\"\\n\")\n",
    "println(\"Dispatch of Solar Generator: \",s_opt, \" MW\")\n",
    "println(\"\\n\")\n",
    "println(\"Binary:\",u, \" Bin\")\n",
    "println(\"\\n\")\n",
    "println(\"Total cost: \", obj, \"\\$\")\n",
    "println(s_diff)\n",
    "println(w_diff)"
   ]
  },
  {
   "cell_type": "code",
   "execution_count": 6,
   "metadata": {},
   "outputs": [
    {
     "data": {
      "text/plain": [
       "3×24 Matrix{Float64}:\n",
       " 5.0  10.5  6.9  5.0  8.16   0.0    0.0   0.0  …  19.41  5.0  5.0  0.0  0.0\n",
       " 0.0   0.0  0.0  0.0  0.0   30.56  20.0  20.0      0.0   0.0  0.0  0.0  0.0\n",
       " 0.0   0.0  0.0  0.0  0.0    0.0    0.0   0.0      0.0   0.0  0.0  0.0  0.0"
      ]
     },
     "execution_count": 6,
     "metadata": {},
     "output_type": "execute_result"
    }
   ],
   "source": [
    "g_opt_tot=g_opt[1,:].+g_opt[2,:]+g_opt[3,:]\n",
    "g_opt"
   ]
  },
  {
   "cell_type": "code",
   "execution_count": 7,
   "metadata": {},
   "outputs": [
    {
     "data": {
      "application/vnd.vegalite.v4+json": {
       "data": {
        "values": [
         {
          "Time": 1,
          "value": 5,
          "variable": "Conv"
         },
         {
          "Time": 2,
          "value": 10.5,
          "variable": "Conv"
         },
         {
          "Time": 3,
          "value": 6.899999999999999,
          "variable": "Conv"
         },
         {
          "Time": 4,
          "value": 5,
          "variable": "Conv"
         },
         {
          "Time": 5,
          "value": 8.159999999999997,
          "variable": "Conv"
         },
         {
          "Time": 6,
          "value": 30.560000000000002,
          "variable": "Conv"
         },
         {
          "Time": 7,
          "value": 20,
          "variable": "Conv"
         },
         {
          "Time": 8,
          "value": 20,
          "variable": "Conv"
         },
         {
          "Time": 9,
          "value": 20,
          "variable": "Conv"
         },
         {
          "Time": 10,
          "value": 21.85,
          "variable": "Conv"
         },
         {
          "Time": 11,
          "value": 39.55,
          "variable": "Conv"
         },
         {
          "Time": 12,
          "value": 70,
          "variable": "Conv"
         },
         {
          "Time": 13,
          "value": 37.22,
          "variable": "Conv"
         },
         {
          "Time": 14,
          "value": 29.6,
          "variable": "Conv"
         },
         {
          "Time": 15,
          "value": 39.49,
          "variable": "Conv"
         },
         {
          "Time": 16,
          "value": 63.5,
          "variable": "Conv"
         },
         {
          "Time": 17,
          "value": 56.06999999999999,
          "variable": "Conv"
         },
         {
          "Time": 18,
          "value": 70.33,
          "variable": "Conv"
         },
         {
          "Time": 19,
          "value": 13.780000000000001,
          "variable": "Conv"
         },
         {
          "Time": 20,
          "value": 19.409999999999997,
          "variable": "Conv"
         },
         {
          "Time": 21,
          "value": 5,
          "variable": "Conv"
         },
         {
          "Time": 22,
          "value": 5,
          "variable": "Conv"
         },
         {
          "Time": 23,
          "value": 0,
          "variable": "Conv"
         },
         {
          "Time": 24,
          "value": 0,
          "variable": "Conv"
         },
         {
          "Time": 1,
          "value": 20,
          "variable": "Wind"
         },
         {
          "Time": 2,
          "value": 20,
          "variable": "Wind"
         },
         {
          "Time": 3,
          "value": 20,
          "variable": "Wind"
         },
         {
          "Time": 4,
          "value": 20,
          "variable": "Wind"
         },
         {
          "Time": 5,
          "value": 20,
          "variable": "Wind"
         },
         {
          "Time": 6,
          "value": 20,
          "variable": "Wind"
         },
         {
          "Time": 7,
          "value": 20,
          "variable": "Wind"
         },
         {
          "Time": 8,
          "value": 15.630000000000003,
          "variable": "Wind"
         },
         {
          "Time": 9,
          "value": 20,
          "variable": "Wind"
         },
         {
          "Time": 10,
          "value": 20,
          "variable": "Wind"
         },
         {
          "Time": 11,
          "value": 20,
          "variable": "Wind"
         },
         {
          "Time": 12,
          "value": 20,
          "variable": "Wind"
         },
         {
          "Time": 13,
          "value": 20,
          "variable": "Wind"
         },
         {
          "Time": 14,
          "value": 20,
          "variable": "Wind"
         },
         {
          "Time": 15,
          "value": 20,
          "variable": "Wind"
         },
         {
          "Time": 16,
          "value": 20,
          "variable": "Wind"
         },
         {
          "Time": 17,
          "value": 20,
          "variable": "Wind"
         },
         {
          "Time": 18,
          "value": 20,
          "variable": "Wind"
         },
         {
          "Time": 19,
          "value": 20,
          "variable": "Wind"
         },
         {
          "Time": 20,
          "value": 20,
          "variable": "Wind"
         },
         {
          "Time": 21,
          "value": 20,
          "variable": "Wind"
         },
         {
          "Time": 22,
          "value": 20,
          "variable": "Wind"
         },
         {
          "Time": 23,
          "value": 20,
          "variable": "Wind"
         },
         {
          "Time": 24,
          "value": 20,
          "variable": "Wind"
         },
         {
          "Time": 1,
          "value": 10.89,
          "variable": "Solar"
         },
         {
          "Time": 2,
          "value": 15,
          "variable": "Solar"
         },
         {
          "Time": 3,
          "value": 15,
          "variable": "Solar"
         },
         {
          "Time": 4,
          "value": 13.600000000000001,
          "variable": "Solar"
         },
         {
          "Time": 5,
          "value": 15,
          "variable": "Solar"
         },
         {
          "Time": 6,
          "value": 15,
          "variable": "Solar"
         },
         {
          "Time": 7,
          "value": 5.020000000000003,
          "variable": "Solar"
         },
         {
          "Time": 8,
          "value": 0,
          "variable": "Solar"
         },
         {
          "Time": 9,
          "value": 0.3100000000000023,
          "variable": "Solar"
         },
         {
          "Time": 10,
          "value": 15,
          "variable": "Solar"
         },
         {
          "Time": 11,
          "value": 15,
          "variable": "Solar"
         },
         {
          "Time": 12,
          "value": 0,
          "variable": "Solar"
         },
         {
          "Time": 13,
          "value": 0,
          "variable": "Solar"
         },
         {
          "Time": 14,
          "value": 0,
          "variable": "Solar"
         },
         {
          "Time": 15,
          "value": 0,
          "variable": "Solar"
         },
         {
          "Time": 16,
          "value": 0,
          "variable": "Solar"
         },
         {
          "Time": 17,
          "value": 0,
          "variable": "Solar"
         },
         {
          "Time": 18,
          "value": 0,
          "variable": "Solar"
         },
         {
          "Time": 19,
          "value": 0,
          "variable": "Solar"
         },
         {
          "Time": 20,
          "value": 0,
          "variable": "Solar"
         },
         {
          "Time": 21,
          "value": 9.96,
          "variable": "Solar"
         },
         {
          "Time": 22,
          "value": 11.729999999999997,
          "variable": "Solar"
         },
         {
          "Time": 23,
          "value": 12.5,
          "variable": "Solar"
         },
         {
          "Time": 24,
          "value": 9.649999999999999,
          "variable": "Solar"
         }
        ]
       },
       "encoding": {
        "color": {
         "field": "variable",
         "type": "nominal"
        },
        "x": {
         "field": "Time",
         "type": "quantitative"
        },
        "y": {
         "field": "value",
         "stack": "zero",
         "type": "quantitative"
        }
       },
       "height": 250,
       "mark": "area",
       "width": 450
      },
      "image/png": "[encoded data removed]",
      "image/svg+xml": [
       "<?xml version=\"1.0\" encoding=\"utf-8\"?>\n",
       "<!DOCTYPE svg PUBLIC \"-//W3C//DTD SVG 1.1//EN\" \"http://www.w3.org/Graphics/SVG/1.1/DTD/svg11.dtd\">\n",
       "<svg xmlns=\"http://www.w3.org/2000/svg\" xmlns:xlink=\"http://www.w3.org/1999/xlink\" version=\"1.1\" class=\"marks\" width=\"560\" height=\"297\" viewBox=\"0 0 560 297\"><rect width=\"560\" height=\"297\" fill=\"white\"/><g fill=\"none\" stroke-miterlimit=\"10\" transform=\"translate(42,10)\"><g class=\"mark-group role-frame root\" role=\"graphics-object\" aria-roledescription=\"group mark container\"><g transform=\"translate(0,0)\"><path class=\"background\" aria-hidden=\"true\" d=\"M0.5,0.5h450v250h-450Z\" stroke=\"#ddd\"/><g><g class=\"mark-group role-axis\" aria-hidden=\"true\"><g transform=\"translate(0.5,250.5)\"><path class=\"background\" aria-hidden=\"true\" d=\"M0,0h0v0h0Z\" pointer-events=\"none\"/><g><g class=\"mark-rule role-axis-grid\" pointer-events=\"none\"><line transform=\"translate(0,-250)\" x2=\"0\" y2=\"250\" stroke=\"#ddd\" stroke-width=\"1\" opacity=\"1\"/><line transform=\"translate(38,-250)\" x2=\"0\" y2=\"250\" stroke=\"#ddd\" stroke-width=\"1\" opacity=\"1\"/><line transform=\"translate(75,-250)\" x2=\"0\" y2=\"250\" stroke=\"#ddd\" stroke-width=\"1\" opacity=\"1\"/><line transform=\"translate(113,-250)\" x2=\"0\" y2=\"250\" stroke=\"#ddd\" stroke-width=\"1\" opacity=\"1\"/><line transform=\"translate(150,-250)\" x2=\"0\" y2=\"250\" stroke=\"#ddd\" stroke-width=\"1\" opacity=\"1\"/><line transform=\"translate(188,-250)\" x2=\"0\" y2=\"250\" stroke=\"#ddd\" stroke-width=\"1\" opacity=\"1\"/><line transform=\"translate(225,-250)\" x2=\"0\" y2=\"250\" stroke=\"#ddd\" stroke-width=\"1\" opacity=\"1\"/><line transform=\"translate(263,-250)\" x2=\"0\" y2=\"250\" stroke=\"#ddd\" stroke-width=\"1\" opacity=\"1\"/><line transform=\"translate(300,-250)\" x2=\"0\" y2=\"250\" stroke=\"#ddd\" stroke-width=\"1\" opacity=\"1\"/><line transform=\"translate(338,-250)\" x2=\"0\" y2=\"250\" stroke=\"#ddd\" stroke-width=\"1\" opacity=\"1\"/><line transform=\"translate(375,-250)\" x2=\"0\" y2=\"250\" stroke=\"#ddd\" stroke-width=\"1\" opacity=\"1\"/><line transform=\"translate(413,-250)\" x2=\"0\" y2=\"250\" stroke=\"#ddd\" stroke-width=\"1\" opacity=\"1\"/><line transform=\"translate(450,-250)\" x2=\"0\" y2=\"250\" stroke=\"#ddd\" stroke-width=\"1\" opacity=\"1\"/></g></g><path class=\"foreground\" aria-hidden=\"true\" d=\"\" pointer-events=\"none\" display=\"none\"/></g></g><g class=\"mark-group role-axis\" aria-hidden=\"true\"><g transform=\"translate(0.5,0.5)\"><path class=\"background\" aria-hidden=\"true\" d=\"M0,0h0v0h0Z\" pointer-events=\"none\"/><g><g class=\"mark-rule role-axis-grid\" pointer-events=\"none\"><line transform=\"translate(0,250)\" x2=\"450\" y2=\"0\" stroke=\"#ddd\" stroke-width=\"1\" opacity=\"1\"/><line transform=\"translate(0,200)\" x2=\"450\" y2=\"0\" stroke=\"#ddd\" stroke-width=\"1\" opacity=\"1\"/><line transform=\"translate(0,150)\" x2=\"450\" y2=\"0\" stroke=\"#ddd\" stroke-width=\"1\" opacity=\"1\"/><line transform=\"translate(0,100)\" x2=\"450\" y2=\"0\" stroke=\"#ddd\" stroke-width=\"1\" opacity=\"1\"/><line transform=\"translate(0,50)\" x2=\"450\" y2=\"0\" stroke=\"#ddd\" stroke-width=\"1\" opacity=\"1\"/><line transform=\"translate(0,0)\" x2=\"450\" y2=\"0\" stroke=\"#ddd\" stroke-width=\"1\" opacity=\"1\"/></g></g><path class=\"foreground\" aria-hidden=\"true\" d=\"\" pointer-events=\"none\" display=\"none\"/></g></g><g class=\"mark-group role-axis\" role=\"graphics-symbol\" aria-roledescription=\"axis\" aria-label=\"X-axis titled 'Time' for a linear scale with values from 0 to 24\"><g transform=\"translate(0.5,250.5)\"><path class=\"background\" aria-hidden=\"true\" d=\"M0,0h0v0h0Z\" pointer-events=\"none\"/><g><g class=\"mark-rule role-axis-tick\" pointer-events=\"none\"><line transform=\"translate(0,0)\" x2=\"0\" y2=\"5\" stroke=\"#888\" stroke-width=\"1\" opacity=\"1\"/><line transform=\"translate(38,0)\" x2=\"0\" y2=\"5\" stroke=\"#888\" stroke-width=\"1\" opacity=\"1\"/><line transform=\"translate(75,0)\" x2=\"0\" y2=\"5\" stroke=\"#888\" stroke-width=\"1\" opacity=\"1\"/><line transform=\"translate(113,0)\" x2=\"0\" y2=\"5\" stroke=\"#888\" stroke-width=\"1\" opacity=\"1\"/><line transform=\"translate(150,0)\" x2=\"0\" y2=\"5\" stroke=\"#888\" stroke-width=\"1\" opacity=\"1\"/><line transform=\"translate(188,0)\" x2=\"0\" y2=\"5\" stroke=\"#888\" stroke-width=\"1\" opacity=\"1\"/><line transform=\"translate(225,0)\" x2=\"0\" y2=\"5\" stroke=\"#888\" stroke-width=\"1\" opacity=\"1\"/><line transform=\"translate(263,0)\" x2=\"0\" y2=\"5\" stroke=\"#888\" stroke-width=\"1\" opacity=\"1\"/><line transform=\"translate(300,0)\" x2=\"0\" y2=\"5\" stroke=\"#888\" stroke-width=\"1\" opacity=\"1\"/><line transform=\"translate(338,0)\" x2=\"0\" y2=\"5\" stroke=\"#888\" stroke-width=\"1\" opacity=\"1\"/><line transform=\"translate(375,0)\" x2=\"0\" y2=\"5\" stroke=\"#888\" stroke-width=\"1\" opacity=\"1\"/><line transform=\"translate(413,0)\" x2=\"0\" y2=\"5\" stroke=\"#888\" stroke-width=\"1\" opacity=\"1\"/><line transform=\"translate(450,0)\" x2=\"0\" y2=\"5\" stroke=\"#888\" stroke-width=\"1\" opacity=\"1\"/></g><g class=\"mark-text role-axis-label\" pointer-events=\"none\"><text text-anchor=\"start\" transform=\"translate(0,15)\" font-family=\"sans-serif\" font-size=\"10px\" fill=\"#000\" opacity=\"1\">0</text><text text-anchor=\"middle\" transform=\"translate(37.5,15)\" font-family=\"sans-serif\" font-size=\"10px\" fill=\"#000\" opacity=\"1\">2</text><text text-anchor=\"middle\" transform=\"translate(75,15)\" font-family=\"sans-serif\" font-size=\"10px\" fill=\"#000\" opacity=\"1\">4</text><text text-anchor=\"middle\" transform=\"translate(112.5,15)\" font-family=\"sans-serif\" font-size=\"10px\" fill=\"#000\" opacity=\"1\">6</text><text text-anchor=\"middle\" transform=\"translate(150,15)\" font-family=\"sans-serif\" font-size=\"10px\" fill=\"#000\" opacity=\"1\">8</text><text text-anchor=\"middle\" transform=\"translate(187.5,15)\" font-family=\"sans-serif\" font-size=\"10px\" fill=\"#000\" opacity=\"1\">10</text><text text-anchor=\"middle\" transform=\"translate(225,15)\" font-family=\"sans-serif\" font-size=\"10px\" fill=\"#000\" opacity=\"1\">12</text><text text-anchor=\"middle\" transform=\"translate(262.5,15)\" font-family=\"sans-serif\" font-size=\"10px\" fill=\"#000\" opacity=\"1\">14</text><text text-anchor=\"middle\" transform=\"translate(300,15)\" font-family=\"sans-serif\" font-size=\"10px\" fill=\"#000\" opacity=\"1\">16</text><text text-anchor=\"middle\" transform=\"translate(337.5,15)\" font-family=\"sans-serif\" font-size=\"10px\" fill=\"#000\" opacity=\"1\">18</text><text text-anchor=\"middle\" transform=\"translate(375,15)\" font-family=\"sans-serif\" font-size=\"10px\" fill=\"#000\" opacity=\"1\">20</text><text text-anchor=\"middle\" transform=\"translate(412.5,15)\" font-family=\"sans-serif\" font-size=\"10px\" fill=\"#000\" opacity=\"1\">22</text><text text-anchor=\"end\" transform=\"translate(450,15)\" font-family=\"sans-serif\" font-size=\"10px\" fill=\"#000\" opacity=\"1\">24</text></g><g class=\"mark-rule role-axis-domain\" pointer-events=\"none\"><line transform=\"translate(0,0)\" x2=\"450\" y2=\"0\" stroke=\"#888\" stroke-width=\"1\" opacity=\"1\"/></g><g class=\"mark-text role-axis-title\" pointer-events=\"none\"><text text-anchor=\"middle\" transform=\"translate(225,30)\" font-family=\"sans-serif\" font-size=\"11px\" font-weight=\"bold\" fill=\"#000\" opacity=\"1\">Time</text></g></g><path class=\"foreground\" aria-hidden=\"true\" d=\"\" pointer-events=\"none\" display=\"none\"/></g></g><g class=\"mark-group role-axis\" role=\"graphics-symbol\" aria-roledescription=\"axis\" aria-label=\"Y-axis titled 'value' for a linear scale with values from 0 to 100\"><g transform=\"translate(0.5,0.5)\"><path class=\"background\" aria-hidden=\"true\" d=\"M0,0h0v0h0Z\" pointer-events=\"none\"/><g><g class=\"mark-rule role-axis-tick\" pointer-events=\"none\"><line transform=\"translate(0,250)\" x2=\"-5\" y2=\"0\" stroke=\"#888\" stroke-width=\"1\" opacity=\"1\"/><line transform=\"translate(0,200)\" x2=\"-5\" y2=\"0\" stroke=\"#888\" stroke-width=\"1\" opacity=\"1\"/><line transform=\"translate(0,150)\" x2=\"-5\" y2=\"0\" stroke=\"#888\" stroke-width=\"1\" opacity=\"1\"/><line transform=\"translate(0,100)\" x2=\"-5\" y2=\"0\" stroke=\"#888\" stroke-width=\"1\" opacity=\"1\"/><line transform=\"translate(0,50)\" x2=\"-5\" y2=\"0\" stroke=\"#888\" stroke-width=\"1\" opacity=\"1\"/><line transform=\"translate(0,0)\" x2=\"-5\" y2=\"0\" stroke=\"#888\" stroke-width=\"1\" opacity=\"1\"/></g><g class=\"mark-text role-axis-label\" pointer-events=\"none\"><text text-anchor=\"end\" transform=\"translate(-7,253)\" font-family=\"sans-serif\" font-size=\"10px\" fill=\"#000\" opacity=\"1\">0</text><text text-anchor=\"end\" transform=\"translate(-7,203)\" font-family=\"sans-serif\" font-size=\"10px\" fill=\"#000\" opacity=\"1\">20</text><text text-anchor=\"end\" transform=\"translate(-7,153)\" font-family=\"sans-serif\" font-size=\"10px\" fill=\"#000\" opacity=\"1\">40</text><text text-anchor=\"end\" transform=\"translate(-7,103)\" font-family=\"sans-serif\" font-size=\"10px\" fill=\"#000\" opacity=\"1\">60</text><text text-anchor=\"end\" transform=\"translate(-7,52.999999999999986)\" font-family=\"sans-serif\" font-size=\"10px\" fill=\"#000\" opacity=\"1\">80</text><text text-anchor=\"end\" transform=\"translate(-7,3)\" font-family=\"sans-serif\" font-size=\"10px\" fill=\"#000\" opacity=\"1\">100</text></g><g class=\"mark-rule role-axis-domain\" pointer-events=\"none\"><line transform=\"translate(0,250)\" x2=\"0\" y2=\"-250\" stroke=\"#888\" stroke-width=\"1\" opacity=\"1\"/></g><g class=\"mark-text role-axis-title\" pointer-events=\"none\"><text text-anchor=\"middle\" transform=\"translate(-26,125) rotate(-90) translate(0,-2)\" font-family=\"sans-serif\" font-size=\"11px\" font-weight=\"bold\" fill=\"#000\" opacity=\"1\">value</text></g></g><path class=\"foreground\" aria-hidden=\"true\" d=\"\" pointer-events=\"none\" display=\"none\"/></g></g><g class=\"mark-group role-scope pathgroup\" role=\"graphics-object\" aria-roledescription=\"group mark container\"><g transform=\"translate(0,0)\"><path class=\"background\" aria-hidden=\"true\" d=\"M0,0h450v250h-450Z\"/><g><g class=\"mark-area role-mark marks\" role=\"graphics-object\" aria-roledescription=\"area mark container\"><path aria-label=\"Time: 1; value: 5; variable: Conv\" role=\"graphics-symbol\" aria-roledescription=\"area mark\" d=\"M18.75,160.275L37.5,136.24999999999997L56.25,145.25L75,153.5L93.75,142.1L112.5,86.09999999999998L131.25,137.45L150,160.92499999999998L168.75,149.225L187.5,107.875L206.25,63.625000000000014L225,24.999999999999993L243.74999999999997,106.94999999999999L262.5,126L281.25,101.275L300,41.25000000000001L318.75,59.82500000000002L337.5,24.175L356.25,165.55L375,151.47500000000002L393.75,162.6L412.5,158.175L431.25,168.75L450,175.875L450,175.875L431.25,168.75L412.5,170.675L393.75,175.09999999999997L375,200L356.25,200L337.5,200L318.75,200L300,200L281.25,200L262.5,200L243.74999999999997,200L225,200L206.25,162.5L187.5,162.5L168.75,199.225L150,210.925L131.25,187.45000000000002L112.5,162.5L93.75,162.5L75,165.99999999999997L56.25,162.5L37.5,162.5L18.75,172.775Z\" fill=\"#4c78a8\"/></g></g><path class=\"foreground\" aria-hidden=\"true\" d=\"\" display=\"none\"/></g><g transform=\"translate(0,0)\"><path class=\"background\" aria-hidden=\"true\" d=\"M0,0h450v250h-450Z\"/><g><g class=\"mark-area role-mark marks\" role=\"graphics-object\" aria-roledescription=\"area mark container\"><path aria-label=\"Time: 1; value: 20; variable: Wind\" role=\"graphics-symbol\" aria-roledescription=\"area mark\" d=\"M18.75,200L37.5,200L56.25,200L75,200L93.75,200L112.5,200L131.25,200L150,210.925L168.75,200L187.5,200L206.25,200L225,200L243.74999999999997,200L262.5,200L281.25,200L300,200L318.75,200L337.5,200L356.25,200L375,200L393.75,200L412.5,200L431.25,200L450,200L450,250L431.25,250L412.5,250L393.75,250L375,250L356.25,250L337.5,250L318.75,250L300,250L281.25,250L262.5,250L243.74999999999997,250L225,250L206.25,250L187.5,250L168.75,250L150,250L131.25,250L112.5,250L93.75,250L75,250L56.25,250L37.5,250L18.75,250Z\" fill=\"#e45756\"/></g></g><path class=\"foreground\" aria-hidden=\"true\" d=\"\" display=\"none\"/></g><g transform=\"translate(0,0)\"><path class=\"background\" aria-hidden=\"true\" d=\"M0,0h450v250h-450Z\"/><g><g class=\"mark-area role-mark marks\" role=\"graphics-object\" aria-roledescription=\"area mark container\"><path aria-label=\"Time: 1; value: 10.89; variable: Solar\" role=\"graphics-symbol\" aria-roledescription=\"area mark\" d=\"M18.75,172.775L37.5,162.5L56.25,162.5L75,165.99999999999997L93.75,162.5L112.5,162.5L131.25,187.45000000000002L150,210.925L168.75,199.225L187.5,162.5L206.25,162.5L225,200L243.74999999999997,200L262.5,200L281.25,200L300,200L318.75,200L337.5,200L356.25,200L375,200L393.75,175.09999999999997L412.5,170.675L431.25,168.75L450,175.875L450,200L431.25,200L412.5,200L393.75,200L375,200L356.25,200L337.5,200L318.75,200L300,200L281.25,200L262.5,200L243.74999999999997,200L225,200L206.25,200L187.5,200L168.75,200L150,210.925L131.25,200L112.5,200L93.75,200L75,200L56.25,200L37.5,200L18.75,200Z\" fill=\"#f58518\"/></g></g><path class=\"foreground\" aria-hidden=\"true\" d=\"\" display=\"none\"/></g></g><g class=\"mark-group role-legend\" role=\"graphics-symbol\" aria-roledescription=\"legend\" aria-label=\"Symbol legend titled 'variable' for fill color with 3 values: Conv, Solar, Wind\"><g transform=\"translate(468,0)\"><path class=\"background\" aria-hidden=\"true\" d=\"M0,0h45v53h-45Z\" pointer-events=\"none\"/><g><g class=\"mark-group role-legend-entry\"><g transform=\"translate(0,16)\"><path class=\"background\" aria-hidden=\"true\" d=\"M0,0h0v0h0Z\" pointer-events=\"none\"/><g><g class=\"mark-group role-scope\" role=\"graphics-object\" aria-roledescription=\"group mark container\"><g transform=\"translate(0,0)\"><path class=\"background\" aria-hidden=\"true\" d=\"M0,0h39v11h-39Z\" pointer-events=\"none\" opacity=\"1\"/><g><g class=\"mark-symbol role-legend-symbol\" pointer-events=\"none\"><path transform=\"translate(6,6)\" d=\"M5,0A5,5,0,1,1,-5,0A5,5,0,1,1,5,0\" fill=\"#4c78a8\" stroke-width=\"1.5\" opacity=\"1\"/></g><g class=\"mark-text role-legend-label\" pointer-events=\"none\"><text text-anchor=\"start\" transform=\"translate(16,9)\" font-family=\"sans-serif\" font-size=\"10px\" fill=\"#000\" opacity=\"1\">Conv</text></g></g><path class=\"foreground\" aria-hidden=\"true\" d=\"\" pointer-events=\"none\" display=\"none\"/></g><g transform=\"translate(0,13)\"><path class=\"background\" aria-hidden=\"true\" d=\"M0,0h39v11h-39Z\" pointer-events=\"none\" opacity=\"1\"/><g><g class=\"mark-symbol role-legend-symbol\" pointer-events=\"none\"><path transform=\"translate(6,6)\" d=\"M5,0A5,5,0,1,1,-5,0A5,5,0,1,1,5,0\" fill=\"#f58518\" stroke-width=\"1.5\" opacity=\"1\"/></g><g class=\"mark-text role-legend-label\" pointer-events=\"none\"><text text-anchor=\"start\" transform=\"translate(16,9)\" font-family=\"sans-serif\" font-size=\"10px\" fill=\"#000\" opacity=\"1\">Solar</text></g></g><path class=\"foreground\" aria-hidden=\"true\" d=\"\" pointer-events=\"none\" display=\"none\"/></g><g transform=\"translate(0,26)\"><path class=\"background\" aria-hidden=\"true\" d=\"M0,0h39v11h-39Z\" pointer-events=\"none\" opacity=\"1\"/><g><g class=\"mark-symbol role-legend-symbol\" pointer-events=\"none\"><path transform=\"translate(6,6)\" d=\"M5,0A5,5,0,1,1,-5,0A5,5,0,1,1,5,0\" fill=\"#e45756\" stroke-width=\"1.5\" opacity=\"1\"/></g><g class=\"mark-text role-legend-label\" pointer-events=\"none\"><text text-anchor=\"start\" transform=\"translate(16,9)\" font-family=\"sans-serif\" font-size=\"10px\" fill=\"#000\" opacity=\"1\">Wind</text></g></g><path class=\"foreground\" aria-hidden=\"true\" d=\"\" pointer-events=\"none\" display=\"none\"/></g></g></g><path class=\"foreground\" aria-hidden=\"true\" d=\"\" pointer-events=\"none\" display=\"none\"/></g></g><g class=\"mark-text role-legend-title\" pointer-events=\"none\"><text text-anchor=\"start\" transform=\"translate(0,9)\" font-family=\"sans-serif\" font-size=\"11px\" font-weight=\"bold\" fill=\"#000\" opacity=\"1\">variable</text></g></g><path class=\"foreground\" aria-hidden=\"true\" d=\"\" pointer-events=\"none\" display=\"none\"/></g></g></g><path class=\"foreground\" aria-hidden=\"true\" d=\"\" display=\"none\"/></g></g></g></svg>\n"
      ],
      "text/plain": [
       "@vlplot(\n",
       "    width=450,\n",
       "    height=250,\n",
       "    mark=\"area\",\n",
       "    encoding={\n",
       "        x={\n",
       "            field=\"Time\"\n",
       "        },\n",
       "        y={\n",
       "            stack=\"zero\",\n",
       "            field=\"value\"\n",
       "        },\n",
       "        color={\n",
       "            field=\"variable\",\n",
       "            type=\"nominal\"\n",
       "        }\n",
       "    },\n",
       "    data={\n",
       "        values=...\n",
       "    }\n",
       ")"
      ]
     },
     "execution_count": 7,
     "metadata": {},
     "output_type": "execute_result"
    }
   ],
   "source": [
    "g_opt_tot=g_opt[1,:].+g_opt[2,:]+g_opt[3,:]\n",
    "sNames = [\"Conv\",\"Wind\",\"Solar\"]\n",
    "xLabels = [1,2,3,4,5,6,7,8,9,10,11,12,13,14,15,16,17,18,19,20,21,22,23,24]\n",
    "\n",
    "df = DataFrame(Time=xLabels, Conv=vec(g_opt_tot), Wind=vec(w_opt), Solar=vec(s_opt))\n",
    "df |> stack |> @vlplot(:area, x=:Time, y={:value, stack=:zero}, color=\"variable:n\",width=450, height=250)"
   ]
  },
  {
   "cell_type": "code",
   "execution_count": 8,
   "metadata": {},
   "outputs": [
    {
     "data": {
      "image/svg+xml": [
       "<?xml version=\"1.0\" encoding=\"utf-8\"?>\n",
       "<svg xmlns=\"http://www.w3.org/2000/svg\" xmlns:xlink=\"http://www.w3.org/1999/xlink\" width=\"450\" height=\"200\" viewBox=\"0 0 1800 800\">\n",
       "<defs>\n",
       "  <clipPath id=\"clip140\">\n",
       "    <rect x=\"0\" y=\"0\" width=\"1800\" height=\"800\"/>\n",
       "  </clipPath>\n",
       "</defs>\n",
       "<path clip-path=\"url(#clip140)\" d=\"\n",
       "M0 800 L1800 800 L1800 0 L0 0  Z\n",
       "  \" fill=\"#ffffff\" fill-rule=\"evenodd\" fill-opacity=\"1\"/>\n",
       "<defs>\n",
       "  <clipPath id=\"clip141\">\n",
       "    <rect x=\"360\" y=\"0\" width=\"1261\" height=\"800\"/>\n",
       "  </clipPath>\n",
       "</defs>\n",
       "<path clip-path=\"url(#clip140)\" d=\"\n",
       "M198.677 658.54 L1572.76 658.54 L1572.76 47.2441 L198.677 47.2441  Z\n",
       "  \" fill=\"#ffffff\" fill-rule=\"evenodd\" fill-opacity=\"1\"/>\n",
       "<defs>\n",
       "  <clipPath id=\"clip142\">\n",
       "    <rect x=\"198\" y=\"47\" width=\"1375\" height=\"612\"/>\n",
       "  </clipPath>\n",
       "</defs>\n",
       "<polyline clip-path=\"url(#clip142)\" style=\"stroke:#000000; stroke-linecap:butt; stroke-linejoin:round; stroke-width:2; stroke-opacity:0.1; fill:none\" points=\"\n",
       "  456.317,658.54 456.317,47.2441 \n",
       "  \"/>\n",
       "<polyline clip-path=\"url(#clip142)\" style=\"stroke:#000000; stroke-linecap:butt; stroke-linejoin:round; stroke-width:2; stroke-opacity:0.1; fill:none\" points=\"\n",
       "  742.583,658.54 742.583,47.2441 \n",
       "  \"/>\n",
       "<polyline clip-path=\"url(#clip142)\" style=\"stroke:#000000; stroke-linecap:butt; stroke-linejoin:round; stroke-width:2; stroke-opacity:0.1; fill:none\" points=\"\n",
       "  1028.85,658.54 1028.85,47.2441 \n",
       "  \"/>\n",
       "<polyline clip-path=\"url(#clip142)\" style=\"stroke:#000000; stroke-linecap:butt; stroke-linejoin:round; stroke-width:2; stroke-opacity:0.1; fill:none\" points=\"\n",
       "  1315.12,658.54 1315.12,47.2441 \n",
       "  \"/>\n",
       "<polyline clip-path=\"url(#clip140)\" style=\"stroke:#000000; stroke-linecap:butt; stroke-linejoin:round; stroke-width:4; stroke-opacity:1; fill:none\" points=\"\n",
       "  198.677,658.54 1572.76,658.54 \n",
       "  \"/>\n",
       "<polyline clip-path=\"url(#clip140)\" style=\"stroke:#000000; stroke-linecap:butt; stroke-linejoin:round; stroke-width:4; stroke-opacity:1; fill:none\" points=\"\n",
       "  456.317,658.54 456.317,639.642 \n",
       "  \"/>\n",
       "<polyline clip-path=\"url(#clip140)\" style=\"stroke:#000000; stroke-linecap:butt; stroke-linejoin:round; stroke-width:4; stroke-opacity:1; fill:none\" points=\"\n",
       "  742.583,658.54 742.583,639.642 \n",
       "  \"/>\n",
       "<polyline clip-path=\"url(#clip140)\" style=\"stroke:#000000; stroke-linecap:butt; stroke-linejoin:round; stroke-width:4; stroke-opacity:1; fill:none\" points=\"\n",
       "  1028.85,658.54 1028.85,639.642 \n",
       "  \"/>\n",
       "<polyline clip-path=\"url(#clip140)\" style=\"stroke:#000000; stroke-linecap:butt; stroke-linejoin:round; stroke-width:4; stroke-opacity:1; fill:none\" points=\"\n",
       "  1315.12,658.54 1315.12,639.642 \n",
       "  \"/>\n",
       "<path clip-path=\"url(#clip140)\" d=\"M446.594 681.58 L464.951 681.58 L464.951 685.515 L450.877 685.515 L450.877 693.987 Q451.895 693.64 452.914 693.478 Q453.932 693.293 454.951 693.293 Q460.738 693.293 464.117 696.464 Q467.497 699.635 467.497 705.052 Q467.497 710.631 464.025 713.732 Q460.553 716.811 454.233 716.811 Q452.057 716.811 449.789 716.441 Q447.543 716.07 445.136 715.33 L445.136 710.631 Q447.219 711.765 449.442 712.32 Q451.664 712.876 454.141 712.876 Q458.145 712.876 460.483 710.77 Q462.821 708.663 462.821 705.052 Q462.821 701.441 460.483 699.334 Q458.145 697.228 454.141 697.228 Q452.266 697.228 450.391 697.645 Q448.539 698.061 446.594 698.941 L446.594 681.58 Z\" fill=\"#000000\" fill-rule=\"evenodd\" fill-opacity=\"1\" /><path clip-path=\"url(#clip140)\" d=\"M717.271 712.205 L724.91 712.205 L724.91 685.839 L716.599 687.506 L716.599 683.247 L724.863 681.58 L729.539 681.58 L729.539 712.205 L737.178 712.205 L737.178 716.14 L717.271 716.14 L717.271 712.205 Z\" fill=\"#000000\" fill-rule=\"evenodd\" fill-opacity=\"1\" /><path clip-path=\"url(#clip140)\" d=\"M756.622 684.659 Q753.011 684.659 751.183 688.223 Q749.377 691.765 749.377 698.895 Q749.377 706.001 751.183 709.566 Q753.011 713.107 756.622 713.107 Q760.257 713.107 762.062 709.566 Q763.891 706.001 763.891 698.895 Q763.891 691.765 762.062 688.223 Q760.257 684.659 756.622 684.659 M756.622 680.955 Q762.432 680.955 765.488 685.561 Q768.567 690.145 768.567 698.895 Q768.567 707.621 765.488 712.228 Q762.432 716.811 756.622 716.811 Q750.812 716.811 747.733 712.228 Q744.678 707.621 744.678 698.895 Q744.678 690.145 747.733 685.561 Q750.812 680.955 756.622 680.955 Z\" fill=\"#000000\" fill-rule=\"evenodd\" fill-opacity=\"1\" /><path clip-path=\"url(#clip140)\" d=\"M1004.03 712.205 L1011.67 712.205 L1011.67 685.839 L1003.36 687.506 L1003.36 683.247 L1011.63 681.58 L1016.3 681.58 L1016.3 712.205 L1023.94 712.205 L1023.94 716.14 L1004.03 716.14 L1004.03 712.205 Z\" fill=\"#000000\" fill-rule=\"evenodd\" fill-opacity=\"1\" /><path clip-path=\"url(#clip140)\" d=\"M1033.43 681.58 L1051.79 681.58 L1051.79 685.515 L1037.72 685.515 L1037.72 693.987 Q1038.73 693.64 1039.75 693.478 Q1040.77 693.293 1041.79 693.293 Q1047.58 693.293 1050.96 696.464 Q1054.34 699.635 1054.34 705.052 Q1054.34 710.631 1050.86 713.732 Q1047.39 716.811 1041.07 716.811 Q1038.9 716.811 1036.63 716.441 Q1034.38 716.07 1031.97 715.33 L1031.97 710.631 Q1034.06 711.765 1036.28 712.32 Q1038.5 712.876 1040.98 712.876 Q1044.98 712.876 1047.32 710.77 Q1049.66 708.663 1049.66 705.052 Q1049.66 701.441 1047.32 699.334 Q1044.98 697.228 1040.98 697.228 Q1039.1 697.228 1037.23 697.645 Q1035.38 698.061 1033.43 698.941 L1033.43 681.58 Z\" fill=\"#000000\" fill-rule=\"evenodd\" fill-opacity=\"1\" /><path clip-path=\"url(#clip140)\" d=\"M1293.89 712.205 L1310.21 712.205 L1310.21 716.14 L1288.26 716.14 L1288.26 712.205 Q1290.93 709.45 1295.51 704.82 Q1300.12 700.168 1301.3 698.825 Q1303.54 696.302 1304.42 694.566 Q1305.32 692.807 1305.32 691.117 Q1305.32 688.362 1303.38 686.626 Q1301.46 684.89 1298.36 684.89 Q1296.16 684.89 1293.7 685.654 Q1291.27 686.418 1288.5 687.969 L1288.5 683.247 Q1291.32 682.112 1293.77 681.534 Q1296.23 680.955 1298.26 680.955 Q1303.63 680.955 1306.83 683.64 Q1310.02 686.325 1310.02 690.816 Q1310.02 692.946 1309.21 694.867 Q1308.43 696.765 1306.32 699.358 Q1305.74 700.029 1302.64 703.246 Q1299.54 706.441 1293.89 712.205 Z\" fill=\"#000000\" fill-rule=\"evenodd\" fill-opacity=\"1\" /><path clip-path=\"url(#clip140)\" d=\"M1330.02 684.659 Q1326.41 684.659 1324.58 688.223 Q1322.78 691.765 1322.78 698.895 Q1322.78 706.001 1324.58 709.566 Q1326.41 713.107 1330.02 713.107 Q1333.66 713.107 1335.46 709.566 Q1337.29 706.001 1337.29 698.895 Q1337.29 691.765 1335.46 688.223 Q1333.66 684.659 1330.02 684.659 M1330.02 680.955 Q1335.83 680.955 1338.89 685.561 Q1341.97 690.145 1341.97 698.895 Q1341.97 707.621 1338.89 712.228 Q1335.83 716.811 1330.02 716.811 Q1324.21 716.811 1321.13 712.228 Q1318.08 707.621 1318.08 698.895 Q1318.08 690.145 1321.13 685.561 Q1324.21 680.955 1330.02 680.955 Z\" fill=\"#000000\" fill-rule=\"evenodd\" fill-opacity=\"1\" /><path clip-path=\"url(#clip140)\" d=\"M807.593 746.884 L847.793 746.884 L847.793 752.295 L830.923 752.295 L830.923 794.404 L824.462 794.404 L824.462 752.295 L807.593 752.295 L807.593 746.884 Z\" fill=\"#000000\" fill-rule=\"evenodd\" fill-opacity=\"1\" /><path clip-path=\"url(#clip140)\" d=\"M851.739 758.756 L857.596 758.756 L857.596 794.404 L851.739 794.404 L851.739 758.756 M851.739 744.879 L857.596 744.879 L857.596 752.295 L851.739 752.295 L851.739 744.879 Z\" fill=\"#000000\" fill-rule=\"evenodd\" fill-opacity=\"1\" /><path clip-path=\"url(#clip140)\" d=\"M897.604 765.599 Q899.8 761.652 902.856 759.774 Q905.911 757.897 910.049 757.897 Q915.619 757.897 918.643 761.811 Q921.667 765.695 921.667 772.888 L921.667 794.404 L915.778 794.404 L915.778 773.079 Q915.778 767.954 913.964 765.472 Q912.15 762.989 908.426 762.989 Q903.874 762.989 901.233 766.013 Q898.591 769.037 898.591 774.256 L898.591 794.404 L892.703 794.404 L892.703 773.079 Q892.703 767.923 890.888 765.472 Q889.074 762.989 885.287 762.989 Q880.799 762.989 878.157 766.045 Q875.515 769.068 875.515 774.256 L875.515 794.404 L869.627 794.404 L869.627 758.756 L875.515 758.756 L875.515 764.294 Q877.52 761.016 880.321 759.456 Q883.122 757.897 886.974 757.897 Q890.857 757.897 893.562 759.87 Q896.299 761.843 897.604 765.599 Z\" fill=\"#000000\" fill-rule=\"evenodd\" fill-opacity=\"1\" /><path clip-path=\"url(#clip140)\" d=\"M963.839 775.116 L963.839 777.98 L936.912 777.98 Q937.294 784.028 940.541 787.211 Q943.819 790.362 949.644 790.362 Q953.018 790.362 956.169 789.534 Q959.352 788.707 962.471 787.051 L962.471 792.59 Q959.32 793.926 956.01 794.627 Q952.699 795.327 949.294 795.327 Q940.764 795.327 935.767 790.362 Q930.801 785.396 930.801 776.93 Q930.801 768.177 935.512 763.053 Q940.254 757.897 948.275 757.897 Q955.469 757.897 959.638 762.543 Q963.839 767.159 963.839 775.116 M957.983 773.397 Q957.919 768.591 955.278 765.726 Q952.668 762.862 948.339 762.862 Q943.437 762.862 940.477 765.631 Q937.549 768.4 937.103 773.429 L957.983 773.397 Z\" fill=\"#000000\" fill-rule=\"evenodd\" fill-opacity=\"1\" /><polyline clip-path=\"url(#clip142)\" style=\"stroke:#000000; stroke-linecap:butt; stroke-linejoin:round; stroke-width:2; stroke-opacity:0.1; fill:none\" points=\"\n",
       "  198.677,505.716 1572.76,505.716 \n",
       "  \"/>\n",
       "<polyline clip-path=\"url(#clip142)\" style=\"stroke:#000000; stroke-linecap:butt; stroke-linejoin:round; stroke-width:2; stroke-opacity:0.1; fill:none\" points=\"\n",
       "  198.677,200.068 1572.76,200.068 \n",
       "  \"/>\n",
       "<polyline clip-path=\"url(#clip140)\" style=\"stroke:#000000; stroke-linecap:butt; stroke-linejoin:round; stroke-width:4; stroke-opacity:1; fill:none\" points=\"\n",
       "  198.677,658.54 198.677,47.2441 \n",
       "  \"/>\n",
       "<polyline clip-path=\"url(#clip140)\" style=\"stroke:#000000; stroke-linecap:butt; stroke-linejoin:round; stroke-width:4; stroke-opacity:1; fill:none\" points=\"\n",
       "  198.677,505.716 215.386,505.716 \n",
       "  \"/>\n",
       "<polyline clip-path=\"url(#clip140)\" style=\"stroke:#000000; stroke-linecap:butt; stroke-linejoin:round; stroke-width:4; stroke-opacity:1; fill:none\" points=\"\n",
       "  198.677,200.068 215.386,200.068 \n",
       "  \"/>\n",
       "<path clip-path=\"url(#clip140)\" d=\"M58.4134 488.436 L63.1356 488.436 L70.4041 517.649 L77.6494 488.436 L82.904 488.436 L90.1725 517.649 L97.4178 488.436 L102.163 488.436 L93.4827 522.996 L87.6031 522.996 L80.3114 492.996 L72.9504 522.996 L67.0708 522.996 L58.4134 488.436 Z\" fill=\"#000000\" fill-rule=\"evenodd\" fill-opacity=\"1\" /><path clip-path=\"url(#clip140)\" d=\"M107.14 497.07 L111.399 497.07 L111.399 522.996 L107.14 522.996 L107.14 497.07 M107.14 486.978 L111.399 486.978 L111.399 492.371 L107.14 492.371 L107.14 486.978 Z\" fill=\"#000000\" fill-rule=\"evenodd\" fill-opacity=\"1\" /><path clip-path=\"url(#clip140)\" d=\"M141.862 507.348 L141.862 522.996 L137.603 522.996 L137.603 507.487 Q137.603 503.806 136.168 501.977 Q134.732 500.149 131.862 500.149 Q128.413 500.149 126.422 502.348 Q124.432 504.547 124.432 508.343 L124.432 522.996 L120.149 522.996 L120.149 497.07 L124.432 497.07 L124.432 501.098 Q125.959 498.76 128.02 497.603 Q130.103 496.445 132.811 496.445 Q137.279 496.445 139.57 499.223 Q141.862 501.977 141.862 507.348 Z\" fill=\"#000000\" fill-rule=\"evenodd\" fill-opacity=\"1\" /><path clip-path=\"url(#clip140)\" d=\"M167.417 501.005 L167.417 486.978 L171.677 486.978 L171.677 522.996 L167.417 522.996 L167.417 519.107 Q166.075 521.422 164.015 522.556 Q161.978 523.667 159.107 523.667 Q154.408 523.667 151.445 519.917 Q148.506 516.167 148.506 510.056 Q148.506 503.945 151.445 500.195 Q154.408 496.445 159.107 496.445 Q161.978 496.445 164.015 497.579 Q166.075 498.69 167.417 501.005 M152.904 510.056 Q152.904 514.755 154.825 517.44 Q156.769 520.102 160.149 520.102 Q163.529 520.102 165.473 517.44 Q167.417 514.755 167.417 510.056 Q167.417 505.357 165.473 502.695 Q163.529 500.01 160.149 500.01 Q156.769 500.01 154.825 502.695 Q152.904 505.357 152.904 510.056 Z\" fill=\"#000000\" fill-rule=\"evenodd\" fill-opacity=\"1\" /><path clip-path=\"url(#clip140)\" d=\"M76.2374 183.922 L76.2374 188.482 Q73.5754 187.209 71.2143 186.584 Q68.8532 185.959 66.6541 185.959 Q62.8347 185.959 60.7513 187.441 Q58.6912 188.922 58.6912 191.654 Q58.6912 193.945 60.0569 195.126 Q61.4458 196.283 65.2884 197.001 L68.1124 197.58 Q73.3439 198.575 75.8207 201.098 Q78.3207 203.598 78.3207 207.811 Q78.3207 212.834 74.9411 215.427 Q71.5846 218.019 65.08 218.019 Q62.6263 218.019 59.8486 217.464 Q57.094 216.908 54.131 215.82 L54.131 211.005 Q56.9782 212.603 59.7097 213.413 Q62.4412 214.223 65.08 214.223 Q69.0846 214.223 71.2606 212.649 Q73.4365 211.075 73.4365 208.158 Q73.4365 205.612 71.8624 204.177 Q70.3115 202.742 66.7467 202.024 L63.8995 201.468 Q58.668 200.427 56.3301 198.205 Q53.9921 195.982 53.9921 192.024 Q53.9921 187.441 57.2097 184.802 Q60.4504 182.163 66.1217 182.163 Q68.5522 182.163 71.0754 182.603 Q73.5985 183.043 76.2374 183.922 Z\" fill=\"#000000\" fill-rule=\"evenodd\" fill-opacity=\"1\" /><path clip-path=\"url(#clip140)\" d=\"M95.4734 194.408 Q92.0475 194.408 90.0567 197.094 Q88.066 199.756 88.066 204.408 Q88.066 209.061 90.0336 211.746 Q92.0243 214.408 95.4734 214.408 Q98.8761 214.408 100.867 211.723 Q102.858 209.038 102.858 204.408 Q102.858 199.802 100.867 197.117 Q98.8761 194.408 95.4734 194.408 M95.4734 190.797 Q101.029 190.797 104.2 194.408 Q107.371 198.019 107.371 204.408 Q107.371 210.774 104.2 214.408 Q101.029 218.019 95.4734 218.019 Q89.8947 218.019 86.7234 214.408 Q83.5753 210.774 83.5753 204.408 Q83.5753 198.019 86.7234 194.408 Q89.8947 190.797 95.4734 190.797 Z\" fill=\"#000000\" fill-rule=\"evenodd\" fill-opacity=\"1\" /><path clip-path=\"url(#clip140)\" d=\"M114.432 181.33 L118.691 181.33 L118.691 217.348 L114.432 217.348 L114.432 181.33 Z\" fill=\"#000000\" fill-rule=\"evenodd\" fill-opacity=\"1\" /><path clip-path=\"url(#clip140)\" d=\"M139.385 204.316 Q134.223 204.316 132.232 205.496 Q130.242 206.677 130.242 209.524 Q130.242 211.793 131.723 213.135 Q133.228 214.455 135.797 214.455 Q139.339 214.455 141.469 211.955 Q143.621 209.431 143.621 205.265 L143.621 204.316 L139.385 204.316 M147.881 202.556 L147.881 217.348 L143.621 217.348 L143.621 213.413 Q142.163 215.774 139.987 216.908 Q137.811 218.019 134.663 218.019 Q130.682 218.019 128.32 215.797 Q125.982 213.552 125.982 209.802 Q125.982 205.427 128.899 203.205 Q131.839 200.982 137.649 200.982 L143.621 200.982 L143.621 200.566 Q143.621 197.626 141.677 196.029 Q139.756 194.408 136.26 194.408 Q134.038 194.408 131.932 194.941 Q129.825 195.473 127.881 196.538 L127.881 192.603 Q130.219 191.7 132.418 191.26 Q134.617 190.797 136.7 190.797 Q142.325 190.797 145.103 193.714 Q147.881 196.631 147.881 202.556 Z\" fill=\"#000000\" fill-rule=\"evenodd\" fill-opacity=\"1\" /><path clip-path=\"url(#clip140)\" d=\"M171.677 195.404 Q170.959 194.987 170.103 194.802 Q169.269 194.594 168.251 194.594 Q164.64 194.594 162.695 196.955 Q160.774 199.293 160.774 203.691 L160.774 217.348 L156.492 217.348 L156.492 191.422 L160.774 191.422 L160.774 195.45 Q162.117 193.089 164.269 191.955 Q166.422 190.797 169.501 190.797 Q169.941 190.797 170.473 190.867 Q171.005 190.913 171.654 191.029 L171.677 195.404 Z\" fill=\"#000000\" fill-rule=\"evenodd\" fill-opacity=\"1\" /><g clip-path=\"url(#clip142)\">\n",
       "<image width=\"1374\" height=\"611\" xlink:href=\"data:image/png;base64,\n",
       "iVBORw0KGgoAAAANSUhEUgAABV4AAAJjCAYAAAD0/gp2AAASz0lEQVR4nO3auy2GYQCGYYeIhEKh\n",
       "paDVizU0JlAZREygYgGFTmUCA4jyTxCVQxRqhnB/3uC6JnjqO8/87dnJ59w/sLF/OHoCgY/H2egJ\n",
       "k1vd2Bo9gcjV7t7oCZM7fXodPWFyywuLoyf8iMv7u9ETAAD4ptn58egJP2Jle2f0hMktra2PnjC5\n",
       "t5vr0RMmtzB6AAAAAADAXyO8AgAAAADEhFcAAAAAgJjwCgAAAAAQE14BAAAAAGLCKwAAAABATHgF\n",
       "AAAAAIgJrwAAAAAAMeEVAAAAACAmvAIAAAAAxIRXAAAAAICY8AoAAAAAEBNeAQAAAABiwisAAAAA\n",
       "QEx4BQAAAACICa8AAAAAADHhFQAAAAAgJrwCAAAAAMSEVwAAAACAmPAKAAAAABATXgEAAAAAYsIr\n",
       "AAAAAEBMeAUAAAAAiAmvAAAAAAAx4RUAAAAAICa8AgAAAADEhFcAAAAAgJjwCgAAAAAQE14BAAAA\n",
       "AGLCKwAAAABATHgFAAAAAIgJrwAAAAAAMeEVAAAAACAmvAIAAAAAxIRXAAAAAICY8AoAAAAAEBNe\n",
       "AQAAAABiwisAAAAAQEx4BQAAAACICa8AAAAAADHhFQAAAAAgJrwCAAAAAMSEVwAAAACAmPAKAAAA\n",
       "ABATXgEAAAAAYsIrAAAAAEBMeAUAAAAAiAmvAAAAAAAx4RUAAAAAICa8AgAAAADEhFcAAAAAgJjw\n",
       "CgAAAAAQE14BAAAAAGLCKwAAAABATHgFAAAAAIgJrwAAAAAAMeEVAAAAACAmvAIAAAAAxIRXAAAA\n",
       "AICY8AoAAAAAEBNeAQAAAABiwisAAAAAQEx4BQAAAACICa8AAAAAADHhFQAAAAAgJrwCAAAAAMSE\n",
       "VwAAAACAmPAKAAAAABATXgEAAAAAYsIrAAAAAEBMeAUAAAAAiAmvAAAAAAAx4RUAAAAAICa8AgAA\n",
       "AADEhFcAAAAAgJjwCgAAAAAQE14BAAAAAGLCKwAAAABATHgFAAAAAIgJrwAAAAAAMeEVAAAAACAm\n",
       "vAIAAAAAxIRXAAAAAICY8AoAAAAAEBNeAQAAAABiwisAAAAAQEx4BQAAAACICa8AAAAAADHhFQAA\n",
       "AAAgJrwCAAAAAMSEVwAAAACAmPAKAAAAABATXgEAAAAAYsIrAAAAAEBMeAUAAAAAiAmvAAAAAAAx\n",
       "4RUAAAAAICa8AgAAAADEhFcAAAAAgJjwCgAAAAAQE14BAAAAAGLCKwAAAABATHgFAAAAAIgJrwAA\n",
       "AAAAMeEVAAAAACAmvAIAAAAAxIRXAAAAAICY8AoAAAAAEBNeAQAAAABiwisAAAAAQEx4BQAAAACI\n",
       "Ca8AAAAAADHhFQAAAAAgJrwCAAAAAMSEVwAAAACAmPAKAAAAABATXgEAAAAAYsIrAAAAAEBMeAUA\n",
       "AAAAiAmvAAAAAAAx4RUAAAAAICa8AgAAAADEhFcAAAAAgJjwCgAAAAAQE14BAAAAAGLCKwAAAABA\n",
       "THgFAAAAAIgJrwAAAAAAMeEVAAAAACAmvAIAAAAAxIRXAAAAAICY8AoAAAAAEBNeAQAAAABiwisA\n",
       "AAAAQEx4BQAAAACICa8AAAAAADHhFQAAAAAgJrwCAAAAAMSEVwAAAACAmPAKAAAAABATXgEAAAAA\n",
       "YsIrAAAAAEBMeAUAAAAAiAmvAAAAAAAx4RUAAAAAICa8AgAAAADEhFcAAAAAgJjwCgAAAAAQE14B\n",
       "AAAAAGLCKwAAAABATHgFAAAAAIgJrwAAAAAAMeEVAAAAACAmvAIAAAAAxIRXAAAAAICY8AoAAAAA\n",
       "EBNeAQAAAABiwisAAAAAQEx4BQAAAACICa8AAAAAADHhFQAAAAAgJrwCAAAAAMSEVwAAAACAmPAK\n",
       "AAAAABATXgEAAAAAYsIrAAAAAEBMeAUAAAAAiAmvAAAAAAAx4RUAAAAAICa8AgAAAADEhFcAAAAA\n",
       "gJjwCgAAAAAQE14BAAAAAGLCKwAAAABATHgFAAAAAIgJrwAAAAAAMeEVAAAAACAmvAIAAAAAxIRX\n",
       "AAAAAICY8AoAAAAAEBNeAQAAAABiwisAAAAAQEx4BQAAAACICa8AAAAAADHhFQAAAAAgJrwCAAAA\n",
       "AMSEVwAAAACAmPAKAAAAABATXgEAAAAAYsIrAAAAAEBMeAUAAAAAiAmvAAAAAAAx4RUAAAAAICa8\n",
       "AgAAAADEhFcAAAAAgJjwCgAAAAAQE14BAAAAAGLCKwAAAABATHgFAAAAAIgJrwAAAAAAMeEVAAAA\n",
       "ACAmvAIAAAAAxIRXAAAAAICY8AoAAAAAEBNeAQAAAABiwisAAAAAQEx4BQAAAACICa8AAAAAADHh\n",
       "FQAAAAAgJrwCAAAAAMSEVwAAAACAmPAKAAAAABATXgEAAAAAYsIrAAAAAEBMeAUAAAAAiAmvAAAA\n",
       "AAAx4RUAAAAAICa8AgAAAADEhFcAAAAAgJjwCgAAAAAQE14BAAAAAGLCKwAAAABATHgFAAAAAIgJ\n",
       "rwAAAAAAMeEVAAAAACAmvAIAAAAAxIRXAAAAAICY8AoAAAAAEBNeAQAAAABiwisAAAAAQEx4BQAA\n",
       "AACICa8AAAAAADHhFQAAAAAgJrwCAAAAAMSEVwAAAACAmPAKAAAAABATXgEAAAAAYsIrAAAAAEBM\n",
       "eAUAAAAAiAmvAAAAAAAx4RUAAAAAICa8AgAAAADEhFcAAAAAgJjwCgAAAAAQE14BAAAAAGLCKwAA\n",
       "AABATHgFAAAAAIgJrwAAAAAAMeEVAAAAACAmvAIAAAAAxIRXAAAAAICY8AoAAAAAEBNeAQAAAABi\n",
       "wisAAAAAQEx4BQAAAACICa8AAAAAADHhFQAAAAAgJrwCAAAAAMSEVwAAAACAmPAKAAAAABATXgEA\n",
       "AAAAYsIrAAAAAEBMeAUAAAAAiAmvAAAAAAAx4RUAAAAAICa8AgAAAADEhFcAAAAAgJjwCgAAAAAQ\n",
       "E14BAAAAAGLCKwAAAABATHgFAAAAAIgJrwAAAAAAMeEVAAAAACAmvAIAAAAAxIRXAAAAAICY8AoA\n",
       "AAAAEBNeAQAAAABiwisAAAAAQEx4BQAAAACICa8AAAAAADHhFQAAAAAgJrwCAAAAAMSEVwAAAACA\n",
       "mPAKAAAAABATXgEAAAAAYsIrAAAAAEBMeAUAAAAAiAmvAAAAAAAx4RUAAAAAICa8AgAAAADEhFcA\n",
       "AAAAgJjwCgAAAAAQE14BAAAAAGLCKwAAAABATHgFAAAAAIgJrwAAAAAAMeEVAAAAACAmvAIAAAAA\n",
       "xIRXAAAAAICY8AoAAAAAEBNeAQAAAABiwisAAAAAQEx4BQAAAACICa8AAAAAADHhFQAAAAAgNv/+\n",
       "8vw5egQAv9PDxenoCZPbPDgaPQEAAIBfyOMVAAAAACAmvAIAAAAAxIRXAAAAAICY8AoAAAAAEBNe\n",
       "AQAAAABiwisAAAAAQEx4BQAAAACICa8AAAAAADHhFQAAAAAgJrwCAAAAAMSEVwAAAACAmPAKAAAA\n",
       "ABATXgEAAAAAYsIrAAAAAEBMeAUAAAAAiAmvAAAAAAAx4RUAAAAAICa8AgAAAADEhFcAAAAAgJjw\n",
       "CgAAAAAQE14BAAAAAGLCKwAAAABATHgFAAAAAIgJrwAAAAAAMeEVAAAAACAmvAIAAAAAxIRXAAAA\n",
       "AICY8AoAAAAAEBNeAQAAAABiwisAAAAAQEx4BQAAAACICa8AAAAAADHhFQAAAAAgJrwCAAAAAMSE\n",
       "VwAAAACAmPAKAAAAABATXgEAAAAAYsIrAAAAAEBMeAUAAAAAiAmvAAAAAAAx4RUAAAAAICa8AgAA\n",
       "AADEhFcAAAAAgJjwCgAAAAAQE14BAAAAAGLCKwAAAABATHgFAAAAAIgJrwAAAAAAMeEVAAAAACAm\n",
       "vAIAAAAAxIRXAAAAAICY8AoAAAAAEBNeAQAAAABiwisAAAAAQEx4BQAAAACICa8AAAAAADHhFQAA\n",
       "AAAgJrwCAAAAAMSEVwAAAACAmPAKAAAAABATXgEAAAAAYsIrAAAAAEBMeAUAAAAAiAmvAAAAAAAx\n",
       "4RUAAAAAICa8AgAAAADEhFcAAAAAgJjwCgAAAAAQE14BAAAAAGLCKwAAAABATHgFAAAAAIgJrwAA\n",
       "AAAAMeEVAAAAACAmvAIAAAAAxIRXAAAAAICY8AoAAAAAEBNeAQAAAABiwisAAAAAQEx4BQAAAACI\n",
       "Ca8AAAAAADHhFQAAAAAgJrwCAAAAAMSEVwAAAACAmPAKAAAAABATXgEAAAAAYsIrAAAAAEBMeAUA\n",
       "AAAAiAmvAAAAAAAx4RUAAAAAICa8AgAAAADEhFcAAAAAgJjwCgAAAAAQE14BAAAAAGLCKwAAAABA\n",
       "THgFAAAAAIgJrwAAAAAAMeEVAAAAACAmvAIAAAAAxIRXAAAAAICY8AoAAAAAEBNeAQAAAABiwisA\n",
       "AAAAQEx4BQAAAACICa8AAAAAADHhFQAAAAAgJrwCAAAAAMSEVwAAAACAmPAKAAAAABATXgEAAAAA\n",
       "YsIrAAAAAEBMeAUAAAAAiAmvAAAAAAAx4RUAAAAAICa8AgAAAADEhFcAAAAAgJjwCgAAAAAQE14B\n",
       "AAAAAGLCKwAAAABATHgFAAAAAIgJrwAAAAAAMeEVAAAAACAmvAIAAAAAxIRXAAAAAICY8AoAAAAA\n",
       "EBNeAQAAAABiwisAAAAAQEx4BQAAAACICa8AAAAAADHhFQAAAAAgJrwCAAAAAMSEVwAAAACAmPAK\n",
       "AAAAABATXgEAAAAAYsIrAAAAAEBMeAUAAAAAiAmvAAAAAAAx4RUAAAAAICa8AgAAAADEhFcAAAAA\n",
       "gJjwCgAAAAAQE14BAAAAAGLCKwAAAABATHgFAAAAAIgJrwAAAAAAMeEVAAAAACAmvAIAAAAAxIRX\n",
       "AAAAAICY8AoAAAAAEBNeAQAAAABiwisAAAAAQEx4BQAAAACICa8AAAAAADHhFQAAAAAgJrwCAAAA\n",
       "AMSEVwAAAACAmPAKAAAAABATXgEAAAAAYsIrAAAAAEBMeAUAAAAAiAmvAAAAAAAx4RUAAAAAICa8\n",
       "AgAAAADEhFcAAAAAgJjwCgAAAAAQE14BAAAAAGLCKwAAAABATHgFAAAAAIgJrwAAAAAAMeEVAAAA\n",
       "ACAmvAIAAAAAxIRXAAAAAICY8AoAAAAAEBNeAQAAAABiwisAAAAAQEx4BQAAAACICa8AAAAAADHh\n",
       "FQAAAAAgJrwCAAAAAMSEVwAAAACAmPAKAAAAABATXgEAAAAAYsIrAAAAAEBMeAUAAAAAiAmvAAAA\n",
       "AAAx4RUAAAAAICa8AgAAAADEhFcAAAAAgJjwCgAAAAAQE14BAAAAAGLCKwAAAABATHgFAAAAAIgJ\n",
       "rwAAAAAAMeEVAAAAACAmvAIAAAAAxIRXAAAAAICY8AoAAAAAEBNeAQAAAABiwisAAAAAQEx4BQAA\n",
       "AACICa8AAAAAADHhFQAAAAAgJrwCAAAAAMSEVwAAAACAmPAKAAAAABATXgEAAAAAYsIrAAAAAEBM\n",
       "eAUAAAAAiAmvAAAAAAAx4RUAAAAAICa8AgAAAADEhFcAAAAAgJjwCgAAAAAQE14BAAAAAGLCKwAA\n",
       "AABATHgFAAAAAIgJrwAAAAAAMeEVAAAAACAmvAIAAAAAxIRXAAAAAICY8AoAAAAAEBNeAQAAAABi\n",
       "wisAAAAAQEx4BQAAAACICa8AAAAAADHhFQAAAAAgJrwCAAAAAMSEVwAAAACAmPAKAAAAABATXgEA\n",
       "AAAAYsIrAAAAAEBMeAUAAAAAiAmvAAAAAAAx4RUAAAAAICa8AgAAAADEhFcAAAAAgJjwCgAAAAAQ\n",
       "E14BAAAAAGLCKwAAAABATHgFAAAAAIgJrwAAAAAAMeEVAAAAACAmvAIAAAAAxIRXAAAAAICY8AoA\n",
       "AAAAEBNeAQAAAABiwisAAAAAQEx4BQAAAACICa8AAAAAADHhFQAAAAAgJrwCAAAAAMSEVwAAAACA\n",
       "mPAKAAAAABATXgEAAAAAYsIrAAAAAEBMeAUAAAAAiAmvAAAAAAAx4RUAAAAAICa8AgAAAADEhFcA\n",
       "AAAAgJjwCgAAAAAQE14BAAAAAGLCKwAAAABATHgFAAAAAIgJrwAAAAAAMeEVAAAAACAmvAIAAAAA\n",
       "xIRXAAAAAICY8AoAAAAAEBNeAQAAAABiwisAAAAAQEx4BQAAAACICa8AAAAAADHhFQAAAAAgJrwC\n",
       "AAAAAMSEVwAAAACAmPAKAAAAABATXgEAAAAAYsIrAAAAAEBMeAUAAAAAiAmvAAAAAAAx4RUAAAAA\n",
       "ICa8AgAAAADEhFcAAAAAgJjwCgAAAAAQE14BAAAAAGLCKwAAAABATHgFAAAAAIgJrwAAAAAAMeEV\n",
       "AAAAACAmvAIAAAAAxIRXAAAAAICY8AoAAAAAEBNeAQAAAABiwisAAAAAQEx4BQAAAACICa8AAAAA\n",
       "ADHhFQAAAAAgJrwCAAAAAMSEVwAAAACAmPAKAAAAABATXgEAAAAAYsIrAAAAAEBMeAUAAAAAiAmv\n",
       "AAAAAACxL23uHUqrberhAAAAAElFTkSuQmCC\n",
       "\" transform=\"translate(199, 47)\"/>\n",
       "</g>\n",
       "<defs>\n",
       "  <clipPath id=\"clip143\">\n",
       "    <rect x=\"1608\" y=\"47\" width=\"55\" height=\"612\"/>\n",
       "  </clipPath>\n",
       "</defs>\n",
       "<g clip-path=\"url(#clip143)\">\n",
       "<image width=\"54\" height=\"611\" xlink:href=\"data:image/png;base64,\n",
       "iVBORw0KGgoAAAANSUhEUgAAADYAAAJjCAYAAABHmeKwAAAEKElEQVR4nO3dwW3kMBREQVHgZY/O\n",
       "x/mn5Y1iMHiNqgjcoNT8pLXe8/vv5+8Z9H77B/iU2WD3POfbP8NHWLGa2RWbDXY3H8TlFXvP5prt\n",
       "rtjmeg2v2Gwwk0fNfa1Yy2ywOzp4LK+Y8mixYjWzwe5qstVczz2jO/Tsis0Gc+dRY/KocTVQMxtM\n",
       "3deYFWucx2pmg5kVa2zQNbPBlEeNyaPGO1YzG8xBs0bd18wGs4/VOGjWqPua2WDqvkbd1/hqoGY2\n",
       "mPKosUHXzAZzbKlRHjU26JrZYOq+Rt3XzAazj9Wo+xp1XzMbTN3XqPua2WDKo8bkUaPua2aDqfsa\n",
       "K1aj7mtmg93zt1kfwyv27Z/gQ2ZXbDaYfazGn6yuUfc1s8HUfY3yqJkN5lGssWI1Nuia2WDKo8bV\n",
       "QM19n8n/cn13xWaDKY8aG3TNbDCPYo26r3E1UDMbTHnU3HMcNFNmg5kVa9R9jRWrmQ12X5NHi/Ko\n",
       "mQ3mUawx3dd4x2pmg7mlqlEeNVasZjbYPaPRRmMpj57ZYGbFGuVRY8VqZoN5FGvu6J8w3V2x2WDK\n",
       "o8bVQI13rGY2mEexxorV3NVoo7GGgymPGitWMxvMo1hj8qjxjtXMBrtn9FncXbHVaKOxhoPZx2rU\n",
       "fY26r5kNpu5r7jO6ZLsrdl4rljIbzPeKNab7mtlgvlesMSvWqPua2WD3cWxpcZlTMxvM5FHjlqrG\n",
       "O1YzG8yxpUZ51MwGM3nUKI8aK1YzG8ysWOMmuMY7VjMbzORRozxqZoOZPGqUR819Rr/r20z1DAcz\n",
       "K9a4u6+ZDaY8asyKNWbFmtlg6r7GrFjjHauZDWZWrDEr1swGs4/VmBVr1H3NbDCzYo0NumY2mEex\n",
       "5h6TR4vP+mpmg5kVaxw0a2aDmRVr1H2Nuq+ZDebYUqPua9R9zWww032Nuq+ZDWYfq1EeNc5jNbPB\n",
       "1H2Nuq+ZDaY8alwN1Kj7mtlg6r7GQbPGN8E1s8HMijVWrGY2mH2sRnnUOI/VzAbzZy9q1H3NbDD7\n",
       "WI1fStR4x2pmgymPGrNizX3ezWybqZ7hYOq+xqxYMxvM5FHjF3813rGa2WAexRp1XzMbzMfONQ6a\n",
       "NS5zamaDKY8a033NbDD7WI26r3Eeq5kN5paqxqxYY4OumQ1muq9RHjWzwUweNf7xaY26r5kNpu5r\n",
       "XObUzAZTHjUmjxqXOTWzwfyr2hrlUWOkqpkNZlasUfc1s8GUR43vFWvcBNfMBnNsqbFB18wGc2yp\n",
       "UR41PhKrmQ1mVqxR9zWzwcyKNcqjxjtWMxvMJ0c1pvsadV8zG8ysWKM8amaDKY8anxzV+OSoZjaY\n",
       "g2aN8qiZDaY8ahw0a9zd18wGU/c1ZsUa71jNbDCzYo1ZsWY2mPKo8Yu/Gu9YzWwwx5aae8yKLbPB\n",
       "lEeNe8Uas2LNbDB1X6Pua/4DxBsQjFQoBX0AAAAASUVORK5CYII=\n",
       "\" transform=\"translate(1609, 47)\"/>\n",
       "</g>\n",
       "<path clip-path=\"url(#clip140)\" d=\"M1701.7 640.71 Q1698.09 640.71 1696.26 644.275 Q1694.45 647.816 1694.45 654.946 Q1694.45 662.052 1696.26 665.617 Q1698.09 669.159 1701.7 669.159 Q1705.33 669.159 1707.14 665.617 Q1708.97 662.052 1708.97 654.946 Q1708.97 647.816 1707.14 644.275 Q1705.33 640.71 1701.7 640.71 M1701.7 637.006 Q1707.51 637.006 1710.57 641.613 Q1713.64 646.196 1713.64 654.946 Q1713.64 663.673 1710.57 668.279 Q1707.51 672.862 1701.7 672.862 Q1695.89 672.862 1692.81 668.279 Q1689.76 663.673 1689.76 654.946 Q1689.76 646.196 1692.81 641.613 Q1695.89 637.006 1701.7 637.006 Z\" fill=\"#000000\" fill-rule=\"evenodd\" fill-opacity=\"1\" /><path clip-path=\"url(#clip140)\" d=\"M1695.38 566.373 L1711.7 566.373 L1711.7 570.308 L1689.76 570.308 L1689.76 566.373 Q1692.42 563.619 1697 558.989 Q1701.61 554.336 1702.79 552.994 Q1705.03 550.471 1705.91 548.734 Q1706.82 546.975 1706.82 545.285 Q1706.82 542.531 1704.87 540.795 Q1702.95 539.059 1699.85 539.059 Q1697.65 539.059 1695.2 539.822 Q1692.77 540.586 1689.99 542.137 L1689.99 537.415 Q1692.81 536.281 1695.27 535.702 Q1697.72 535.123 1699.76 535.123 Q1705.13 535.123 1708.32 537.809 Q1711.52 540.494 1711.52 544.984 Q1711.52 547.114 1710.7 549.035 Q1709.92 550.934 1707.81 553.526 Q1707.23 554.197 1704.13 557.415 Q1701.03 560.609 1695.38 566.373 Z\" fill=\"#000000\" fill-rule=\"evenodd\" fill-opacity=\"1\" /><path clip-path=\"url(#clip140)\" d=\"M1721.51 564.429 L1726.4 564.429 L1726.4 570.308 L1721.51 570.308 L1721.51 564.429 Z\" fill=\"#000000\" fill-rule=\"evenodd\" fill-opacity=\"1\" /><path clip-path=\"url(#clip140)\" d=\"M1736.63 535.748 L1754.99 535.748 L1754.99 539.684 L1740.91 539.684 L1740.91 548.156 Q1741.93 547.809 1742.95 547.647 Q1743.97 547.461 1744.99 547.461 Q1750.77 547.461 1754.15 550.633 Q1757.53 553.804 1757.53 559.221 Q1757.53 564.799 1754.06 567.901 Q1750.59 570.98 1744.27 570.98 Q1742.09 570.98 1739.83 570.609 Q1737.58 570.239 1735.17 569.498 L1735.17 564.799 Q1737.26 565.933 1739.48 566.489 Q1741.7 567.045 1744.18 567.045 Q1748.18 567.045 1750.52 564.938 Q1752.86 562.832 1752.86 559.221 Q1752.86 555.609 1750.52 553.503 Q1748.18 551.396 1744.18 551.396 Q1742.3 551.396 1740.43 551.813 Q1738.58 552.23 1736.63 553.109 L1736.63 535.748 Z\" fill=\"#000000\" fill-rule=\"evenodd\" fill-opacity=\"1\" /><path clip-path=\"url(#clip140)\" d=\"M1691.21 433.866 L1709.57 433.866 L1709.57 437.801 L1695.5 437.801 L1695.5 446.273 Q1696.52 445.926 1697.53 445.764 Q1698.55 445.579 1699.57 445.579 Q1705.36 445.579 1708.74 448.75 Q1712.12 451.921 1712.12 457.338 Q1712.12 462.917 1708.64 466.018 Q1705.17 469.097 1698.85 469.097 Q1696.68 469.097 1694.41 468.727 Q1692.16 468.356 1689.76 467.616 L1689.76 462.917 Q1691.84 464.051 1694.06 464.606 Q1696.28 465.162 1698.76 465.162 Q1702.77 465.162 1705.1 463.055 Q1707.44 460.949 1707.44 457.338 Q1707.44 453.727 1705.1 451.62 Q1702.77 449.514 1698.76 449.514 Q1696.89 449.514 1695.01 449.931 Q1693.16 450.347 1691.21 451.227 L1691.21 433.866 Z\" fill=\"#000000\" fill-rule=\"evenodd\" fill-opacity=\"1\" /><path clip-path=\"url(#clip140)\" d=\"M1721.33 462.546 L1726.21 462.546 L1726.21 468.426 L1721.33 468.426 L1721.33 462.546 Z\" fill=\"#000000\" fill-rule=\"evenodd\" fill-opacity=\"1\" /><path clip-path=\"url(#clip140)\" d=\"M1746.4 436.944 Q1742.79 436.944 1740.96 440.509 Q1739.15 444.051 1739.15 451.181 Q1739.15 458.287 1740.96 461.852 Q1742.79 465.393 1746.4 465.393 Q1750.03 465.393 1751.84 461.852 Q1753.67 458.287 1753.67 451.181 Q1753.67 444.051 1751.84 440.509 Q1750.03 436.944 1746.4 436.944 M1746.4 433.241 Q1752.21 433.241 1755.26 437.847 Q1758.34 442.431 1758.34 451.181 Q1758.34 459.907 1755.26 464.514 Q1752.21 469.097 1746.4 469.097 Q1740.59 469.097 1737.51 464.514 Q1734.45 459.907 1734.45 451.181 Q1734.45 442.431 1737.51 437.847 Q1740.59 433.241 1746.4 433.241 Z\" fill=\"#000000\" fill-rule=\"evenodd\" fill-opacity=\"1\" /><path clip-path=\"url(#clip140)\" d=\"M1689.76 331.983 L1711.98 331.983 L1711.98 333.974 L1699.43 366.543 L1694.55 366.543 L1706.35 335.918 L1689.76 335.918 L1689.76 331.983 Z\" fill=\"#000000\" fill-rule=\"evenodd\" fill-opacity=\"1\" /><path clip-path=\"url(#clip140)\" d=\"M1721.1 360.664 L1725.98 360.664 L1725.98 366.543 L1721.1 366.543 L1721.1 360.664 Z\" fill=\"#000000\" fill-rule=\"evenodd\" fill-opacity=\"1\" /><path clip-path=\"url(#clip140)\" d=\"M1736.21 331.983 L1754.57 331.983 L1754.57 335.918 L1740.5 335.918 L1740.5 344.391 Q1741.51 344.043 1742.53 343.881 Q1743.55 343.696 1744.57 343.696 Q1750.36 343.696 1753.74 346.867 Q1757.12 350.039 1757.12 355.455 Q1757.12 361.034 1753.64 364.136 Q1750.17 367.214 1743.85 367.214 Q1741.68 367.214 1739.41 366.844 Q1737.16 366.474 1734.76 365.733 L1734.76 361.034 Q1736.84 362.168 1739.06 362.724 Q1741.28 363.279 1743.76 363.279 Q1747.76 363.279 1750.1 361.173 Q1752.44 359.066 1752.44 355.455 Q1752.44 351.844 1750.1 349.738 Q1747.76 347.631 1743.76 347.631 Q1741.89 347.631 1740.01 348.048 Q1738.16 348.465 1736.21 349.344 L1736.21 331.983 Z\" fill=\"#000000\" fill-rule=\"evenodd\" fill-opacity=\"1\" /><path clip-path=\"url(#clip140)\" d=\"M1690.43 260.725 L1698.07 260.725 L1698.07 234.36 L1689.76 236.026 L1689.76 231.767 L1698.02 230.101 L1702.7 230.101 L1702.7 260.725 L1710.33 260.725 L1710.33 264.661 L1690.43 264.661 L1690.43 260.725 Z\" fill=\"#000000\" fill-rule=\"evenodd\" fill-opacity=\"1\" /><path clip-path=\"url(#clip140)\" d=\"M1729.78 233.179 Q1726.17 233.179 1724.34 236.744 Q1722.53 240.286 1722.53 247.415 Q1722.53 254.522 1724.34 258.087 Q1726.17 261.628 1729.78 261.628 Q1733.41 261.628 1735.22 258.087 Q1737.05 254.522 1737.05 247.415 Q1737.05 240.286 1735.22 236.744 Q1733.41 233.179 1729.78 233.179 M1729.78 229.476 Q1735.59 229.476 1738.64 234.082 Q1741.72 238.665 1741.72 247.415 Q1741.72 256.142 1738.64 260.749 Q1735.59 265.332 1729.78 265.332 Q1723.97 265.332 1720.89 260.749 Q1717.83 256.142 1717.83 247.415 Q1717.83 238.665 1720.89 234.082 Q1723.97 229.476 1729.78 229.476 Z\" fill=\"#000000\" fill-rule=\"evenodd\" fill-opacity=\"1\" /><path clip-path=\"url(#clip140)\" d=\"M1749.94 258.781 L1754.83 258.781 L1754.83 264.661 L1749.94 264.661 L1749.94 258.781 Z\" fill=\"#000000\" fill-rule=\"evenodd\" fill-opacity=\"1\" /><path clip-path=\"url(#clip140)\" d=\"M1775.01 233.179 Q1771.4 233.179 1769.57 236.744 Q1767.76 240.286 1767.76 247.415 Q1767.76 254.522 1769.57 258.087 Q1771.4 261.628 1775.01 261.628 Q1778.64 261.628 1780.45 258.087 Q1782.28 254.522 1782.28 247.415 Q1782.28 240.286 1780.45 236.744 Q1778.64 233.179 1775.01 233.179 M1775.01 229.476 Q1780.82 229.476 1783.88 234.082 Q1786.95 238.665 1786.95 247.415 Q1786.95 256.142 1783.88 260.749 Q1780.82 265.332 1775.01 265.332 Q1769.2 265.332 1766.12 260.749 Q1763.07 256.142 1763.07 247.415 Q1763.07 238.665 1766.12 234.082 Q1769.2 229.476 1775.01 229.476 Z\" fill=\"#000000\" fill-rule=\"evenodd\" fill-opacity=\"1\" /><path clip-path=\"url(#clip140)\" d=\"M1690.43 158.843 L1698.07 158.843 L1698.07 132.477 L1689.76 134.144 L1689.76 129.885 L1698.02 128.218 L1702.7 128.218 L1702.7 158.843 L1710.33 158.843 L1710.33 162.778 L1690.43 162.778 L1690.43 158.843 Z\" fill=\"#000000\" fill-rule=\"evenodd\" fill-opacity=\"1\" /><path clip-path=\"url(#clip140)\" d=\"M1723.81 158.843 L1740.13 158.843 L1740.13 162.778 L1718.18 162.778 L1718.18 158.843 Q1720.84 156.088 1725.43 151.459 Q1730.03 146.806 1731.21 145.463 Q1733.46 142.94 1734.34 141.204 Q1735.24 139.445 1735.24 137.755 Q1735.24 135 1733.3 133.264 Q1731.38 131.528 1728.27 131.528 Q1726.08 131.528 1723.62 132.292 Q1721.19 133.056 1718.41 134.607 L1718.41 129.885 Q1721.24 128.75 1723.69 128.172 Q1726.14 127.593 1728.18 127.593 Q1733.55 127.593 1736.75 130.278 Q1739.94 132.963 1739.94 137.454 Q1739.94 139.584 1739.13 141.505 Q1738.34 143.403 1736.24 145.996 Q1735.66 146.667 1732.56 149.884 Q1729.45 153.079 1723.81 158.843 Z\" fill=\"#000000\" fill-rule=\"evenodd\" fill-opacity=\"1\" /><path clip-path=\"url(#clip140)\" d=\"M1749.94 156.898 L1754.83 156.898 L1754.83 162.778 L1749.94 162.778 L1749.94 156.898 Z\" fill=\"#000000\" fill-rule=\"evenodd\" fill-opacity=\"1\" /><path clip-path=\"url(#clip140)\" d=\"M1765.06 128.218 L1783.41 128.218 L1783.41 132.153 L1769.34 132.153 L1769.34 140.625 Q1770.36 140.278 1771.38 140.116 Q1772.39 139.931 1773.41 139.931 Q1779.2 139.931 1782.58 143.102 Q1785.96 146.273 1785.96 151.69 Q1785.96 157.269 1782.49 160.371 Q1779.01 163.449 1772.7 163.449 Q1770.52 163.449 1768.25 163.079 Q1766.01 162.708 1763.6 161.968 L1763.6 157.269 Q1765.68 158.403 1767.9 158.958 Q1770.13 159.514 1772.6 159.514 Q1776.61 159.514 1778.95 157.408 Q1781.28 155.301 1781.28 151.69 Q1781.28 148.079 1778.95 145.972 Q1776.61 143.866 1772.6 143.866 Q1770.73 143.866 1768.85 144.283 Q1767 144.699 1765.06 145.579 L1765.06 128.218 Z\" fill=\"#000000\" fill-rule=\"evenodd\" fill-opacity=\"1\" /><path clip-path=\"url(#clip140)\" d=\"M1690.43 56.9601 L1698.07 56.9601 L1698.07 30.5945 L1689.76 32.2612 L1689.76 28.002 L1698.02 26.3353 L1702.7 26.3353 L1702.7 56.9601 L1710.33 56.9601 L1710.33 60.8953 L1690.43 60.8953 L1690.43 56.9601 Z\" fill=\"#000000\" fill-rule=\"evenodd\" fill-opacity=\"1\" /><path clip-path=\"url(#clip140)\" d=\"M1719.83 26.3353 L1738.18 26.3353 L1738.18 30.2705 L1724.11 30.2705 L1724.11 38.7426 Q1725.13 38.3954 1726.14 38.2334 Q1727.16 38.0482 1728.18 38.0482 Q1733.97 38.0482 1737.35 41.2195 Q1740.73 44.3908 1740.73 49.8074 Q1740.73 55.3861 1737.26 58.4879 Q1733.78 61.5666 1727.46 61.5666 Q1725.29 61.5666 1723.02 61.1962 Q1720.77 60.8259 1718.37 60.0851 L1718.37 55.3861 Q1720.45 56.5203 1722.67 57.0759 Q1724.89 57.6314 1727.37 57.6314 Q1731.38 57.6314 1733.71 55.525 Q1736.05 53.4185 1736.05 49.8074 Q1736.05 46.1963 1733.71 44.0898 Q1731.38 41.9834 1727.37 41.9834 Q1725.5 41.9834 1723.62 42.4 Q1721.77 42.8167 1719.83 43.6963 L1719.83 26.3353 Z\" fill=\"#000000\" fill-rule=\"evenodd\" fill-opacity=\"1\" /><path clip-path=\"url(#clip140)\" d=\"M1749.94 55.0157 L1754.83 55.0157 L1754.83 60.8953 L1749.94 60.8953 L1749.94 55.0157 Z\" fill=\"#000000\" fill-rule=\"evenodd\" fill-opacity=\"1\" /><path clip-path=\"url(#clip140)\" d=\"M1775.01 29.414 Q1771.4 29.414 1769.57 32.9788 Q1767.76 36.5204 1767.76 43.65 Q1767.76 50.7565 1769.57 54.3213 Q1771.4 57.8629 1775.01 57.8629 Q1778.64 57.8629 1780.45 54.3213 Q1782.28 50.7565 1782.28 43.65 Q1782.28 36.5204 1780.45 32.9788 Q1778.64 29.414 1775.01 29.414 M1775.01 25.7103 Q1780.82 25.7103 1783.88 30.3168 Q1786.95 34.9001 1786.95 43.65 Q1786.95 52.3768 1783.88 56.9833 Q1780.82 61.5666 1775.01 61.5666 Q1769.2 61.5666 1766.12 56.9833 Q1763.07 52.3768 1763.07 43.65 Q1763.07 34.9001 1766.12 30.3168 Q1769.2 25.7103 1775.01 25.7103 Z\" fill=\"#000000\" fill-rule=\"evenodd\" fill-opacity=\"1\" /><polyline clip-path=\"url(#clip140)\" style=\"stroke:#000000; stroke-linecap:butt; stroke-linejoin:round; stroke-width:4; stroke-opacity:1; fill:none\" points=\"\n",
       "  1662.76,658.54 1662.76,658.54 1680.76,658.54 1662.76,658.54 1662.76,556.657 1680.76,556.657 1662.76,556.657 1662.76,454.775 1680.76,454.775 1662.76,454.775 \n",
       "  1662.76,352.892 1680.76,352.892 1662.76,352.892 1662.76,251.009 1680.76,251.009 1662.76,251.009 1662.76,149.127 1680.76,149.127 1662.76,149.127 1662.76,47.2441 \n",
       "  1680.76,47.2441 1662.76,47.2441 \n",
       "  \"/>\n",
       "</svg>\n"
      ]
     },
     "execution_count": 8,
     "metadata": {},
     "output_type": "execute_result"
    }
   ],
   "source": [
    "s_diff[1:1,12:20] .=0;\n",
    "p=heatmap([xLabels],[\"Wind\",\"Solar\"],[w_diff;s_diff],c=cgrad(:amp),size = (450,200),xlabel=\"Time\")\n",
    "p\n",
    "#savefig(p,\"og-wastage.svg\")"
   ]
  },
  {
   "cell_type": "code",
   "execution_count": 9,
   "metadata": {},
   "outputs": [
    {
     "data": {
      "image/svg+xml": [
       "<?xml version=\"1.0\" encoding=\"utf-8\"?>\n",
       "<svg xmlns=\"http://www.w3.org/2000/svg\" xmlns:xlink=\"http://www.w3.org/1999/xlink\" width=\"450\" height=\"250\" viewBox=\"0 0 1800 1000\">\n",
       "<defs>\n",
       "  <clipPath id=\"clip180\">\n",
       "    <rect x=\"0\" y=\"0\" width=\"1800\" height=\"1000\"/>\n",
       "  </clipPath>\n",
       "</defs>\n",
       "<path clip-path=\"url(#clip180)\" d=\"\n",
       "M0 1000 L1800 1000 L1800 0 L0 0  Z\n",
       "  \" fill=\"#ffffff\" fill-rule=\"evenodd\" fill-opacity=\"1\"/>\n",
       "<defs>\n",
       "  <clipPath id=\"clip181\">\n",
       "    <rect x=\"360\" y=\"0\" width=\"1261\" height=\"1000\"/>\n",
       "  </clipPath>\n",
       "</defs>\n",
       "<path clip-path=\"url(#clip180)\" d=\"\n",
       "M326.779 842.86 L1752.76 842.86 L1752.76 47.2441 L326.779 47.2441  Z\n",
       "  \" fill=\"#ffffff\" fill-rule=\"evenodd\" fill-opacity=\"1\"/>\n",
       "<defs>\n",
       "  <clipPath id=\"clip182\">\n",
       "    <rect x=\"326\" y=\"47\" width=\"1427\" height=\"797\"/>\n",
       "  </clipPath>\n",
       "</defs>\n",
       "<polyline clip-path=\"url(#clip182)\" style=\"stroke:#000000; stroke-linecap:butt; stroke-linejoin:round; stroke-width:2; stroke-opacity:0.1; fill:none\" points=\"\n",
       "  601.095,842.86 601.095,47.2441 \n",
       "  \"/>\n",
       "<polyline clip-path=\"url(#clip182)\" style=\"stroke:#000000; stroke-linecap:butt; stroke-linejoin:round; stroke-width:2; stroke-opacity:0.1; fill:none\" points=\"\n",
       "  893.543,842.86 893.543,47.2441 \n",
       "  \"/>\n",
       "<polyline clip-path=\"url(#clip182)\" style=\"stroke:#000000; stroke-linecap:butt; stroke-linejoin:round; stroke-width:2; stroke-opacity:0.1; fill:none\" points=\"\n",
       "  1185.99,842.86 1185.99,47.2441 \n",
       "  \"/>\n",
       "<polyline clip-path=\"url(#clip182)\" style=\"stroke:#000000; stroke-linecap:butt; stroke-linejoin:round; stroke-width:2; stroke-opacity:0.1; fill:none\" points=\"\n",
       "  1478.44,842.86 1478.44,47.2441 \n",
       "  \"/>\n",
       "<polyline clip-path=\"url(#clip180)\" style=\"stroke:#000000; stroke-linecap:butt; stroke-linejoin:round; stroke-width:4; stroke-opacity:1; fill:none\" points=\"\n",
       "  326.779,842.86 1752.76,842.86 \n",
       "  \"/>\n",
       "<polyline clip-path=\"url(#clip180)\" style=\"stroke:#000000; stroke-linecap:butt; stroke-linejoin:round; stroke-width:4; stroke-opacity:1; fill:none\" points=\"\n",
       "  601.095,842.86 601.095,823.962 \n",
       "  \"/>\n",
       "<polyline clip-path=\"url(#clip180)\" style=\"stroke:#000000; stroke-linecap:butt; stroke-linejoin:round; stroke-width:4; stroke-opacity:1; fill:none\" points=\"\n",
       "  893.543,842.86 893.543,823.962 \n",
       "  \"/>\n",
       "<polyline clip-path=\"url(#clip180)\" style=\"stroke:#000000; stroke-linecap:butt; stroke-linejoin:round; stroke-width:4; stroke-opacity:1; fill:none\" points=\"\n",
       "  1185.99,842.86 1185.99,823.962 \n",
       "  \"/>\n",
       "<polyline clip-path=\"url(#clip180)\" style=\"stroke:#000000; stroke-linecap:butt; stroke-linejoin:round; stroke-width:4; stroke-opacity:1; fill:none\" points=\"\n",
       "  1478.44,842.86 1478.44,823.962 \n",
       "  \"/>\n",
       "<path clip-path=\"url(#clip180)\" d=\"M591.373 865.9 L609.729 865.9 L609.729 869.835 L595.655 869.835 L595.655 878.307 Q596.674 877.96 597.693 877.798 Q598.711 877.613 599.73 877.613 Q605.517 877.613 608.896 880.784 Q612.276 883.955 612.276 889.372 Q612.276 894.951 608.804 898.052 Q605.331 901.131 599.012 901.131 Q596.836 901.131 594.568 900.761 Q592.322 900.39 589.915 899.65 L589.915 894.951 Q591.998 896.085 594.22 896.64 Q596.443 897.196 598.919 897.196 Q602.924 897.196 605.262 895.09 Q607.6 892.983 607.6 889.372 Q607.6 885.761 605.262 883.654 Q602.924 881.548 598.919 881.548 Q597.044 881.548 595.169 881.965 Q593.318 882.381 591.373 883.261 L591.373 865.9 Z\" fill=\"#000000\" fill-rule=\"evenodd\" fill-opacity=\"1\" /><path clip-path=\"url(#clip180)\" d=\"M868.231 896.525 L875.87 896.525 L875.87 870.159 L867.56 871.826 L867.56 867.567 L875.824 865.9 L880.499 865.9 L880.499 896.525 L888.138 896.525 L888.138 900.46 L868.231 900.46 L868.231 896.525 Z\" fill=\"#000000\" fill-rule=\"evenodd\" fill-opacity=\"1\" /><path clip-path=\"url(#clip180)\" d=\"M907.583 868.979 Q903.972 868.979 902.143 872.543 Q900.337 876.085 900.337 883.215 Q900.337 890.321 902.143 893.886 Q903.972 897.427 907.583 897.427 Q911.217 897.427 913.022 893.886 Q914.851 890.321 914.851 883.215 Q914.851 876.085 913.022 872.543 Q911.217 868.979 907.583 868.979 M907.583 865.275 Q913.393 865.275 916.448 869.881 Q919.527 874.465 919.527 883.215 Q919.527 891.941 916.448 896.548 Q913.393 901.131 907.583 901.131 Q901.772 901.131 898.694 896.548 Q895.638 891.941 895.638 883.215 Q895.638 874.465 898.694 869.881 Q901.772 865.275 907.583 865.275 Z\" fill=\"#000000\" fill-rule=\"evenodd\" fill-opacity=\"1\" /><path clip-path=\"url(#clip180)\" d=\"M1161.18 896.525 L1168.82 896.525 L1168.82 870.159 L1160.51 871.826 L1160.51 867.567 L1168.77 865.9 L1173.45 865.9 L1173.45 896.525 L1181.08 896.525 L1181.08 900.46 L1161.18 900.46 L1161.18 896.525 Z\" fill=\"#000000\" fill-rule=\"evenodd\" fill-opacity=\"1\" /><path clip-path=\"url(#clip180)\" d=\"M1190.57 865.9 L1208.93 865.9 L1208.93 869.835 L1194.86 869.835 L1194.86 878.307 Q1195.88 877.96 1196.89 877.798 Q1197.91 877.613 1198.93 877.613 Q1204.72 877.613 1208.1 880.784 Q1211.48 883.955 1211.48 889.372 Q1211.48 894.951 1208.01 898.052 Q1204.53 901.131 1198.21 901.131 Q1196.04 901.131 1193.77 900.761 Q1191.52 900.39 1189.12 899.65 L1189.12 894.951 Q1191.2 896.085 1193.42 896.64 Q1195.64 897.196 1198.12 897.196 Q1202.13 897.196 1204.46 895.09 Q1206.8 892.983 1206.8 889.372 Q1206.8 885.761 1204.46 883.654 Q1202.13 881.548 1198.12 881.548 Q1196.25 881.548 1194.37 881.965 Q1192.52 882.381 1190.57 883.261 L1190.57 865.9 Z\" fill=\"#000000\" fill-rule=\"evenodd\" fill-opacity=\"1\" /><path clip-path=\"url(#clip180)\" d=\"M1457.21 896.525 L1473.53 896.525 L1473.53 900.46 L1451.59 900.46 L1451.59 896.525 Q1454.25 893.77 1458.83 889.14 Q1463.44 884.488 1464.62 883.145 Q1466.87 880.622 1467.75 878.886 Q1468.65 877.127 1468.65 875.437 Q1468.65 872.682 1466.7 870.946 Q1464.78 869.21 1461.68 869.21 Q1459.48 869.21 1457.03 869.974 Q1454.6 870.738 1451.82 872.289 L1451.82 867.567 Q1454.64 866.432 1457.1 865.854 Q1459.55 865.275 1461.59 865.275 Q1466.96 865.275 1470.15 867.96 Q1473.35 870.645 1473.35 875.136 Q1473.35 877.266 1472.54 879.187 Q1471.75 881.085 1469.64 883.678 Q1469.06 884.349 1465.96 887.566 Q1462.86 890.761 1457.21 896.525 Z\" fill=\"#000000\" fill-rule=\"evenodd\" fill-opacity=\"1\" /><path clip-path=\"url(#clip180)\" d=\"M1493.35 868.979 Q1489.74 868.979 1487.91 872.543 Q1486.1 876.085 1486.1 883.215 Q1486.1 890.321 1487.91 893.886 Q1489.74 897.427 1493.35 897.427 Q1496.98 897.427 1498.79 893.886 Q1500.62 890.321 1500.62 883.215 Q1500.62 876.085 1498.79 872.543 Q1496.98 868.979 1493.35 868.979 M1493.35 865.275 Q1499.16 865.275 1502.21 869.881 Q1505.29 874.465 1505.29 883.215 Q1505.29 891.941 1502.21 896.548 Q1499.16 901.131 1493.35 901.131 Q1487.54 901.131 1484.46 896.548 Q1481.4 891.941 1481.4 883.215 Q1481.4 874.465 1484.46 869.881 Q1487.54 865.275 1493.35 865.275 Z\" fill=\"#000000\" fill-rule=\"evenodd\" fill-opacity=\"1\" /><path clip-path=\"url(#clip180)\" d=\"M961.644 931.204 L1001.84 931.204 L1001.84 936.615 L984.975 936.615 L984.975 978.724 L978.513 978.724 L978.513 936.615 L961.644 936.615 L961.644 931.204 Z\" fill=\"#000000\" fill-rule=\"evenodd\" fill-opacity=\"1\" /><path clip-path=\"url(#clip180)\" d=\"M1005.79 943.076 L1011.65 943.076 L1011.65 978.724 L1005.79 978.724 L1005.79 943.076 M1005.79 929.199 L1011.65 929.199 L1011.65 936.615 L1005.79 936.615 L1005.79 929.199 Z\" fill=\"#000000\" fill-rule=\"evenodd\" fill-opacity=\"1\" /><path clip-path=\"url(#clip180)\" d=\"M1051.66 949.919 Q1053.85 945.972 1056.91 944.094 Q1059.96 942.217 1064.1 942.217 Q1069.67 942.217 1072.69 946.131 Q1075.72 950.015 1075.72 957.208 L1075.72 978.724 L1069.83 978.724 L1069.83 957.399 Q1069.83 952.274 1068.02 949.792 Q1066.2 947.309 1062.48 947.309 Q1057.93 947.309 1055.28 950.333 Q1052.64 953.357 1052.64 958.576 L1052.64 978.724 L1046.75 978.724 L1046.75 957.399 Q1046.75 952.243 1044.94 949.792 Q1043.13 947.309 1039.34 947.309 Q1034.85 947.309 1032.21 950.365 Q1029.57 953.388 1029.57 958.576 L1029.57 978.724 L1023.68 978.724 L1023.68 943.076 L1029.57 943.076 L1029.57 948.614 Q1031.57 945.336 1034.37 943.776 Q1037.17 942.217 1041.02 942.217 Q1044.91 942.217 1047.61 944.19 Q1050.35 946.163 1051.66 949.919 Z\" fill=\"#000000\" fill-rule=\"evenodd\" fill-opacity=\"1\" /><path clip-path=\"url(#clip180)\" d=\"M1117.89 959.436 L1117.89 962.3 L1090.96 962.3 Q1091.35 968.348 1094.59 971.531 Q1097.87 974.682 1103.7 974.682 Q1107.07 974.682 1110.22 973.854 Q1113.4 973.027 1116.52 971.371 L1116.52 976.91 Q1113.37 978.246 1110.06 978.947 Q1106.75 979.647 1103.34 979.647 Q1094.81 979.647 1089.82 974.682 Q1084.85 969.716 1084.85 961.25 Q1084.85 952.497 1089.56 947.373 Q1094.31 942.217 1102.33 942.217 Q1109.52 942.217 1113.69 946.863 Q1117.89 951.479 1117.89 959.436 M1112.03 957.717 Q1111.97 952.911 1109.33 950.046 Q1106.72 947.182 1102.39 947.182 Q1097.49 947.182 1094.53 949.951 Q1091.6 952.72 1091.15 957.749 L1112.03 957.717 Z\" fill=\"#000000\" fill-rule=\"evenodd\" fill-opacity=\"1\" /><polyline clip-path=\"url(#clip182)\" style=\"stroke:#000000; stroke-linecap:butt; stroke-linejoin:round; stroke-width:2; stroke-opacity:0.1; fill:none\" points=\"\n",
       "  326.779,830.516 1752.76,830.516 \n",
       "  \"/>\n",
       "<polyline clip-path=\"url(#clip182)\" style=\"stroke:#000000; stroke-linecap:butt; stroke-linejoin:round; stroke-width:2; stroke-opacity:0.1; fill:none\" points=\"\n",
       "  326.779,651.216 1752.76,651.216 \n",
       "  \"/>\n",
       "<polyline clip-path=\"url(#clip182)\" style=\"stroke:#000000; stroke-linecap:butt; stroke-linejoin:round; stroke-width:2; stroke-opacity:0.1; fill:none\" points=\"\n",
       "  326.779,471.915 1752.76,471.915 \n",
       "  \"/>\n",
       "<polyline clip-path=\"url(#clip182)\" style=\"stroke:#000000; stroke-linecap:butt; stroke-linejoin:round; stroke-width:2; stroke-opacity:0.1; fill:none\" points=\"\n",
       "  326.779,292.615 1752.76,292.615 \n",
       "  \"/>\n",
       "<polyline clip-path=\"url(#clip182)\" style=\"stroke:#000000; stroke-linecap:butt; stroke-linejoin:round; stroke-width:2; stroke-opacity:0.1; fill:none\" points=\"\n",
       "  326.779,113.315 1752.76,113.315 \n",
       "  \"/>\n",
       "<polyline clip-path=\"url(#clip180)\" style=\"stroke:#000000; stroke-linecap:butt; stroke-linejoin:round; stroke-width:4; stroke-opacity:1; fill:none\" points=\"\n",
       "  326.779,842.86 326.779,47.2441 \n",
       "  \"/>\n",
       "<polyline clip-path=\"url(#clip180)\" style=\"stroke:#000000; stroke-linecap:butt; stroke-linejoin:round; stroke-width:4; stroke-opacity:1; fill:none\" points=\"\n",
       "  326.779,830.516 345.677,830.516 \n",
       "  \"/>\n",
       "<polyline clip-path=\"url(#clip180)\" style=\"stroke:#000000; stroke-linecap:butt; stroke-linejoin:round; stroke-width:4; stroke-opacity:1; fill:none\" points=\"\n",
       "  326.779,651.216 345.677,651.216 \n",
       "  \"/>\n",
       "<polyline clip-path=\"url(#clip180)\" style=\"stroke:#000000; stroke-linecap:butt; stroke-linejoin:round; stroke-width:4; stroke-opacity:1; fill:none\" points=\"\n",
       "  326.779,471.915 345.677,471.915 \n",
       "  \"/>\n",
       "<polyline clip-path=\"url(#clip180)\" style=\"stroke:#000000; stroke-linecap:butt; stroke-linejoin:round; stroke-width:4; stroke-opacity:1; fill:none\" points=\"\n",
       "  326.779,292.615 345.677,292.615 \n",
       "  \"/>\n",
       "<polyline clip-path=\"url(#clip180)\" style=\"stroke:#000000; stroke-linecap:butt; stroke-linejoin:round; stroke-width:4; stroke-opacity:1; fill:none\" points=\"\n",
       "  326.779,113.315 345.677,113.315 \n",
       "  \"/>\n",
       "<path clip-path=\"url(#clip180)\" d=\"M287.835 816.315 Q284.223 816.315 282.395 819.879 Q280.589 823.421 280.589 830.551 Q280.589 837.657 282.395 841.222 Q284.223 844.764 287.835 844.764 Q291.469 844.764 293.274 841.222 Q295.103 837.657 295.103 830.551 Q295.103 823.421 293.274 819.879 Q291.469 816.315 287.835 816.315 M287.835 812.611 Q293.645 812.611 296.7 817.217 Q299.779 821.801 299.779 830.551 Q299.779 839.277 296.7 843.884 Q293.645 848.467 287.835 848.467 Q282.024 848.467 278.946 843.884 Q275.89 839.277 275.89 830.551 Q275.89 821.801 278.946 817.217 Q282.024 812.611 287.835 812.611 Z\" fill=\"#000000\" fill-rule=\"evenodd\" fill-opacity=\"1\" /><path clip-path=\"url(#clip180)\" d=\"M112.905 671.008 L120.544 671.008 L120.544 644.643 L112.234 646.309 L112.234 642.05 L120.498 640.383 L125.173 640.383 L125.173 671.008 L132.812 671.008 L132.812 674.943 L112.905 674.943 L112.905 671.008 Z\" fill=\"#000000\" fill-rule=\"evenodd\" fill-opacity=\"1\" /><path clip-path=\"url(#clip180)\" d=\"M142.257 669.064 L147.141 669.064 L147.141 674.943 L142.257 674.943 L142.257 669.064 Z\" fill=\"#000000\" fill-rule=\"evenodd\" fill-opacity=\"1\" /><path clip-path=\"url(#clip180)\" d=\"M167.326 643.462 Q163.715 643.462 161.886 647.027 Q160.081 650.568 160.081 657.698 Q160.081 664.804 161.886 668.369 Q163.715 671.911 167.326 671.911 Q170.96 671.911 172.766 668.369 Q174.594 664.804 174.594 657.698 Q174.594 650.568 172.766 647.027 Q170.96 643.462 167.326 643.462 M167.326 639.758 Q173.136 639.758 176.192 644.365 Q179.27 648.948 179.27 657.698 Q179.27 666.425 176.192 671.031 Q173.136 675.615 167.326 675.615 Q161.516 675.615 158.437 671.031 Q155.382 666.425 155.382 657.698 Q155.382 648.948 158.437 644.365 Q161.516 639.758 167.326 639.758 Z\" fill=\"#000000\" fill-rule=\"evenodd\" fill-opacity=\"1\" /><path clip-path=\"url(#clip180)\" d=\"M215.659 649.48 L205.08 660.105 L215.659 670.684 L212.904 673.485 L202.279 662.86 L191.655 673.485 L188.923 670.684 L199.479 660.105 L188.923 649.48 L191.655 646.68 L202.279 657.304 L212.904 646.68 L215.659 649.48 Z\" fill=\"#000000\" fill-rule=\"evenodd\" fill-opacity=\"1\" /><path clip-path=\"url(#clip180)\" d=\"M228.02 671.008 L235.659 671.008 L235.659 644.643 L227.349 646.309 L227.349 642.05 L235.613 640.383 L240.289 640.383 L240.289 671.008 L247.927 671.008 L247.927 674.943 L228.02 674.943 L228.02 671.008 Z\" fill=\"#000000\" fill-rule=\"evenodd\" fill-opacity=\"1\" /><path clip-path=\"url(#clip180)\" d=\"M267.372 643.462 Q263.761 643.462 261.932 647.027 Q260.126 650.568 260.126 657.698 Q260.126 664.804 261.932 668.369 Q263.761 671.911 267.372 671.911 Q271.006 671.911 272.812 668.369 Q274.64 664.804 274.64 657.698 Q274.64 650.568 272.812 647.027 Q271.006 643.462 267.372 643.462 M267.372 639.758 Q273.182 639.758 276.237 644.365 Q279.316 648.948 279.316 657.698 Q279.316 666.425 276.237 671.031 Q273.182 675.615 267.372 675.615 Q261.562 675.615 258.483 671.031 Q255.427 666.425 255.427 657.698 Q255.427 648.948 258.483 644.365 Q261.562 639.758 267.372 639.758 Z\" fill=\"#000000\" fill-rule=\"evenodd\" fill-opacity=\"1\" /><path clip-path=\"url(#clip180)\" d=\"M291.993 622.763 L282.401 637.753 L291.993 637.753 L291.993 622.763 M290.996 619.453 L295.773 619.453 L295.773 637.753 L299.779 637.753 L299.779 640.913 L295.773 640.913 L295.773 647.533 L291.993 647.533 L291.993 640.913 L279.316 640.913 L279.316 637.245 L290.996 619.453 Z\" fill=\"#000000\" fill-rule=\"evenodd\" fill-opacity=\"1\" /><path clip-path=\"url(#clip180)\" d=\"M116.123 491.708 L132.442 491.708 L132.442 495.643 L110.498 495.643 L110.498 491.708 Q113.16 488.953 117.743 484.324 Q122.349 479.671 123.53 478.328 Q125.775 475.805 126.655 474.069 Q127.558 472.31 127.558 470.62 Q127.558 467.865 125.613 466.129 Q123.692 464.393 120.59 464.393 Q118.391 464.393 115.937 465.157 Q113.507 465.921 110.729 467.472 L110.729 462.75 Q113.553 461.615 116.007 461.037 Q118.46 460.458 120.498 460.458 Q125.868 460.458 129.062 463.143 Q132.257 465.828 132.257 470.319 Q132.257 472.449 131.447 474.37 Q130.659 476.268 128.553 478.861 Q127.974 479.532 124.872 482.75 Q121.771 485.944 116.123 491.708 Z\" fill=\"#000000\" fill-rule=\"evenodd\" fill-opacity=\"1\" /><path clip-path=\"url(#clip180)\" d=\"M142.257 489.763 L147.141 489.763 L147.141 495.643 L142.257 495.643 L142.257 489.763 Z\" fill=\"#000000\" fill-rule=\"evenodd\" fill-opacity=\"1\" /><path clip-path=\"url(#clip180)\" d=\"M167.326 464.162 Q163.715 464.162 161.886 467.727 Q160.081 471.268 160.081 478.398 Q160.081 485.504 161.886 489.069 Q163.715 492.611 167.326 492.611 Q170.96 492.611 172.766 489.069 Q174.594 485.504 174.594 478.398 Q174.594 471.268 172.766 467.727 Q170.96 464.162 167.326 464.162 M167.326 460.458 Q173.136 460.458 176.192 465.065 Q179.27 469.648 179.27 478.398 Q179.27 487.125 176.192 491.731 Q173.136 496.314 167.326 496.314 Q161.516 496.314 158.437 491.731 Q155.382 487.125 155.382 478.398 Q155.382 469.648 158.437 465.065 Q161.516 460.458 167.326 460.458 Z\" fill=\"#000000\" fill-rule=\"evenodd\" fill-opacity=\"1\" /><path clip-path=\"url(#clip180)\" d=\"M215.659 470.18 L205.08 480.805 L215.659 491.384 L212.904 494.185 L202.279 483.56 L191.655 494.185 L188.923 491.384 L199.479 480.805 L188.923 470.18 L191.655 467.379 L202.279 478.004 L212.904 467.379 L215.659 470.18 Z\" fill=\"#000000\" fill-rule=\"evenodd\" fill-opacity=\"1\" /><path clip-path=\"url(#clip180)\" d=\"M228.02 491.708 L235.659 491.708 L235.659 465.342 L227.349 467.009 L227.349 462.75 L235.613 461.083 L240.289 461.083 L240.289 491.708 L247.927 491.708 L247.927 495.643 L228.02 495.643 L228.02 491.708 Z\" fill=\"#000000\" fill-rule=\"evenodd\" fill-opacity=\"1\" /><path clip-path=\"url(#clip180)\" d=\"M267.372 464.162 Q263.761 464.162 261.932 467.727 Q260.126 471.268 260.126 478.398 Q260.126 485.504 261.932 489.069 Q263.761 492.611 267.372 492.611 Q271.006 492.611 272.812 489.069 Q274.64 485.504 274.64 478.398 Q274.64 471.268 272.812 467.727 Q271.006 464.162 267.372 464.162 M267.372 460.458 Q273.182 460.458 276.237 465.065 Q279.316 469.648 279.316 478.398 Q279.316 487.125 276.237 491.731 Q273.182 496.314 267.372 496.314 Q261.562 496.314 258.483 491.731 Q255.427 487.125 255.427 478.398 Q255.427 469.648 258.483 465.065 Q261.562 460.458 267.372 460.458 Z\" fill=\"#000000\" fill-rule=\"evenodd\" fill-opacity=\"1\" /><path clip-path=\"url(#clip180)\" d=\"M291.993 443.463 L282.401 458.453 L291.993 458.453 L291.993 443.463 M290.996 440.153 L295.773 440.153 L295.773 458.453 L299.779 458.453 L299.779 461.612 L295.773 461.612 L295.773 468.233 L291.993 468.233 L291.993 461.612 L279.316 461.612 L279.316 457.945 L290.996 440.153 Z\" fill=\"#000000\" fill-rule=\"evenodd\" fill-opacity=\"1\" /><path clip-path=\"url(#clip180)\" d=\"M126.261 297.709 Q129.618 298.426 131.493 300.695 Q133.391 302.963 133.391 306.297 Q133.391 311.412 129.872 314.213 Q126.354 317.014 119.873 317.014 Q117.697 317.014 115.382 316.574 Q113.09 316.158 110.636 315.301 L110.636 310.787 Q112.581 311.922 114.896 312.5 Q117.21 313.079 119.734 313.079 Q124.132 313.079 126.423 311.343 Q128.738 309.607 128.738 306.297 Q128.738 303.241 126.585 301.528 Q124.456 299.792 120.636 299.792 L116.609 299.792 L116.609 295.949 L120.822 295.949 Q124.271 295.949 126.099 294.584 Q127.928 293.195 127.928 290.602 Q127.928 287.94 126.03 286.528 Q124.155 285.093 120.636 285.093 Q118.715 285.093 116.516 285.51 Q114.317 285.926 111.678 286.806 L111.678 282.639 Q114.34 281.899 116.655 281.528 Q118.993 281.158 121.053 281.158 Q126.377 281.158 129.479 283.588 Q132.581 285.996 132.581 290.116 Q132.581 292.986 130.937 294.977 Q129.294 296.945 126.261 297.709 Z\" fill=\"#000000\" fill-rule=\"evenodd\" fill-opacity=\"1\" /><path clip-path=\"url(#clip180)\" d=\"M142.257 310.463 L147.141 310.463 L147.141 316.343 L142.257 316.343 L142.257 310.463 Z\" fill=\"#000000\" fill-rule=\"evenodd\" fill-opacity=\"1\" /><path clip-path=\"url(#clip180)\" d=\"M167.326 284.862 Q163.715 284.862 161.886 288.426 Q160.081 291.968 160.081 299.098 Q160.081 306.204 161.886 309.769 Q163.715 313.31 167.326 313.31 Q170.96 313.31 172.766 309.769 Q174.594 306.204 174.594 299.098 Q174.594 291.968 172.766 288.426 Q170.96 284.862 167.326 284.862 M167.326 281.158 Q173.136 281.158 176.192 285.764 Q179.27 290.348 179.27 299.098 Q179.27 307.824 176.192 312.431 Q173.136 317.014 167.326 317.014 Q161.516 317.014 158.437 312.431 Q155.382 307.824 155.382 299.098 Q155.382 290.348 158.437 285.764 Q161.516 281.158 167.326 281.158 Z\" fill=\"#000000\" fill-rule=\"evenodd\" fill-opacity=\"1\" /><path clip-path=\"url(#clip180)\" d=\"M215.659 290.88 L205.08 301.505 L215.659 312.084 L212.904 314.885 L202.279 304.26 L191.655 314.885 L188.923 312.084 L199.479 301.505 L188.923 290.88 L191.655 288.079 L202.279 298.704 L212.904 288.079 L215.659 290.88 Z\" fill=\"#000000\" fill-rule=\"evenodd\" fill-opacity=\"1\" /><path clip-path=\"url(#clip180)\" d=\"M228.02 312.408 L235.659 312.408 L235.659 286.042 L227.349 287.709 L227.349 283.45 L235.613 281.783 L240.289 281.783 L240.289 312.408 L247.927 312.408 L247.927 316.343 L228.02 316.343 L228.02 312.408 Z\" fill=\"#000000\" fill-rule=\"evenodd\" fill-opacity=\"1\" /><path clip-path=\"url(#clip180)\" d=\"M267.372 284.862 Q263.761 284.862 261.932 288.426 Q260.126 291.968 260.126 299.098 Q260.126 306.204 261.932 309.769 Q263.761 313.31 267.372 313.31 Q271.006 313.31 272.812 309.769 Q274.64 306.204 274.64 299.098 Q274.64 291.968 272.812 288.426 Q271.006 284.862 267.372 284.862 M267.372 281.158 Q273.182 281.158 276.237 285.764 Q279.316 290.348 279.316 299.098 Q279.316 307.824 276.237 312.431 Q273.182 317.014 267.372 317.014 Q261.562 317.014 258.483 312.431 Q255.427 307.824 255.427 299.098 Q255.427 290.348 258.483 285.764 Q261.562 281.158 267.372 281.158 Z\" fill=\"#000000\" fill-rule=\"evenodd\" fill-opacity=\"1\" /><path clip-path=\"url(#clip180)\" d=\"M291.993 264.163 L282.401 279.152 L291.993 279.152 L291.993 264.163 M290.996 260.852 L295.773 260.852 L295.773 279.152 L299.779 279.152 L299.779 282.312 L295.773 282.312 L295.773 288.932 L291.993 288.932 L291.993 282.312 L279.316 282.312 L279.316 278.645 L290.996 260.852 Z\" fill=\"#000000\" fill-rule=\"evenodd\" fill-opacity=\"1\" /><path clip-path=\"url(#clip180)\" d=\"M124.942 106.557 L113.136 125.006 L124.942 125.006 L124.942 106.557 M123.715 102.483 L129.595 102.483 L129.595 125.006 L134.525 125.006 L134.525 128.895 L129.595 128.895 L129.595 137.043 L124.942 137.043 L124.942 128.895 L109.34 128.895 L109.34 124.381 L123.715 102.483 Z\" fill=\"#000000\" fill-rule=\"evenodd\" fill-opacity=\"1\" /><path clip-path=\"url(#clip180)\" d=\"M142.257 131.163 L147.141 131.163 L147.141 137.043 L142.257 137.043 L142.257 131.163 Z\" fill=\"#000000\" fill-rule=\"evenodd\" fill-opacity=\"1\" /><path clip-path=\"url(#clip180)\" d=\"M167.326 105.561 Q163.715 105.561 161.886 109.126 Q160.081 112.668 160.081 119.797 Q160.081 126.904 161.886 130.469 Q163.715 134.01 167.326 134.01 Q170.96 134.01 172.766 130.469 Q174.594 126.904 174.594 119.797 Q174.594 112.668 172.766 109.126 Q170.96 105.561 167.326 105.561 M167.326 101.858 Q173.136 101.858 176.192 106.464 Q179.27 111.047 179.27 119.797 Q179.27 128.524 176.192 133.131 Q173.136 137.714 167.326 137.714 Q161.516 137.714 158.437 133.131 Q155.382 128.524 155.382 119.797 Q155.382 111.047 158.437 106.464 Q161.516 101.858 167.326 101.858 Z\" fill=\"#000000\" fill-rule=\"evenodd\" fill-opacity=\"1\" /><path clip-path=\"url(#clip180)\" d=\"M215.659 111.58 L205.08 122.205 L215.659 132.783 L212.904 135.584 L202.279 124.959 L191.655 135.584 L188.923 132.783 L199.479 122.205 L188.923 111.58 L191.655 108.779 L202.279 119.404 L212.904 108.779 L215.659 111.58 Z\" fill=\"#000000\" fill-rule=\"evenodd\" fill-opacity=\"1\" /><path clip-path=\"url(#clip180)\" d=\"M228.02 133.107 L235.659 133.107 L235.659 106.742 L227.349 108.409 L227.349 104.149 L235.613 102.483 L240.289 102.483 L240.289 133.107 L247.927 133.107 L247.927 137.043 L228.02 137.043 L228.02 133.107 Z\" fill=\"#000000\" fill-rule=\"evenodd\" fill-opacity=\"1\" /><path clip-path=\"url(#clip180)\" d=\"M267.372 105.561 Q263.761 105.561 261.932 109.126 Q260.126 112.668 260.126 119.797 Q260.126 126.904 261.932 130.469 Q263.761 134.01 267.372 134.01 Q271.006 134.01 272.812 130.469 Q274.64 126.904 274.64 119.797 Q274.64 112.668 272.812 109.126 Q271.006 105.561 267.372 105.561 M267.372 101.858 Q273.182 101.858 276.237 106.464 Q279.316 111.047 279.316 119.797 Q279.316 128.524 276.237 133.131 Q273.182 137.714 267.372 137.714 Q261.562 137.714 258.483 133.131 Q255.427 128.524 255.427 119.797 Q255.427 111.047 258.483 106.464 Q261.562 101.858 267.372 101.858 Z\" fill=\"#000000\" fill-rule=\"evenodd\" fill-opacity=\"1\" /><path clip-path=\"url(#clip180)\" d=\"M291.993 84.8624 L282.401 99.8522 L291.993 99.8522 L291.993 84.8624 M290.996 81.5522 L295.773 81.5522 L295.773 99.8522 L299.779 99.8522 L299.779 103.012 L295.773 103.012 L295.773 109.632 L291.993 109.632 L291.993 103.012 L279.316 103.012 L279.316 99.3444 L290.996 81.5522 Z\" fill=\"#000000\" fill-rule=\"evenodd\" fill-opacity=\"1\" /><path clip-path=\"url(#clip180)\" d=\"M24.2244 476.578 L31.0039 476.578 Q27.9802 479.825 26.4843 483.517 Q24.9883 487.177 24.9883 491.315 Q24.9883 499.463 29.9854 503.792 Q34.9507 508.12 44.3719 508.12 Q53.7613 508.12 58.7584 503.792 Q63.7236 499.463 63.7236 491.315 Q63.7236 487.177 62.2277 483.517 Q60.7318 479.825 57.7081 476.578 L64.4239 476.578 Q66.7155 479.952 67.8614 483.74 Q69.0072 487.495 69.0072 491.697 Q69.0072 502.487 62.4187 508.693 Q55.7983 514.9 44.3719 514.9 Q32.9136 514.9 26.3251 508.693 Q19.7048 502.487 19.7048 491.697 Q19.7048 487.432 20.8506 483.676 Q21.9646 479.888 24.2244 476.578 Z\" fill=\"#000000\" fill-rule=\"evenodd\" fill-opacity=\"1\" /><path clip-path=\"url(#clip180)\" d=\"M36.5421 453.089 Q36.5421 457.799 40.2342 460.537 Q43.8945 463.274 50.292 463.274 Q56.6895 463.274 60.3817 460.568 Q64.0419 457.831 64.0419 453.089 Q64.0419 448.41 60.3498 445.673 Q56.6577 442.935 50.292 442.935 Q43.9581 442.935 40.266 445.673 Q36.5421 448.41 36.5421 453.089 M31.5768 453.089 Q31.5768 445.45 36.5421 441.089 Q41.5073 436.729 50.292 436.729 Q59.0449 436.729 64.0419 441.089 Q69.0072 445.45 69.0072 453.089 Q69.0072 460.759 64.0419 465.12 Q59.0449 469.449 50.292 469.449 Q41.5073 469.449 36.5421 465.12 Q31.5768 460.759 31.5768 453.089 Z\" fill=\"#000000\" fill-rule=\"evenodd\" fill-opacity=\"1\" /><path clip-path=\"url(#clip180)\" d=\"M33.4865 404.296 L39.0247 404.296 Q37.7516 406.778 37.115 409.452 Q36.4784 412.125 36.4784 414.99 Q36.4784 419.35 37.8152 421.547 Q39.152 423.711 41.8256 423.711 Q43.8626 423.711 45.0403 422.151 Q46.1861 420.592 47.2365 415.881 L47.6821 413.876 Q49.0189 407.638 51.4697 405.028 Q53.8886 402.386 58.2491 402.386 Q63.2144 402.386 66.1108 406.333 Q69.0072 410.247 69.0072 417.122 Q69.0072 419.987 68.4343 423.106 Q67.8932 426.194 66.7792 429.631 L60.7318 429.631 Q62.4187 426.385 63.278 423.234 Q64.1056 420.082 64.1056 416.995 Q64.1056 412.857 62.7051 410.629 Q61.2729 408.401 58.6947 408.401 Q56.3076 408.401 55.0345 410.025 Q53.7613 411.616 52.5837 417.059 L52.1062 419.096 Q50.9604 424.538 48.6051 426.957 Q46.218 429.376 42.0802 429.376 Q37.0513 429.376 34.3141 425.812 Q31.5768 422.247 31.5768 415.69 Q31.5768 412.444 32.0543 409.579 Q32.5317 406.715 33.4865 404.296 Z\" fill=\"#000000\" fill-rule=\"evenodd\" fill-opacity=\"1\" /><path clip-path=\"url(#clip180)\" d=\"M22.3147 387.267 L32.4362 387.267 L32.4362 375.204 L36.9877 375.204 L36.9877 387.267 L56.3394 387.267 Q60.6999 387.267 61.9413 386.09 Q63.1826 384.88 63.1826 381.22 L63.1826 375.204 L68.0842 375.204 L68.0842 381.22 Q68.0842 387.999 65.5697 390.577 Q63.0234 393.156 56.3394 393.156 L36.9877 393.156 L36.9877 397.452 L32.4362 397.452 L32.4362 393.156 L22.3147 393.156 L22.3147 387.267 Z\" fill=\"#000000\" fill-rule=\"evenodd\" fill-opacity=\"1\" /><polyline clip-path=\"url(#clip182)\" style=\"stroke:#000000; stroke-linecap:butt; stroke-linejoin:round; stroke-width:16; stroke-opacity:1; fill:none\" points=\"\n",
       "  367.137,820.342 425.626,806.7 484.116,794.846 542.606,784.187 601.095,771.707 659.585,744.187 718.075,725.177 776.564,707.851 835.054,689.686 893.543,667.71 \n",
       "  952.033,635.05 1010.52,585.76 1069.01,556.69 1127.5,532.47 1185.99,502.529 1244.48,457.377 1302.97,416.954 1361.46,129.195 1419.95,116.614 1478.44,101.236 \n",
       "  1536.93,91.2291 1595.42,80.905 1653.91,75.0778 1712.4,69.7615 \n",
       "  \"/>\n",
       "</svg>\n"
      ]
     },
     "execution_count": 9,
     "metadata": {},
     "output_type": "execute_result"
    }
   ],
   "source": [
    "plot([xLabels],cumsum(vec(cost)),linewidth = 4, linecolor = :black,size = (450,250),xlabel=\"Time\",ylabel=\"Cost\", legend = false) #|> save(\"og-cost.svg\")"
   ]
  },
  {
   "cell_type": "markdown",
   "metadata": {},
   "source": [
    "## Stochastic Unit Commitment with DTMC for wind speed and cloud cover"
   ]
  },
  {
   "cell_type": "code",
   "execution_count": 10,
   "metadata": {},
   "outputs": [
    {
     "data": {
      "text/plain": [
       "solve_st (generic function with 1 method)"
      ]
     },
     "execution_count": 10,
     "metadata": {},
     "output_type": "execute_result"
    }
   ],
   "source": [
    "#Stochastic Model\n",
    "\n",
    "# Wind power maximum value at each hour for 24 hours\n",
    "w_pt_df = CSV.File(\"./wind_transitionMat.csv\", header=0, delim=',') |> DataFrame \n",
    "w_pt=Matrix(w_pt_df)\n",
    "\n",
    "#Solar power maximum value at each hour for 24 hours\n",
    "s_pt_df = CSV.File(\"./solar_transitionMat.csv\", header=0, delim=',') |> DataFrame\n",
    "s_pt=Matrix(s_pt_df)\n",
    "\n",
    "#stochastic problem\n",
    "\n",
    "function wind_pow_corr(p_t)\n",
    "    w_pow=[0 0.06 0.18 0.56 0.85 1 0.96 0.87];\n",
    "    return w_f[2]*sum(w_pow.*p_t);\n",
    "end\n",
    "\n",
    "function solar_pow_corr(p_t)\n",
    "    s_pow=[1 1 0.94 0.85 0.7 0.5 0.3 0.1];\n",
    "    return s_f[2]*sum(s_pow.*p_t);\n",
    "end\n",
    "\n",
    "function solve_st(g_max, g_min, c_g, c_w, d, w_f, s_f,w_p_i,s_p_i)\n",
    "    st = Model(GLPK.Optimizer)\n",
    "    \n",
    "#Wind and Solar generation variable for each hour    \n",
    "    @variable(st, 0 <= w[i=1:1,j=1:24] <= wind_pow_corr(w_p_i*w_pt^j))\n",
    "    @variable(st, 0 <= s[i=1:1,j=1:24] <= solar_pow_corr(s_p_i*s_pt^j))   \n",
    "    @constraint(st,[i=1:1,j=12:20],s[i,j] ==0) \n",
    "    @variable(st, w_diff[i=1:1,j=1:24])\n",
    "    @constraint(st,[i=1:1,j=1:24], w_diff[i,j] == wind_pow_corr(w_p_i*w_pt^j) - w[i,j])   \n",
    "    @variable(st, s_diff[i=1:1,j=1:24])\n",
    "    @constraint(st,[i=1:1,j=1:24], s_diff[i,j] == solar_pow_corr(s_p_i*s_pt^j) - s[i,j])   \n",
    "\n",
    "#Unit commitment binary variable for conventional generator    \n",
    "    @variable(st,u[i=1:3,j=1:24], Bin)\n",
    "    \n",
    "#Conventional generation varaible for each hour     \n",
    "    @variable(st, 0 <= g[i=1:3,j=1:24] <= g_max[i])\n",
    "    \n",
    "#Objective Minimize generation production cost    \n",
    "    @objective(st, Min, sum(sum(((g[i,j] *c_g[i])+(u[i,j]*c_g0[i])) for i=1:3)+ (c_w* w[1,j])+(c_s*s[1,j]) for j=1:24))\n",
    "    @variable(st,cost[j=1:24])\n",
    "    @constraint(st,[j=1:24], cost[j] == sum(((g[i,j] *c_g[i])+(u[i,j]*c_g0[i])) for i=1:3)+ (c_w* w[1,j])+(c_s*s[1,j]))\n",
    "    \n",
    "#Conventional generation constraints    \n",
    "    @constraint(st,[i=1:3,j=1:24], g[i,j] <= g_max[i]*u[i,j])\n",
    "    @constraint(st,[i=1:3,j=1:24], g[i,j] >= g_min[i]*u[i,j]) \n",
    "    \n",
    "    \n",
    "#Power balance equation constraint   \n",
    "    @constraint(st,[j=1:24],(sum(g[i,j] for i=1:3)+ w[1,j]+ s[1,j] == d[1,j]))\n",
    "\n",
    "#Minimum uptime and downtime constraint   \n",
    "    @constraint(st,[j=2:24,i=1:3,s=j+1:min(24,j.+UTg[i,1]-1)],u[i,s]>=u[i,j]-u[i,j-1])\n",
    "    @constraint(st,[j=1:1,i=1:3,s=j+1:min(24,j.+UTg[i,1]-1)],u[i,s]>=u[i,j]-0)\n",
    "    @constraint(st,[j=2:24,i=1:3,s=j+1:min(24,j.+UDg[i,1]-1)],(1-u[i,s])>=u[i,j-1]-u[i,j])\n",
    "    @constraint(st,[j=1:1,i=1:3,s=j+1:min(24,j.+UDg[i,1]-1)],(1-u[i,s])>=0-u[i,j])\n",
    "\n",
    "#Ramp rate up and down constraint\n",
    "    @constraint(st,[i=1:3,j=2:24], g[i,j]-g[i,j-1]<=UR[i])\n",
    "    @constraint(st,[i=1:3,j=1:1], g[i,j]-0<=UR[i])\n",
    "    @constraint(st,[i=1:3,j=2:24], g[i,j-1]-g[i,j]<=DR[i])\n",
    "    @constraint(st,[i=1:3,j=1:1], 0-g[i,j]<=DR[i])\n",
    "    \n",
    "    optimize!(st)\n",
    "    return JuMP.value.(g), JuMP.value.(w),JuMP.value.(s), objective_value(st),JuMP.value.(u),JuMP.value.(w_diff),JuMP.value.(s_diff),JuMP.value.(cost)\n",
    "end"
   ]
  },
  {
   "cell_type": "code",
   "execution_count": 11,
   "metadata": {},
   "outputs": [
    {
     "name": "stdout",
     "output_type": "stream",
     "text": [
      "Dispatch of Coventional Generators: [10.365366800000002 17.03412527019 11.513710546391575 6.734496260319688 10.099718508507225 0.0 0.0 0.0 0.0 0.0 17.325817467104386 20.0 0.0 0.0 0.0 20.0 20.0 20.0 5.0 9.238632217191387 0.0 0.0 0.0 0.0; 0.0 0.0 0.0 0.0 0.0 31.510323389919638 20.0 20.0 20.0 20.098376453452495 20.0 42.18005685435514 28.96582276774515 20.96382420919899 30.516572103874203 34.2279176777999 26.532756719833444 40.556810938350694 0.0 0.0 0.0 0.0 0.0 0.0; 0.0 0.0 0.0 0.0 0.0 0.0 0.0 0.0 0.0 0.0 0.0 0.0 0.0 0.0 0.0 0.0 0.0 0.0 0.0 0.0 0.0 0.0 0.0 0.0] MW\n",
      "\n",
      "\n",
      "Dispatch of Wind Generator: [11.941759999999999 15.87843778868 18.51376793523153 20.510431130824486 22.09026662666265 23.37434274849795 24.43903042868523 15.630000000000003 20.310000000000002 26.755483959065828 27.324235083610557 27.819943145644853 28.25417723225485 28.636175790801012 28.9734278961258 29.2720823222001 29.53724328016655 29.7731890616493 28.78 30.17136778280861 30.339326086639513 30.489693783791676 30.624451915897293 29.65] MW\n",
      "\n",
      "\n",
      "Dispatch of Solar Generator: [13.5828732 12.587436941130001 11.872521518376892 11.355072608855828 10.970014864830121 10.675333861582416 0.5809695713147747 0.0 0.0 9.99613958748168 9.899947449285056 0.0 0.0 0.0 0.0 0.0 0.0 0.0 0.0 0.0 4.620673913360488 6.240306216208321 1.8755480841027072 0.0] MW\n",
      "\n",
      "\n",
      "Wind Power Wastage: [0.0 0.0 0.0 0.0 0.0 0.0 0.0 9.705367707046854 5.788937782470381 0.0 0.0 0.0 0.0 0.0 0.0 0.0 0.0 0.0 1.2035366856096559 0.0 0.0 0.0 0.0 1.0953286161671656] MW\n",
      "\n",
      "\n",
      "Solar Power Wastage: [0.0 0.0 0.0 0.0 0.0 0.0 9.863854261988457 10.26172073733127 10.114793955287551 0.0 0.0 9.821797524532572 9.758242467852124 9.706546994967391 9.664515927466585 9.630374487995384 9.602681015719412 9.580260954655522 9.562155578458693 9.547581417710408 4.9152238436181275 3.286274170573961 7.64365221363261 9.513406330121713] MW\n",
      "\n",
      "\n",
      "Up/Down of generators:[1.0 1.0 1.0 1.0 1.0 0.0 0.0 0.0 0.0 0.0 1.0 1.0 0.0 0.0 0.0 1.0 1.0 1.0 1.0 1.0 0.0 0.0 0.0 0.0; 0.0 0.0 0.0 0.0 0.0 1.0 1.0 1.0 1.0 1.0 1.0 1.0 1.0 1.0 1.0 1.0 1.0 1.0 0.0 0.0 0.0 0.0 0.0 0.0; 0.0 0.0 0.0 0.0 0.0 0.0 0.0 0.0 0.0 0.0 0.0 0.0 0.0 0.0 0.0 0.0 0.0 0.0 0.0 0.0 0.0 0.0 0.0 0.0] Bin\n",
      "\n",
      "\n",
      "Total cost: 27130.107805554268$\n"
     ]
    }
   ],
   "source": [
    "(g_opt, w_opt, s_opt, obj,u, w_diff, s_diff,cost) = solve_st(g_max, g_min, c_g, c_w, d, w_f, s_f,w_p_i,s_p_i);\n",
    "println(\"Dispatch of Coventional Generators: \",g_opt, \" MW\")\n",
    "println(\"\\n\")\n",
    "println(\"Dispatch of Wind Generator: \",w_opt, \" MW\")\n",
    "println(\"\\n\")\n",
    "println(\"Dispatch of Solar Generator: \",s_opt, \" MW\")\n",
    "println(\"\\n\")\n",
    "println(\"Wind Power Wastage: \",w_diff, \" MW\")\n",
    "println(\"\\n\")\n",
    "println(\"Solar Power Wastage: \",s_diff, \" MW\")\n",
    "println(\"\\n\")\n",
    "println(\"Up/Down of generators:\",u, \" Bin\")\n",
    "println(\"\\n\")\n",
    "println(\"Total cost: \", obj, \"\\$\")\n"
   ]
  },
  {
   "cell_type": "code",
   "execution_count": 12,
   "metadata": {},
   "outputs": [
    {
     "data": {
      "application/vnd.vegalite.v4+json": {
       "data": {
        "values": [
         {
          "Time": 1,
          "value": 10.365366800000002,
          "variable": "Conv"
         },
         {
          "Time": 2,
          "value": 17.03412527019,
          "variable": "Conv"
         },
         {
          "Time": 3,
          "value": 11.513710546391575,
          "variable": "Conv"
         },
         {
          "Time": 4,
          "value": 6.734496260319688,
          "variable": "Conv"
         },
         {
          "Time": 5,
          "value": 10.099718508507225,
          "variable": "Conv"
         },
         {
          "Time": 6,
          "value": 31.510323389919638,
          "variable": "Conv"
         },
         {
          "Time": 7,
          "value": 20,
          "variable": "Conv"
         },
         {
          "Time": 8,
          "value": 20,
          "variable": "Conv"
         },
         {
          "Time": 9,
          "value": 20,
          "variable": "Conv"
         },
         {
          "Time": 10,
          "value": 20.098376453452495,
          "variable": "Conv"
         },
         {
          "Time": 11,
          "value": 37.325817467104386,
          "variable": "Conv"
         },
         {
          "Time": 12,
          "value": 62.18005685435514,
          "variable": "Conv"
         },
         {
          "Time": 13,
          "value": 28.96582276774515,
          "variable": "Conv"
         },
         {
          "Time": 14,
          "value": 20.96382420919899,
          "variable": "Conv"
         },
         {
          "Time": 15,
          "value": 30.516572103874203,
          "variable": "Conv"
         },
         {
          "Time": 16,
          "value": 54.2279176777999,
          "variable": "Conv"
         },
         {
          "Time": 17,
          "value": 46.53275671983344,
          "variable": "Conv"
         },
         {
          "Time": 18,
          "value": 60.556810938350694,
          "variable": "Conv"
         },
         {
          "Time": 19,
          "value": 5,
          "variable": "Conv"
         },
         {
          "Time": 20,
          "value": 9.238632217191387,
          "variable": "Conv"
         },
         {
          "Time": 21,
          "value": 0,
          "variable": "Conv"
         },
         {
          "Time": 22,
          "value": 0,
          "variable": "Conv"
         },
         {
          "Time": 23,
          "value": 0,
          "variable": "Conv"
         },
         {
          "Time": 24,
          "value": 0,
          "variable": "Conv"
         },
         {
          "Time": 1,
          "value": 11.941759999999999,
          "variable": "Wind"
         },
         {
          "Time": 2,
          "value": 15.87843778868,
          "variable": "Wind"
         },
         {
          "Time": 3,
          "value": 18.51376793523153,
          "variable": "Wind"
         },
         {
          "Time": 4,
          "value": 20.510431130824486,
          "variable": "Wind"
         },
         {
          "Time": 5,
          "value": 22.09026662666265,
          "variable": "Wind"
         },
         {
          "Time": 6,
          "value": 23.37434274849795,
          "variable": "Wind"
         },
         {
          "Time": 7,
          "value": 24.43903042868523,
          "variable": "Wind"
         },
         {
          "Time": 8,
          "value": 15.630000000000003,
          "variable": "Wind"
         },
         {
          "Time": 9,
          "value": 20.310000000000002,
          "variable": "Wind"
         },
         {
          "Time": 10,
          "value": 26.755483959065828,
          "variable": "Wind"
         },
         {
          "Time": 11,
          "value": 27.324235083610557,
          "variable": "Wind"
         },
         {
          "Time": 12,
          "value": 27.819943145644853,
          "variable": "Wind"
         },
         {
          "Time": 13,
          "value": 28.25417723225485,
          "variable": "Wind"
         },
         {
          "Time": 14,
          "value": 28.636175790801012,
          "variable": "Wind"
         },
         {
          "Time": 15,
          "value": 28.9734278961258,
          "variable": "Wind"
         },
         {
          "Time": 16,
          "value": 29.2720823222001,
          "variable": "Wind"
         },
         {
          "Time": 17,
          "value": 29.53724328016655,
          "variable": "Wind"
         },
         {
          "Time": 18,
          "value": 29.7731890616493,
          "variable": "Wind"
         },
         {
          "Time": 19,
          "value": 28.78,
          "variable": "Wind"
         },
         {
          "Time": 20,
          "value": 30.17136778280861,
          "variable": "Wind"
         },
         {
          "Time": 21,
          "value": 30.339326086639513,
          "variable": "Wind"
         },
         {
          "Time": 22,
          "value": 30.489693783791676,
          "variable": "Wind"
         },
         {
          "Time": 23,
          "value": 30.624451915897293,
          "variable": "Wind"
         },
         {
          "Time": 24,
          "value": 29.65,
          "variable": "Wind"
         },
         {
          "Time": 1,
          "value": 13.5828732,
          "variable": "Solar"
         },
         {
          "Time": 2,
          "value": 12.587436941130001,
          "variable": "Solar"
         },
         {
          "Time": 3,
          "value": 11.872521518376892,
          "variable": "Solar"
         },
         {
          "Time": 4,
          "value": 11.355072608855828,
          "variable": "Solar"
         },
         {
          "Time": 5,
          "value": 10.970014864830121,
          "variable": "Solar"
         },
         {
          "Time": 6,
          "value": 10.675333861582416,
          "variable": "Solar"
         },
         {
          "Time": 7,
          "value": 0.5809695713147747,
          "variable": "Solar"
         },
         {
          "Time": 8,
          "value": 0,
          "variable": "Solar"
         },
         {
          "Time": 9,
          "value": 0,
          "variable": "Solar"
         },
         {
          "Time": 10,
          "value": 9.99613958748168,
          "variable": "Solar"
         },
         {
          "Time": 11,
          "value": 9.899947449285056,
          "variable": "Solar"
         },
         {
          "Time": 12,
          "value": 0,
          "variable": "Solar"
         },
         {
          "Time": 13,
          "value": 0,
          "variable": "Solar"
         },
         {
          "Time": 14,
          "value": 0,
          "variable": "Solar"
         },
         {
          "Time": 15,
          "value": 0,
          "variable": "Solar"
         },
         {
          "Time": 16,
          "value": 0,
          "variable": "Solar"
         },
         {
          "Time": 17,
          "value": 0,
          "variable": "Solar"
         },
         {
          "Time": 18,
          "value": 0,
          "variable": "Solar"
         },
         {
          "Time": 19,
          "value": 0,
          "variable": "Solar"
         },
         {
          "Time": 20,
          "value": 0,
          "variable": "Solar"
         },
         {
          "Time": 21,
          "value": 4.620673913360488,
          "variable": "Solar"
         },
         {
          "Time": 22,
          "value": 6.240306216208321,
          "variable": "Solar"
         },
         {
          "Time": 23,
          "value": 1.8755480841027072,
          "variable": "Solar"
         },
         {
          "Time": 24,
          "value": 0,
          "variable": "Solar"
         }
        ]
       },
       "encoding": {
        "color": {
         "field": "variable",
         "type": "nominal"
        },
        "x": {
         "field": "Time",
         "type": "quantitative"
        },
        "y": {
         "field": "value",
         "stack": "zero",
         "type": "quantitative"
        }
       },
       "height": 250,
       "mark": "area",
       "width": 450
      },
      "image/png": "[encoded data removed]",
      "image/svg+xml": [
       "<?xml version=\"1.0\" encoding=\"utf-8\"?>\n",
       "<!DOCTYPE svg PUBLIC \"-//W3C//DTD SVG 1.1//EN\" \"http://www.w3.org/Graphics/SVG/1.1/DTD/svg11.dtd\">\n",
       "<svg xmlns=\"http://www.w3.org/2000/svg\" xmlns:xlink=\"http://www.w3.org/1999/xlink\" version=\"1.1\" class=\"marks\" width=\"560\" height=\"297\" viewBox=\"0 0 560 297\"><rect width=\"560\" height=\"297\" fill=\"white\"/><g fill=\"none\" stroke-miterlimit=\"10\" transform=\"translate(42,10)\"><g class=\"mark-group role-frame root\" role=\"graphics-object\" aria-roledescription=\"group mark container\"><g transform=\"translate(0,0)\"><path class=\"background\" aria-hidden=\"true\" d=\"M0.5,0.5h450v250h-450Z\" stroke=\"#ddd\"/><g><g class=\"mark-group role-axis\" aria-hidden=\"true\"><g transform=\"translate(0.5,250.5)\"><path class=\"background\" aria-hidden=\"true\" d=\"M0,0h0v0h0Z\" pointer-events=\"none\"/><g><g class=\"mark-rule role-axis-grid\" pointer-events=\"none\"><line transform=\"translate(0,-250)\" x2=\"0\" y2=\"250\" stroke=\"#ddd\" stroke-width=\"1\" opacity=\"1\"/><line transform=\"translate(38,-250)\" x2=\"0\" y2=\"250\" stroke=\"#ddd\" stroke-width=\"1\" opacity=\"1\"/><line transform=\"translate(75,-250)\" x2=\"0\" y2=\"250\" stroke=\"#ddd\" stroke-width=\"1\" opacity=\"1\"/><line transform=\"translate(113,-250)\" x2=\"0\" y2=\"250\" stroke=\"#ddd\" stroke-width=\"1\" opacity=\"1\"/><line transform=\"translate(150,-250)\" x2=\"0\" y2=\"250\" stroke=\"#ddd\" stroke-width=\"1\" opacity=\"1\"/><line transform=\"translate(188,-250)\" x2=\"0\" y2=\"250\" stroke=\"#ddd\" stroke-width=\"1\" opacity=\"1\"/><line transform=\"translate(225,-250)\" x2=\"0\" y2=\"250\" stroke=\"#ddd\" stroke-width=\"1\" opacity=\"1\"/><line transform=\"translate(263,-250)\" x2=\"0\" y2=\"250\" stroke=\"#ddd\" stroke-width=\"1\" opacity=\"1\"/><line transform=\"translate(300,-250)\" x2=\"0\" y2=\"250\" stroke=\"#ddd\" stroke-width=\"1\" opacity=\"1\"/><line transform=\"translate(338,-250)\" x2=\"0\" y2=\"250\" stroke=\"#ddd\" stroke-width=\"1\" opacity=\"1\"/><line transform=\"translate(375,-250)\" x2=\"0\" y2=\"250\" stroke=\"#ddd\" stroke-width=\"1\" opacity=\"1\"/><line transform=\"translate(413,-250)\" x2=\"0\" y2=\"250\" stroke=\"#ddd\" stroke-width=\"1\" opacity=\"1\"/><line transform=\"translate(450,-250)\" x2=\"0\" y2=\"250\" stroke=\"#ddd\" stroke-width=\"1\" opacity=\"1\"/></g></g><path class=\"foreground\" aria-hidden=\"true\" d=\"\" pointer-events=\"none\" display=\"none\"/></g></g><g class=\"mark-group role-axis\" aria-hidden=\"true\"><g transform=\"translate(0.5,0.5)\"><path class=\"background\" aria-hidden=\"true\" d=\"M0,0h0v0h0Z\" pointer-events=\"none\"/><g><g class=\"mark-rule role-axis-grid\" pointer-events=\"none\"><line transform=\"translate(0,250)\" x2=\"450\" y2=\"0\" stroke=\"#ddd\" stroke-width=\"1\" opacity=\"1\"/><line transform=\"translate(0,200)\" x2=\"450\" y2=\"0\" stroke=\"#ddd\" stroke-width=\"1\" opacity=\"1\"/><line transform=\"translate(0,150)\" x2=\"450\" y2=\"0\" stroke=\"#ddd\" stroke-width=\"1\" opacity=\"1\"/><line transform=\"translate(0,100)\" x2=\"450\" y2=\"0\" stroke=\"#ddd\" stroke-width=\"1\" opacity=\"1\"/><line transform=\"translate(0,50)\" x2=\"450\" y2=\"0\" stroke=\"#ddd\" stroke-width=\"1\" opacity=\"1\"/><line transform=\"translate(0,0)\" x2=\"450\" y2=\"0\" stroke=\"#ddd\" stroke-width=\"1\" opacity=\"1\"/></g></g><path class=\"foreground\" aria-hidden=\"true\" d=\"\" pointer-events=\"none\" display=\"none\"/></g></g><g class=\"mark-group role-axis\" role=\"graphics-symbol\" aria-roledescription=\"axis\" aria-label=\"X-axis titled 'Time' for a linear scale with values from 0 to 24\"><g transform=\"translate(0.5,250.5)\"><path class=\"background\" aria-hidden=\"true\" d=\"M0,0h0v0h0Z\" pointer-events=\"none\"/><g><g class=\"mark-rule role-axis-tick\" pointer-events=\"none\"><line transform=\"translate(0,0)\" x2=\"0\" y2=\"5\" stroke=\"#888\" stroke-width=\"1\" opacity=\"1\"/><line transform=\"translate(38,0)\" x2=\"0\" y2=\"5\" stroke=\"#888\" stroke-width=\"1\" opacity=\"1\"/><line transform=\"translate(75,0)\" x2=\"0\" y2=\"5\" stroke=\"#888\" stroke-width=\"1\" opacity=\"1\"/><line transform=\"translate(113,0)\" x2=\"0\" y2=\"5\" stroke=\"#888\" stroke-width=\"1\" opacity=\"1\"/><line transform=\"translate(150,0)\" x2=\"0\" y2=\"5\" stroke=\"#888\" stroke-width=\"1\" opacity=\"1\"/><line transform=\"translate(188,0)\" x2=\"0\" y2=\"5\" stroke=\"#888\" stroke-width=\"1\" opacity=\"1\"/><line transform=\"translate(225,0)\" x2=\"0\" y2=\"5\" stroke=\"#888\" stroke-width=\"1\" opacity=\"1\"/><line transform=\"translate(263,0)\" x2=\"0\" y2=\"5\" stroke=\"#888\" stroke-width=\"1\" opacity=\"1\"/><line transform=\"translate(300,0)\" x2=\"0\" y2=\"5\" stroke=\"#888\" stroke-width=\"1\" opacity=\"1\"/><line transform=\"translate(338,0)\" x2=\"0\" y2=\"5\" stroke=\"#888\" stroke-width=\"1\" opacity=\"1\"/><line transform=\"translate(375,0)\" x2=\"0\" y2=\"5\" stroke=\"#888\" stroke-width=\"1\" opacity=\"1\"/><line transform=\"translate(413,0)\" x2=\"0\" y2=\"5\" stroke=\"#888\" stroke-width=\"1\" opacity=\"1\"/><line transform=\"translate(450,0)\" x2=\"0\" y2=\"5\" stroke=\"#888\" stroke-width=\"1\" opacity=\"1\"/></g><g class=\"mark-text role-axis-label\" pointer-events=\"none\"><text text-anchor=\"start\" transform=\"translate(0,15)\" font-family=\"sans-serif\" font-size=\"10px\" fill=\"#000\" opacity=\"1\">0</text><text text-anchor=\"middle\" transform=\"translate(37.5,15)\" font-family=\"sans-serif\" font-size=\"10px\" fill=\"#000\" opacity=\"1\">2</text><text text-anchor=\"middle\" transform=\"translate(75,15)\" font-family=\"sans-serif\" font-size=\"10px\" fill=\"#000\" opacity=\"1\">4</text><text text-anchor=\"middle\" transform=\"translate(112.5,15)\" font-family=\"sans-serif\" font-size=\"10px\" fill=\"#000\" opacity=\"1\">6</text><text text-anchor=\"middle\" transform=\"translate(150,15)\" font-family=\"sans-serif\" font-size=\"10px\" fill=\"#000\" opacity=\"1\">8</text><text text-anchor=\"middle\" transform=\"translate(187.5,15)\" font-family=\"sans-serif\" font-size=\"10px\" fill=\"#000\" opacity=\"1\">10</text><text text-anchor=\"middle\" transform=\"translate(225,15)\" font-family=\"sans-serif\" font-size=\"10px\" fill=\"#000\" opacity=\"1\">12</text><text text-anchor=\"middle\" transform=\"translate(262.5,15)\" font-family=\"sans-serif\" font-size=\"10px\" fill=\"#000\" opacity=\"1\">14</text><text text-anchor=\"middle\" transform=\"translate(300,15)\" font-family=\"sans-serif\" font-size=\"10px\" fill=\"#000\" opacity=\"1\">16</text><text text-anchor=\"middle\" transform=\"translate(337.5,15)\" font-family=\"sans-serif\" font-size=\"10px\" fill=\"#000\" opacity=\"1\">18</text><text text-anchor=\"middle\" transform=\"translate(375,15)\" font-family=\"sans-serif\" font-size=\"10px\" fill=\"#000\" opacity=\"1\">20</text><text text-anchor=\"middle\" transform=\"translate(412.5,15)\" font-family=\"sans-serif\" font-size=\"10px\" fill=\"#000\" opacity=\"1\">22</text><text text-anchor=\"end\" transform=\"translate(450,15)\" font-family=\"sans-serif\" font-size=\"10px\" fill=\"#000\" opacity=\"1\">24</text></g><g class=\"mark-rule role-axis-domain\" pointer-events=\"none\"><line transform=\"translate(0,0)\" x2=\"450\" y2=\"0\" stroke=\"#888\" stroke-width=\"1\" opacity=\"1\"/></g><g class=\"mark-text role-axis-title\" pointer-events=\"none\"><text text-anchor=\"middle\" transform=\"translate(225,30)\" font-family=\"sans-serif\" font-size=\"11px\" font-weight=\"bold\" fill=\"#000\" opacity=\"1\">Time</text></g></g><path class=\"foreground\" aria-hidden=\"true\" d=\"\" pointer-events=\"none\" display=\"none\"/></g></g><g class=\"mark-group role-axis\" role=\"graphics-symbol\" aria-roledescription=\"axis\" aria-label=\"Y-axis titled 'value' for a linear scale with values from 0 to 100\"><g transform=\"translate(0.5,0.5)\"><path class=\"background\" aria-hidden=\"true\" d=\"M0,0h0v0h0Z\" pointer-events=\"none\"/><g><g class=\"mark-rule role-axis-tick\" pointer-events=\"none\"><line transform=\"translate(0,250)\" x2=\"-5\" y2=\"0\" stroke=\"#888\" stroke-width=\"1\" opacity=\"1\"/><line transform=\"translate(0,200)\" x2=\"-5\" y2=\"0\" stroke=\"#888\" stroke-width=\"1\" opacity=\"1\"/><line transform=\"translate(0,150)\" x2=\"-5\" y2=\"0\" stroke=\"#888\" stroke-width=\"1\" opacity=\"1\"/><line transform=\"translate(0,100)\" x2=\"-5\" y2=\"0\" stroke=\"#888\" stroke-width=\"1\" opacity=\"1\"/><line transform=\"translate(0,50)\" x2=\"-5\" y2=\"0\" stroke=\"#888\" stroke-width=\"1\" opacity=\"1\"/><line transform=\"translate(0,0)\" x2=\"-5\" y2=\"0\" stroke=\"#888\" stroke-width=\"1\" opacity=\"1\"/></g><g class=\"mark-text role-axis-label\" pointer-events=\"none\"><text text-anchor=\"end\" transform=\"translate(-7,253)\" font-family=\"sans-serif\" font-size=\"10px\" fill=\"#000\" opacity=\"1\">0</text><text text-anchor=\"end\" transform=\"translate(-7,203)\" font-family=\"sans-serif\" font-size=\"10px\" fill=\"#000\" opacity=\"1\">20</text><text text-anchor=\"end\" transform=\"translate(-7,153)\" font-family=\"sans-serif\" font-size=\"10px\" fill=\"#000\" opacity=\"1\">40</text><text text-anchor=\"end\" transform=\"translate(-7,103)\" font-family=\"sans-serif\" font-size=\"10px\" fill=\"#000\" opacity=\"1\">60</text><text text-anchor=\"end\" transform=\"translate(-7,52.999999999999986)\" font-family=\"sans-serif\" font-size=\"10px\" fill=\"#000\" opacity=\"1\">80</text><text text-anchor=\"end\" transform=\"translate(-7,3)\" font-family=\"sans-serif\" font-size=\"10px\" fill=\"#000\" opacity=\"1\">100</text></g><g class=\"mark-rule role-axis-domain\" pointer-events=\"none\"><line transform=\"translate(0,250)\" x2=\"0\" y2=\"-250\" stroke=\"#888\" stroke-width=\"1\" opacity=\"1\"/></g><g class=\"mark-text role-axis-title\" pointer-events=\"none\"><text text-anchor=\"middle\" transform=\"translate(-26,125) rotate(-90) translate(0,-2)\" font-family=\"sans-serif\" font-size=\"11px\" font-weight=\"bold\" fill=\"#000\" opacity=\"1\">value</text></g></g><path class=\"foreground\" aria-hidden=\"true\" d=\"\" pointer-events=\"none\" display=\"none\"/></g></g><g class=\"mark-group role-scope pathgroup\" role=\"graphics-object\" aria-roledescription=\"group mark container\"><g transform=\"translate(0,0)\"><path class=\"background\" aria-hidden=\"true\" d=\"M0,0h450v250h-450Z\"/><g><g class=\"mark-area role-mark marks\" role=\"graphics-object\" aria-roledescription=\"area mark container\"><path aria-label=\"Time: 1; value: 10.3653668; variable: Conv\" role=\"graphics-symbol\" aria-roledescription=\"area mark\" d=\"M18.75,160.275L37.5,136.24999999999997L56.25,145.25L75,153.5L93.75,142.1L112.5,86.09999999999998L131.25,137.45L150,160.92499999999998L168.75,149.225L187.5,107.875L206.25,63.625000000000014L225,24.999999999999993L243.74999999999997,106.94999999999999L262.5,126L281.25,101.275L300,41.25000000000001L318.75,59.82500000000002L337.5,24.175L356.25,165.55L375,151.47500000000002L393.75,162.6L412.5,158.175L431.25,168.75L450,175.875L450,175.875L431.25,168.75L412.5,158.175L393.75,162.6L375,174.57158054297847L356.25,178.04999999999998L337.5,175.56702734587677L318.75,176.15689179958363L300,176.81979419449976L281.25,177.5664302596855L262.5,178.40956052299748L243.74999999999997,179.36455691936288L225,180.45014213588786L206.25,156.93954366776097L187.5,158.12094113363122L168.75,199.225L150,210.925L131.25,187.45000000000002L112.5,164.87580847479907L93.75,167.34929627126806L75,170.33624065079923L56.25,174.03427636597897L37.5,178.83531317547502L18.75,186.188417Z\" fill=\"#4c78a8\"/></g></g><path class=\"foreground\" aria-hidden=\"true\" d=\"\" display=\"none\"/></g><g transform=\"translate(0,0)\"><path class=\"background\" aria-hidden=\"true\" d=\"M0,0h450v250h-450Z\"/><g><g class=\"mark-area role-mark marks\" role=\"graphics-object\" aria-roledescription=\"area mark container\"><path aria-label=\"Time: 1; value: 11.94176; variable: Wind\" role=\"graphics-symbol\" aria-roledescription=\"area mark\" d=\"M18.75,220.1456L37.5,210.3039055283L56.25,203.71558016192117L75,198.72392217293879L93.75,194.77433343334337L112.5,191.56414312875515L131.25,188.90242392828694L150,210.925L168.75,199.225L187.5,183.11129010233543L206.25,181.68941229097362L225,180.45014213588786L243.74999999999997,179.36455691936288L262.5,178.40956052299748L281.25,177.5664302596855L300,176.81979419449976L318.75,176.15689179958363L337.5,175.56702734587677L356.25,178.04999999999998L375,174.57158054297847L393.75,174.1516847834012L412.5,173.7757655405208L431.25,173.43887021025677L450,175.875L450,250L431.25,250L412.5,250L393.75,250L375,250L356.25,250L337.5,250L318.75,250L300,250L281.25,250L262.5,250L243.74999999999997,250L225,250L206.25,250L187.5,250L168.75,250L150,250L131.25,250L112.5,250L93.75,250L75,250L56.25,250L37.5,250L18.75,250Z\" fill=\"#e45756\"/></g></g><path class=\"foreground\" aria-hidden=\"true\" d=\"\" display=\"none\"/></g><g transform=\"translate(0,0)\"><path class=\"background\" aria-hidden=\"true\" d=\"M0,0h450v250h-450Z\"/><g><g class=\"mark-area role-mark marks\" role=\"graphics-object\" aria-roledescription=\"area mark container\"><path aria-label=\"Time: 1; value: 13.5828732; variable: Solar\" role=\"graphics-symbol\" aria-roledescription=\"area mark\" d=\"M18.75,186.188417L37.5,178.83531317547502L56.25,174.03427636597897L75,170.33624065079923L93.75,167.34929627126806L112.5,164.87580847479907L131.25,187.45000000000002L150,210.925L168.75,199.225L187.5,158.12094113363122L206.25,156.93954366776097L225,180.45014213588786L243.74999999999997,179.36455691936288L262.5,178.40956052299748L281.25,177.5664302596855L300,176.81979419449976L318.75,176.15689179958363L337.5,175.56702734587677L356.25,178.04999999999998L375,174.57158054297847L393.75,162.6L412.5,158.175L431.25,168.75L450,175.875L450,175.875L431.25,173.43887021025677L412.5,173.7757655405208L393.75,174.1516847834012L375,174.57158054297847L356.25,178.04999999999998L337.5,175.56702734587677L318.75,176.15689179958363L300,176.81979419449976L281.25,177.5664302596855L262.5,178.40956052299748L243.74999999999997,179.36455691936288L225,180.45014213588786L206.25,181.68941229097362L187.5,183.11129010233543L168.75,199.225L150,210.925L131.25,188.90242392828694L112.5,191.56414312875515L93.75,194.77433343334337L75,198.72392217293879L56.25,203.71558016192117L37.5,210.3039055283L18.75,220.1456Z\" fill=\"#f58518\"/></g></g><path class=\"foreground\" aria-hidden=\"true\" d=\"\" display=\"none\"/></g></g><g class=\"mark-group role-legend\" role=\"graphics-symbol\" aria-roledescription=\"legend\" aria-label=\"Symbol legend titled 'variable' for fill color with 3 values: Conv, Solar, Wind\"><g transform=\"translate(468,0)\"><path class=\"background\" aria-hidden=\"true\" d=\"M0,0h45v53h-45Z\" pointer-events=\"none\"/><g><g class=\"mark-group role-legend-entry\"><g transform=\"translate(0,16)\"><path class=\"background\" aria-hidden=\"true\" d=\"M0,0h0v0h0Z\" pointer-events=\"none\"/><g><g class=\"mark-group role-scope\" role=\"graphics-object\" aria-roledescription=\"group mark container\"><g transform=\"translate(0,0)\"><path class=\"background\" aria-hidden=\"true\" d=\"M0,0h39v11h-39Z\" pointer-events=\"none\" opacity=\"1\"/><g><g class=\"mark-symbol role-legend-symbol\" pointer-events=\"none\"><path transform=\"translate(6,6)\" d=\"M5,0A5,5,0,1,1,-5,0A5,5,0,1,1,5,0\" fill=\"#4c78a8\" stroke-width=\"1.5\" opacity=\"1\"/></g><g class=\"mark-text role-legend-label\" pointer-events=\"none\"><text text-anchor=\"start\" transform=\"translate(16,9)\" font-family=\"sans-serif\" font-size=\"10px\" fill=\"#000\" opacity=\"1\">Conv</text></g></g><path class=\"foreground\" aria-hidden=\"true\" d=\"\" pointer-events=\"none\" display=\"none\"/></g><g transform=\"translate(0,13)\"><path class=\"background\" aria-hidden=\"true\" d=\"M0,0h39v11h-39Z\" pointer-events=\"none\" opacity=\"1\"/><g><g class=\"mark-symbol role-legend-symbol\" pointer-events=\"none\"><path transform=\"translate(6,6)\" d=\"M5,0A5,5,0,1,1,-5,0A5,5,0,1,1,5,0\" fill=\"#f58518\" stroke-width=\"1.5\" opacity=\"1\"/></g><g class=\"mark-text role-legend-label\" pointer-events=\"none\"><text text-anchor=\"start\" transform=\"translate(16,9)\" font-family=\"sans-serif\" font-size=\"10px\" fill=\"#000\" opacity=\"1\">Solar</text></g></g><path class=\"foreground\" aria-hidden=\"true\" d=\"\" pointer-events=\"none\" display=\"none\"/></g><g transform=\"translate(0,26)\"><path class=\"background\" aria-hidden=\"true\" d=\"M0,0h39v11h-39Z\" pointer-events=\"none\" opacity=\"1\"/><g><g class=\"mark-symbol role-legend-symbol\" pointer-events=\"none\"><path transform=\"translate(6,6)\" d=\"M5,0A5,5,0,1,1,-5,0A5,5,0,1,1,5,0\" fill=\"#e45756\" stroke-width=\"1.5\" opacity=\"1\"/></g><g class=\"mark-text role-legend-label\" pointer-events=\"none\"><text text-anchor=\"start\" transform=\"translate(16,9)\" font-family=\"sans-serif\" font-size=\"10px\" fill=\"#000\" opacity=\"1\">Wind</text></g></g><path class=\"foreground\" aria-hidden=\"true\" d=\"\" pointer-events=\"none\" display=\"none\"/></g></g></g><path class=\"foreground\" aria-hidden=\"true\" d=\"\" pointer-events=\"none\" display=\"none\"/></g></g><g class=\"mark-text role-legend-title\" pointer-events=\"none\"><text text-anchor=\"start\" transform=\"translate(0,9)\" font-family=\"sans-serif\" font-size=\"11px\" font-weight=\"bold\" fill=\"#000\" opacity=\"1\">variable</text></g></g><path class=\"foreground\" aria-hidden=\"true\" d=\"\" pointer-events=\"none\" display=\"none\"/></g></g></g><path class=\"foreground\" aria-hidden=\"true\" d=\"\" display=\"none\"/></g></g></g></svg>\n"
      ],
      "text/plain": [
       "@vlplot(\n",
       "    width=450,\n",
       "    height=250,\n",
       "    mark=\"area\",\n",
       "    encoding={\n",
       "        x={\n",
       "            field=\"Time\"\n",
       "        },\n",
       "        y={\n",
       "            stack=\"zero\",\n",
       "            field=\"value\"\n",
       "        },\n",
       "        color={\n",
       "            field=\"variable\",\n",
       "            type=\"nominal\"\n",
       "        }\n",
       "    },\n",
       "    data={\n",
       "        values=...\n",
       "    }\n",
       ")"
      ]
     },
     "execution_count": 12,
     "metadata": {},
     "output_type": "execute_result"
    }
   ],
   "source": [
    "g_opt_tot=g_opt[1,:].+g_opt[2,:]+g_opt[3,:]\n",
    "sNames = [\"Conv\",\"Wind\",\"Solar\"]\n",
    "xLabels = [1,2,3,4,5,6,7,8,9,10,11,12,13,14,15,16,17,18,19,20,21,22,23,24]\n",
    "\n",
    "df = DataFrame(Time=xLabels, Conv=vec(g_opt_tot), Wind=vec(w_opt), Solar=vec(s_opt))\n",
    "df |> stack |> @vlplot(:area, x=:Time, y={:value, stack=:zero}, color=\"variable:n\",width=450, height=250)"
   ]
  },
  {
   "cell_type": "code",
   "execution_count": 13,
   "metadata": {},
   "outputs": [
    {
     "data": {
      "image/svg+xml": [
       "<?xml version=\"1.0\" encoding=\"utf-8\"?>\n",
       "<svg xmlns=\"http://www.w3.org/2000/svg\" xmlns:xlink=\"http://www.w3.org/1999/xlink\" width=\"450\" height=\"200\" viewBox=\"0 0 1800 800\">\n",
       "<defs>\n",
       "  <clipPath id=\"clip220\">\n",
       "    <rect x=\"0\" y=\"0\" width=\"1800\" height=\"800\"/>\n",
       "  </clipPath>\n",
       "</defs>\n",
       "<path clip-path=\"url(#clip220)\" d=\"\n",
       "M0 800 L1800 800 L1800 0 L0 0  Z\n",
       "  \" fill=\"#ffffff\" fill-rule=\"evenodd\" fill-opacity=\"1\"/>\n",
       "<defs>\n",
       "  <clipPath id=\"clip221\">\n",
       "    <rect x=\"360\" y=\"0\" width=\"1261\" height=\"800\"/>\n",
       "  </clipPath>\n",
       "</defs>\n",
       "<path clip-path=\"url(#clip220)\" d=\"\n",
       "M198.677 658.54 L1572.76 658.54 L1572.76 47.2441 L198.677 47.2441  Z\n",
       "  \" fill=\"#ffffff\" fill-rule=\"evenodd\" fill-opacity=\"1\"/>\n",
       "<defs>\n",
       "  <clipPath id=\"clip222\">\n",
       "    <rect x=\"198\" y=\"47\" width=\"1375\" height=\"612\"/>\n",
       "  </clipPath>\n",
       "</defs>\n",
       "<polyline clip-path=\"url(#clip222)\" style=\"stroke:#000000; stroke-linecap:butt; stroke-linejoin:round; stroke-width:2; stroke-opacity:0.1; fill:none\" points=\"\n",
       "  456.317,658.54 456.317,47.2441 \n",
       "  \"/>\n",
       "<polyline clip-path=\"url(#clip222)\" style=\"stroke:#000000; stroke-linecap:butt; stroke-linejoin:round; stroke-width:2; stroke-opacity:0.1; fill:none\" points=\"\n",
       "  742.583,658.54 742.583,47.2441 \n",
       "  \"/>\n",
       "<polyline clip-path=\"url(#clip222)\" style=\"stroke:#000000; stroke-linecap:butt; stroke-linejoin:round; stroke-width:2; stroke-opacity:0.1; fill:none\" points=\"\n",
       "  1028.85,658.54 1028.85,47.2441 \n",
       "  \"/>\n",
       "<polyline clip-path=\"url(#clip222)\" style=\"stroke:#000000; stroke-linecap:butt; stroke-linejoin:round; stroke-width:2; stroke-opacity:0.1; fill:none\" points=\"\n",
       "  1315.12,658.54 1315.12,47.2441 \n",
       "  \"/>\n",
       "<polyline clip-path=\"url(#clip220)\" style=\"stroke:#000000; stroke-linecap:butt; stroke-linejoin:round; stroke-width:4; stroke-opacity:1; fill:none\" points=\"\n",
       "  198.677,658.54 1572.76,658.54 \n",
       "  \"/>\n",
       "<polyline clip-path=\"url(#clip220)\" style=\"stroke:#000000; stroke-linecap:butt; stroke-linejoin:round; stroke-width:4; stroke-opacity:1; fill:none\" points=\"\n",
       "  456.317,658.54 456.317,639.642 \n",
       "  \"/>\n",
       "<polyline clip-path=\"url(#clip220)\" style=\"stroke:#000000; stroke-linecap:butt; stroke-linejoin:round; stroke-width:4; stroke-opacity:1; fill:none\" points=\"\n",
       "  742.583,658.54 742.583,639.642 \n",
       "  \"/>\n",
       "<polyline clip-path=\"url(#clip220)\" style=\"stroke:#000000; stroke-linecap:butt; stroke-linejoin:round; stroke-width:4; stroke-opacity:1; fill:none\" points=\"\n",
       "  1028.85,658.54 1028.85,639.642 \n",
       "  \"/>\n",
       "<polyline clip-path=\"url(#clip220)\" style=\"stroke:#000000; stroke-linecap:butt; stroke-linejoin:round; stroke-width:4; stroke-opacity:1; fill:none\" points=\"\n",
       "  1315.12,658.54 1315.12,639.642 \n",
       "  \"/>\n",
       "<path clip-path=\"url(#clip220)\" d=\"M446.594 681.58 L464.951 681.58 L464.951 685.515 L450.877 685.515 L450.877 693.987 Q451.895 693.64 452.914 693.478 Q453.932 693.293 454.951 693.293 Q460.738 693.293 464.117 696.464 Q467.497 699.635 467.497 705.052 Q467.497 710.631 464.025 713.732 Q460.553 716.811 454.233 716.811 Q452.057 716.811 449.789 716.441 Q447.543 716.07 445.136 715.33 L445.136 710.631 Q447.219 711.765 449.442 712.32 Q451.664 712.876 454.141 712.876 Q458.145 712.876 460.483 710.77 Q462.821 708.663 462.821 705.052 Q462.821 701.441 460.483 699.334 Q458.145 697.228 454.141 697.228 Q452.266 697.228 450.391 697.645 Q448.539 698.061 446.594 698.941 L446.594 681.58 Z\" fill=\"#000000\" fill-rule=\"evenodd\" fill-opacity=\"1\" /><path clip-path=\"url(#clip220)\" d=\"M717.271 712.205 L724.91 712.205 L724.91 685.839 L716.599 687.506 L716.599 683.247 L724.863 681.58 L729.539 681.58 L729.539 712.205 L737.178 712.205 L737.178 716.14 L717.271 716.14 L717.271 712.205 Z\" fill=\"#000000\" fill-rule=\"evenodd\" fill-opacity=\"1\" /><path clip-path=\"url(#clip220)\" d=\"M756.622 684.659 Q753.011 684.659 751.183 688.223 Q749.377 691.765 749.377 698.895 Q749.377 706.001 751.183 709.566 Q753.011 713.107 756.622 713.107 Q760.257 713.107 762.062 709.566 Q763.891 706.001 763.891 698.895 Q763.891 691.765 762.062 688.223 Q760.257 684.659 756.622 684.659 M756.622 680.955 Q762.432 680.955 765.488 685.561 Q768.567 690.145 768.567 698.895 Q768.567 707.621 765.488 712.228 Q762.432 716.811 756.622 716.811 Q750.812 716.811 747.733 712.228 Q744.678 707.621 744.678 698.895 Q744.678 690.145 747.733 685.561 Q750.812 680.955 756.622 680.955 Z\" fill=\"#000000\" fill-rule=\"evenodd\" fill-opacity=\"1\" /><path clip-path=\"url(#clip220)\" d=\"M1004.03 712.205 L1011.67 712.205 L1011.67 685.839 L1003.36 687.506 L1003.36 683.247 L1011.63 681.58 L1016.3 681.58 L1016.3 712.205 L1023.94 712.205 L1023.94 716.14 L1004.03 716.14 L1004.03 712.205 Z\" fill=\"#000000\" fill-rule=\"evenodd\" fill-opacity=\"1\" /><path clip-path=\"url(#clip220)\" d=\"M1033.43 681.58 L1051.79 681.58 L1051.79 685.515 L1037.72 685.515 L1037.72 693.987 Q1038.73 693.64 1039.75 693.478 Q1040.77 693.293 1041.79 693.293 Q1047.58 693.293 1050.96 696.464 Q1054.34 699.635 1054.34 705.052 Q1054.34 710.631 1050.86 713.732 Q1047.39 716.811 1041.07 716.811 Q1038.9 716.811 1036.63 716.441 Q1034.38 716.07 1031.97 715.33 L1031.97 710.631 Q1034.06 711.765 1036.28 712.32 Q1038.5 712.876 1040.98 712.876 Q1044.98 712.876 1047.32 710.77 Q1049.66 708.663 1049.66 705.052 Q1049.66 701.441 1047.32 699.334 Q1044.98 697.228 1040.98 697.228 Q1039.1 697.228 1037.23 697.645 Q1035.38 698.061 1033.43 698.941 L1033.43 681.58 Z\" fill=\"#000000\" fill-rule=\"evenodd\" fill-opacity=\"1\" /><path clip-path=\"url(#clip220)\" d=\"M1293.89 712.205 L1310.21 712.205 L1310.21 716.14 L1288.26 716.14 L1288.26 712.205 Q1290.93 709.45 1295.51 704.82 Q1300.12 700.168 1301.3 698.825 Q1303.54 696.302 1304.42 694.566 Q1305.32 692.807 1305.32 691.117 Q1305.32 688.362 1303.38 686.626 Q1301.46 684.89 1298.36 684.89 Q1296.16 684.89 1293.7 685.654 Q1291.27 686.418 1288.5 687.969 L1288.5 683.247 Q1291.32 682.112 1293.77 681.534 Q1296.23 680.955 1298.26 680.955 Q1303.63 680.955 1306.83 683.64 Q1310.02 686.325 1310.02 690.816 Q1310.02 692.946 1309.21 694.867 Q1308.43 696.765 1306.32 699.358 Q1305.74 700.029 1302.64 703.246 Q1299.54 706.441 1293.89 712.205 Z\" fill=\"#000000\" fill-rule=\"evenodd\" fill-opacity=\"1\" /><path clip-path=\"url(#clip220)\" d=\"M1330.02 684.659 Q1326.41 684.659 1324.58 688.223 Q1322.78 691.765 1322.78 698.895 Q1322.78 706.001 1324.58 709.566 Q1326.41 713.107 1330.02 713.107 Q1333.66 713.107 1335.46 709.566 Q1337.29 706.001 1337.29 698.895 Q1337.29 691.765 1335.46 688.223 Q1333.66 684.659 1330.02 684.659 M1330.02 680.955 Q1335.83 680.955 1338.89 685.561 Q1341.97 690.145 1341.97 698.895 Q1341.97 707.621 1338.89 712.228 Q1335.83 716.811 1330.02 716.811 Q1324.21 716.811 1321.13 712.228 Q1318.08 707.621 1318.08 698.895 Q1318.08 690.145 1321.13 685.561 Q1324.21 680.955 1330.02 680.955 Z\" fill=\"#000000\" fill-rule=\"evenodd\" fill-opacity=\"1\" /><path clip-path=\"url(#clip220)\" d=\"M807.593 746.884 L847.793 746.884 L847.793 752.295 L830.923 752.295 L830.923 794.404 L824.462 794.404 L824.462 752.295 L807.593 752.295 L807.593 746.884 Z\" fill=\"#000000\" fill-rule=\"evenodd\" fill-opacity=\"1\" /><path clip-path=\"url(#clip220)\" d=\"M851.739 758.756 L857.596 758.756 L857.596 794.404 L851.739 794.404 L851.739 758.756 M851.739 744.879 L857.596 744.879 L857.596 752.295 L851.739 752.295 L851.739 744.879 Z\" fill=\"#000000\" fill-rule=\"evenodd\" fill-opacity=\"1\" /><path clip-path=\"url(#clip220)\" d=\"M897.604 765.599 Q899.8 761.652 902.856 759.774 Q905.911 757.897 910.049 757.897 Q915.619 757.897 918.643 761.811 Q921.667 765.695 921.667 772.888 L921.667 794.404 L915.778 794.404 L915.778 773.079 Q915.778 767.954 913.964 765.472 Q912.15 762.989 908.426 762.989 Q903.874 762.989 901.233 766.013 Q898.591 769.037 898.591 774.256 L898.591 794.404 L892.703 794.404 L892.703 773.079 Q892.703 767.923 890.888 765.472 Q889.074 762.989 885.287 762.989 Q880.799 762.989 878.157 766.045 Q875.515 769.068 875.515 774.256 L875.515 794.404 L869.627 794.404 L869.627 758.756 L875.515 758.756 L875.515 764.294 Q877.52 761.016 880.321 759.456 Q883.122 757.897 886.974 757.897 Q890.857 757.897 893.562 759.87 Q896.299 761.843 897.604 765.599 Z\" fill=\"#000000\" fill-rule=\"evenodd\" fill-opacity=\"1\" /><path clip-path=\"url(#clip220)\" d=\"M963.839 775.116 L963.839 777.98 L936.912 777.98 Q937.294 784.028 940.541 787.211 Q943.819 790.362 949.644 790.362 Q953.018 790.362 956.169 789.534 Q959.352 788.707 962.471 787.051 L962.471 792.59 Q959.32 793.926 956.01 794.627 Q952.699 795.327 949.294 795.327 Q940.764 795.327 935.767 790.362 Q930.801 785.396 930.801 776.93 Q930.801 768.177 935.512 763.053 Q940.254 757.897 948.275 757.897 Q955.469 757.897 959.638 762.543 Q963.839 767.159 963.839 775.116 M957.983 773.397 Q957.919 768.591 955.278 765.726 Q952.668 762.862 948.339 762.862 Q943.437 762.862 940.477 765.631 Q937.549 768.4 937.103 773.429 L957.983 773.397 Z\" fill=\"#000000\" fill-rule=\"evenodd\" fill-opacity=\"1\" /><polyline clip-path=\"url(#clip222)\" style=\"stroke:#000000; stroke-linecap:butt; stroke-linejoin:round; stroke-width:2; stroke-opacity:0.1; fill:none\" points=\"\n",
       "  198.677,505.716 1572.76,505.716 \n",
       "  \"/>\n",
       "<polyline clip-path=\"url(#clip222)\" style=\"stroke:#000000; stroke-linecap:butt; stroke-linejoin:round; stroke-width:2; stroke-opacity:0.1; fill:none\" points=\"\n",
       "  198.677,200.068 1572.76,200.068 \n",
       "  \"/>\n",
       "<polyline clip-path=\"url(#clip220)\" style=\"stroke:#000000; stroke-linecap:butt; stroke-linejoin:round; stroke-width:4; stroke-opacity:1; fill:none\" points=\"\n",
       "  198.677,658.54 198.677,47.2441 \n",
       "  \"/>\n",
       "<polyline clip-path=\"url(#clip220)\" style=\"stroke:#000000; stroke-linecap:butt; stroke-linejoin:round; stroke-width:4; stroke-opacity:1; fill:none\" points=\"\n",
       "  198.677,505.716 215.386,505.716 \n",
       "  \"/>\n",
       "<polyline clip-path=\"url(#clip220)\" style=\"stroke:#000000; stroke-linecap:butt; stroke-linejoin:round; stroke-width:4; stroke-opacity:1; fill:none\" points=\"\n",
       "  198.677,200.068 215.386,200.068 \n",
       "  \"/>\n",
       "<path clip-path=\"url(#clip220)\" d=\"M58.4134 488.436 L63.1356 488.436 L70.4041 517.649 L77.6494 488.436 L82.904 488.436 L90.1725 517.649 L97.4178 488.436 L102.163 488.436 L93.4827 522.996 L87.6031 522.996 L80.3114 492.996 L72.9504 522.996 L67.0708 522.996 L58.4134 488.436 Z\" fill=\"#000000\" fill-rule=\"evenodd\" fill-opacity=\"1\" /><path clip-path=\"url(#clip220)\" d=\"M107.14 497.07 L111.399 497.07 L111.399 522.996 L107.14 522.996 L107.14 497.07 M107.14 486.978 L111.399 486.978 L111.399 492.371 L107.14 492.371 L107.14 486.978 Z\" fill=\"#000000\" fill-rule=\"evenodd\" fill-opacity=\"1\" /><path clip-path=\"url(#clip220)\" d=\"M141.862 507.348 L141.862 522.996 L137.603 522.996 L137.603 507.487 Q137.603 503.806 136.168 501.977 Q134.732 500.149 131.862 500.149 Q128.413 500.149 126.422 502.348 Q124.432 504.547 124.432 508.343 L124.432 522.996 L120.149 522.996 L120.149 497.07 L124.432 497.07 L124.432 501.098 Q125.959 498.76 128.02 497.603 Q130.103 496.445 132.811 496.445 Q137.279 496.445 139.57 499.223 Q141.862 501.977 141.862 507.348 Z\" fill=\"#000000\" fill-rule=\"evenodd\" fill-opacity=\"1\" /><path clip-path=\"url(#clip220)\" d=\"M167.417 501.005 L167.417 486.978 L171.677 486.978 L171.677 522.996 L167.417 522.996 L167.417 519.107 Q166.075 521.422 164.015 522.556 Q161.978 523.667 159.107 523.667 Q154.408 523.667 151.445 519.917 Q148.506 516.167 148.506 510.056 Q148.506 503.945 151.445 500.195 Q154.408 496.445 159.107 496.445 Q161.978 496.445 164.015 497.579 Q166.075 498.69 167.417 501.005 M152.904 510.056 Q152.904 514.755 154.825 517.44 Q156.769 520.102 160.149 520.102 Q163.529 520.102 165.473 517.44 Q167.417 514.755 167.417 510.056 Q167.417 505.357 165.473 502.695 Q163.529 500.01 160.149 500.01 Q156.769 500.01 154.825 502.695 Q152.904 505.357 152.904 510.056 Z\" fill=\"#000000\" fill-rule=\"evenodd\" fill-opacity=\"1\" /><path clip-path=\"url(#clip220)\" d=\"M76.2374 183.922 L76.2374 188.482 Q73.5754 187.209 71.2143 186.584 Q68.8532 185.959 66.6541 185.959 Q62.8347 185.959 60.7513 187.441 Q58.6912 188.922 58.6912 191.654 Q58.6912 193.945 60.0569 195.126 Q61.4458 196.283 65.2884 197.001 L68.1124 197.58 Q73.3439 198.575 75.8207 201.098 Q78.3207 203.598 78.3207 207.811 Q78.3207 212.834 74.9411 215.427 Q71.5846 218.019 65.08 218.019 Q62.6263 218.019 59.8486 217.464 Q57.094 216.908 54.131 215.82 L54.131 211.005 Q56.9782 212.603 59.7097 213.413 Q62.4412 214.223 65.08 214.223 Q69.0846 214.223 71.2606 212.649 Q73.4365 211.075 73.4365 208.158 Q73.4365 205.612 71.8624 204.177 Q70.3115 202.742 66.7467 202.024 L63.8995 201.468 Q58.668 200.427 56.3301 198.205 Q53.9921 195.982 53.9921 192.024 Q53.9921 187.441 57.2097 184.802 Q60.4504 182.163 66.1217 182.163 Q68.5522 182.163 71.0754 182.603 Q73.5985 183.043 76.2374 183.922 Z\" fill=\"#000000\" fill-rule=\"evenodd\" fill-opacity=\"1\" /><path clip-path=\"url(#clip220)\" d=\"M95.4734 194.408 Q92.0475 194.408 90.0567 197.094 Q88.066 199.756 88.066 204.408 Q88.066 209.061 90.0336 211.746 Q92.0243 214.408 95.4734 214.408 Q98.8761 214.408 100.867 211.723 Q102.858 209.038 102.858 204.408 Q102.858 199.802 100.867 197.117 Q98.8761 194.408 95.4734 194.408 M95.4734 190.797 Q101.029 190.797 104.2 194.408 Q107.371 198.019 107.371 204.408 Q107.371 210.774 104.2 214.408 Q101.029 218.019 95.4734 218.019 Q89.8947 218.019 86.7234 214.408 Q83.5753 210.774 83.5753 204.408 Q83.5753 198.019 86.7234 194.408 Q89.8947 190.797 95.4734 190.797 Z\" fill=\"#000000\" fill-rule=\"evenodd\" fill-opacity=\"1\" /><path clip-path=\"url(#clip220)\" d=\"M114.432 181.33 L118.691 181.33 L118.691 217.348 L114.432 217.348 L114.432 181.33 Z\" fill=\"#000000\" fill-rule=\"evenodd\" fill-opacity=\"1\" /><path clip-path=\"url(#clip220)\" d=\"M139.385 204.316 Q134.223 204.316 132.232 205.496 Q130.242 206.677 130.242 209.524 Q130.242 211.793 131.723 213.135 Q133.228 214.455 135.797 214.455 Q139.339 214.455 141.469 211.955 Q143.621 209.431 143.621 205.265 L143.621 204.316 L139.385 204.316 M147.881 202.556 L147.881 217.348 L143.621 217.348 L143.621 213.413 Q142.163 215.774 139.987 216.908 Q137.811 218.019 134.663 218.019 Q130.682 218.019 128.32 215.797 Q125.982 213.552 125.982 209.802 Q125.982 205.427 128.899 203.205 Q131.839 200.982 137.649 200.982 L143.621 200.982 L143.621 200.566 Q143.621 197.626 141.677 196.029 Q139.756 194.408 136.26 194.408 Q134.038 194.408 131.932 194.941 Q129.825 195.473 127.881 196.538 L127.881 192.603 Q130.219 191.7 132.418 191.26 Q134.617 190.797 136.7 190.797 Q142.325 190.797 145.103 193.714 Q147.881 196.631 147.881 202.556 Z\" fill=\"#000000\" fill-rule=\"evenodd\" fill-opacity=\"1\" /><path clip-path=\"url(#clip220)\" d=\"M171.677 195.404 Q170.959 194.987 170.103 194.802 Q169.269 194.594 168.251 194.594 Q164.64 194.594 162.695 196.955 Q160.774 199.293 160.774 203.691 L160.774 217.348 L156.492 217.348 L156.492 191.422 L160.774 191.422 L160.774 195.45 Q162.117 193.089 164.269 191.955 Q166.422 190.797 169.501 190.797 Q169.941 190.797 170.473 190.867 Q171.005 190.913 171.654 191.029 L171.677 195.404 Z\" fill=\"#000000\" fill-rule=\"evenodd\" fill-opacity=\"1\" /><g clip-path=\"url(#clip222)\">\n",
       "<image width=\"1374\" height=\"611\" xlink:href=\"data:image/png;base64,\n",
       "iVBORw0KGgoAAAANSUhEUgAABV4AAAJjCAYAAAD0/gp2AAAS3ElEQVR4nO3asWmVARSGYa+Q1uAE\n",
       "CdhJ0Eoki0gaF0jpCk6TLmQCgxPYSBACAdt7iyRWQYmtve//H8TnmeBrz8vZ3O62j08AyJ0cHE1P\n",
       "WNz9r4fpCYvb2zydnrCK8+9X0xMAAPhLXz68m56wiv3Xb6YnLO7Tx4vpCYv7/PPH9ITF/R/XJAAA\n",
       "AADAioRXAAAAAICY8AoAAAAAEBNeAQAAAABiwisAAAAAQEx4BQAAAACICa8AAAAAADHhFQAAAAAg\n",
       "JrwCAAAAAMSEVwAAAACAmPAKAAAAABATXgEAAAAAYsIrAAAAAEBMeAUAAAAAiAmvAAAAAAAx4RUA\n",
       "AAAAICa8AgAAAADEhFcAAAAAgJjwCgAAAAAQE14BAAAAAGLCKwAAAABATHgFAAAAAIgJrwAAAAAA\n",
       "MeEVAAAAACAmvAIAAAAAxIRXAAAAAICY8AoAAAAAEBNeAQAAAABiwisAAAAAQEx4BQAAAACICa8A\n",
       "AAAAADHhFQAAAAAgJrwCAAAAAMSEVwAAAACAmPAKAAAAABATXgEAAAAAYsIrAAAAAEBMeAUAAAAA\n",
       "iAmvAAAAAAAx4RUAAAAAICa8AgAAAADEhFcAAAAAgJjwCgAAAAAQE14BAAAAAGLCKwAAAABATHgF\n",
       "AAAAAIgJrwAAAAAAMeEVAAAAACAmvAIAAAAAxIRXAAAAAICY8AoAAAAAEBNeAQAAAABiwisAAAAA\n",
       "QEx4BQAAAACICa8AAAAAADHhFQAAAAAgJrwCAAAAAMSEVwAAAACAmPAKAAAAABATXgEAAAAAYsIr\n",
       "AAAAAEBMeAUAAAAAiAmvAAAAAAAx4RUAAAAAICa8AgAAAADEhFcAAAAAgJjwCgAAAAAQE14BAAAA\n",
       "AGLCKwAAAABATHgFAAAAAIgJrwAAAAAAMeEVAAAAACAmvAIAAAAAxIRXAAAAAICY8AoAAAAAEBNe\n",
       "AQAAAABiwisAAAAAQEx4BQAAAACICa8AAAAAADHhFQAAAAAgJrwCAAAAAMSEVwAAAACAmPAKAAAA\n",
       "ABATXgEAAAAAYsIrAAAAAEBMeAUAAAAAiAmvAAAAAAAx4RUAAAAAICa8AgAAAADEhFcAAAAAgJjw\n",
       "CgAAAAAQE14BAAAAAGLCKwAAAABATHgFAAAAAIgJrwAAAAAAMeEVAAAAACAmvAIAAAAAxIRXAAAA\n",
       "AICY8AoAAAAAEBNeAQAAAABiwisAAAAAQEx4BQAAAACICa8AAAAAADHhFQAAAAAgJrwCAAAAAMSE\n",
       "VwAAAACAmPAKAAAAABATXgEAAAAAYsIrAAAAAEBMeAUAAAAAiAmvAAAAAAAx4RUAAAAAICa8AgAA\n",
       "AADEhFcAAAAAgJjwCgAAAAAQE14BAAAAAGLCKwAAAABATHgFAAAAAIgJrwAAAAAAMeEVAAAAACAm\n",
       "vAIAAAAAxIRXAAAAAICY8AoAAAAAEBNeAQAAAABiwisAAAAAQEx4BQAAAACICa8AAAAAADHhFQAA\n",
       "AAAgJrwCAAAAAMSEVwAAAACAmPAKAAAAABATXgEAAAAAYsIrAAAAAEBMeAUAAAAAiAmvAAAAAAAx\n",
       "4RUAAAAAICa8AgAAAADEhFcAAAAAgJjwCgAAAAAQE14BAAAAAGLCKwAAAABATHgFAAAAAIgJrwAA\n",
       "AAAAMeEVAAAAACAmvAIAAAAAxIRXAAAAAICY8AoAAAAAEBNeAQAAAABiwisAAAAAQEx4BQAAAACI\n",
       "Ca8AAAAAADHhFQAAAAAgJrwCAAAAAMSEVwAAAACAmPAKAAAAABATXgEAAAAAYsIrAAAAAEBMeAUA\n",
       "AAAAiAmvAAAAAAAx4RUAAAAAICa8AgAAAADEhFcAAAAAgJjwCgAAAAAQE14BAAAAAGLCKwAAAABA\n",
       "THgFAAAAAIgJrwAAAAAAMeEVAAAAACAmvAIAAAAAxIRXAAAAAICY8AoAAAAAEBNeAQAAAABiwisA\n",
       "AAAAQEx4BQAAAACICa8AAAAAADHhFQAAAAAgJrwCAAAAAMSEVwAAAACAmPAKAAAAABATXgEAAAAA\n",
       "YsIrAAAAAEBMeAUAAAAAiAmvAAAAAAAx4RUAAAAAICa8AgAAAADEhFcAAAAAgJjwCgAAAAAQE14B\n",
       "AAAAAGLCKwAAAABATHgFAAAAAIgJrwAAAAAAMeEVAAAAACAmvAIAAAAAxIRXAAAAAICY8AoAAAAA\n",
       "EBNeAQAAAABiwisAAAAAQEx4BQAAAACICa8AAAAAADHhFQAAAAAgJrwCAAAAAMSEVwAAAACAmPAK\n",
       "AAAAABATXgEAAAAAYsIrAAAAAEBMeAUAAAAAiAmvAAAAAAAx4RUAAAAAICa8AgAAAADEhFcAAAAA\n",
       "gJjwCgAAAAAQE14BAAAAAGLCKwAAAABATHgFAAAAAIgJrwAAAAAAMeEVAAAAACAmvAIAAAAAxIRX\n",
       "AAAAAICY8AoAAAAAEBNeAQAAAABiwisAAAAAQEx4BQAAAACICa8AAAAAADHhFQAAAAAgJrwCAAAA\n",
       "AMSEVwAAAACAmPAKAAAAABATXgEAAAAAYsIrAAAAAEBMeAUAAAAAiAmvAAAAAAAx4RUAAAAAICa8\n",
       "AgAAAADEhFcAAAAAgJjwCgAAAAAQE14BAAAAAGLCKwAAAABATHgFAAAAAIgJrwAAAAAAMeEVAAAA\n",
       "ACAmvAIAAAAAxIRXAAAAAICY8AoAAAAAEBNeAQAAAABiwisAAAAAQEx4BQAAAACICa8AAAAAADHh\n",
       "FQAAAAAgJrwCAAAAAMSEVwAAAACAmPAKAAAAABATXgEAAAAAYsIrAAAAAEBMeAUAAAAAiAmvAAAA\n",
       "AAAx4RUAAAAAICa8AgAAAADEhFcAAAAAgJjwCgAAAAAQE14BAAAAAGLCKwAAAABATHgFAAAAAIgJ\n",
       "rwAAAAAAMeEVAAAAACAmvAIAAAAAxIRXAAAAAICY8AoAAAAAEBNeAQAAAABiwisAAAAAQEx4BQAA\n",
       "AACICa8AAAAAADHhFQAAAAAgJrwCAAAAAMSEVwAAAACAmPAKAAAAABATXgEAAAAAYsIrAAAAAEBM\n",
       "eAUAAAAAiAmvAAAAAAAx4RUAAAAAICa8AgAAAADEhFcAAAAAgJjwCgAAAAAQE14BAAAAAGLCKwAA\n",
       "AABATHgFAAAAAIgJrwAAAAAAMeEVAAAAACAmvAIAAAAAxIRXAAAAAICY8AoAAAAAEBNeAQAAAABi\n",
       "wisAAAAAQEx4BQAAAACICa8AAAAAADHhFQAAAAAgJrwCAAAAAMSEVwAAAACAmPAKAAAAABATXgEA\n",
       "AAAAYsIrAAAAAEBMeAUAAAAAiAmvAAAAAAAx4RUAAAAAICa8AgAAAADENre77eP0CAD+Te8PX01P\n",
       "WNzp2+fTE1ZxfHY5PQEAGHR3/XV6wuKevXg5PQH4w/3Nt+kJi/PxCgAAAAAQE14BAAAAAGLCKwAA\n",
       "AABATHgFAAAAAIgJrwAAAAAAMeEVAAAAACAmvAIAAAAAxIRXAAAAAICY8AoAAAAAEBNeAQAAAABi\n",
       "wisAAAAAQEx4BQAAAACICa8AAAAAADHhFQAAAAAgJrwCAAAAAMSEVwAAAACAmPAKAAAAABATXgEA\n",
       "AAAAYsIrAAAAAEBMeAUAAAAAiAmvAAAAAAAx4RUAAAAAICa8AgAAAADEhFcAAAAAgJjwCgAAAAAQ\n",
       "E14BAAAAAGLCKwAAAABATHgFAAAAAIgJrwAAAAAAMeEVAAAAACAmvAIAAAAAxIRXAAAAAICY8AoA\n",
       "AAAAEBNeAQAAAABiwisAAAAAQEx4BQAAAACICa8AAAAAADHhFQAAAAAgJrwCAAAAAMSEVwAAAACA\n",
       "mPAKAAAAABATXgEAAAAAYsIrAAAAAEBMeAUAAAAAiAmvAAAAAAAx4RUAAAAAICa8AgAAAADEhFcA\n",
       "AAAAgJjwCgAAAAAQE14BAAAAAGLCKwAAAABATHgFAAAAAIgJrwAAAAAAMeEVAAAAACAmvAIAAAAA\n",
       "xIRXAAAAAICY8AoAAAAAEBNeAQAAAABiwisAAAAAQEx4BQAAAACICa8AAAAAADHhFQAAAAAgJrwC\n",
       "AAAAAMSEVwAAAACAmPAKAAAAABATXgEAAAAAYsIrAAAAAEBMeAUAAAAAiAmvAAAAAAAx4RUAAAAA\n",
       "ICa8AgAAAADEhFcAAAAAgJjwCgAAAAAQE14BAAAAAGLCKwAAAABATHgFAAAAAIgJrwAAAAAAMeEV\n",
       "AAAAACAmvAIAAAAAxIRXAAAAAICY8AoAAAAAEBNeAQAAAABiwisAAAAAQEx4BQAAAACICa8AAAAA\n",
       "ADHhFQAAAAAgJrwCAAAAAMSEVwAAAACAmPAKAAAAABATXgEAAAAAYsIrAAAAAEBMeAUAAAAAiAmv\n",
       "AAAAAAAx4RUAAAAAICa8AgAAAADEhFcAAAAAgJjwCgAAAAAQE14BAAAAAGLCKwAAAABATHgFAAAA\n",
       "AIgJrwAAAAAAMeEVAAAAACAmvAIAAAAAxIRXAAAAAICY8AoAAAAAEBNeAQAAAABiwisAAAAAQEx4\n",
       "BQAAAACICa8AAAAAADHhFQAAAAAgJrwCAAAAAMSEVwAAAACAmPAKAAAAABATXgEAAAAAYsIrAAAA\n",
       "AEBMeAUAAAAAiAmvAAAAAAAx4RUAAAAAICa8AgAAAADEhFcAAAAAgJjwCgAAAAAQE14BAAAAAGLC\n",
       "KwAAAABATHgFAAAAAIgJrwAAAAAAMeEVAAAAACAmvAIAAAAAxIRXAAAAAICY8AoAAAAAEBNeAQAA\n",
       "AABiwisAAAAAQEx4BQAAAACICa8AAAAAADHhFQAAAAAgJrwCAAAAAMSEVwAAAACAmPAKAAAAABAT\n",
       "XgEAAAAAYsIrAAAAAEBMeAUAAAAAiAmvAAAAAAAx4RUAAAAAICa8AgAAAADEhFcAAAAAgJjwCgAA\n",
       "AAAQE14BAAAAAGLCKwAAAABATHgFAAAAAIgJrwAAAAAAMeEVAAAAACAmvAIAAAAAxIRXAAAAAICY\n",
       "8AoAAAAAEBNeAQAAAABiwisAAAAAQEx4BQAAAACICa8AAAAAADHhFQAAAAAgJrwCAAAAAMSEVwAA\n",
       "AACAmPAKAAAAABATXgEAAAAAYsIrAAAAAEBMeAUAAAAAiAmvAAAAAAAx4RUAAAAAICa8AgAAAADE\n",
       "hFcAAAAAgJjwCgAAAAAQE14BAAAAAGLCKwAAAABATHgFAAAAAIgJrwAAAAAAMeEVAAAAACAmvAIA\n",
       "AAAAxIRXAAAAAICY8AoAAAAAEBNeAQAAAABiwisAAAAAQEx4BQAAAACICa8AAAAAADHhFQAAAAAg\n",
       "JrwCAAAAAMSEVwAAAACAmPAKAAAAABATXgEAAAAAYsIrAAAAAEBMeAUAAAAAiAmvAAAAAAAx4RUA\n",
       "AAAAICa8AgAAAADEhFcAAAAAgJjwCgAAAAAQE14BAAAAAGLCKwAAAABATHgFAAAAAIgJrwAAAAAA\n",
       "MeEVAAAAACAmvAIAAAAAxIRXAAAAAICY8AoAAAAAEBNeAQAAAABiwisAAAAAQEx4BQAAAACICa8A\n",
       "AAAAADHhFQAAAAAgJrwCAAAAAMSEVwAAAACAmPAKAAAAABATXgEAAAAAYsIrAAAAAEBMeAUAAAAA\n",
       "iAmvAAAAAAAx4RUAAAAAICa8AgAAAADEhFcAAAAAgJjwCgAAAAAQE14BAAAAAGLCKwAAAABATHgF\n",
       "AAAAAIgJrwAAAAAAMeEVAAAAACAmvAIAAAAAxIRXAAAAAICY8AoAAAAAEBNeAQAAAABiwisAAAAA\n",
       "QEx4BQAAAACICa8AAAAAADHhFQAAAAAgJrwCAAAAAMSEVwAAAACAmPAKAAAAABATXgEAAAAAYsIr\n",
       "AAAAAEBMeAUAAAAAiAmvAAAAAAAx4RUAAAAAICa8AgAAAADEhFcAAAAAgJjwCgAAAAAQE14BAAAA\n",
       "AGLCKwAAAABATHgFAAAAAIgJrwAAAAAAMeEVAAAAACAmvAIAAAAAxIRXAAAAAICY8AoAAAAAEBNe\n",
       "AQAAAABiwisAAAAAQEx4BQAAAACICa8AAAAAADHhFQAAAAAgJrwCAAAAAMSEVwAAAACAmPAKAAAA\n",
       "ABATXgEAAAAAYsIrAAAAAEBMeAUAAAAAiAmvAAAAAAAx4RUAAAAAICa8AgAAAADEhFcAAAAAgJjw\n",
       "CgAAAAAQE14BAAAAAGLCKwAAAABATHgFAAAAAIgJrwAAAAAAMeEVAAAAACAmvAIAAAAAxIRXAAAA\n",
       "AICY8AoAAAAAEBNeAQAAAABiwisAAAAAQEx4BQAAAACICa8AAAAAADHhFQAAAAAgJrwCAAAAAMSE\n",
       "VwAAAACAmPAKAAAAABATXgEAAAAAYsIrAAAAAEBMeAUAAAAAiAmvAAAAAAAx4RUAAAAAICa8AgAA\n",
       "AADEhFcAAAAAgJjwCgAAAAAQE14BAAAAAGLCKwAAAABATHgFAAAAAIgJrwAAAAAAMeEVAAAAACAm\n",
       "vAIAAAAAxIRXAAAAAICY8AoAAAAAEBNeAQAAAABiwisAAAAAQEx4BQAAAACICa8AAAAAADHhFQAA\n",
       "AAAgJrwCAAAAAMSEVwAAAACA2G/xHSG4lhvsYQAAAABJRU5ErkJggg==\n",
       "\" transform=\"translate(199, 47)\"/>\n",
       "</g>\n",
       "<defs>\n",
       "  <clipPath id=\"clip223\">\n",
       "    <rect x=\"1608\" y=\"47\" width=\"55\" height=\"612\"/>\n",
       "  </clipPath>\n",
       "</defs>\n",
       "<g clip-path=\"url(#clip223)\">\n",
       "<image width=\"54\" height=\"611\" xlink:href=\"data:image/png;base64,\n",
       "iVBORw0KGgoAAAANSUhEUgAAADYAAAJjCAYAAABHmeKwAAAEKElEQVR4nO3dwW3kMBREQVHgZY/O\n",
       "x/mn5Y1iMHiNqgjcoNT8pLXe8/vv5+8Z9H77B/iU2WD3POfbP8NHWLGa2RWbDXY3H8TlFXvP5prt\n",
       "rtjmeg2v2Gwwk0fNfa1Yy2ywOzp4LK+Y8mixYjWzwe5qstVczz2jO/Tsis0Gc+dRY/KocTVQMxtM\n",
       "3deYFWucx2pmg5kVa2zQNbPBlEeNyaPGO1YzG8xBs0bd18wGs4/VOGjWqPua2WDqvkbd1/hqoGY2\n",
       "mPKosUHXzAZzbKlRHjU26JrZYOq+Rt3XzAazj9Wo+xp1XzMbTN3XqPua2WDKo8bkUaPua2aDqfsa\n",
       "K1aj7mtmg93zt1kfwyv27Z/gQ2ZXbDaYfazGn6yuUfc1s8HUfY3yqJkN5lGssWI1Nuia2WDKo8bV\n",
       "QM19n8n/cn13xWaDKY8aG3TNbDCPYo26r3E1UDMbTHnU3HMcNFNmg5kVa9R9jRWrmQ12X5NHi/Ko\n",
       "mQ3mUawx3dd4x2pmg7mlqlEeNVasZjbYPaPRRmMpj57ZYGbFGuVRY8VqZoN5FGvu6J8w3V2x2WDK\n",
       "o8bVQI13rGY2mEexxorV3NVoo7GGgymPGitWMxvMo1hj8qjxjtXMBrtn9FncXbHVaKOxhoPZx2rU\n",
       "fY26r5kNpu5r7jO6ZLsrdl4rljIbzPeKNab7mtlgvlesMSvWqPua2WD3cWxpcZlTMxvM5FHjlqrG\n",
       "O1YzG8yxpUZ51MwGM3nUKI8aK1YzG8ysWOMmuMY7VjMbzORRozxqZoOZPGqUR819Rr/r20z1DAcz\n",
       "K9a4u6+ZDaY8asyKNWbFmtlg6r7GrFjjHauZDWZWrDEr1swGs4/VmBVr1H3NbDCzYo0NumY2mEex\n",
       "5h6TR4vP+mpmg5kVaxw0a2aDmRVr1H2Nuq+ZDebYUqPua9R9zWww032Nuq+ZDWYfq1EeNc5jNbPB\n",
       "1H2Nuq+ZDaY8alwN1Kj7mtlg6r7GQbPGN8E1s8HMijVWrGY2mH2sRnnUOI/VzAbzZy9q1H3NbDD7\n",
       "WI1fStR4x2pmgymPGrNizX3ezWybqZ7hYOq+xqxYMxvM5FHjF3813rGa2WAexRp1XzMbzMfONQ6a\n",
       "NS5zamaDKY8a033NbDD7WI26r3Eeq5kN5paqxqxYY4OumQ1muq9RHjWzwUweNf7xaY26r5kNpu5r\n",
       "XObUzAZTHjUmjxqXOTWzwfyr2hrlUWOkqpkNZlasUfc1s8GUR43vFWvcBNfMBnNsqbFB18wGc2yp\n",
       "UR41PhKrmQ1mVqxR9zWzwcyKNcqjxjtWMxvMJ0c1pvsadV8zG8ysWKM8amaDKY8anxzV+OSoZjaY\n",
       "g2aN8qiZDaY8ahw0a9zd18wGU/c1ZsUa71jNbDCzYo1ZsWY2mPKo8Yu/Gu9YzWwwx5aae8yKLbPB\n",
       "lEeNe8Uas2LNbDB1X6Pua/4DxBsQjFQoBX0AAAAASUVORK5CYII=\n",
       "\" transform=\"translate(1609, 47)\"/>\n",
       "</g>\n",
       "<path clip-path=\"url(#clip220)\" d=\"M1701.7 640.71 Q1698.09 640.71 1696.26 644.275 Q1694.45 647.816 1694.45 654.946 Q1694.45 662.052 1696.26 665.617 Q1698.09 669.159 1701.7 669.159 Q1705.33 669.159 1707.14 665.617 Q1708.97 662.052 1708.97 654.946 Q1708.97 647.816 1707.14 644.275 Q1705.33 640.71 1701.7 640.71 M1701.7 637.006 Q1707.51 637.006 1710.57 641.613 Q1713.64 646.196 1713.64 654.946 Q1713.64 663.673 1710.57 668.279 Q1707.51 672.862 1701.7 672.862 Q1695.89 672.862 1692.81 668.279 Q1689.76 663.673 1689.76 654.946 Q1689.76 646.196 1692.81 641.613 Q1695.89 637.006 1701.7 637.006 Z\" fill=\"#000000\" fill-rule=\"evenodd\" fill-opacity=\"1\" /><path clip-path=\"url(#clip220)\" d=\"M1695.38 519.33 L1711.7 519.33 L1711.7 523.265 L1689.76 523.265 L1689.76 519.33 Q1692.42 516.575 1697 511.945 Q1701.61 507.293 1702.79 505.95 Q1705.03 503.427 1705.91 501.691 Q1706.82 499.932 1706.82 498.242 Q1706.82 495.487 1704.87 493.751 Q1702.95 492.015 1699.85 492.015 Q1697.65 492.015 1695.2 492.779 Q1692.77 493.543 1689.99 495.094 L1689.99 490.371 Q1692.81 489.237 1695.27 488.659 Q1697.72 488.08 1699.76 488.08 Q1705.13 488.08 1708.32 490.765 Q1711.52 493.45 1711.52 497.941 Q1711.52 500.07 1710.7 501.992 Q1709.92 503.89 1707.81 506.482 Q1707.23 507.154 1704.13 510.371 Q1701.03 513.566 1695.38 519.33 Z\" fill=\"#000000\" fill-rule=\"evenodd\" fill-opacity=\"1\" /><path clip-path=\"url(#clip220)\" d=\"M1721.51 517.385 L1726.4 517.385 L1726.4 523.265 L1721.51 523.265 L1721.51 517.385 Z\" fill=\"#000000\" fill-rule=\"evenodd\" fill-opacity=\"1\" /><path clip-path=\"url(#clip220)\" d=\"M1736.63 488.705 L1754.99 488.705 L1754.99 492.64 L1740.91 492.64 L1740.91 501.112 Q1741.93 500.765 1742.95 500.603 Q1743.97 500.418 1744.99 500.418 Q1750.77 500.418 1754.15 503.589 Q1757.53 506.76 1757.53 512.177 Q1757.53 517.756 1754.06 520.857 Q1750.59 523.936 1744.27 523.936 Q1742.09 523.936 1739.83 523.566 Q1737.58 523.195 1735.17 522.455 L1735.17 517.756 Q1737.26 518.89 1739.48 519.445 Q1741.7 520.001 1744.18 520.001 Q1748.18 520.001 1750.52 517.894 Q1752.86 515.788 1752.86 512.177 Q1752.86 508.566 1750.52 506.459 Q1748.18 504.353 1744.18 504.353 Q1742.3 504.353 1740.43 504.77 Q1738.58 505.186 1736.63 506.066 L1736.63 488.705 Z\" fill=\"#000000\" fill-rule=\"evenodd\" fill-opacity=\"1\" /><path clip-path=\"url(#clip220)\" d=\"M1691.21 339.779 L1709.57 339.779 L1709.57 343.714 L1695.5 343.714 L1695.5 352.186 Q1696.52 351.839 1697.53 351.677 Q1698.55 351.491 1699.57 351.491 Q1705.36 351.491 1708.74 354.663 Q1712.12 357.834 1712.12 363.251 Q1712.12 368.829 1708.64 371.931 Q1705.17 375.01 1698.85 375.01 Q1696.68 375.01 1694.41 374.64 Q1692.16 374.269 1689.76 373.528 L1689.76 368.829 Q1691.84 369.964 1694.06 370.519 Q1696.28 371.075 1698.76 371.075 Q1702.77 371.075 1705.1 368.968 Q1707.44 366.862 1707.44 363.251 Q1707.44 359.64 1705.1 357.533 Q1702.77 355.427 1698.76 355.427 Q1696.89 355.427 1695.01 355.843 Q1693.16 356.26 1691.21 357.14 L1691.21 339.779 Z\" fill=\"#000000\" fill-rule=\"evenodd\" fill-opacity=\"1\" /><path clip-path=\"url(#clip220)\" d=\"M1721.33 368.459 L1726.21 368.459 L1726.21 374.339 L1721.33 374.339 L1721.33 368.459 Z\" fill=\"#000000\" fill-rule=\"evenodd\" fill-opacity=\"1\" /><path clip-path=\"url(#clip220)\" d=\"M1746.4 342.857 Q1742.79 342.857 1740.96 346.422 Q1739.15 349.964 1739.15 357.093 Q1739.15 364.2 1740.96 367.765 Q1742.79 371.306 1746.4 371.306 Q1750.03 371.306 1751.84 367.765 Q1753.67 364.2 1753.67 357.093 Q1753.67 349.964 1751.84 346.422 Q1750.03 342.857 1746.4 342.857 M1746.4 339.154 Q1752.21 339.154 1755.26 343.76 Q1758.34 348.343 1758.34 357.093 Q1758.34 365.82 1755.26 370.427 Q1752.21 375.01 1746.4 375.01 Q1740.59 375.01 1737.51 370.427 Q1734.45 365.82 1734.45 357.093 Q1734.45 348.343 1737.51 343.76 Q1740.59 339.154 1746.4 339.154 Z\" fill=\"#000000\" fill-rule=\"evenodd\" fill-opacity=\"1\" /><path clip-path=\"url(#clip220)\" d=\"M1689.76 190.852 L1711.98 190.852 L1711.98 192.843 L1699.43 225.412 L1694.55 225.412 L1706.35 194.788 L1689.76 194.788 L1689.76 190.852 Z\" fill=\"#000000\" fill-rule=\"evenodd\" fill-opacity=\"1\" /><path clip-path=\"url(#clip220)\" d=\"M1721.1 219.533 L1725.98 219.533 L1725.98 225.412 L1721.1 225.412 L1721.1 219.533 Z\" fill=\"#000000\" fill-rule=\"evenodd\" fill-opacity=\"1\" /><path clip-path=\"url(#clip220)\" d=\"M1736.21 190.852 L1754.57 190.852 L1754.57 194.788 L1740.5 194.788 L1740.5 203.26 Q1741.51 202.912 1742.53 202.75 Q1743.55 202.565 1744.57 202.565 Q1750.36 202.565 1753.74 205.737 Q1757.12 208.908 1757.12 214.324 Q1757.12 219.903 1753.64 223.005 Q1750.17 226.084 1743.85 226.084 Q1741.68 226.084 1739.41 225.713 Q1737.16 225.343 1734.76 224.602 L1734.76 219.903 Q1736.84 221.037 1739.06 221.593 Q1741.28 222.148 1743.76 222.148 Q1747.76 222.148 1750.1 220.042 Q1752.44 217.936 1752.44 214.324 Q1752.44 210.713 1750.1 208.607 Q1747.76 206.5 1743.76 206.5 Q1741.89 206.5 1740.01 206.917 Q1738.16 207.334 1736.21 208.213 L1736.21 190.852 Z\" fill=\"#000000\" fill-rule=\"evenodd\" fill-opacity=\"1\" /><path clip-path=\"url(#clip220)\" d=\"M1690.43 72.551 L1698.07 72.551 L1698.07 46.1854 L1689.76 47.852 L1689.76 43.5928 L1698.02 41.9261 L1702.7 41.9261 L1702.7 72.551 L1710.33 72.551 L1710.33 76.4861 L1690.43 76.4861 L1690.43 72.551 Z\" fill=\"#000000\" fill-rule=\"evenodd\" fill-opacity=\"1\" /><path clip-path=\"url(#clip220)\" d=\"M1729.78 45.0048 Q1726.17 45.0048 1724.34 48.5696 Q1722.53 52.1113 1722.53 59.2408 Q1722.53 66.3473 1724.34 69.9121 Q1726.17 73.4537 1729.78 73.4537 Q1733.41 73.4537 1735.22 69.9121 Q1737.05 66.3473 1737.05 59.2408 Q1737.05 52.1113 1735.22 48.5696 Q1733.41 45.0048 1729.78 45.0048 M1729.78 41.3011 Q1735.59 41.3011 1738.64 45.9076 Q1741.72 50.4909 1741.72 59.2408 Q1741.72 67.9677 1738.64 72.5741 Q1735.59 77.1574 1729.78 77.1574 Q1723.97 77.1574 1720.89 72.5741 Q1717.83 67.9677 1717.83 59.2408 Q1717.83 50.4909 1720.89 45.9076 Q1723.97 41.3011 1729.78 41.3011 Z\" fill=\"#000000\" fill-rule=\"evenodd\" fill-opacity=\"1\" /><path clip-path=\"url(#clip220)\" d=\"M1749.94 70.6065 L1754.83 70.6065 L1754.83 76.4861 L1749.94 76.4861 L1749.94 70.6065 Z\" fill=\"#000000\" fill-rule=\"evenodd\" fill-opacity=\"1\" /><path clip-path=\"url(#clip220)\" d=\"M1775.01 45.0048 Q1771.4 45.0048 1769.57 48.5696 Q1767.76 52.1113 1767.76 59.2408 Q1767.76 66.3473 1769.57 69.9121 Q1771.4 73.4537 1775.01 73.4537 Q1778.64 73.4537 1780.45 69.9121 Q1782.28 66.3473 1782.28 59.2408 Q1782.28 52.1113 1780.45 48.5696 Q1778.64 45.0048 1775.01 45.0048 M1775.01 41.3011 Q1780.82 41.3011 1783.88 45.9076 Q1786.95 50.4909 1786.95 59.2408 Q1786.95 67.9677 1783.88 72.5741 Q1780.82 77.1574 1775.01 77.1574 Q1769.2 77.1574 1766.12 72.5741 Q1763.07 67.9677 1763.07 59.2408 Q1763.07 50.4909 1766.12 45.9076 Q1769.2 41.3011 1775.01 41.3011 Z\" fill=\"#000000\" fill-rule=\"evenodd\" fill-opacity=\"1\" /><polyline clip-path=\"url(#clip220)\" style=\"stroke:#000000; stroke-linecap:butt; stroke-linejoin:round; stroke-width:4; stroke-opacity:1; fill:none\" points=\"\n",
       "  1662.76,658.54 1662.76,658.54 1680.76,658.54 1662.76,658.54 1662.76,509.614 1680.76,509.614 1662.76,509.614 1662.76,360.687 1680.76,360.687 1662.76,360.687 \n",
       "  1662.76,211.761 1680.76,211.761 1662.76,211.761 1662.76,62.8349 1680.76,62.8349 1662.76,62.8349 1662.76,47.2441 \n",
       "  \"/>\n",
       "</svg>\n"
      ]
     },
     "execution_count": 13,
     "metadata": {},
     "output_type": "execute_result"
    }
   ],
   "source": [
    "s_diff[1:1,12:20] .=0;\n",
    "p=heatmap([xLabels],[\"Wind\",\"Solar\"],[w_diff;s_diff],c=cgrad(:amp),size = (450,200),xlabel=\"Time\")\n",
    "p\n",
    "#savefig(p,\"st-wastage.svg\")"
   ]
  },
  {
   "cell_type": "code",
   "execution_count": 14,
   "metadata": {},
   "outputs": [
    {
     "data": {
      "image/svg+xml": [
       "<?xml version=\"1.0\" encoding=\"utf-8\"?>\n",
       "<svg xmlns=\"http://www.w3.org/2000/svg\" xmlns:xlink=\"http://www.w3.org/1999/xlink\" width=\"450\" height=\"250\" viewBox=\"0 0 1800 1000\">\n",
       "<defs>\n",
       "  <clipPath id=\"clip260\">\n",
       "    <rect x=\"0\" y=\"0\" width=\"1800\" height=\"1000\"/>\n",
       "  </clipPath>\n",
       "</defs>\n",
       "<path clip-path=\"url(#clip260)\" d=\"\n",
       "M0 1000 L1800 1000 L1800 0 L0 0  Z\n",
       "  \" fill=\"#ffffff\" fill-rule=\"evenodd\" fill-opacity=\"1\"/>\n",
       "<defs>\n",
       "  <clipPath id=\"clip261\">\n",
       "    <rect x=\"360\" y=\"0\" width=\"1261\" height=\"1000\"/>\n",
       "  </clipPath>\n",
       "</defs>\n",
       "<path clip-path=\"url(#clip260)\" d=\"\n",
       "M355.783 842.86 L1752.76 842.86 L1752.76 47.2441 L355.783 47.2441  Z\n",
       "  \" fill=\"#ffffff\" fill-rule=\"evenodd\" fill-opacity=\"1\"/>\n",
       "<defs>\n",
       "  <clipPath id=\"clip262\">\n",
       "    <rect x=\"355\" y=\"47\" width=\"1398\" height=\"797\"/>\n",
       "  </clipPath>\n",
       "</defs>\n",
       "<polyline clip-path=\"url(#clip262)\" style=\"stroke:#000000; stroke-linecap:butt; stroke-linejoin:round; stroke-width:2; stroke-opacity:0.1; fill:none\" points=\"\n",
       "  624.52,842.86 624.52,47.2441 \n",
       "  \"/>\n",
       "<polyline clip-path=\"url(#clip262)\" style=\"stroke:#000000; stroke-linecap:butt; stroke-linejoin:round; stroke-width:2; stroke-opacity:0.1; fill:none\" points=\"\n",
       "  911.02,842.86 911.02,47.2441 \n",
       "  \"/>\n",
       "<polyline clip-path=\"url(#clip262)\" style=\"stroke:#000000; stroke-linecap:butt; stroke-linejoin:round; stroke-width:2; stroke-opacity:0.1; fill:none\" points=\"\n",
       "  1197.52,842.86 1197.52,47.2441 \n",
       "  \"/>\n",
       "<polyline clip-path=\"url(#clip262)\" style=\"stroke:#000000; stroke-linecap:butt; stroke-linejoin:round; stroke-width:2; stroke-opacity:0.1; fill:none\" points=\"\n",
       "  1484.02,842.86 1484.02,47.2441 \n",
       "  \"/>\n",
       "<polyline clip-path=\"url(#clip260)\" style=\"stroke:#000000; stroke-linecap:butt; stroke-linejoin:round; stroke-width:4; stroke-opacity:1; fill:none\" points=\"\n",
       "  355.783,842.86 1752.76,842.86 \n",
       "  \"/>\n",
       "<polyline clip-path=\"url(#clip260)\" style=\"stroke:#000000; stroke-linecap:butt; stroke-linejoin:round; stroke-width:4; stroke-opacity:1; fill:none\" points=\"\n",
       "  624.52,842.86 624.52,823.962 \n",
       "  \"/>\n",
       "<polyline clip-path=\"url(#clip260)\" style=\"stroke:#000000; stroke-linecap:butt; stroke-linejoin:round; stroke-width:4; stroke-opacity:1; fill:none\" points=\"\n",
       "  911.02,842.86 911.02,823.962 \n",
       "  \"/>\n",
       "<polyline clip-path=\"url(#clip260)\" style=\"stroke:#000000; stroke-linecap:butt; stroke-linejoin:round; stroke-width:4; stroke-opacity:1; fill:none\" points=\"\n",
       "  1197.52,842.86 1197.52,823.962 \n",
       "  \"/>\n",
       "<polyline clip-path=\"url(#clip260)\" style=\"stroke:#000000; stroke-linecap:butt; stroke-linejoin:round; stroke-width:4; stroke-opacity:1; fill:none\" points=\"\n",
       "  1484.02,842.86 1484.02,823.962 \n",
       "  \"/>\n",
       "<path clip-path=\"url(#clip260)\" d=\"M614.798 865.9 L633.154 865.9 L633.154 869.835 L619.08 869.835 L619.08 878.307 Q620.099 877.96 621.117 877.798 Q622.136 877.613 623.154 877.613 Q628.941 877.613 632.321 880.784 Q635.701 883.955 635.701 889.372 Q635.701 894.951 632.228 898.052 Q628.756 901.131 622.437 901.131 Q620.261 901.131 617.992 900.761 Q615.747 900.39 613.34 899.65 L613.34 894.951 Q615.423 896.085 617.645 896.64 Q619.867 897.196 622.344 897.196 Q626.349 897.196 628.687 895.09 Q631.025 892.983 631.025 889.372 Q631.025 885.761 628.687 883.654 Q626.349 881.548 622.344 881.548 Q620.469 881.548 618.594 881.965 Q616.742 882.381 614.798 883.261 L614.798 865.9 Z\" fill=\"#000000\" fill-rule=\"evenodd\" fill-opacity=\"1\" /><path clip-path=\"url(#clip260)\" d=\"M885.707 896.525 L893.346 896.525 L893.346 870.159 L885.036 871.826 L885.036 867.567 L893.3 865.9 L897.976 865.9 L897.976 896.525 L905.615 896.525 L905.615 900.46 L885.707 900.46 L885.707 896.525 Z\" fill=\"#000000\" fill-rule=\"evenodd\" fill-opacity=\"1\" /><path clip-path=\"url(#clip260)\" d=\"M925.059 868.979 Q921.448 868.979 919.619 872.543 Q917.814 876.085 917.814 883.215 Q917.814 890.321 919.619 893.886 Q921.448 897.427 925.059 897.427 Q928.693 897.427 930.499 893.886 Q932.328 890.321 932.328 883.215 Q932.328 876.085 930.499 872.543 Q928.693 868.979 925.059 868.979 M925.059 865.275 Q930.869 865.275 933.925 869.881 Q937.003 874.465 937.003 883.215 Q937.003 891.941 933.925 896.548 Q930.869 901.131 925.059 901.131 Q919.249 901.131 916.17 896.548 Q913.115 891.941 913.115 883.215 Q913.115 874.465 916.17 869.881 Q919.249 865.275 925.059 865.275 Z\" fill=\"#000000\" fill-rule=\"evenodd\" fill-opacity=\"1\" /><path clip-path=\"url(#clip260)\" d=\"M1172.7 896.525 L1180.34 896.525 L1180.34 870.159 L1172.03 871.826 L1172.03 867.567 L1180.3 865.9 L1184.97 865.9 L1184.97 896.525 L1192.61 896.525 L1192.61 900.46 L1172.7 900.46 L1172.7 896.525 Z\" fill=\"#000000\" fill-rule=\"evenodd\" fill-opacity=\"1\" /><path clip-path=\"url(#clip260)\" d=\"M1202.1 865.9 L1220.46 865.9 L1220.46 869.835 L1206.39 869.835 L1206.39 878.307 Q1207.4 877.96 1208.42 877.798 Q1209.44 877.613 1210.46 877.613 Q1216.25 877.613 1219.63 880.784 Q1223.01 883.955 1223.01 889.372 Q1223.01 894.951 1219.53 898.052 Q1216.06 901.131 1209.74 901.131 Q1207.57 901.131 1205.3 900.761 Q1203.05 900.39 1200.64 899.65 L1200.64 894.951 Q1202.73 896.085 1204.95 896.64 Q1207.17 897.196 1209.65 897.196 Q1213.65 897.196 1215.99 895.09 Q1218.33 892.983 1218.33 889.372 Q1218.33 885.761 1215.99 883.654 Q1213.65 881.548 1209.65 881.548 Q1207.77 881.548 1205.9 881.965 Q1204.05 882.381 1202.1 883.261 L1202.1 865.9 Z\" fill=\"#000000\" fill-rule=\"evenodd\" fill-opacity=\"1\" /><path clip-path=\"url(#clip260)\" d=\"M1462.79 896.525 L1479.11 896.525 L1479.11 900.46 L1457.17 900.46 L1457.17 896.525 Q1459.83 893.77 1464.41 889.14 Q1469.02 884.488 1470.2 883.145 Q1472.45 880.622 1473.32 878.886 Q1474.23 877.127 1474.23 875.437 Q1474.23 872.682 1472.28 870.946 Q1470.36 869.21 1467.26 869.21 Q1465.06 869.21 1462.61 869.974 Q1460.18 870.738 1457.4 872.289 L1457.4 867.567 Q1460.22 866.432 1462.68 865.854 Q1465.13 865.275 1467.17 865.275 Q1472.54 865.275 1475.73 867.96 Q1478.93 870.645 1478.93 875.136 Q1478.93 877.266 1478.12 879.187 Q1477.33 881.085 1475.22 883.678 Q1474.64 884.349 1471.54 887.566 Q1468.44 890.761 1462.79 896.525 Z\" fill=\"#000000\" fill-rule=\"evenodd\" fill-opacity=\"1\" /><path clip-path=\"url(#clip260)\" d=\"M1498.93 868.979 Q1495.32 868.979 1493.49 872.543 Q1491.68 876.085 1491.68 883.215 Q1491.68 890.321 1493.49 893.886 Q1495.32 897.427 1498.93 897.427 Q1502.56 897.427 1504.37 893.886 Q1506.2 890.321 1506.2 883.215 Q1506.2 876.085 1504.37 872.543 Q1502.56 868.979 1498.93 868.979 M1498.93 865.275 Q1504.74 865.275 1507.79 869.881 Q1510.87 874.465 1510.87 883.215 Q1510.87 891.941 1507.79 896.548 Q1504.74 901.131 1498.93 901.131 Q1493.12 901.131 1490.04 896.548 Q1486.98 891.941 1486.98 883.215 Q1486.98 874.465 1490.04 869.881 Q1493.12 865.275 1498.93 865.275 Z\" fill=\"#000000\" fill-rule=\"evenodd\" fill-opacity=\"1\" /><path clip-path=\"url(#clip260)\" d=\"M976.147 931.204 L1016.35 931.204 L1016.35 936.615 L999.477 936.615 L999.477 978.724 L993.016 978.724 L993.016 936.615 L976.147 936.615 L976.147 931.204 Z\" fill=\"#000000\" fill-rule=\"evenodd\" fill-opacity=\"1\" /><path clip-path=\"url(#clip260)\" d=\"M1020.29 943.076 L1026.15 943.076 L1026.15 978.724 L1020.29 978.724 L1020.29 943.076 M1020.29 929.199 L1026.15 929.199 L1026.15 936.615 L1020.29 936.615 L1020.29 929.199 Z\" fill=\"#000000\" fill-rule=\"evenodd\" fill-opacity=\"1\" /><path clip-path=\"url(#clip260)\" d=\"M1066.16 949.919 Q1068.35 945.972 1071.41 944.094 Q1074.46 942.217 1078.6 942.217 Q1084.17 942.217 1087.2 946.131 Q1090.22 950.015 1090.22 957.208 L1090.22 978.724 L1084.33 978.724 L1084.33 957.399 Q1084.33 952.274 1082.52 949.792 Q1080.7 947.309 1076.98 947.309 Q1072.43 947.309 1069.79 950.333 Q1067.14 953.357 1067.14 958.576 L1067.14 978.724 L1061.26 978.724 L1061.26 957.399 Q1061.26 952.243 1059.44 949.792 Q1057.63 947.309 1053.84 947.309 Q1049.35 947.309 1046.71 950.365 Q1044.07 953.388 1044.07 958.576 L1044.07 978.724 L1038.18 978.724 L1038.18 943.076 L1044.07 943.076 L1044.07 948.614 Q1046.07 945.336 1048.87 943.776 Q1051.68 942.217 1055.53 942.217 Q1059.41 942.217 1062.12 944.19 Q1064.85 946.163 1066.16 949.919 Z\" fill=\"#000000\" fill-rule=\"evenodd\" fill-opacity=\"1\" /><path clip-path=\"url(#clip260)\" d=\"M1132.39 959.436 L1132.39 962.3 L1105.47 962.3 Q1105.85 968.348 1109.09 971.531 Q1112.37 974.682 1118.2 974.682 Q1121.57 974.682 1124.72 973.854 Q1127.9 973.027 1131.02 971.371 L1131.02 976.91 Q1127.87 978.246 1124.56 978.947 Q1121.25 979.647 1117.85 979.647 Q1109.32 979.647 1104.32 974.682 Q1099.35 969.716 1099.35 961.25 Q1099.35 952.497 1104.07 947.373 Q1108.81 942.217 1116.83 942.217 Q1124.02 942.217 1128.19 946.863 Q1132.39 951.479 1132.39 959.436 M1126.54 957.717 Q1126.47 952.911 1123.83 950.046 Q1121.22 947.182 1116.89 947.182 Q1111.99 947.182 1109.03 949.951 Q1106.1 952.72 1105.66 957.749 L1126.54 957.717 Z\" fill=\"#000000\" fill-rule=\"evenodd\" fill-opacity=\"1\" /><polyline clip-path=\"url(#clip262)\" style=\"stroke:#000000; stroke-linecap:butt; stroke-linejoin:round; stroke-width:2; stroke-opacity:0.1; fill:none\" points=\"\n",
       "  355.783,839.126 1752.76,839.126 \n",
       "  \"/>\n",
       "<polyline clip-path=\"url(#clip262)\" style=\"stroke:#000000; stroke-linecap:butt; stroke-linejoin:round; stroke-width:2; stroke-opacity:0.1; fill:none\" points=\"\n",
       "  355.783,697.334 1752.76,697.334 \n",
       "  \"/>\n",
       "<polyline clip-path=\"url(#clip262)\" style=\"stroke:#000000; stroke-linecap:butt; stroke-linejoin:round; stroke-width:2; stroke-opacity:0.1; fill:none\" points=\"\n",
       "  355.783,555.543 1752.76,555.543 \n",
       "  \"/>\n",
       "<polyline clip-path=\"url(#clip262)\" style=\"stroke:#000000; stroke-linecap:butt; stroke-linejoin:round; stroke-width:2; stroke-opacity:0.1; fill:none\" points=\"\n",
       "  355.783,413.751 1752.76,413.751 \n",
       "  \"/>\n",
       "<polyline clip-path=\"url(#clip262)\" style=\"stroke:#000000; stroke-linecap:butt; stroke-linejoin:round; stroke-width:2; stroke-opacity:0.1; fill:none\" points=\"\n",
       "  355.783,271.959 1752.76,271.959 \n",
       "  \"/>\n",
       "<polyline clip-path=\"url(#clip262)\" style=\"stroke:#000000; stroke-linecap:butt; stroke-linejoin:round; stroke-width:2; stroke-opacity:0.1; fill:none\" points=\"\n",
       "  355.783,130.168 1752.76,130.168 \n",
       "  \"/>\n",
       "<polyline clip-path=\"url(#clip260)\" style=\"stroke:#000000; stroke-linecap:butt; stroke-linejoin:round; stroke-width:4; stroke-opacity:1; fill:none\" points=\"\n",
       "  355.783,842.86 355.783,47.2441 \n",
       "  \"/>\n",
       "<polyline clip-path=\"url(#clip260)\" style=\"stroke:#000000; stroke-linecap:butt; stroke-linejoin:round; stroke-width:4; stroke-opacity:1; fill:none\" points=\"\n",
       "  355.783,839.126 374.681,839.126 \n",
       "  \"/>\n",
       "<polyline clip-path=\"url(#clip260)\" style=\"stroke:#000000; stroke-linecap:butt; stroke-linejoin:round; stroke-width:4; stroke-opacity:1; fill:none\" points=\"\n",
       "  355.783,697.334 374.681,697.334 \n",
       "  \"/>\n",
       "<polyline clip-path=\"url(#clip260)\" style=\"stroke:#000000; stroke-linecap:butt; stroke-linejoin:round; stroke-width:4; stroke-opacity:1; fill:none\" points=\"\n",
       "  355.783,555.543 374.681,555.543 \n",
       "  \"/>\n",
       "<polyline clip-path=\"url(#clip260)\" style=\"stroke:#000000; stroke-linecap:butt; stroke-linejoin:round; stroke-width:4; stroke-opacity:1; fill:none\" points=\"\n",
       "  355.783,413.751 374.681,413.751 \n",
       "  \"/>\n",
       "<polyline clip-path=\"url(#clip260)\" style=\"stroke:#000000; stroke-linecap:butt; stroke-linejoin:round; stroke-width:4; stroke-opacity:1; fill:none\" points=\"\n",
       "  355.783,271.959 374.681,271.959 \n",
       "  \"/>\n",
       "<polyline clip-path=\"url(#clip260)\" style=\"stroke:#000000; stroke-linecap:butt; stroke-linejoin:round; stroke-width:4; stroke-opacity:1; fill:none\" points=\"\n",
       "  355.783,130.168 374.681,130.168 \n",
       "  \"/>\n",
       "<path clip-path=\"url(#clip260)\" d=\"M316.839 824.925 Q313.228 824.925 311.399 828.49 Q309.594 832.031 309.594 839.161 Q309.594 846.267 311.399 849.832 Q313.228 853.374 316.839 853.374 Q320.473 853.374 322.279 849.832 Q324.108 846.267 324.108 839.161 Q324.108 832.031 322.279 828.49 Q320.473 824.925 316.839 824.925 M316.839 821.221 Q322.649 821.221 325.705 825.827 Q328.783 830.411 328.783 839.161 Q328.783 847.888 325.705 852.494 Q322.649 857.077 316.839 857.077 Q311.029 857.077 307.95 852.494 Q304.895 847.888 304.895 839.161 Q304.895 830.411 307.95 825.827 Q311.029 821.221 316.839 821.221 Z\" fill=\"#000000\" fill-rule=\"evenodd\" fill-opacity=\"1\" /><path clip-path=\"url(#clip260)\" d=\"M112.958 686.502 L131.315 686.502 L131.315 690.437 L117.241 690.437 L117.241 698.909 Q118.259 698.562 119.278 698.4 Q120.296 698.215 121.315 698.215 Q127.102 698.215 130.482 701.386 Q133.861 704.557 133.861 709.974 Q133.861 715.553 130.389 718.655 Q126.917 721.733 120.597 721.733 Q118.421 721.733 116.153 721.363 Q113.908 720.993 111.5 720.252 L111.5 715.553 Q113.583 716.687 115.806 717.243 Q118.028 717.798 120.505 717.798 Q124.509 717.798 126.847 715.692 Q129.185 713.585 129.185 709.974 Q129.185 706.363 126.847 704.257 Q124.509 702.15 120.505 702.15 Q118.63 702.15 116.755 702.567 Q114.903 702.983 112.958 703.863 L112.958 686.502 Z\" fill=\"#000000\" fill-rule=\"evenodd\" fill-opacity=\"1\" /><path clip-path=\"url(#clip260)\" d=\"M143.074 715.182 L147.958 715.182 L147.958 721.062 L143.074 721.062 L143.074 715.182 Z\" fill=\"#000000\" fill-rule=\"evenodd\" fill-opacity=\"1\" /><path clip-path=\"url(#clip260)\" d=\"M168.143 689.581 Q164.532 689.581 162.704 693.145 Q160.898 696.687 160.898 703.817 Q160.898 710.923 162.704 714.488 Q164.532 718.03 168.143 718.03 Q171.778 718.03 173.583 714.488 Q175.412 710.923 175.412 703.817 Q175.412 696.687 173.583 693.145 Q171.778 689.581 168.143 689.581 M168.143 685.877 Q173.954 685.877 177.009 690.483 Q180.088 695.067 180.088 703.817 Q180.088 712.544 177.009 717.15 Q173.954 721.733 168.143 721.733 Q162.333 721.733 159.255 717.15 Q156.199 712.544 156.199 703.817 Q156.199 695.067 159.255 690.483 Q162.333 685.877 168.143 685.877 Z\" fill=\"#000000\" fill-rule=\"evenodd\" fill-opacity=\"1\" /><path clip-path=\"url(#clip260)\" d=\"M198.305 689.581 Q194.694 689.581 192.865 693.145 Q191.06 696.687 191.06 703.817 Q191.06 710.923 192.865 714.488 Q194.694 718.03 198.305 718.03 Q201.939 718.03 203.745 714.488 Q205.574 710.923 205.574 703.817 Q205.574 696.687 203.745 693.145 Q201.939 689.581 198.305 689.581 M198.305 685.877 Q204.115 685.877 207.171 690.483 Q210.25 695.067 210.25 703.817 Q210.25 712.544 207.171 717.15 Q204.115 721.733 198.305 721.733 Q192.495 721.733 189.416 717.15 Q186.361 712.544 186.361 703.817 Q186.361 695.067 189.416 690.483 Q192.495 685.877 198.305 685.877 Z\" fill=\"#000000\" fill-rule=\"evenodd\" fill-opacity=\"1\" /><path clip-path=\"url(#clip260)\" d=\"M246.638 695.599 L236.06 706.224 L246.638 716.803 L243.884 719.604 L233.259 708.979 L222.634 719.604 L219.902 716.803 L230.458 706.224 L219.902 695.599 L222.634 692.798 L233.259 703.423 L243.884 692.798 L246.638 695.599 Z\" fill=\"#000000\" fill-rule=\"evenodd\" fill-opacity=\"1\" /><path clip-path=\"url(#clip260)\" d=\"M258.999 717.127 L266.638 717.127 L266.638 690.761 L258.328 692.428 L258.328 688.169 L266.592 686.502 L271.268 686.502 L271.268 717.127 L278.907 717.127 L278.907 721.062 L258.999 721.062 L258.999 717.127 Z\" fill=\"#000000\" fill-rule=\"evenodd\" fill-opacity=\"1\" /><path clip-path=\"url(#clip260)\" d=\"M298.351 689.581 Q294.74 689.581 292.911 693.145 Q291.106 696.687 291.106 703.817 Q291.106 710.923 292.911 714.488 Q294.74 718.03 298.351 718.03 Q301.985 718.03 303.791 714.488 Q305.619 710.923 305.619 703.817 Q305.619 696.687 303.791 693.145 Q301.985 689.581 298.351 689.581 M298.351 685.877 Q304.161 685.877 307.217 690.483 Q310.295 695.067 310.295 703.817 Q310.295 712.544 307.217 717.15 Q304.161 721.733 298.351 721.733 Q292.541 721.733 289.462 717.15 Q286.407 712.544 286.407 703.817 Q286.407 695.067 289.462 690.483 Q292.541 685.877 298.351 685.877 Z\" fill=\"#000000\" fill-rule=\"evenodd\" fill-opacity=\"1\" /><path clip-path=\"url(#clip260)\" d=\"M322.991 678.511 Q325.718 679.094 327.241 680.938 Q328.783 682.781 328.783 685.489 Q328.783 689.646 325.925 691.921 Q323.066 694.197 317.8 694.197 Q316.032 694.197 314.151 693.84 Q312.289 693.501 310.295 692.805 L310.295 689.138 Q311.875 690.059 313.756 690.53 Q315.637 691 317.687 691 Q321.26 691 323.122 689.589 Q325.003 688.179 325.003 685.489 Q325.003 683.006 323.254 681.615 Q321.524 680.204 318.42 680.204 L315.148 680.204 L315.148 677.082 L318.571 677.082 Q321.373 677.082 322.859 675.972 Q324.345 674.844 324.345 672.737 Q324.345 670.574 322.803 669.427 Q321.279 668.261 318.42 668.261 Q316.859 668.261 315.073 668.6 Q313.286 668.938 311.142 669.653 L311.142 666.267 Q313.305 665.666 315.185 665.365 Q317.085 665.064 318.759 665.064 Q323.085 665.064 325.605 667.039 Q328.125 668.995 328.125 672.342 Q328.125 674.675 326.79 676.292 Q325.454 677.891 322.991 678.511 Z\" fill=\"#000000\" fill-rule=\"evenodd\" fill-opacity=\"1\" /><path clip-path=\"url(#clip260)\" d=\"M111.748 575.335 L119.386 575.335 L119.386 548.97 L111.076 550.636 L111.076 546.377 L119.34 544.71 L124.016 544.71 L124.016 575.335 L131.655 575.335 L131.655 579.27 L111.748 579.27 L111.748 575.335 Z\" fill=\"#000000\" fill-rule=\"evenodd\" fill-opacity=\"1\" /><path clip-path=\"url(#clip260)\" d=\"M141.099 573.391 L145.983 573.391 L145.983 579.27 L141.099 579.27 L141.099 573.391 Z\" fill=\"#000000\" fill-rule=\"evenodd\" fill-opacity=\"1\" /><path clip-path=\"url(#clip260)\" d=\"M166.169 547.789 Q162.557 547.789 160.729 551.354 Q158.923 554.895 158.923 562.025 Q158.923 569.132 160.729 572.696 Q162.557 576.238 166.169 576.238 Q169.803 576.238 171.608 572.696 Q173.437 569.132 173.437 562.025 Q173.437 554.895 171.608 551.354 Q169.803 547.789 166.169 547.789 M166.169 544.085 Q171.979 544.085 175.034 548.692 Q178.113 553.275 178.113 562.025 Q178.113 570.752 175.034 575.358 Q171.979 579.942 166.169 579.942 Q160.358 579.942 157.28 575.358 Q154.224 570.752 154.224 562.025 Q154.224 553.275 157.28 548.692 Q160.358 544.085 166.169 544.085 Z\" fill=\"#000000\" fill-rule=\"evenodd\" fill-opacity=\"1\" /><path clip-path=\"url(#clip260)\" d=\"M196.33 547.789 Q192.719 547.789 190.891 551.354 Q189.085 554.895 189.085 562.025 Q189.085 569.132 190.891 572.696 Q192.719 576.238 196.33 576.238 Q199.965 576.238 201.77 572.696 Q203.599 569.132 203.599 562.025 Q203.599 554.895 201.77 551.354 Q199.965 547.789 196.33 547.789 M196.33 544.085 Q202.141 544.085 205.196 548.692 Q208.275 553.275 208.275 562.025 Q208.275 570.752 205.196 575.358 Q202.141 579.942 196.33 579.942 Q190.52 579.942 187.442 575.358 Q184.386 570.752 184.386 562.025 Q184.386 553.275 187.442 548.692 Q190.52 544.085 196.33 544.085 Z\" fill=\"#000000\" fill-rule=\"evenodd\" fill-opacity=\"1\" /><path clip-path=\"url(#clip260)\" d=\"M244.664 553.808 L234.085 564.432 L244.664 575.011 L241.909 577.812 L231.284 567.187 L220.659 577.812 L217.928 575.011 L228.483 564.432 L217.928 553.808 L220.659 551.007 L231.284 561.632 L241.909 551.007 L244.664 553.808 Z\" fill=\"#000000\" fill-rule=\"evenodd\" fill-opacity=\"1\" /><path clip-path=\"url(#clip260)\" d=\"M257.025 575.335 L264.663 575.335 L264.663 548.97 L256.353 550.636 L256.353 546.377 L264.617 544.71 L269.293 544.71 L269.293 575.335 L276.932 575.335 L276.932 579.27 L257.025 579.27 L257.025 575.335 Z\" fill=\"#000000\" fill-rule=\"evenodd\" fill-opacity=\"1\" /><path clip-path=\"url(#clip260)\" d=\"M296.376 547.789 Q292.765 547.789 290.936 551.354 Q289.131 554.895 289.131 562.025 Q289.131 569.132 290.936 572.696 Q292.765 576.238 296.376 576.238 Q300.01 576.238 301.816 572.696 Q303.645 569.132 303.645 562.025 Q303.645 554.895 301.816 551.354 Q300.01 547.789 296.376 547.789 M296.376 544.085 Q302.186 544.085 305.242 548.692 Q308.321 553.275 308.321 562.025 Q308.321 570.752 305.242 575.358 Q302.186 579.942 296.376 579.942 Q290.566 579.942 287.487 575.358 Q284.432 570.752 284.432 562.025 Q284.432 553.275 287.487 548.692 Q290.566 544.085 296.376 544.085 Z\" fill=\"#000000\" fill-rule=\"evenodd\" fill-opacity=\"1\" /><path clip-path=\"url(#clip260)\" d=\"M320.997 527.09 L311.405 542.08 L320.997 542.08 L320.997 527.09 M320 523.78 L324.777 523.78 L324.777 542.08 L328.783 542.08 L328.783 545.24 L324.777 545.24 L324.777 551.86 L320.997 551.86 L320.997 545.24 L308.321 545.24 L308.321 541.572 L320 523.78 Z\" fill=\"#000000\" fill-rule=\"evenodd\" fill-opacity=\"1\" /><path clip-path=\"url(#clip260)\" d=\"M111.748 433.544 L119.386 433.544 L119.386 407.178 L111.076 408.845 L111.076 404.585 L119.34 402.919 L124.016 402.919 L124.016 433.544 L131.655 433.544 L131.655 437.479 L111.748 437.479 L111.748 433.544 Z\" fill=\"#000000\" fill-rule=\"evenodd\" fill-opacity=\"1\" /><path clip-path=\"url(#clip260)\" d=\"M141.099 431.599 L145.983 431.599 L145.983 437.479 L141.099 437.479 L141.099 431.599 Z\" fill=\"#000000\" fill-rule=\"evenodd\" fill-opacity=\"1\" /><path clip-path=\"url(#clip260)\" d=\"M156.215 402.919 L174.571 402.919 L174.571 406.854 L160.497 406.854 L160.497 415.326 Q161.516 414.979 162.534 414.817 Q163.553 414.632 164.571 414.632 Q170.358 414.632 173.738 417.803 Q177.118 420.974 177.118 426.391 Q177.118 431.969 173.645 435.071 Q170.173 438.15 163.854 438.15 Q161.678 438.15 159.409 437.78 Q157.164 437.409 154.757 436.669 L154.757 431.969 Q156.84 433.104 159.062 433.659 Q161.284 434.215 163.761 434.215 Q167.766 434.215 170.104 432.108 Q172.442 430.002 172.442 426.391 Q172.442 422.78 170.104 420.673 Q167.766 418.567 163.761 418.567 Q161.886 418.567 160.011 418.983 Q158.159 419.4 156.215 420.28 L156.215 402.919 Z\" fill=\"#000000\" fill-rule=\"evenodd\" fill-opacity=\"1\" /><path clip-path=\"url(#clip260)\" d=\"M196.33 405.997 Q192.719 405.997 190.891 409.562 Q189.085 413.104 189.085 420.233 Q189.085 427.34 190.891 430.905 Q192.719 434.446 196.33 434.446 Q199.965 434.446 201.77 430.905 Q203.599 427.34 203.599 420.233 Q203.599 413.104 201.77 409.562 Q199.965 405.997 196.33 405.997 M196.33 402.294 Q202.141 402.294 205.196 406.9 Q208.275 411.483 208.275 420.233 Q208.275 428.96 205.196 433.567 Q202.141 438.15 196.33 438.15 Q190.52 438.15 187.442 433.567 Q184.386 428.96 184.386 420.233 Q184.386 411.483 187.442 406.9 Q190.52 402.294 196.33 402.294 Z\" fill=\"#000000\" fill-rule=\"evenodd\" fill-opacity=\"1\" /><path clip-path=\"url(#clip260)\" d=\"M244.664 412.016 L234.085 422.641 L244.664 433.219 L241.909 436.02 L231.284 425.395 L220.659 436.02 L217.928 433.219 L228.483 422.641 L217.928 412.016 L220.659 409.215 L231.284 419.84 L241.909 409.215 L244.664 412.016 Z\" fill=\"#000000\" fill-rule=\"evenodd\" fill-opacity=\"1\" /><path clip-path=\"url(#clip260)\" d=\"M257.025 433.544 L264.663 433.544 L264.663 407.178 L256.353 408.845 L256.353 404.585 L264.617 402.919 L269.293 402.919 L269.293 433.544 L276.932 433.544 L276.932 437.479 L257.025 437.479 L257.025 433.544 Z\" fill=\"#000000\" fill-rule=\"evenodd\" fill-opacity=\"1\" /><path clip-path=\"url(#clip260)\" d=\"M296.376 405.997 Q292.765 405.997 290.936 409.562 Q289.131 413.104 289.131 420.233 Q289.131 427.34 290.936 430.905 Q292.765 434.446 296.376 434.446 Q300.01 434.446 301.816 430.905 Q303.645 427.34 303.645 420.233 Q303.645 413.104 301.816 409.562 Q300.01 405.997 296.376 405.997 M296.376 402.294 Q302.186 402.294 305.242 406.9 Q308.321 411.483 308.321 420.233 Q308.321 428.96 305.242 433.567 Q302.186 438.15 296.376 438.15 Q290.566 438.15 287.487 433.567 Q284.432 428.96 284.432 420.233 Q284.432 411.483 287.487 406.9 Q290.566 402.294 296.376 402.294 Z\" fill=\"#000000\" fill-rule=\"evenodd\" fill-opacity=\"1\" /><path clip-path=\"url(#clip260)\" d=\"M320.997 385.298 L311.405 400.288 L320.997 400.288 L320.997 385.298 M320 381.988 L324.777 381.988 L324.777 400.288 L328.783 400.288 L328.783 403.448 L324.777 403.448 L324.777 410.068 L320.997 410.068 L320.997 403.448 L308.321 403.448 L308.321 399.78 L320 381.988 Z\" fill=\"#000000\" fill-rule=\"evenodd\" fill-opacity=\"1\" /><path clip-path=\"url(#clip260)\" d=\"M114.965 291.752 L131.284 291.752 L131.284 295.687 L109.34 295.687 L109.34 291.752 Q112.002 288.997 116.585 284.368 Q121.192 279.715 122.372 278.372 Q124.618 275.849 125.497 274.113 Q126.4 272.354 126.4 270.664 Q126.4 267.909 124.456 266.173 Q122.535 264.437 119.433 264.437 Q117.234 264.437 114.78 265.201 Q112.349 265.965 109.572 267.516 L109.572 262.794 Q112.396 261.659 114.849 261.081 Q117.303 260.502 119.34 260.502 Q124.71 260.502 127.905 263.187 Q131.099 265.872 131.099 270.363 Q131.099 272.493 130.289 274.414 Q129.502 276.312 127.396 278.905 Q126.817 279.576 123.715 282.794 Q120.613 285.988 114.965 291.752 Z\" fill=\"#000000\" fill-rule=\"evenodd\" fill-opacity=\"1\" /><path clip-path=\"url(#clip260)\" d=\"M141.099 289.807 L145.983 289.807 L145.983 295.687 L141.099 295.687 L141.099 289.807 Z\" fill=\"#000000\" fill-rule=\"evenodd\" fill-opacity=\"1\" /><path clip-path=\"url(#clip260)\" d=\"M166.169 264.206 Q162.557 264.206 160.729 267.771 Q158.923 271.312 158.923 278.442 Q158.923 285.548 160.729 289.113 Q162.557 292.655 166.169 292.655 Q169.803 292.655 171.608 289.113 Q173.437 285.548 173.437 278.442 Q173.437 271.312 171.608 267.771 Q169.803 264.206 166.169 264.206 M166.169 260.502 Q171.979 260.502 175.034 265.109 Q178.113 269.692 178.113 278.442 Q178.113 287.169 175.034 291.775 Q171.979 296.358 166.169 296.358 Q160.358 296.358 157.28 291.775 Q154.224 287.169 154.224 278.442 Q154.224 269.692 157.28 265.109 Q160.358 260.502 166.169 260.502 Z\" fill=\"#000000\" fill-rule=\"evenodd\" fill-opacity=\"1\" /><path clip-path=\"url(#clip260)\" d=\"M196.33 264.206 Q192.719 264.206 190.891 267.771 Q189.085 271.312 189.085 278.442 Q189.085 285.548 190.891 289.113 Q192.719 292.655 196.33 292.655 Q199.965 292.655 201.77 289.113 Q203.599 285.548 203.599 278.442 Q203.599 271.312 201.77 267.771 Q199.965 264.206 196.33 264.206 M196.33 260.502 Q202.141 260.502 205.196 265.109 Q208.275 269.692 208.275 278.442 Q208.275 287.169 205.196 291.775 Q202.141 296.358 196.33 296.358 Q190.52 296.358 187.442 291.775 Q184.386 287.169 184.386 278.442 Q184.386 269.692 187.442 265.109 Q190.52 260.502 196.33 260.502 Z\" fill=\"#000000\" fill-rule=\"evenodd\" fill-opacity=\"1\" /><path clip-path=\"url(#clip260)\" d=\"M244.664 270.224 L234.085 280.849 L244.664 291.428 L241.909 294.229 L231.284 283.604 L220.659 294.229 L217.928 291.428 L228.483 280.849 L217.928 270.224 L220.659 267.423 L231.284 278.048 L241.909 267.423 L244.664 270.224 Z\" fill=\"#000000\" fill-rule=\"evenodd\" fill-opacity=\"1\" /><path clip-path=\"url(#clip260)\" d=\"M257.025 291.752 L264.663 291.752 L264.663 265.386 L256.353 267.053 L256.353 262.794 L264.617 261.127 L269.293 261.127 L269.293 291.752 L276.932 291.752 L276.932 295.687 L257.025 295.687 L257.025 291.752 Z\" fill=\"#000000\" fill-rule=\"evenodd\" fill-opacity=\"1\" /><path clip-path=\"url(#clip260)\" d=\"M296.376 264.206 Q292.765 264.206 290.936 267.771 Q289.131 271.312 289.131 278.442 Q289.131 285.548 290.936 289.113 Q292.765 292.655 296.376 292.655 Q300.01 292.655 301.816 289.113 Q303.645 285.548 303.645 278.442 Q303.645 271.312 301.816 267.771 Q300.01 264.206 296.376 264.206 M296.376 260.502 Q302.186 260.502 305.242 265.109 Q308.321 269.692 308.321 278.442 Q308.321 287.169 305.242 291.775 Q302.186 296.358 296.376 296.358 Q290.566 296.358 287.487 291.775 Q284.432 287.169 284.432 278.442 Q284.432 269.692 287.487 265.109 Q290.566 260.502 296.376 260.502 Z\" fill=\"#000000\" fill-rule=\"evenodd\" fill-opacity=\"1\" /><path clip-path=\"url(#clip260)\" d=\"M320.997 243.507 L311.405 258.497 L320.997 258.497 L320.997 243.507 M320 240.197 L324.777 240.197 L324.777 258.497 L328.783 258.497 L328.783 261.656 L324.777 261.656 L324.777 268.277 L320.997 268.277 L320.997 261.656 L308.321 261.656 L308.321 257.989 L320 240.197 Z\" fill=\"#000000\" fill-rule=\"evenodd\" fill-opacity=\"1\" /><path clip-path=\"url(#clip260)\" d=\"M114.965 149.96 L131.284 149.96 L131.284 153.895 L109.34 153.895 L109.34 149.96 Q112.002 147.206 116.585 142.576 Q121.192 137.923 122.372 136.581 Q124.618 134.058 125.497 132.321 Q126.4 130.562 126.4 128.872 Q126.4 126.118 124.456 124.382 Q122.535 122.646 119.433 122.646 Q117.234 122.646 114.78 123.409 Q112.349 124.173 109.572 125.724 L109.572 121.002 Q112.396 119.868 114.849 119.289 Q117.303 118.71 119.34 118.71 Q124.71 118.71 127.905 121.396 Q131.099 124.081 131.099 128.571 Q131.099 130.701 130.289 132.622 Q129.502 134.521 127.396 137.113 Q126.817 137.784 123.715 141.002 Q120.613 144.196 114.965 149.96 Z\" fill=\"#000000\" fill-rule=\"evenodd\" fill-opacity=\"1\" /><path clip-path=\"url(#clip260)\" d=\"M141.099 148.016 L145.983 148.016 L145.983 153.895 L141.099 153.895 L141.099 148.016 Z\" fill=\"#000000\" fill-rule=\"evenodd\" fill-opacity=\"1\" /><path clip-path=\"url(#clip260)\" d=\"M156.215 119.335 L174.571 119.335 L174.571 123.271 L160.497 123.271 L160.497 131.743 Q161.516 131.396 162.534 131.234 Q163.553 131.048 164.571 131.048 Q170.358 131.048 173.738 134.22 Q177.118 137.391 177.118 142.808 Q177.118 148.386 173.645 151.488 Q170.173 154.567 163.854 154.567 Q161.678 154.567 159.409 154.196 Q157.164 153.826 154.757 153.085 L154.757 148.386 Q156.84 149.52 159.062 150.076 Q161.284 150.632 163.761 150.632 Q167.766 150.632 170.104 148.525 Q172.442 146.419 172.442 142.808 Q172.442 139.196 170.104 137.09 Q167.766 134.983 163.761 134.983 Q161.886 134.983 160.011 135.4 Q158.159 135.817 156.215 136.696 L156.215 119.335 Z\" fill=\"#000000\" fill-rule=\"evenodd\" fill-opacity=\"1\" /><path clip-path=\"url(#clip260)\" d=\"M196.33 122.414 Q192.719 122.414 190.891 125.979 Q189.085 129.521 189.085 136.65 Q189.085 143.757 190.891 147.321 Q192.719 150.863 196.33 150.863 Q199.965 150.863 201.77 147.321 Q203.599 143.757 203.599 136.65 Q203.599 129.521 201.77 125.979 Q199.965 122.414 196.33 122.414 M196.33 118.71 Q202.141 118.71 205.196 123.317 Q208.275 127.9 208.275 136.65 Q208.275 145.377 205.196 149.983 Q202.141 154.567 196.33 154.567 Q190.52 154.567 187.442 149.983 Q184.386 145.377 184.386 136.65 Q184.386 127.9 187.442 123.317 Q190.52 118.71 196.33 118.71 Z\" fill=\"#000000\" fill-rule=\"evenodd\" fill-opacity=\"1\" /><path clip-path=\"url(#clip260)\" d=\"M244.664 128.433 L234.085 139.058 L244.664 149.636 L241.909 152.437 L231.284 141.812 L220.659 152.437 L217.928 149.636 L228.483 139.058 L217.928 128.433 L220.659 125.632 L231.284 136.257 L241.909 125.632 L244.664 128.433 Z\" fill=\"#000000\" fill-rule=\"evenodd\" fill-opacity=\"1\" /><path clip-path=\"url(#clip260)\" d=\"M257.025 149.96 L264.663 149.96 L264.663 123.595 L256.353 125.261 L256.353 121.002 L264.617 119.335 L269.293 119.335 L269.293 149.96 L276.932 149.96 L276.932 153.895 L257.025 153.895 L257.025 149.96 Z\" fill=\"#000000\" fill-rule=\"evenodd\" fill-opacity=\"1\" /><path clip-path=\"url(#clip260)\" d=\"M296.376 122.414 Q292.765 122.414 290.936 125.979 Q289.131 129.521 289.131 136.65 Q289.131 143.757 290.936 147.321 Q292.765 150.863 296.376 150.863 Q300.01 150.863 301.816 147.321 Q303.645 143.757 303.645 136.65 Q303.645 129.521 301.816 125.979 Q300.01 122.414 296.376 122.414 M296.376 118.71 Q302.186 118.71 305.242 123.317 Q308.321 127.9 308.321 136.65 Q308.321 145.377 305.242 149.983 Q302.186 154.567 296.376 154.567 Q290.566 154.567 287.487 149.983 Q284.432 145.377 284.432 136.65 Q284.432 127.9 287.487 123.317 Q290.566 118.71 296.376 118.71 Z\" fill=\"#000000\" fill-rule=\"evenodd\" fill-opacity=\"1\" /><path clip-path=\"url(#clip260)\" d=\"M320.997 101.715 L311.405 116.705 L320.997 116.705 L320.997 101.715 M320 98.405 L324.777 98.405 L324.777 116.705 L328.783 116.705 L328.783 119.865 L324.777 119.865 L324.777 126.485 L320.997 126.485 L320.997 119.865 L308.321 119.865 L308.321 116.197 L320 98.405 Z\" fill=\"#000000\" fill-rule=\"evenodd\" fill-opacity=\"1\" /><path clip-path=\"url(#clip260)\" d=\"M24.2244 476.578 L31.0039 476.578 Q27.9802 479.825 26.4843 483.517 Q24.9883 487.177 24.9883 491.315 Q24.9883 499.463 29.9854 503.792 Q34.9507 508.12 44.3719 508.12 Q53.7613 508.12 58.7584 503.792 Q63.7236 499.463 63.7236 491.315 Q63.7236 487.177 62.2277 483.517 Q60.7318 479.825 57.7081 476.578 L64.4239 476.578 Q66.7155 479.952 67.8614 483.74 Q69.0072 487.495 69.0072 491.697 Q69.0072 502.487 62.4187 508.693 Q55.7983 514.9 44.3719 514.9 Q32.9136 514.9 26.3251 508.693 Q19.7048 502.487 19.7048 491.697 Q19.7048 487.432 20.8506 483.676 Q21.9646 479.888 24.2244 476.578 Z\" fill=\"#000000\" fill-rule=\"evenodd\" fill-opacity=\"1\" /><path clip-path=\"url(#clip260)\" d=\"M36.5421 453.089 Q36.5421 457.799 40.2342 460.537 Q43.8945 463.274 50.292 463.274 Q56.6895 463.274 60.3817 460.568 Q64.0419 457.831 64.0419 453.089 Q64.0419 448.41 60.3498 445.673 Q56.6577 442.935 50.292 442.935 Q43.9581 442.935 40.266 445.673 Q36.5421 448.41 36.5421 453.089 M31.5768 453.089 Q31.5768 445.45 36.5421 441.089 Q41.5073 436.729 50.292 436.729 Q59.0449 436.729 64.0419 441.089 Q69.0072 445.45 69.0072 453.089 Q69.0072 460.759 64.0419 465.12 Q59.0449 469.449 50.292 469.449 Q41.5073 469.449 36.5421 465.12 Q31.5768 460.759 31.5768 453.089 Z\" fill=\"#000000\" fill-rule=\"evenodd\" fill-opacity=\"1\" /><path clip-path=\"url(#clip260)\" d=\"M33.4865 404.296 L39.0247 404.296 Q37.7516 406.778 37.115 409.452 Q36.4784 412.125 36.4784 414.99 Q36.4784 419.35 37.8152 421.547 Q39.152 423.711 41.8256 423.711 Q43.8626 423.711 45.0403 422.151 Q46.1861 420.592 47.2365 415.881 L47.6821 413.876 Q49.0189 407.638 51.4697 405.028 Q53.8886 402.386 58.2491 402.386 Q63.2144 402.386 66.1108 406.333 Q69.0072 410.247 69.0072 417.122 Q69.0072 419.987 68.4343 423.106 Q67.8932 426.194 66.7792 429.631 L60.7318 429.631 Q62.4187 426.385 63.278 423.234 Q64.1056 420.082 64.1056 416.995 Q64.1056 412.857 62.7051 410.629 Q61.2729 408.401 58.6947 408.401 Q56.3076 408.401 55.0345 410.025 Q53.7613 411.616 52.5837 417.059 L52.1062 419.096 Q50.9604 424.538 48.6051 426.957 Q46.218 429.376 42.0802 429.376 Q37.0513 429.376 34.3141 425.812 Q31.5768 422.247 31.5768 415.69 Q31.5768 412.444 32.0543 409.579 Q32.5317 406.715 33.4865 404.296 Z\" fill=\"#000000\" fill-rule=\"evenodd\" fill-opacity=\"1\" /><path clip-path=\"url(#clip260)\" d=\"M22.3147 387.267 L32.4362 387.267 L32.4362 375.204 L36.9877 375.204 L36.9877 387.267 L56.3394 387.267 Q60.6999 387.267 61.9413 386.09 Q63.1826 384.88 63.1826 381.22 L63.1826 375.204 L68.0842 375.204 L68.0842 381.22 Q68.0842 387.999 65.5697 390.577 Q63.0234 393.156 56.3394 393.156 L36.9877 393.156 L36.9877 397.452 L32.4362 397.452 L32.4362 393.156 L22.3147 393.156 L22.3147 387.267 Z\" fill=\"#000000\" fill-rule=\"evenodd\" fill-opacity=\"1\" /><polyline clip-path=\"url(#clip262)\" style=\"stroke:#000000; stroke-linecap:butt; stroke-linejoin:round; stroke-width:16; stroke-opacity:1; fill:none\" points=\"\n",
       "  395.32,820.342 452.62,795.486 509.92,774.422 567.22,756.692 624.52,735.98 681.82,691.766 739.12,661.701 796.42,634.298 853.72,605.568 911.02,572.077 \n",
       "  968.32,521.538 1025.62,449.236 1082.92,409.227 1140.22,377.166 1197.52,335.392 1254.82,270.683 1312.12,213.647 1369.42,142.425 1426.72,126.933 1484.02,107.716 \n",
       "  1541.32,97.8022 1598.62,87.3862 1655.92,78.1698 1713.22,69.7615 \n",
       "  \"/>\n",
       "</svg>\n"
      ]
     },
     "execution_count": 14,
     "metadata": {},
     "output_type": "execute_result"
    }
   ],
   "source": [
    "plot([xLabels],cumsum(vec(cost)),linewidth = 4, linecolor = :black,size = (450,250),xlabel=\"Time\",ylabel=\"Cost\", legend = false) #|> save(\"st-cost.svg\")"
   ]
  },
  {
   "cell_type": "code",
   "execution_count": null,
   "metadata": {},
   "outputs": [],
   "source": []
  },
  {
   "cell_type": "code",
   "execution_count": null,
   "metadata": {},
   "outputs": [],
   "source": []
  }
 ],
 "metadata": {
  "kernelspec": {
   "display_name": "Julia 1.6.3",
   "language": "julia",
   "name": "julia-1.6"
  },
  "language_info": {
   "file_extension": ".jl",
   "mimetype": "application/julia",
   "name": "julia",
   "version": "1.6.3"
  }
 },
 "nbformat": 4,
 "nbformat_minor": 4
}
