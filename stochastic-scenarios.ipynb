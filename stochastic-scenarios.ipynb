{
 "cells": [
  {
   "cell_type": "code",
   "execution_count": 1,
   "metadata": {},
   "outputs": [],
   "source": [
    "using DataFrames\n",
    "using VegaLite, VegaDatasets\n",
    "using JuMP\n",
    "using LinearAlgebra\n",
    "using GLPK\n",
    "using ChainRulesCore\n",
    "using CSV\n",
    "using Plots"
   ]
  },
  {
   "cell_type": "markdown",
   "metadata": {},
   "source": [
    "## Specify initial conditions"
   ]
  },
  {
   "cell_type": "code",
   "execution_count": 48,
   "metadata": {},
   "outputs": [
    {
     "data": {
      "text/plain": [
       "1×8 Matrix{Int64}:\n",
       " 0  1  0  0  0  0  0  0"
      ]
     },
     "execution_count": 48,
     "metadata": {},
     "output_type": "execute_result"
    }
   ],
   "source": [
    "#initial wind speed\n",
    "w_p_i=[0 0 0 0 0 1 0 0]\n",
    "#initial cloud night\n",
    "s_p_i=[0 1 0 0 0 0 0 0]"
   ]
  },
  {
   "cell_type": "markdown",
   "metadata": {},
   "source": [
    "## Declaration of parameters"
   ]
  },
  {
   "cell_type": "code",
   "execution_count": 72,
   "metadata": {},
   "outputs": [
    {
     "data": {
      "text/plain": [
       "3-element Vector{Int64}:\n",
       " 10\n",
       " 25\n",
       " 50"
      ]
     },
     "execution_count": 72,
     "metadata": {},
     "output_type": "execute_result"
    }
   ],
   "source": [
    "#Conventional generator Min and Max values\n",
    "g_max = [20, 50, 100]\n",
    "g_min = [5,20, 0]\n",
    "\n",
    "#Conventional generator per MW cost\n",
    "c_g = [27.7, 35.5, 10000]\n",
    "\n",
    "#Conventional generator no load cost\n",
    "c_g0 = [120, 100, 10000]\n",
    "\n",
    "#Wind generator per MW cost\n",
    "c_w = 10\n",
    "\n",
    "#Solar generator per MW cost\n",
    "c_s = 10\n",
    "\n",
    "# Wind power maximum value at each hour for 24 hours\n",
    "w_f = [20 40]\n",
    "\n",
    "#Solar power maximum value at each hour for 24 hours\n",
    "s_f = [15 30]\n",
    "\n",
    "# Load demand for one day or 24 hours\n",
    "d = [35.89 45.5 41.9 38.6 43.16 65.56 45.02 35.63 40.31 56.85 74.55 90 57.22 49.6 59.49 83.5 76.07 90.33 33.78 39.41 34.96 36.73 32.5 29.65]\n",
    "\n",
    "\n",
    "#Minimum uptime and downtime for conventional generation\n",
    "UTg=[2,4,0]\n",
    "UDg=[2,4,0]\n",
    "#UTg=[1,1,0]\n",
    "#UDg=[1,1,0]\n",
    "\n",
    "#Minimum up and down ramp rate for conventional generator\n",
    "UR=[10,25,50]\n",
    "DR=[10,25,50]\n",
    "#UR=[2,5,100]\n",
    "#DR=[2,5,100]"
   ]
  },
  {
   "cell_type": "markdown",
   "metadata": {},
   "source": [
    "## Unit Commitment MILP Model"
   ]
  },
  {
   "cell_type": "code",
   "execution_count": 28,
   "metadata": {},
   "outputs": [
    {
     "data": {
      "text/plain": [
       "solve_ed (generic function with 1 method)"
      ]
     },
     "execution_count": 28,
     "metadata": {},
     "output_type": "execute_result"
    }
   ],
   "source": [
    "function solve_ed(g_max, g_min, c_g, c_w, d, w_f, s_f)\n",
    "    ed = Model(GLPK.Optimizer)\n",
    "    \n",
    "#Wind and Solar generation variable for each hour    \n",
    "    @variable(ed, 0 <= w[i=1:1,j=1:24] <= w_f[1])\n",
    "    @variable(ed, 0 <= s[i=1:1,j=1:24] <= s_f[1])\n",
    "    @variable(ed, w_diff[i=1:1,j=1:24])\n",
    "    @constraint(ed,[i=1:1,j=1:24], w_diff[i,j] == w_f[1] .- w[i,j])   \n",
    "    @variable(ed, s_diff[i=1:1,j=1:24])\n",
    "    @constraint(ed,[i=1:1,j=1:24], s_diff[i,j] == s_f[1] .- s[i,j]) \n",
    "    \n",
    "#Unit commitment binary variable for conventional generator    \n",
    "    @variable(ed,u[i=1:3,j=1:24], Bin)\n",
    "    \n",
    "#Conventional generation varaible for each hour     \n",
    "    @variable(ed, 0 <= g[i=1:3,j=1:24] <= g_max[i])\n",
    "    \n",
    "#Objective Minimize generation production cost    \n",
    "    @objective(ed, Min, sum(sum(((g[i,j] *c_g[i])+(u[i,j]*c_g0[i])) for i=1:3)+ (c_w* w[1,j])+(c_s*s[1,j]) for j=1:24))\n",
    "    @variable(ed,cost[j=1:24])\n",
    "    @constraint(ed,[j=1:24], cost[j] == sum(((g[i,j] *c_g[i])+(u[i,j]*c_g0[i])) for i=1:3)+ (c_w* w[1,j])+(c_s*s[1,j]))\n",
    "    \n",
    "#Conventional generation constraints    \n",
    "    @constraint(ed,[i=1:3,j=1:24], g[i,j] <= g_max[i]*u[i,j])\n",
    "    @constraint(ed,[i=1:3,j=1:24], g[i,j] >= g_min[i]*u[i,j]) \n",
    "    @constraint(ed,[i=1:1,j=12:20],s[i,j] ==0) \n",
    "    \n",
    "#Power balance equation constraint   \n",
    "    @constraint(ed,[j=1:24],(sum(g[i,j] for i=1:3)+ w[1,j]+ s[1,j] == d[1,j]))\n",
    "\n",
    "#Minimum uptime and downtime constraint   \n",
    "    @constraint(ed,[j=2:24,i=1:3,s=j+1:min(24,j.+UTg[i,1]-1)],u[i,s]>=u[i,j]-u[i,j-1])\n",
    "    @constraint(ed,[j=1:1,i=1:3,s=j+1:min(24,j.+UTg[i,1]-1)],u[i,s]>=u[i,j]-0)\n",
    "    @constraint(ed,[j=2:24,i=1:3,s=j+1:min(24,j.+UDg[i,1]-1)],(1-u[i,s])>=u[i,j-1]-u[i,j])\n",
    "    @constraint(ed,[j=1:1,i=1:3,s=j+1:min(24,j.+UDg[i,1]-1)],(1-u[i,s])>=0-u[i,j])\n",
    "\n",
    "#Ramp rate up and down constraint\n",
    "    @constraint(ed,[i=1:3,j=2:24], g[i,j]-g[i,j-1]<=UR[i])\n",
    "    @constraint(ed,[i=1:3,j=1:1], g[i,j]-0<=UR[i])\n",
    "    @constraint(ed,[i=1:3,j=2:24], g[i,j-1]-g[i,j]<=DR[i])\n",
    "    @constraint(ed,[i=1:3,j=1:1], 0-g[i,j]<=DR[i])\n",
    "    \n",
    "    optimize!(ed)\n",
    "    return JuMP.value.(g), JuMP.value.(w),JuMP.value.(s), objective_value(ed),JuMP.value.(u),JuMP.value.(w_diff),JuMP.value.(s_diff),JuMP.value.(cost)\n",
    "end"
   ]
  },
  {
   "cell_type": "code",
   "execution_count": 29,
   "metadata": {},
   "outputs": [
    {
     "name": "stdout",
     "output_type": "stream",
     "text": [
      "Dispatch of Conventional Generators: [5.0 10.5 6.899999999999999 5.0 8.159999999999997 0.0 0.0 0.0 0.0 0.0 19.549999999999997 20.0 17.220000000000006 9.600000000000012 19.490000000000002 20.0 20.0 20.0 13.780000000000001 19.409999999999997 5.0 5.0 0.0 0.0; 0.0 0.0 0.0 0.0 0.0 30.560000000000002 20.0 20.0 20.0 21.85 20.0 50.0 19.999999999999993 19.99999999999999 20.0 43.5 36.06999999999999 49.999999999999986 0.0 0.0 0.0 0.0 0.0 0.0; 0.0 0.0 0.0 0.0 0.0 0.0 0.0 0.0 0.0 0.0 0.0 0.0 0.0 0.0 0.0 0.0 0.0 0.3300000000000125 0.0 0.0 0.0 0.0 0.0 0.0] MW\n",
      "\n",
      "\n",
      "Dispatch of Wind Generator: [15.89 20.0 20.0 20.0 20.0 20.0 20.0 15.630000000000003 20.0 20.0 20.0 20.0 20.0 20.0 20.0 20.0 20.0 20.0 20.0 20.0 20.0 20.0 20.0 20.0] MW\n",
      "\n",
      "\n",
      "Dispatch of Solar Generator: [15.0 15.0 15.0 13.600000000000001 15.0 15.0 5.020000000000003 0.0 0.3100000000000023 15.0 15.0 0.0 0.0 0.0 0.0 0.0 0.0 0.0 0.0 0.0 9.96 11.729999999999997 12.5 9.649999999999999] MW\n",
      "\n",
      "\n",
      "Binary:[1.0 1.0 1.0 1.0 1.0 0.0 0.0 0.0 0.0 0.0 1.0 1.0 1.0 1.0 1.0 1.0 1.0 1.0 1.0 1.0 1.0 1.0 0.0 0.0; 0.0 0.0 0.0 0.0 0.0 1.0 1.0 1.0 1.0 1.0 1.0 1.0 1.0 1.0 1.0 1.0 1.0 1.0 0.0 0.0 0.0 0.0 0.0 0.0; 0.0 0.0 0.0 0.0 0.0 0.0 0.0 0.0 0.0 0.0 0.0 0.0 0.0 0.0 0.0 0.0 0.0 1.0 0.0 0.0 0.0 0.0 0.0 0.0] Bin\n",
      "\n",
      "\n",
      "Total cost: 42459.88700000012$\n"
     ]
    }
   ],
   "source": [
    "(g_opt, w_opt, s_opt, obj,u,w_diff,s_diff,cost) = solve_ed(g_max, g_min, c_g, c_w, d, w_f, s_f);\n",
    "\n",
    "println(\"Dispatch of Conventional Generators: \",g_opt, \" MW\")\n",
    "println(\"\\n\")\n",
    "println(\"Dispatch of Wind Generator: \",w_opt, \" MW\")\n",
    "println(\"\\n\")\n",
    "println(\"Dispatch of Solar Generator: \",s_opt, \" MW\")\n",
    "println(\"\\n\")\n",
    "println(\"Binary:\",u, \" Bin\")\n",
    "println(\"\\n\")\n",
    "println(\"Total cost: \", obj, \"\\$\")"
   ]
  },
  {
   "cell_type": "code",
   "execution_count": 30,
   "metadata": {},
   "outputs": [
    {
     "data": {
      "text/plain": [
       "3×24 Matrix{Float64}:\n",
       " 5.0  10.5  6.9  5.0  8.16   0.0    0.0  …  13.78  19.41  5.0  5.0  0.0  0.0\n",
       " 0.0   0.0  0.0  0.0  0.0   30.56  20.0      0.0    0.0   0.0  0.0  0.0  0.0\n",
       " 0.0   0.0  0.0  0.0  0.0    0.0    0.0      0.0    0.0   0.0  0.0  0.0  0.0"
      ]
     },
     "execution_count": 30,
     "metadata": {},
     "output_type": "execute_result"
    }
   ],
   "source": [
    "g_opt_tot=g_opt[1,:].+g_opt[2,:]+g_opt[3,:]\n",
    "g_opt"
   ]
  },
  {
   "cell_type": "code",
   "execution_count": 31,
   "metadata": {},
   "outputs": [
    {
     "data": {
      "application/vnd.vegalite.v4+json": {
       "data": {
        "values": [
         {
          "Time": 1,
          "value": 5,
          "variable": "Conv"
         },
         {
          "Time": 2,
          "value": 10.5,
          "variable": "Conv"
         },
         {
          "Time": 3,
          "value": 6.899999999999999,
          "variable": "Conv"
         },
         {
          "Time": 4,
          "value": 5,
          "variable": "Conv"
         },
         {
          "Time": 5,
          "value": 8.159999999999997,
          "variable": "Conv"
         },
         {
          "Time": 6,
          "value": 30.560000000000002,
          "variable": "Conv"
         },
         {
          "Time": 7,
          "value": 20,
          "variable": "Conv"
         },
         {
          "Time": 8,
          "value": 20,
          "variable": "Conv"
         },
         {
          "Time": 9,
          "value": 20,
          "variable": "Conv"
         },
         {
          "Time": 10,
          "value": 21.85,
          "variable": "Conv"
         },
         {
          "Time": 11,
          "value": 39.55,
          "variable": "Conv"
         },
         {
          "Time": 12,
          "value": 70,
          "variable": "Conv"
         },
         {
          "Time": 13,
          "value": 37.22,
          "variable": "Conv"
         },
         {
          "Time": 14,
          "value": 29.6,
          "variable": "Conv"
         },
         {
          "Time": 15,
          "value": 39.49,
          "variable": "Conv"
         },
         {
          "Time": 16,
          "value": 63.5,
          "variable": "Conv"
         },
         {
          "Time": 17,
          "value": 56.06999999999999,
          "variable": "Conv"
         },
         {
          "Time": 18,
          "value": 70.33,
          "variable": "Conv"
         },
         {
          "Time": 19,
          "value": 13.780000000000001,
          "variable": "Conv"
         },
         {
          "Time": 20,
          "value": 19.409999999999997,
          "variable": "Conv"
         },
         {
          "Time": 21,
          "value": 5,
          "variable": "Conv"
         },
         {
          "Time": 22,
          "value": 5,
          "variable": "Conv"
         },
         {
          "Time": 23,
          "value": 0,
          "variable": "Conv"
         },
         {
          "Time": 24,
          "value": 0,
          "variable": "Conv"
         },
         {
          "Time": 1,
          "value": 15.89,
          "variable": "Wind"
         },
         {
          "Time": 2,
          "value": 20,
          "variable": "Wind"
         },
         {
          "Time": 3,
          "value": 20,
          "variable": "Wind"
         },
         {
          "Time": 4,
          "value": 20,
          "variable": "Wind"
         },
         {
          "Time": 5,
          "value": 20,
          "variable": "Wind"
         },
         {
          "Time": 6,
          "value": 20,
          "variable": "Wind"
         },
         {
          "Time": 7,
          "value": 20,
          "variable": "Wind"
         },
         {
          "Time": 8,
          "value": 15.630000000000003,
          "variable": "Wind"
         },
         {
          "Time": 9,
          "value": 20,
          "variable": "Wind"
         },
         {
          "Time": 10,
          "value": 20,
          "variable": "Wind"
         },
         {
          "Time": 11,
          "value": 20,
          "variable": "Wind"
         },
         {
          "Time": 12,
          "value": 20,
          "variable": "Wind"
         },
         {
          "Time": 13,
          "value": 20,
          "variable": "Wind"
         },
         {
          "Time": 14,
          "value": 20,
          "variable": "Wind"
         },
         {
          "Time": 15,
          "value": 20,
          "variable": "Wind"
         },
         {
          "Time": 16,
          "value": 20,
          "variable": "Wind"
         },
         {
          "Time": 17,
          "value": 20,
          "variable": "Wind"
         },
         {
          "Time": 18,
          "value": 20,
          "variable": "Wind"
         },
         {
          "Time": 19,
          "value": 20,
          "variable": "Wind"
         },
         {
          "Time": 20,
          "value": 20,
          "variable": "Wind"
         },
         {
          "Time": 21,
          "value": 20,
          "variable": "Wind"
         },
         {
          "Time": 22,
          "value": 20,
          "variable": "Wind"
         },
         {
          "Time": 23,
          "value": 20,
          "variable": "Wind"
         },
         {
          "Time": 24,
          "value": 20,
          "variable": "Wind"
         },
         {
          "Time": 1,
          "value": 15,
          "variable": "Solar"
         },
         {
          "Time": 2,
          "value": 15,
          "variable": "Solar"
         },
         {
          "Time": 3,
          "value": 15,
          "variable": "Solar"
         },
         {
          "Time": 4,
          "value": 13.600000000000001,
          "variable": "Solar"
         },
         {
          "Time": 5,
          "value": 15,
          "variable": "Solar"
         },
         {
          "Time": 6,
          "value": 15,
          "variable": "Solar"
         },
         {
          "Time": 7,
          "value": 5.020000000000003,
          "variable": "Solar"
         },
         {
          "Time": 8,
          "value": 0,
          "variable": "Solar"
         },
         {
          "Time": 9,
          "value": 0.3100000000000023,
          "variable": "Solar"
         },
         {
          "Time": 10,
          "value": 15,
          "variable": "Solar"
         },
         {
          "Time": 11,
          "value": 15,
          "variable": "Solar"
         },
         {
          "Time": 12,
          "value": 0,
          "variable": "Solar"
         },
         {
          "Time": 13,
          "value": 0,
          "variable": "Solar"
         },
         {
          "Time": 14,
          "value": 0,
          "variable": "Solar"
         },
         {
          "Time": 15,
          "value": 0,
          "variable": "Solar"
         },
         {
          "Time": 16,
          "value": 0,
          "variable": "Solar"
         },
         {
          "Time": 17,
          "value": 0,
          "variable": "Solar"
         },
         {
          "Time": 18,
          "value": 0,
          "variable": "Solar"
         },
         {
          "Time": 19,
          "value": 0,
          "variable": "Solar"
         },
         {
          "Time": 20,
          "value": 0,
          "variable": "Solar"
         },
         {
          "Time": 21,
          "value": 9.96,
          "variable": "Solar"
         },
         {
          "Time": 22,
          "value": 11.729999999999997,
          "variable": "Solar"
         },
         {
          "Time": 23,
          "value": 12.5,
          "variable": "Solar"
         },
         {
          "Time": 24,
          "value": 9.649999999999999,
          "variable": "Solar"
         }
        ]
       },
       "encoding": {
        "color": {
         "field": "variable",
         "type": "nominal"
        },
        "x": {
         "field": "Time",
         "type": "quantitative"
        },
        "y": {
         "field": "value",
         "stack": "zero",
         "type": "quantitative"
        }
       },
       "height": 250,
       "mark": "area",
       "width": 450
      },
      "image/png": "[encoded data removed]",
      "image/svg+xml": [
       "<?xml version=\"1.0\" encoding=\"utf-8\"?>\n",
       "<!DOCTYPE svg PUBLIC \"-//W3C//DTD SVG 1.1//EN\" \"http://www.w3.org/Graphics/SVG/1.1/DTD/svg11.dtd\">\n",
       "<svg xmlns=\"http://www.w3.org/2000/svg\" xmlns:xlink=\"http://www.w3.org/1999/xlink\" version=\"1.1\" class=\"marks\" width=\"560\" height=\"297\" viewBox=\"0 0 560 297\"><rect width=\"560\" height=\"297\" fill=\"white\"/><g fill=\"none\" stroke-miterlimit=\"10\" transform=\"translate(42,10)\"><g class=\"mark-group role-frame root\" role=\"graphics-object\" aria-roledescription=\"group mark container\"><g transform=\"translate(0,0)\"><path class=\"background\" aria-hidden=\"true\" d=\"M0.5,0.5h450v250h-450Z\" stroke=\"#ddd\"/><g><g class=\"mark-group role-axis\" aria-hidden=\"true\"><g transform=\"translate(0.5,250.5)\"><path class=\"background\" aria-hidden=\"true\" d=\"M0,0h0v0h0Z\" pointer-events=\"none\"/><g><g class=\"mark-rule role-axis-grid\" pointer-events=\"none\"><line transform=\"translate(0,-250)\" x2=\"0\" y2=\"250\" stroke=\"#ddd\" stroke-width=\"1\" opacity=\"1\"/><line transform=\"translate(38,-250)\" x2=\"0\" y2=\"250\" stroke=\"#ddd\" stroke-width=\"1\" opacity=\"1\"/><line transform=\"translate(75,-250)\" x2=\"0\" y2=\"250\" stroke=\"#ddd\" stroke-width=\"1\" opacity=\"1\"/><line transform=\"translate(113,-250)\" x2=\"0\" y2=\"250\" stroke=\"#ddd\" stroke-width=\"1\" opacity=\"1\"/><line transform=\"translate(150,-250)\" x2=\"0\" y2=\"250\" stroke=\"#ddd\" stroke-width=\"1\" opacity=\"1\"/><line transform=\"translate(188,-250)\" x2=\"0\" y2=\"250\" stroke=\"#ddd\" stroke-width=\"1\" opacity=\"1\"/><line transform=\"translate(225,-250)\" x2=\"0\" y2=\"250\" stroke=\"#ddd\" stroke-width=\"1\" opacity=\"1\"/><line transform=\"translate(263,-250)\" x2=\"0\" y2=\"250\" stroke=\"#ddd\" stroke-width=\"1\" opacity=\"1\"/><line transform=\"translate(300,-250)\" x2=\"0\" y2=\"250\" stroke=\"#ddd\" stroke-width=\"1\" opacity=\"1\"/><line transform=\"translate(338,-250)\" x2=\"0\" y2=\"250\" stroke=\"#ddd\" stroke-width=\"1\" opacity=\"1\"/><line transform=\"translate(375,-250)\" x2=\"0\" y2=\"250\" stroke=\"#ddd\" stroke-width=\"1\" opacity=\"1\"/><line transform=\"translate(413,-250)\" x2=\"0\" y2=\"250\" stroke=\"#ddd\" stroke-width=\"1\" opacity=\"1\"/><line transform=\"translate(450,-250)\" x2=\"0\" y2=\"250\" stroke=\"#ddd\" stroke-width=\"1\" opacity=\"1\"/></g></g><path class=\"foreground\" aria-hidden=\"true\" d=\"\" pointer-events=\"none\" display=\"none\"/></g></g><g class=\"mark-group role-axis\" aria-hidden=\"true\"><g transform=\"translate(0.5,0.5)\"><path class=\"background\" aria-hidden=\"true\" d=\"M0,0h0v0h0Z\" pointer-events=\"none\"/><g><g class=\"mark-rule role-axis-grid\" pointer-events=\"none\"><line transform=\"translate(0,250)\" x2=\"450\" y2=\"0\" stroke=\"#ddd\" stroke-width=\"1\" opacity=\"1\"/><line transform=\"translate(0,200)\" x2=\"450\" y2=\"0\" stroke=\"#ddd\" stroke-width=\"1\" opacity=\"1\"/><line transform=\"translate(0,150)\" x2=\"450\" y2=\"0\" stroke=\"#ddd\" stroke-width=\"1\" opacity=\"1\"/><line transform=\"translate(0,100)\" x2=\"450\" y2=\"0\" stroke=\"#ddd\" stroke-width=\"1\" opacity=\"1\"/><line transform=\"translate(0,50)\" x2=\"450\" y2=\"0\" stroke=\"#ddd\" stroke-width=\"1\" opacity=\"1\"/><line transform=\"translate(0,0)\" x2=\"450\" y2=\"0\" stroke=\"#ddd\" stroke-width=\"1\" opacity=\"1\"/></g></g><path class=\"foreground\" aria-hidden=\"true\" d=\"\" pointer-events=\"none\" display=\"none\"/></g></g><g class=\"mark-group role-axis\" role=\"graphics-symbol\" aria-roledescription=\"axis\" aria-label=\"X-axis titled 'Time' for a linear scale with values from 0 to 24\"><g transform=\"translate(0.5,250.5)\"><path class=\"background\" aria-hidden=\"true\" d=\"M0,0h0v0h0Z\" pointer-events=\"none\"/><g><g class=\"mark-rule role-axis-tick\" pointer-events=\"none\"><line transform=\"translate(0,0)\" x2=\"0\" y2=\"5\" stroke=\"#888\" stroke-width=\"1\" opacity=\"1\"/><line transform=\"translate(38,0)\" x2=\"0\" y2=\"5\" stroke=\"#888\" stroke-width=\"1\" opacity=\"1\"/><line transform=\"translate(75,0)\" x2=\"0\" y2=\"5\" stroke=\"#888\" stroke-width=\"1\" opacity=\"1\"/><line transform=\"translate(113,0)\" x2=\"0\" y2=\"5\" stroke=\"#888\" stroke-width=\"1\" opacity=\"1\"/><line transform=\"translate(150,0)\" x2=\"0\" y2=\"5\" stroke=\"#888\" stroke-width=\"1\" opacity=\"1\"/><line transform=\"translate(188,0)\" x2=\"0\" y2=\"5\" stroke=\"#888\" stroke-width=\"1\" opacity=\"1\"/><line transform=\"translate(225,0)\" x2=\"0\" y2=\"5\" stroke=\"#888\" stroke-width=\"1\" opacity=\"1\"/><line transform=\"translate(263,0)\" x2=\"0\" y2=\"5\" stroke=\"#888\" stroke-width=\"1\" opacity=\"1\"/><line transform=\"translate(300,0)\" x2=\"0\" y2=\"5\" stroke=\"#888\" stroke-width=\"1\" opacity=\"1\"/><line transform=\"translate(338,0)\" x2=\"0\" y2=\"5\" stroke=\"#888\" stroke-width=\"1\" opacity=\"1\"/><line transform=\"translate(375,0)\" x2=\"0\" y2=\"5\" stroke=\"#888\" stroke-width=\"1\" opacity=\"1\"/><line transform=\"translate(413,0)\" x2=\"0\" y2=\"5\" stroke=\"#888\" stroke-width=\"1\" opacity=\"1\"/><line transform=\"translate(450,0)\" x2=\"0\" y2=\"5\" stroke=\"#888\" stroke-width=\"1\" opacity=\"1\"/></g><g class=\"mark-text role-axis-label\" pointer-events=\"none\"><text text-anchor=\"start\" transform=\"translate(0,15)\" font-family=\"sans-serif\" font-size=\"10px\" fill=\"#000\" opacity=\"1\">0</text><text text-anchor=\"middle\" transform=\"translate(37.5,15)\" font-family=\"sans-serif\" font-size=\"10px\" fill=\"#000\" opacity=\"1\">2</text><text text-anchor=\"middle\" transform=\"translate(75,15)\" font-family=\"sans-serif\" font-size=\"10px\" fill=\"#000\" opacity=\"1\">4</text><text text-anchor=\"middle\" transform=\"translate(112.5,15)\" font-family=\"sans-serif\" font-size=\"10px\" fill=\"#000\" opacity=\"1\">6</text><text text-anchor=\"middle\" transform=\"translate(150,15)\" font-family=\"sans-serif\" font-size=\"10px\" fill=\"#000\" opacity=\"1\">8</text><text text-anchor=\"middle\" transform=\"translate(187.5,15)\" font-family=\"sans-serif\" font-size=\"10px\" fill=\"#000\" opacity=\"1\">10</text><text text-anchor=\"middle\" transform=\"translate(225,15)\" font-family=\"sans-serif\" font-size=\"10px\" fill=\"#000\" opacity=\"1\">12</text><text text-anchor=\"middle\" transform=\"translate(262.5,15)\" font-family=\"sans-serif\" font-size=\"10px\" fill=\"#000\" opacity=\"1\">14</text><text text-anchor=\"middle\" transform=\"translate(300,15)\" font-family=\"sans-serif\" font-size=\"10px\" fill=\"#000\" opacity=\"1\">16</text><text text-anchor=\"middle\" transform=\"translate(337.5,15)\" font-family=\"sans-serif\" font-size=\"10px\" fill=\"#000\" opacity=\"1\">18</text><text text-anchor=\"middle\" transform=\"translate(375,15)\" font-family=\"sans-serif\" font-size=\"10px\" fill=\"#000\" opacity=\"1\">20</text><text text-anchor=\"middle\" transform=\"translate(412.5,15)\" font-family=\"sans-serif\" font-size=\"10px\" fill=\"#000\" opacity=\"1\">22</text><text text-anchor=\"end\" transform=\"translate(450,15)\" font-family=\"sans-serif\" font-size=\"10px\" fill=\"#000\" opacity=\"1\">24</text></g><g class=\"mark-rule role-axis-domain\" pointer-events=\"none\"><line transform=\"translate(0,0)\" x2=\"450\" y2=\"0\" stroke=\"#888\" stroke-width=\"1\" opacity=\"1\"/></g><g class=\"mark-text role-axis-title\" pointer-events=\"none\"><text text-anchor=\"middle\" transform=\"translate(225,30)\" font-family=\"sans-serif\" font-size=\"11px\" font-weight=\"bold\" fill=\"#000\" opacity=\"1\">Time</text></g></g><path class=\"foreground\" aria-hidden=\"true\" d=\"\" pointer-events=\"none\" display=\"none\"/></g></g><g class=\"mark-group role-axis\" role=\"graphics-symbol\" aria-roledescription=\"axis\" aria-label=\"Y-axis titled 'value' for a linear scale with values from 0 to 100\"><g transform=\"translate(0.5,0.5)\"><path class=\"background\" aria-hidden=\"true\" d=\"M0,0h0v0h0Z\" pointer-events=\"none\"/><g><g class=\"mark-rule role-axis-tick\" pointer-events=\"none\"><line transform=\"translate(0,250)\" x2=\"-5\" y2=\"0\" stroke=\"#888\" stroke-width=\"1\" opacity=\"1\"/><line transform=\"translate(0,200)\" x2=\"-5\" y2=\"0\" stroke=\"#888\" stroke-width=\"1\" opacity=\"1\"/><line transform=\"translate(0,150)\" x2=\"-5\" y2=\"0\" stroke=\"#888\" stroke-width=\"1\" opacity=\"1\"/><line transform=\"translate(0,100)\" x2=\"-5\" y2=\"0\" stroke=\"#888\" stroke-width=\"1\" opacity=\"1\"/><line transform=\"translate(0,50)\" x2=\"-5\" y2=\"0\" stroke=\"#888\" stroke-width=\"1\" opacity=\"1\"/><line transform=\"translate(0,0)\" x2=\"-5\" y2=\"0\" stroke=\"#888\" stroke-width=\"1\" opacity=\"1\"/></g><g class=\"mark-text role-axis-label\" pointer-events=\"none\"><text text-anchor=\"end\" transform=\"translate(-7,253)\" font-family=\"sans-serif\" font-size=\"10px\" fill=\"#000\" opacity=\"1\">0</text><text text-anchor=\"end\" transform=\"translate(-7,203)\" font-family=\"sans-serif\" font-size=\"10px\" fill=\"#000\" opacity=\"1\">20</text><text text-anchor=\"end\" transform=\"translate(-7,153)\" font-family=\"sans-serif\" font-size=\"10px\" fill=\"#000\" opacity=\"1\">40</text><text text-anchor=\"end\" transform=\"translate(-7,103)\" font-family=\"sans-serif\" font-size=\"10px\" fill=\"#000\" opacity=\"1\">60</text><text text-anchor=\"end\" transform=\"translate(-7,52.999999999999986)\" font-family=\"sans-serif\" font-size=\"10px\" fill=\"#000\" opacity=\"1\">80</text><text text-anchor=\"end\" transform=\"translate(-7,3)\" font-family=\"sans-serif\" font-size=\"10px\" fill=\"#000\" opacity=\"1\">100</text></g><g class=\"mark-rule role-axis-domain\" pointer-events=\"none\"><line transform=\"translate(0,250)\" x2=\"0\" y2=\"-250\" stroke=\"#888\" stroke-width=\"1\" opacity=\"1\"/></g><g class=\"mark-text role-axis-title\" pointer-events=\"none\"><text text-anchor=\"middle\" transform=\"translate(-26,125) rotate(-90) translate(0,-2)\" font-family=\"sans-serif\" font-size=\"11px\" font-weight=\"bold\" fill=\"#000\" opacity=\"1\">value</text></g></g><path class=\"foreground\" aria-hidden=\"true\" d=\"\" pointer-events=\"none\" display=\"none\"/></g></g><g class=\"mark-group role-scope pathgroup\" role=\"graphics-object\" aria-roledescription=\"group mark container\"><g transform=\"translate(0,0)\"><path class=\"background\" aria-hidden=\"true\" d=\"M0,0h450v250h-450Z\"/><g><g class=\"mark-area role-mark marks\" role=\"graphics-object\" aria-roledescription=\"area mark container\"><path aria-label=\"Time: 1; value: 5; variable: Conv\" role=\"graphics-symbol\" aria-roledescription=\"area mark\" d=\"M18.75,160.275L37.5,136.24999999999997L56.25,145.25L75,153.5L93.75,142.1L112.5,86.09999999999998L131.25,137.45L150,160.92499999999998L168.75,149.225L187.5,107.875L206.25,63.625000000000014L225,24.999999999999993L243.74999999999997,106.94999999999999L262.5,126L281.25,101.275L300,41.25000000000001L318.75,59.82500000000002L337.5,24.175L356.25,165.55L375,151.47500000000002L393.75,162.6L412.5,158.175L431.25,168.75L450,175.875L450,175.875L431.25,168.75L412.5,170.675L393.75,175.09999999999997L375,200L356.25,200L337.5,200L318.75,200L300,200L281.25,200L262.5,200L243.74999999999997,200L225,200L206.25,162.5L187.5,162.5L168.75,199.225L150,210.925L131.25,187.45000000000002L112.5,162.5L93.75,162.5L75,165.99999999999997L56.25,162.5L37.5,162.5L18.75,172.775Z\" fill=\"#4c78a8\"/></g></g><path class=\"foreground\" aria-hidden=\"true\" d=\"\" display=\"none\"/></g><g transform=\"translate(0,0)\"><path class=\"background\" aria-hidden=\"true\" d=\"M0,0h450v250h-450Z\"/><g><g class=\"mark-area role-mark marks\" role=\"graphics-object\" aria-roledescription=\"area mark container\"><path aria-label=\"Time: 1; value: 15.89; variable: Wind\" role=\"graphics-symbol\" aria-roledescription=\"area mark\" d=\"M18.75,210.27499999999998L37.5,200L56.25,200L75,200L93.75,200L112.5,200L131.25,200L150,210.925L168.75,200L187.5,200L206.25,200L225,200L243.74999999999997,200L262.5,200L281.25,200L300,200L318.75,200L337.5,200L356.25,200L375,200L393.75,200L412.5,200L431.25,200L450,200L450,250L431.25,250L412.5,250L393.75,250L375,250L356.25,250L337.5,250L318.75,250L300,250L281.25,250L262.5,250L243.74999999999997,250L225,250L206.25,250L187.5,250L168.75,250L150,250L131.25,250L112.5,250L93.75,250L75,250L56.25,250L37.5,250L18.75,250Z\" fill=\"#e45756\"/></g></g><path class=\"foreground\" aria-hidden=\"true\" d=\"\" display=\"none\"/></g><g transform=\"translate(0,0)\"><path class=\"background\" aria-hidden=\"true\" d=\"M0,0h450v250h-450Z\"/><g><g class=\"mark-area role-mark marks\" role=\"graphics-object\" aria-roledescription=\"area mark container\"><path aria-label=\"Time: 1; value: 15; variable: Solar\" role=\"graphics-symbol\" aria-roledescription=\"area mark\" d=\"M18.75,172.775L37.5,162.5L56.25,162.5L75,165.99999999999997L93.75,162.5L112.5,162.5L131.25,187.45000000000002L150,210.925L168.75,199.225L187.5,162.5L206.25,162.5L225,200L243.74999999999997,200L262.5,200L281.25,200L300,200L318.75,200L337.5,200L356.25,200L375,200L393.75,175.09999999999997L412.5,170.675L431.25,168.75L450,175.875L450,200L431.25,200L412.5,200L393.75,200L375,200L356.25,200L337.5,200L318.75,200L300,200L281.25,200L262.5,200L243.74999999999997,200L225,200L206.25,200L187.5,200L168.75,200L150,210.925L131.25,200L112.5,200L93.75,200L75,200L56.25,200L37.5,200L18.75,210.27499999999998Z\" fill=\"#f58518\"/></g></g><path class=\"foreground\" aria-hidden=\"true\" d=\"\" display=\"none\"/></g></g><g class=\"mark-group role-legend\" role=\"graphics-symbol\" aria-roledescription=\"legend\" aria-label=\"Symbol legend titled 'variable' for fill color with 3 values: Conv, Solar, Wind\"><g transform=\"translate(468,0)\"><path class=\"background\" aria-hidden=\"true\" d=\"M0,0h45v53h-45Z\" pointer-events=\"none\"/><g><g class=\"mark-group role-legend-entry\"><g transform=\"translate(0,16)\"><path class=\"background\" aria-hidden=\"true\" d=\"M0,0h0v0h0Z\" pointer-events=\"none\"/><g><g class=\"mark-group role-scope\" role=\"graphics-object\" aria-roledescription=\"group mark container\"><g transform=\"translate(0,0)\"><path class=\"background\" aria-hidden=\"true\" d=\"M0,0h39v11h-39Z\" pointer-events=\"none\" opacity=\"1\"/><g><g class=\"mark-symbol role-legend-symbol\" pointer-events=\"none\"><path transform=\"translate(6,6)\" d=\"M5,0A5,5,0,1,1,-5,0A5,5,0,1,1,5,0\" fill=\"#4c78a8\" stroke-width=\"1.5\" opacity=\"1\"/></g><g class=\"mark-text role-legend-label\" pointer-events=\"none\"><text text-anchor=\"start\" transform=\"translate(16,9)\" font-family=\"sans-serif\" font-size=\"10px\" fill=\"#000\" opacity=\"1\">Conv</text></g></g><path class=\"foreground\" aria-hidden=\"true\" d=\"\" pointer-events=\"none\" display=\"none\"/></g><g transform=\"translate(0,13)\"><path class=\"background\" aria-hidden=\"true\" d=\"M0,0h39v11h-39Z\" pointer-events=\"none\" opacity=\"1\"/><g><g class=\"mark-symbol role-legend-symbol\" pointer-events=\"none\"><path transform=\"translate(6,6)\" d=\"M5,0A5,5,0,1,1,-5,0A5,5,0,1,1,5,0\" fill=\"#f58518\" stroke-width=\"1.5\" opacity=\"1\"/></g><g class=\"mark-text role-legend-label\" pointer-events=\"none\"><text text-anchor=\"start\" transform=\"translate(16,9)\" font-family=\"sans-serif\" font-size=\"10px\" fill=\"#000\" opacity=\"1\">Solar</text></g></g><path class=\"foreground\" aria-hidden=\"true\" d=\"\" pointer-events=\"none\" display=\"none\"/></g><g transform=\"translate(0,26)\"><path class=\"background\" aria-hidden=\"true\" d=\"M0,0h39v11h-39Z\" pointer-events=\"none\" opacity=\"1\"/><g><g class=\"mark-symbol role-legend-symbol\" pointer-events=\"none\"><path transform=\"translate(6,6)\" d=\"M5,0A5,5,0,1,1,-5,0A5,5,0,1,1,5,0\" fill=\"#e45756\" stroke-width=\"1.5\" opacity=\"1\"/></g><g class=\"mark-text role-legend-label\" pointer-events=\"none\"><text text-anchor=\"start\" transform=\"translate(16,9)\" font-family=\"sans-serif\" font-size=\"10px\" fill=\"#000\" opacity=\"1\">Wind</text></g></g><path class=\"foreground\" aria-hidden=\"true\" d=\"\" pointer-events=\"none\" display=\"none\"/></g></g></g><path class=\"foreground\" aria-hidden=\"true\" d=\"\" pointer-events=\"none\" display=\"none\"/></g></g><g class=\"mark-text role-legend-title\" pointer-events=\"none\"><text text-anchor=\"start\" transform=\"translate(0,9)\" font-family=\"sans-serif\" font-size=\"11px\" font-weight=\"bold\" fill=\"#000\" opacity=\"1\">variable</text></g></g><path class=\"foreground\" aria-hidden=\"true\" d=\"\" pointer-events=\"none\" display=\"none\"/></g></g></g><path class=\"foreground\" aria-hidden=\"true\" d=\"\" display=\"none\"/></g></g></g></svg>\n"
      ],
      "text/plain": [
       "@vlplot(\n",
       "    width=450,\n",
       "    height=250,\n",
       "    mark=\"area\",\n",
       "    encoding={\n",
       "        x={\n",
       "            field=\"Time\"\n",
       "        },\n",
       "        y={\n",
       "            stack=\"zero\",\n",
       "            field=\"value\"\n",
       "        },\n",
       "        color={\n",
       "            field=\"variable\",\n",
       "            type=\"nominal\"\n",
       "        }\n",
       "    },\n",
       "    data={\n",
       "        values=...\n",
       "    }\n",
       ")"
      ]
     },
     "execution_count": 31,
     "metadata": {},
     "output_type": "execute_result"
    }
   ],
   "source": [
    "g_opt_tot=g_opt[1,:].+g_opt[2,:]+g_opt[3,:]\n",
    "sNames = [\"Conv\",\"Wind\",\"Solar\"]\n",
    "xLabels = [1,2,3,4,5,6,7,8,9,10,11,12,13,14,15,16,17,18,19,20,21,22,23,24]\n",
    "\n",
    "df = DataFrame(Time=xLabels, Conv=vec(g_opt_tot), Wind=vec(w_opt), Solar=vec(s_opt))\n",
    "df |> stack |> @vlplot(:area, x=:Time, y={:value, stack=:zero}, color=\"variable:n\",width=450, height=250)"
   ]
  },
  {
   "cell_type": "code",
   "execution_count": 32,
   "metadata": {},
   "outputs": [],
   "source": [
    "s_diff[1:1,12:20] .=0;\n",
    "p=heatmap([xLabels],[\"Wind\",\"Solar\"],[w_diff;s_diff],c=cgrad(:amp),size = (450,200),xlabel=\"Time\")\n",
    "p\n",
    "savefig(p,\"og-wastage.svg\")"
   ]
  },
  {
   "cell_type": "code",
   "execution_count": 33,
   "metadata": {},
   "outputs": [
    {
     "data": {
      "image/svg+xml": [
       "<?xml version=\"1.0\" encoding=\"utf-8\"?>\n",
       "<svg xmlns=\"http://www.w3.org/2000/svg\" xmlns:xlink=\"http://www.w3.org/1999/xlink\" width=\"450\" height=\"250\" viewBox=\"0 0 1800 1000\">\n",
       "<defs>\n",
       "  <clipPath id=\"clip300\">\n",
       "    <rect x=\"0\" y=\"0\" width=\"1800\" height=\"1000\"/>\n",
       "  </clipPath>\n",
       "</defs>\n",
       "<path clip-path=\"url(#clip300)\" d=\"\n",
       "M0 1000 L1800 1000 L1800 0 L0 0  Z\n",
       "  \" fill=\"#ffffff\" fill-rule=\"evenodd\" fill-opacity=\"1\"/>\n",
       "<defs>\n",
       "  <clipPath id=\"clip301\">\n",
       "    <rect x=\"360\" y=\"0\" width=\"1261\" height=\"1000\"/>\n",
       "  </clipPath>\n",
       "</defs>\n",
       "<path clip-path=\"url(#clip300)\" d=\"\n",
       "M326.779 842.86 L1752.76 842.86 L1752.76 47.2441 L326.779 47.2441  Z\n",
       "  \" fill=\"#ffffff\" fill-rule=\"evenodd\" fill-opacity=\"1\"/>\n",
       "<defs>\n",
       "  <clipPath id=\"clip302\">\n",
       "    <rect x=\"326\" y=\"47\" width=\"1427\" height=\"797\"/>\n",
       "  </clipPath>\n",
       "</defs>\n",
       "<polyline clip-path=\"url(#clip302)\" style=\"stroke:#000000; stroke-linecap:butt; stroke-linejoin:round; stroke-width:2; stroke-opacity:0.1; fill:none\" points=\"\n",
       "  601.095,842.86 601.095,47.2441 \n",
       "  \"/>\n",
       "<polyline clip-path=\"url(#clip302)\" style=\"stroke:#000000; stroke-linecap:butt; stroke-linejoin:round; stroke-width:2; stroke-opacity:0.1; fill:none\" points=\"\n",
       "  893.543,842.86 893.543,47.2441 \n",
       "  \"/>\n",
       "<polyline clip-path=\"url(#clip302)\" style=\"stroke:#000000; stroke-linecap:butt; stroke-linejoin:round; stroke-width:2; stroke-opacity:0.1; fill:none\" points=\"\n",
       "  1185.99,842.86 1185.99,47.2441 \n",
       "  \"/>\n",
       "<polyline clip-path=\"url(#clip302)\" style=\"stroke:#000000; stroke-linecap:butt; stroke-linejoin:round; stroke-width:2; stroke-opacity:0.1; fill:none\" points=\"\n",
       "  1478.44,842.86 1478.44,47.2441 \n",
       "  \"/>\n",
       "<polyline clip-path=\"url(#clip300)\" style=\"stroke:#000000; stroke-linecap:butt; stroke-linejoin:round; stroke-width:4; stroke-opacity:1; fill:none\" points=\"\n",
       "  326.779,842.86 1752.76,842.86 \n",
       "  \"/>\n",
       "<polyline clip-path=\"url(#clip300)\" style=\"stroke:#000000; stroke-linecap:butt; stroke-linejoin:round; stroke-width:4; stroke-opacity:1; fill:none\" points=\"\n",
       "  601.095,842.86 601.095,823.962 \n",
       "  \"/>\n",
       "<polyline clip-path=\"url(#clip300)\" style=\"stroke:#000000; stroke-linecap:butt; stroke-linejoin:round; stroke-width:4; stroke-opacity:1; fill:none\" points=\"\n",
       "  893.543,842.86 893.543,823.962 \n",
       "  \"/>\n",
       "<polyline clip-path=\"url(#clip300)\" style=\"stroke:#000000; stroke-linecap:butt; stroke-linejoin:round; stroke-width:4; stroke-opacity:1; fill:none\" points=\"\n",
       "  1185.99,842.86 1185.99,823.962 \n",
       "  \"/>\n",
       "<polyline clip-path=\"url(#clip300)\" style=\"stroke:#000000; stroke-linecap:butt; stroke-linejoin:round; stroke-width:4; stroke-opacity:1; fill:none\" points=\"\n",
       "  1478.44,842.86 1478.44,823.962 \n",
       "  \"/>\n",
       "<path clip-path=\"url(#clip300)\" d=\"M591.373 865.9 L609.729 865.9 L609.729 869.835 L595.655 869.835 L595.655 878.307 Q596.674 877.96 597.693 877.798 Q598.711 877.613 599.73 877.613 Q605.517 877.613 608.896 880.784 Q612.276 883.955 612.276 889.372 Q612.276 894.951 608.804 898.052 Q605.331 901.131 599.012 901.131 Q596.836 901.131 594.568 900.761 Q592.322 900.39 589.915 899.65 L589.915 894.951 Q591.998 896.085 594.22 896.64 Q596.443 897.196 598.919 897.196 Q602.924 897.196 605.262 895.09 Q607.6 892.983 607.6 889.372 Q607.6 885.761 605.262 883.654 Q602.924 881.548 598.919 881.548 Q597.044 881.548 595.169 881.965 Q593.318 882.381 591.373 883.261 L591.373 865.9 Z\" fill=\"#000000\" fill-rule=\"evenodd\" fill-opacity=\"1\" /><path clip-path=\"url(#clip300)\" d=\"M868.231 896.525 L875.87 896.525 L875.87 870.159 L867.56 871.826 L867.56 867.567 L875.824 865.9 L880.499 865.9 L880.499 896.525 L888.138 896.525 L888.138 900.46 L868.231 900.46 L868.231 896.525 Z\" fill=\"#000000\" fill-rule=\"evenodd\" fill-opacity=\"1\" /><path clip-path=\"url(#clip300)\" d=\"M907.583 868.979 Q903.972 868.979 902.143 872.543 Q900.337 876.085 900.337 883.215 Q900.337 890.321 902.143 893.886 Q903.972 897.427 907.583 897.427 Q911.217 897.427 913.022 893.886 Q914.851 890.321 914.851 883.215 Q914.851 876.085 913.022 872.543 Q911.217 868.979 907.583 868.979 M907.583 865.275 Q913.393 865.275 916.448 869.881 Q919.527 874.465 919.527 883.215 Q919.527 891.941 916.448 896.548 Q913.393 901.131 907.583 901.131 Q901.772 901.131 898.694 896.548 Q895.638 891.941 895.638 883.215 Q895.638 874.465 898.694 869.881 Q901.772 865.275 907.583 865.275 Z\" fill=\"#000000\" fill-rule=\"evenodd\" fill-opacity=\"1\" /><path clip-path=\"url(#clip300)\" d=\"M1161.18 896.525 L1168.82 896.525 L1168.82 870.159 L1160.51 871.826 L1160.51 867.567 L1168.77 865.9 L1173.45 865.9 L1173.45 896.525 L1181.08 896.525 L1181.08 900.46 L1161.18 900.46 L1161.18 896.525 Z\" fill=\"#000000\" fill-rule=\"evenodd\" fill-opacity=\"1\" /><path clip-path=\"url(#clip300)\" d=\"M1190.57 865.9 L1208.93 865.9 L1208.93 869.835 L1194.86 869.835 L1194.86 878.307 Q1195.88 877.96 1196.89 877.798 Q1197.91 877.613 1198.93 877.613 Q1204.72 877.613 1208.1 880.784 Q1211.48 883.955 1211.48 889.372 Q1211.48 894.951 1208.01 898.052 Q1204.53 901.131 1198.21 901.131 Q1196.04 901.131 1193.77 900.761 Q1191.52 900.39 1189.12 899.65 L1189.12 894.951 Q1191.2 896.085 1193.42 896.64 Q1195.64 897.196 1198.12 897.196 Q1202.13 897.196 1204.46 895.09 Q1206.8 892.983 1206.8 889.372 Q1206.8 885.761 1204.46 883.654 Q1202.13 881.548 1198.12 881.548 Q1196.25 881.548 1194.37 881.965 Q1192.52 882.381 1190.57 883.261 L1190.57 865.9 Z\" fill=\"#000000\" fill-rule=\"evenodd\" fill-opacity=\"1\" /><path clip-path=\"url(#clip300)\" d=\"M1457.21 896.525 L1473.53 896.525 L1473.53 900.46 L1451.59 900.46 L1451.59 896.525 Q1454.25 893.77 1458.83 889.14 Q1463.44 884.488 1464.62 883.145 Q1466.87 880.622 1467.75 878.886 Q1468.65 877.127 1468.65 875.437 Q1468.65 872.682 1466.7 870.946 Q1464.78 869.21 1461.68 869.21 Q1459.48 869.21 1457.03 869.974 Q1454.6 870.738 1451.82 872.289 L1451.82 867.567 Q1454.64 866.432 1457.1 865.854 Q1459.55 865.275 1461.59 865.275 Q1466.96 865.275 1470.15 867.96 Q1473.35 870.645 1473.35 875.136 Q1473.35 877.266 1472.54 879.187 Q1471.75 881.085 1469.64 883.678 Q1469.06 884.349 1465.96 887.566 Q1462.86 890.761 1457.21 896.525 Z\" fill=\"#000000\" fill-rule=\"evenodd\" fill-opacity=\"1\" /><path clip-path=\"url(#clip300)\" d=\"M1493.35 868.979 Q1489.74 868.979 1487.91 872.543 Q1486.1 876.085 1486.1 883.215 Q1486.1 890.321 1487.91 893.886 Q1489.74 897.427 1493.35 897.427 Q1496.98 897.427 1498.79 893.886 Q1500.62 890.321 1500.62 883.215 Q1500.62 876.085 1498.79 872.543 Q1496.98 868.979 1493.35 868.979 M1493.35 865.275 Q1499.16 865.275 1502.21 869.881 Q1505.29 874.465 1505.29 883.215 Q1505.29 891.941 1502.21 896.548 Q1499.16 901.131 1493.35 901.131 Q1487.54 901.131 1484.46 896.548 Q1481.4 891.941 1481.4 883.215 Q1481.4 874.465 1484.46 869.881 Q1487.54 865.275 1493.35 865.275 Z\" fill=\"#000000\" fill-rule=\"evenodd\" fill-opacity=\"1\" /><path clip-path=\"url(#clip300)\" d=\"M961.644 931.204 L1001.84 931.204 L1001.84 936.615 L984.975 936.615 L984.975 978.724 L978.513 978.724 L978.513 936.615 L961.644 936.615 L961.644 931.204 Z\" fill=\"#000000\" fill-rule=\"evenodd\" fill-opacity=\"1\" /><path clip-path=\"url(#clip300)\" d=\"M1005.79 943.076 L1011.65 943.076 L1011.65 978.724 L1005.79 978.724 L1005.79 943.076 M1005.79 929.199 L1011.65 929.199 L1011.65 936.615 L1005.79 936.615 L1005.79 929.199 Z\" fill=\"#000000\" fill-rule=\"evenodd\" fill-opacity=\"1\" /><path clip-path=\"url(#clip300)\" d=\"M1051.66 949.919 Q1053.85 945.972 1056.91 944.094 Q1059.96 942.217 1064.1 942.217 Q1069.67 942.217 1072.69 946.131 Q1075.72 950.015 1075.72 957.208 L1075.72 978.724 L1069.83 978.724 L1069.83 957.399 Q1069.83 952.274 1068.02 949.792 Q1066.2 947.309 1062.48 947.309 Q1057.93 947.309 1055.28 950.333 Q1052.64 953.357 1052.64 958.576 L1052.64 978.724 L1046.75 978.724 L1046.75 957.399 Q1046.75 952.243 1044.94 949.792 Q1043.13 947.309 1039.34 947.309 Q1034.85 947.309 1032.21 950.365 Q1029.57 953.388 1029.57 958.576 L1029.57 978.724 L1023.68 978.724 L1023.68 943.076 L1029.57 943.076 L1029.57 948.614 Q1031.57 945.336 1034.37 943.776 Q1037.17 942.217 1041.02 942.217 Q1044.91 942.217 1047.61 944.19 Q1050.35 946.163 1051.66 949.919 Z\" fill=\"#000000\" fill-rule=\"evenodd\" fill-opacity=\"1\" /><path clip-path=\"url(#clip300)\" d=\"M1117.89 959.436 L1117.89 962.3 L1090.96 962.3 Q1091.35 968.348 1094.59 971.531 Q1097.87 974.682 1103.7 974.682 Q1107.07 974.682 1110.22 973.854 Q1113.4 973.027 1116.52 971.371 L1116.52 976.91 Q1113.37 978.246 1110.06 978.947 Q1106.75 979.647 1103.34 979.647 Q1094.81 979.647 1089.82 974.682 Q1084.85 969.716 1084.85 961.25 Q1084.85 952.497 1089.56 947.373 Q1094.31 942.217 1102.33 942.217 Q1109.52 942.217 1113.69 946.863 Q1117.89 951.479 1117.89 959.436 M1112.03 957.717 Q1111.97 952.911 1109.33 950.046 Q1106.72 947.182 1102.39 947.182 Q1097.49 947.182 1094.53 949.951 Q1091.6 952.72 1091.15 957.749 L1112.03 957.717 Z\" fill=\"#000000\" fill-rule=\"evenodd\" fill-opacity=\"1\" /><polyline clip-path=\"url(#clip302)\" style=\"stroke:#000000; stroke-linecap:butt; stroke-linejoin:round; stroke-width:2; stroke-opacity:0.1; fill:none\" points=\"\n",
       "  326.779,830.508 1752.76,830.508 \n",
       "  \"/>\n",
       "<polyline clip-path=\"url(#clip302)\" style=\"stroke:#000000; stroke-linecap:butt; stroke-linejoin:round; stroke-width:2; stroke-opacity:0.1; fill:none\" points=\"\n",
       "  326.779,651.34 1752.76,651.34 \n",
       "  \"/>\n",
       "<polyline clip-path=\"url(#clip302)\" style=\"stroke:#000000; stroke-linecap:butt; stroke-linejoin:round; stroke-width:2; stroke-opacity:0.1; fill:none\" points=\"\n",
       "  326.779,472.172 1752.76,472.172 \n",
       "  \"/>\n",
       "<polyline clip-path=\"url(#clip302)\" style=\"stroke:#000000; stroke-linecap:butt; stroke-linejoin:round; stroke-width:2; stroke-opacity:0.1; fill:none\" points=\"\n",
       "  326.779,293.003 1752.76,293.003 \n",
       "  \"/>\n",
       "<polyline clip-path=\"url(#clip302)\" style=\"stroke:#000000; stroke-linecap:butt; stroke-linejoin:round; stroke-width:2; stroke-opacity:0.1; fill:none\" points=\"\n",
       "  326.779,113.835 1752.76,113.835 \n",
       "  \"/>\n",
       "<polyline clip-path=\"url(#clip300)\" style=\"stroke:#000000; stroke-linecap:butt; stroke-linejoin:round; stroke-width:4; stroke-opacity:1; fill:none\" points=\"\n",
       "  326.779,842.86 326.779,47.2441 \n",
       "  \"/>\n",
       "<polyline clip-path=\"url(#clip300)\" style=\"stroke:#000000; stroke-linecap:butt; stroke-linejoin:round; stroke-width:4; stroke-opacity:1; fill:none\" points=\"\n",
       "  326.779,830.508 345.677,830.508 \n",
       "  \"/>\n",
       "<polyline clip-path=\"url(#clip300)\" style=\"stroke:#000000; stroke-linecap:butt; stroke-linejoin:round; stroke-width:4; stroke-opacity:1; fill:none\" points=\"\n",
       "  326.779,651.34 345.677,651.34 \n",
       "  \"/>\n",
       "<polyline clip-path=\"url(#clip300)\" style=\"stroke:#000000; stroke-linecap:butt; stroke-linejoin:round; stroke-width:4; stroke-opacity:1; fill:none\" points=\"\n",
       "  326.779,472.172 345.677,472.172 \n",
       "  \"/>\n",
       "<polyline clip-path=\"url(#clip300)\" style=\"stroke:#000000; stroke-linecap:butt; stroke-linejoin:round; stroke-width:4; stroke-opacity:1; fill:none\" points=\"\n",
       "  326.779,293.003 345.677,293.003 \n",
       "  \"/>\n",
       "<polyline clip-path=\"url(#clip300)\" style=\"stroke:#000000; stroke-linecap:butt; stroke-linejoin:round; stroke-width:4; stroke-opacity:1; fill:none\" points=\"\n",
       "  326.779,113.835 345.677,113.835 \n",
       "  \"/>\n",
       "<path clip-path=\"url(#clip300)\" d=\"M287.835 816.307 Q284.223 816.307 282.395 819.872 Q280.589 823.414 280.589 830.543 Q280.589 837.65 282.395 841.214 Q284.223 844.756 287.835 844.756 Q291.469 844.756 293.274 841.214 Q295.103 837.65 295.103 830.543 Q295.103 823.414 293.274 819.872 Q291.469 816.307 287.835 816.307 M287.835 812.603 Q293.645 812.603 296.7 817.21 Q299.779 821.793 299.779 830.543 Q299.779 839.27 296.7 843.876 Q293.645 848.46 287.835 848.46 Q282.024 848.46 278.946 843.876 Q275.89 839.27 275.89 830.543 Q275.89 821.793 278.946 817.21 Q282.024 812.603 287.835 812.603 Z\" fill=\"#000000\" fill-rule=\"evenodd\" fill-opacity=\"1\" /><path clip-path=\"url(#clip300)\" d=\"M112.905 671.132 L120.544 671.132 L120.544 644.767 L112.234 646.434 L112.234 642.174 L120.498 640.508 L125.173 640.508 L125.173 671.132 L132.812 671.132 L132.812 675.068 L112.905 675.068 L112.905 671.132 Z\" fill=\"#000000\" fill-rule=\"evenodd\" fill-opacity=\"1\" /><path clip-path=\"url(#clip300)\" d=\"M142.257 669.188 L147.141 669.188 L147.141 675.068 L142.257 675.068 L142.257 669.188 Z\" fill=\"#000000\" fill-rule=\"evenodd\" fill-opacity=\"1\" /><path clip-path=\"url(#clip300)\" d=\"M167.326 643.586 Q163.715 643.586 161.886 647.151 Q160.081 650.693 160.081 657.822 Q160.081 664.929 161.886 668.494 Q163.715 672.035 167.326 672.035 Q170.96 672.035 172.766 668.494 Q174.594 664.929 174.594 657.822 Q174.594 650.693 172.766 647.151 Q170.96 643.586 167.326 643.586 M167.326 639.883 Q173.136 639.883 176.192 644.489 Q179.27 649.072 179.27 657.822 Q179.27 666.549 176.192 671.156 Q173.136 675.739 167.326 675.739 Q161.516 675.739 158.437 671.156 Q155.382 666.549 155.382 657.822 Q155.382 649.072 158.437 644.489 Q161.516 639.883 167.326 639.883 Z\" fill=\"#000000\" fill-rule=\"evenodd\" fill-opacity=\"1\" /><path clip-path=\"url(#clip300)\" d=\"M215.659 649.605 L205.08 660.23 L215.659 670.808 L212.904 673.609 L202.279 662.984 L191.655 673.609 L188.923 670.808 L199.479 660.23 L188.923 649.605 L191.655 646.804 L202.279 657.429 L212.904 646.804 L215.659 649.605 Z\" fill=\"#000000\" fill-rule=\"evenodd\" fill-opacity=\"1\" /><path clip-path=\"url(#clip300)\" d=\"M228.02 671.132 L235.659 671.132 L235.659 644.767 L227.349 646.434 L227.349 642.174 L235.613 640.508 L240.289 640.508 L240.289 671.132 L247.927 671.132 L247.927 675.068 L228.02 675.068 L228.02 671.132 Z\" fill=\"#000000\" fill-rule=\"evenodd\" fill-opacity=\"1\" /><path clip-path=\"url(#clip300)\" d=\"M267.372 643.586 Q263.761 643.586 261.932 647.151 Q260.126 650.693 260.126 657.822 Q260.126 664.929 261.932 668.494 Q263.761 672.035 267.372 672.035 Q271.006 672.035 272.812 668.494 Q274.64 664.929 274.64 657.822 Q274.64 650.693 272.812 647.151 Q271.006 643.586 267.372 643.586 M267.372 639.883 Q273.182 639.883 276.237 644.489 Q279.316 649.072 279.316 657.822 Q279.316 666.549 276.237 671.156 Q273.182 675.739 267.372 675.739 Q261.562 675.739 258.483 671.156 Q255.427 666.549 255.427 657.822 Q255.427 649.072 258.483 644.489 Q261.562 639.883 267.372 639.883 Z\" fill=\"#000000\" fill-rule=\"evenodd\" fill-opacity=\"1\" /><path clip-path=\"url(#clip300)\" d=\"M291.993 622.887 L282.401 637.877 L291.993 637.877 L291.993 622.887 M290.996 619.577 L295.773 619.577 L295.773 637.877 L299.779 637.877 L299.779 641.037 L295.773 641.037 L295.773 647.657 L291.993 647.657 L291.993 641.037 L279.316 641.037 L279.316 637.369 L290.996 619.577 Z\" fill=\"#000000\" fill-rule=\"evenodd\" fill-opacity=\"1\" /><path clip-path=\"url(#clip300)\" d=\"M116.123 491.964 L132.442 491.964 L132.442 495.899 L110.498 495.899 L110.498 491.964 Q113.16 489.209 117.743 484.58 Q122.349 479.927 123.53 478.585 Q125.775 476.061 126.655 474.325 Q127.558 472.566 127.558 470.876 Q127.558 468.122 125.613 466.386 Q123.692 464.649 120.59 464.649 Q118.391 464.649 115.937 465.413 Q113.507 466.177 110.729 467.728 L110.729 463.006 Q113.553 461.872 116.007 461.293 Q118.46 460.714 120.498 460.714 Q125.868 460.714 129.062 463.399 Q132.257 466.085 132.257 470.575 Q132.257 472.705 131.447 474.626 Q130.659 476.524 128.553 479.117 Q127.974 479.788 124.872 483.006 Q121.771 486.2 116.123 491.964 Z\" fill=\"#000000\" fill-rule=\"evenodd\" fill-opacity=\"1\" /><path clip-path=\"url(#clip300)\" d=\"M142.257 490.02 L147.141 490.02 L147.141 495.899 L142.257 495.899 L142.257 490.02 Z\" fill=\"#000000\" fill-rule=\"evenodd\" fill-opacity=\"1\" /><path clip-path=\"url(#clip300)\" d=\"M167.326 464.418 Q163.715 464.418 161.886 467.983 Q160.081 471.524 160.081 478.654 Q160.081 485.76 161.886 489.325 Q163.715 492.867 167.326 492.867 Q170.96 492.867 172.766 489.325 Q174.594 485.76 174.594 478.654 Q174.594 471.524 172.766 467.983 Q170.96 464.418 167.326 464.418 M167.326 460.714 Q173.136 460.714 176.192 465.321 Q179.27 469.904 179.27 478.654 Q179.27 487.381 176.192 491.987 Q173.136 496.571 167.326 496.571 Q161.516 496.571 158.437 491.987 Q155.382 487.381 155.382 478.654 Q155.382 469.904 158.437 465.321 Q161.516 460.714 167.326 460.714 Z\" fill=\"#000000\" fill-rule=\"evenodd\" fill-opacity=\"1\" /><path clip-path=\"url(#clip300)\" d=\"M215.659 470.436 L205.08 481.061 L215.659 491.64 L212.904 494.441 L202.279 483.816 L191.655 494.441 L188.923 491.64 L199.479 481.061 L188.923 470.436 L191.655 467.636 L202.279 478.26 L212.904 467.636 L215.659 470.436 Z\" fill=\"#000000\" fill-rule=\"evenodd\" fill-opacity=\"1\" /><path clip-path=\"url(#clip300)\" d=\"M228.02 491.964 L235.659 491.964 L235.659 465.599 L227.349 467.265 L227.349 463.006 L235.613 461.339 L240.289 461.339 L240.289 491.964 L247.927 491.964 L247.927 495.899 L228.02 495.899 L228.02 491.964 Z\" fill=\"#000000\" fill-rule=\"evenodd\" fill-opacity=\"1\" /><path clip-path=\"url(#clip300)\" d=\"M267.372 464.418 Q263.761 464.418 261.932 467.983 Q260.126 471.524 260.126 478.654 Q260.126 485.76 261.932 489.325 Q263.761 492.867 267.372 492.867 Q271.006 492.867 272.812 489.325 Q274.64 485.76 274.64 478.654 Q274.64 471.524 272.812 467.983 Q271.006 464.418 267.372 464.418 M267.372 460.714 Q273.182 460.714 276.237 465.321 Q279.316 469.904 279.316 478.654 Q279.316 487.381 276.237 491.987 Q273.182 496.571 267.372 496.571 Q261.562 496.571 258.483 491.987 Q255.427 487.381 255.427 478.654 Q255.427 469.904 258.483 465.321 Q261.562 460.714 267.372 460.714 Z\" fill=\"#000000\" fill-rule=\"evenodd\" fill-opacity=\"1\" /><path clip-path=\"url(#clip300)\" d=\"M291.993 443.719 L282.401 458.709 L291.993 458.709 L291.993 443.719 M290.996 440.409 L295.773 440.409 L295.773 458.709 L299.779 458.709 L299.779 461.869 L295.773 461.869 L295.773 468.489 L291.993 468.489 L291.993 461.869 L279.316 461.869 L279.316 458.201 L290.996 440.409 Z\" fill=\"#000000\" fill-rule=\"evenodd\" fill-opacity=\"1\" /><path clip-path=\"url(#clip300)\" d=\"M126.261 298.097 Q129.618 298.814 131.493 301.083 Q133.391 303.351 133.391 306.685 Q133.391 311.8 129.872 314.601 Q126.354 317.402 119.873 317.402 Q117.697 317.402 115.382 316.962 Q113.09 316.546 110.636 315.689 L110.636 311.175 Q112.581 312.31 114.896 312.888 Q117.21 313.467 119.734 313.467 Q124.132 313.467 126.423 311.731 Q128.738 309.995 128.738 306.685 Q128.738 303.629 126.585 301.916 Q124.456 300.18 120.636 300.18 L116.609 300.18 L116.609 296.337 L120.822 296.337 Q124.271 296.337 126.099 294.972 Q127.928 293.583 127.928 290.99 Q127.928 288.328 126.03 286.916 Q124.155 285.481 120.636 285.481 Q118.715 285.481 116.516 285.898 Q114.317 286.314 111.678 287.194 L111.678 283.027 Q114.34 282.287 116.655 281.916 Q118.993 281.546 121.053 281.546 Q126.377 281.546 129.479 283.976 Q132.581 286.384 132.581 290.504 Q132.581 293.375 130.937 295.365 Q129.294 297.333 126.261 298.097 Z\" fill=\"#000000\" fill-rule=\"evenodd\" fill-opacity=\"1\" /><path clip-path=\"url(#clip300)\" d=\"M142.257 310.851 L147.141 310.851 L147.141 316.731 L142.257 316.731 L142.257 310.851 Z\" fill=\"#000000\" fill-rule=\"evenodd\" fill-opacity=\"1\" /><path clip-path=\"url(#clip300)\" d=\"M167.326 285.25 Q163.715 285.25 161.886 288.814 Q160.081 292.356 160.081 299.486 Q160.081 306.592 161.886 310.157 Q163.715 313.699 167.326 313.699 Q170.96 313.699 172.766 310.157 Q174.594 306.592 174.594 299.486 Q174.594 292.356 172.766 288.814 Q170.96 285.25 167.326 285.25 M167.326 281.546 Q173.136 281.546 176.192 286.152 Q179.27 290.736 179.27 299.486 Q179.27 308.212 176.192 312.819 Q173.136 317.402 167.326 317.402 Q161.516 317.402 158.437 312.819 Q155.382 308.212 155.382 299.486 Q155.382 290.736 158.437 286.152 Q161.516 281.546 167.326 281.546 Z\" fill=\"#000000\" fill-rule=\"evenodd\" fill-opacity=\"1\" /><path clip-path=\"url(#clip300)\" d=\"M215.659 291.268 L205.08 301.893 L215.659 312.472 L212.904 315.273 L202.279 304.648 L191.655 315.273 L188.923 312.472 L199.479 301.893 L188.923 291.268 L191.655 288.467 L202.279 299.092 L212.904 288.467 L215.659 291.268 Z\" fill=\"#000000\" fill-rule=\"evenodd\" fill-opacity=\"1\" /><path clip-path=\"url(#clip300)\" d=\"M228.02 312.796 L235.659 312.796 L235.659 286.43 L227.349 288.097 L227.349 283.838 L235.613 282.171 L240.289 282.171 L240.289 312.796 L247.927 312.796 L247.927 316.731 L228.02 316.731 L228.02 312.796 Z\" fill=\"#000000\" fill-rule=\"evenodd\" fill-opacity=\"1\" /><path clip-path=\"url(#clip300)\" d=\"M267.372 285.25 Q263.761 285.25 261.932 288.814 Q260.126 292.356 260.126 299.486 Q260.126 306.592 261.932 310.157 Q263.761 313.699 267.372 313.699 Q271.006 313.699 272.812 310.157 Q274.64 306.592 274.64 299.486 Q274.64 292.356 272.812 288.814 Q271.006 285.25 267.372 285.25 M267.372 281.546 Q273.182 281.546 276.237 286.152 Q279.316 290.736 279.316 299.486 Q279.316 308.212 276.237 312.819 Q273.182 317.402 267.372 317.402 Q261.562 317.402 258.483 312.819 Q255.427 308.212 255.427 299.486 Q255.427 290.736 258.483 286.152 Q261.562 281.546 267.372 281.546 Z\" fill=\"#000000\" fill-rule=\"evenodd\" fill-opacity=\"1\" /><path clip-path=\"url(#clip300)\" d=\"M291.993 264.551 L282.401 279.54 L291.993 279.54 L291.993 264.551 M290.996 261.24 L295.773 261.24 L295.773 279.54 L299.779 279.54 L299.779 282.7 L295.773 282.7 L295.773 289.32 L291.993 289.32 L291.993 282.7 L279.316 282.7 L279.316 279.033 L290.996 261.24 Z\" fill=\"#000000\" fill-rule=\"evenodd\" fill-opacity=\"1\" /><path clip-path=\"url(#clip300)\" d=\"M124.942 107.077 L113.136 125.526 L124.942 125.526 L124.942 107.077 M123.715 103.003 L129.595 103.003 L129.595 125.526 L134.525 125.526 L134.525 129.414 L129.595 129.414 L129.595 137.563 L124.942 137.563 L124.942 129.414 L109.34 129.414 L109.34 124.901 L123.715 103.003 Z\" fill=\"#000000\" fill-rule=\"evenodd\" fill-opacity=\"1\" /><path clip-path=\"url(#clip300)\" d=\"M142.257 131.683 L147.141 131.683 L147.141 137.563 L142.257 137.563 L142.257 131.683 Z\" fill=\"#000000\" fill-rule=\"evenodd\" fill-opacity=\"1\" /><path clip-path=\"url(#clip300)\" d=\"M167.326 106.081 Q163.715 106.081 161.886 109.646 Q160.081 113.188 160.081 120.317 Q160.081 127.424 161.886 130.988 Q163.715 134.53 167.326 134.53 Q170.96 134.53 172.766 130.988 Q174.594 127.424 174.594 120.317 Q174.594 113.188 172.766 109.646 Q170.96 106.081 167.326 106.081 M167.326 102.378 Q173.136 102.378 176.192 106.984 Q179.27 111.567 179.27 120.317 Q179.27 129.044 176.192 133.651 Q173.136 138.234 167.326 138.234 Q161.516 138.234 158.437 133.651 Q155.382 129.044 155.382 120.317 Q155.382 111.567 158.437 106.984 Q161.516 102.378 167.326 102.378 Z\" fill=\"#000000\" fill-rule=\"evenodd\" fill-opacity=\"1\" /><path clip-path=\"url(#clip300)\" d=\"M215.659 112.1 L205.08 122.725 L215.659 133.303 L212.904 136.104 L202.279 125.479 L191.655 136.104 L188.923 133.303 L199.479 122.725 L188.923 112.1 L191.655 109.299 L202.279 119.924 L212.904 109.299 L215.659 112.1 Z\" fill=\"#000000\" fill-rule=\"evenodd\" fill-opacity=\"1\" /><path clip-path=\"url(#clip300)\" d=\"M228.02 133.627 L235.659 133.627 L235.659 107.262 L227.349 108.928 L227.349 104.669 L235.613 103.003 L240.289 103.003 L240.289 133.627 L247.927 133.627 L247.927 137.563 L228.02 137.563 L228.02 133.627 Z\" fill=\"#000000\" fill-rule=\"evenodd\" fill-opacity=\"1\" /><path clip-path=\"url(#clip300)\" d=\"M267.372 106.081 Q263.761 106.081 261.932 109.646 Q260.126 113.188 260.126 120.317 Q260.126 127.424 261.932 130.988 Q263.761 134.53 267.372 134.53 Q271.006 134.53 272.812 130.988 Q274.64 127.424 274.64 120.317 Q274.64 113.188 272.812 109.646 Q271.006 106.081 267.372 106.081 M267.372 102.378 Q273.182 102.378 276.237 106.984 Q279.316 111.567 279.316 120.317 Q279.316 129.044 276.237 133.651 Q273.182 138.234 267.372 138.234 Q261.562 138.234 258.483 133.651 Q255.427 129.044 255.427 120.317 Q255.427 111.567 258.483 106.984 Q261.562 102.378 267.372 102.378 Z\" fill=\"#000000\" fill-rule=\"evenodd\" fill-opacity=\"1\" /><path clip-path=\"url(#clip300)\" d=\"M291.993 85.3823 L282.401 100.372 L291.993 100.372 L291.993 85.3823 M290.996 82.0721 L295.773 82.0721 L295.773 100.372 L299.779 100.372 L299.779 103.532 L295.773 103.532 L295.773 110.152 L291.993 110.152 L291.993 103.532 L279.316 103.532 L279.316 99.8643 L290.996 82.0721 Z\" fill=\"#000000\" fill-rule=\"evenodd\" fill-opacity=\"1\" /><path clip-path=\"url(#clip300)\" d=\"M24.2244 476.578 L31.0039 476.578 Q27.9802 479.825 26.4843 483.517 Q24.9883 487.177 24.9883 491.315 Q24.9883 499.463 29.9854 503.792 Q34.9507 508.12 44.3719 508.12 Q53.7613 508.12 58.7584 503.792 Q63.7236 499.463 63.7236 491.315 Q63.7236 487.177 62.2277 483.517 Q60.7318 479.825 57.7081 476.578 L64.4239 476.578 Q66.7155 479.952 67.8614 483.74 Q69.0072 487.495 69.0072 491.697 Q69.0072 502.487 62.4187 508.693 Q55.7983 514.9 44.3719 514.9 Q32.9136 514.9 26.3251 508.693 Q19.7048 502.487 19.7048 491.697 Q19.7048 487.432 20.8506 483.676 Q21.9646 479.888 24.2244 476.578 Z\" fill=\"#000000\" fill-rule=\"evenodd\" fill-opacity=\"1\" /><path clip-path=\"url(#clip300)\" d=\"M36.5421 453.089 Q36.5421 457.799 40.2342 460.537 Q43.8945 463.274 50.292 463.274 Q56.6895 463.274 60.3817 460.568 Q64.0419 457.831 64.0419 453.089 Q64.0419 448.41 60.3498 445.673 Q56.6577 442.935 50.292 442.935 Q43.9581 442.935 40.266 445.673 Q36.5421 448.41 36.5421 453.089 M31.5768 453.089 Q31.5768 445.45 36.5421 441.089 Q41.5073 436.729 50.292 436.729 Q59.0449 436.729 64.0419 441.089 Q69.0072 445.45 69.0072 453.089 Q69.0072 460.759 64.0419 465.12 Q59.0449 469.449 50.292 469.449 Q41.5073 469.449 36.5421 465.12 Q31.5768 460.759 31.5768 453.089 Z\" fill=\"#000000\" fill-rule=\"evenodd\" fill-opacity=\"1\" /><path clip-path=\"url(#clip300)\" d=\"M33.4865 404.296 L39.0247 404.296 Q37.7516 406.778 37.115 409.452 Q36.4784 412.125 36.4784 414.99 Q36.4784 419.35 37.8152 421.547 Q39.152 423.711 41.8256 423.711 Q43.8626 423.711 45.0403 422.151 Q46.1861 420.592 47.2365 415.881 L47.6821 413.876 Q49.0189 407.638 51.4697 405.028 Q53.8886 402.386 58.2491 402.386 Q63.2144 402.386 66.1108 406.333 Q69.0072 410.247 69.0072 417.122 Q69.0072 419.987 68.4343 423.106 Q67.8932 426.194 66.7792 429.631 L60.7318 429.631 Q62.4187 426.385 63.278 423.234 Q64.1056 420.082 64.1056 416.995 Q64.1056 412.857 62.7051 410.629 Q61.2729 408.401 58.6947 408.401 Q56.3076 408.401 55.0345 410.025 Q53.7613 411.616 52.5837 417.059 L52.1062 419.096 Q50.9604 424.538 48.6051 426.957 Q46.218 429.376 42.0802 429.376 Q37.0513 429.376 34.3141 425.812 Q31.5768 422.247 31.5768 415.69 Q31.5768 412.444 32.0543 409.579 Q32.5317 406.715 33.4865 404.296 Z\" fill=\"#000000\" fill-rule=\"evenodd\" fill-opacity=\"1\" /><path clip-path=\"url(#clip300)\" d=\"M22.3147 387.267 L32.4362 387.267 L32.4362 375.204 L36.9877 375.204 L36.9877 387.267 L56.3394 387.267 Q60.6999 387.267 61.9413 386.09 Q63.1826 384.88 63.1826 381.22 L63.1826 375.204 L68.0842 375.204 L68.0842 381.22 Q68.0842 387.999 65.5697 390.577 Q63.0234 393.156 56.3394 393.156 L36.9877 393.156 L36.9877 397.452 L32.4362 397.452 L32.4362 393.156 L22.3147 393.156 L22.3147 387.267 Z\" fill=\"#000000\" fill-rule=\"evenodd\" fill-opacity=\"1\" /><polyline clip-path=\"url(#clip302)\" style=\"stroke:#000000; stroke-linecap:butt; stroke-linejoin:round; stroke-width:16; stroke-opacity:1; fill:none\" points=\"\n",
       "  367.137,820.342 425.626,806.71 484.116,794.865 542.606,784.213 601.095,771.743 659.585,744.243 718.075,725.247 776.564,707.934 835.054,689.783 893.543,667.822 \n",
       "  952.033,635.186 1010.52,585.933 1069.01,557.141 1127.5,532.13 1185.99,502.211 1244.48,457.092 1302.97,416.699 1361.46,129.152 1419.95,116.579 1478.44,101.213 \n",
       "  1536.93,91.2134 1595.42,80.8968 1653.91,75.0739 1712.4,69.7615 \n",
       "  \"/>\n",
       "</svg>\n"
      ]
     },
     "execution_count": 33,
     "metadata": {},
     "output_type": "execute_result"
    }
   ],
   "source": [
    "plot([xLabels],cumsum(vec(cost)),linewidth = 4, linecolor = :black,size = (450,250),xlabel=\"Time\",ylabel=\"Cost\", legend = false) #|> save(\"og-cost.svg\")"
   ]
  },
  {
   "cell_type": "markdown",
   "metadata": {},
   "source": [
    "## Stochastic Unit Commitment with DTMC for wind speed and cloud cover"
   ]
  },
  {
   "cell_type": "code",
   "execution_count": 49,
   "metadata": {},
   "outputs": [
    {
     "data": {
      "text/plain": [
       "solve_st (generic function with 1 method)"
      ]
     },
     "execution_count": 49,
     "metadata": {},
     "output_type": "execute_result"
    }
   ],
   "source": [
    "#Stochastic Model\n",
    "\n",
    "# Wind power maximum value at each hour for 24 hours\n",
    "w_pt_df = CSV.File(\"./wind_transitionMat.csv\", header=0, delim=',') |> DataFrame \n",
    "w_pt=Matrix(w_pt_df)\n",
    "\n",
    "#Solar power maximum value at each hour for 24 hours\n",
    "s_pt_df = CSV.File(\"./solar_transitionMat.csv\", header=0, delim=',') |> DataFrame\n",
    "s_pt=Matrix(s_pt_df)\n",
    "\n",
    "#stochastic problem\n",
    "\n",
    "function wind_pow_corr(p_t)\n",
    "    w_pow=[0 0.06 0.18 0.56 0.85 1 0.96 0.87];\n",
    "    return w_f[2]*sum(w_pow.*p_t);\n",
    "end\n",
    "\n",
    "function solar_pow_corr(p_t)\n",
    "    s_pow=[1 1 0.94 0.85 0.7 0.5 0.3 0.1];\n",
    "    return s_f[2]*sum(s_pow.*p_t);\n",
    "end\n",
    "\n",
    "function solve_st(g_max, g_min, c_g, c_w, d, w_f, s_f,w_p_i,s_p_i)\n",
    "    st = Model(GLPK.Optimizer)\n",
    "    \n",
    "#Wind and Solar generation variable for each hour    \n",
    "    @variable(st, 0 <= w[i=1:1,j=1:24] <= wind_pow_corr(w_p_i*w_pt^j))\n",
    "    @variable(st, 0 <= s[i=1:1,j=1:24] <= solar_pow_corr(s_p_i*s_pt^j))   \n",
    "    @constraint(st,[i=1:1,j=12:20],s[i,j] ==0) \n",
    "    @variable(st, w_diff[i=1:1,j=1:24])\n",
    "    @constraint(st,[i=1:1,j=1:24], w_diff[i,j] == wind_pow_corr(w_p_i*w_pt^j) - w[i,j])   \n",
    "    @variable(st, s_diff[i=1:1,j=1:24])\n",
    "    @constraint(st,[i=1:1,j=1:24], s_diff[i,j] == solar_pow_corr(s_p_i*s_pt^j) - s[i,j])   \n",
    "\n",
    "#Unit commitment binary variable for conventional generator    \n",
    "    @variable(st,u[i=1:3,j=1:24], Bin)\n",
    "    \n",
    "#Conventional generation varaible for each hour     \n",
    "    @variable(st, 0 <= g[i=1:3,j=1:24] <= g_max[i])\n",
    "    \n",
    "#Objective Minimize generation production cost    \n",
    "    @objective(st, Min, sum(sum(((g[i,j] *c_g[i])+(u[i,j]*c_g0[i])) for i=1:3)+ (c_w* w[1,j])+(c_s*s[1,j]) for j=1:24))\n",
    "    @variable(st,cost[j=1:24])\n",
    "    @constraint(st,[j=1:24], cost[j] == sum(((g[i,j] *c_g[i])+(u[i,j]*c_g0[i])) for i=1:3)+ (c_w* w[1,j])+(c_s*s[1,j]))\n",
    "    \n",
    "#Conventional generation constraints    \n",
    "    @constraint(st,[i=1:3,j=1:24], g[i,j] <= g_max[i]*u[i,j])\n",
    "    @constraint(st,[i=1:3,j=1:24], g[i,j] >= g_min[i]*u[i,j]) \n",
    "    \n",
    "    \n",
    "#Power balance equation constraint   \n",
    "    @constraint(st,[j=1:24],(sum(g[i,j] for i=1:3)+ w[1,j]+ s[1,j] == d[1,j]))\n",
    "\n",
    "#Minimum uptime and downtime constraint   \n",
    "    @constraint(st,[j=2:24,i=1:3,s=j+1:min(24,j.+UTg[i,1]-1)],u[i,s]>=u[i,j]-u[i,j-1])\n",
    "    @constraint(st,[j=1:1,i=1:3,s=j+1:min(24,j.+UTg[i,1]-1)],u[i,s]>=u[i,j]-0)\n",
    "    @constraint(st,[j=2:24,i=1:3,s=j+1:min(24,j.+UDg[i,1]-1)],(1-u[i,s])>=u[i,j-1]-u[i,j])\n",
    "    @constraint(st,[j=1:1,i=1:3,s=j+1:min(24,j.+UDg[i,1]-1)],(1-u[i,s])>=0-u[i,j])\n",
    "\n",
    "#Ramp rate up and down constraint\n",
    "    @constraint(st,[i=1:3,j=2:24], g[i,j]-g[i,j-1]<=UR[i])\n",
    "    @constraint(st,[i=1:3,j=1:1], g[i,j]-0<=UR[i])\n",
    "    @constraint(st,[i=1:3,j=2:24], g[i,j-1]-g[i,j]<=DR[i])\n",
    "    @constraint(st,[i=1:3,j=1:1], 0-g[i,j]<=DR[i])\n",
    "    \n",
    "    optimize!(st)\n",
    "    return JuMP.value.(g), JuMP.value.(w),JuMP.value.(s), objective_value(st),JuMP.value.(u),JuMP.value.(w_diff),JuMP.value.(s_diff),JuMP.value.(cost)\n",
    "end"
   ]
  },
  {
   "cell_type": "code",
   "execution_count": 73,
   "metadata": {},
   "outputs": [
    {
     "name": "stdout",
     "output_type": "stream",
     "text": [
      "Dispatch of Coventional Generators: [0.0 0.0 0.0 0.0 0.0 0.0 0.0 0.0 0.0 0.0 8.355131917534083 10.0 0.0 0.0 8.455628414738463 18.455628414738463 20.0 15.0 5.0 8.077002274559312 0.0 0.0 0.0 0.0; 0.0 0.0 0.0 0.0 0.0 20.47456936138392 20.0 20.0 20.0 20.0 24.185520189263244 49.185520189263244 26.331052390378233 20.0 20.0 33.94187615417102 24.903391758400964 44.10357552102343 20.0 0.0 0.0 0.0 0.0 0.0; 0.0 0.0 0.0 0.0 0.0 0.0 0.0 0.0 0.0 0.0 0.0 0.0 0.0 0.0 0.0 0.0 0.0 0.0 0.0 0.0 0.0 0.0 0.0 0.0] MW\n",
      "\n",
      "\n",
      "Dispatch of Wind Generator: [35.89 33.7843964828 32.25505739222036 31.402381154972012 30.94489025116989 30.715790211514232 25.020000000000003 15.629999999999999 20.310000000000002 30.676871958234912 30.74227704317396 30.814479810736756 30.888947609621766 29.6 31.03437158526154 31.102495431090517 31.16660824159903 31.226424478976572 8.780000000000001 31.332997725440684 31.379966720405772 31.422980511874545 31.462277273681437 29.65] MW\n",
      "\n",
      "\n",
      "Dispatch of Solar Generator: [0.0 11.715603517200002 9.64494260777964 7.197618845027989 12.215109748830105 14.369640427101848 0.0 3.552713678800501e-15 0.0 6.173128041765089 11.267070850028711 0.0 0.0 0.0 0.0 0.0 0.0 0.0 0.0 0.0 3.580033279594229 5.3070194881254515 1.037722726318563 0.0] MW\n",
      "\n",
      "\n",
      "Wind Power Wastage: [0.4991543999999948 0.0 0.0 0.0 0.0 0.0 5.5991978357134435 14.969865081839536 10.315502536254812 0.0 0.0 0.0 0.0 1.3628342385619554 0.0 0.0 0.0 0.0 22.5018672237253 0.0 0.0 0.0 0.0 1.848110546052581] MW\n",
      "\n",
      "\n",
      "Solar Power Wastage: [23.571842999999998 8.883408133554 8.832979984128709 9.611858391413367 3.2486501160379078 0.0 13.47729133714509 12.748438900664746 12.15267681029464 5.492381878470772 0.0 10.941185444979586 10.67465723084442 10.456704795412268 10.278512538007575 10.1328685477015 10.013870994001168 9.916689191227825 9.837368708025284 9.77267217427914 6.139915850778504 4.370010072976143 8.60441404761245 9.613816091455282] MW\n",
      "\n",
      "\n",
      "Up/Down of generators:[0.0 0.0 0.0 0.0 0.0 0.0 0.0 0.0 0.0 0.0 1.0 1.0 0.0 0.0 1.0 1.0 1.0 1.0 1.0 1.0 0.0 0.0 0.0 0.0; 0.0 0.0 0.0 0.0 0.0 1.0 1.0 1.0 1.0 1.0 1.0 1.0 1.0 1.0 1.0 1.0 1.0 1.0 1.0 0.0 0.0 0.0 0.0 0.0; 0.0 0.0 0.0 0.0 0.0 0.0 0.0 0.0 0.0 0.0 0.0 0.0 0.0 0.0 0.0 0.0 0.0 0.0 0.0 0.0 0.0 0.0 0.0 0.0] Bin\n",
      "\n",
      "\n",
      "Total cost: 25633.978412960834$\n"
     ]
    }
   ],
   "source": [
    "(g_opt, w_opt, s_opt, obj,u, w_diff, s_diff,cost) = solve_st(g_max, g_min, c_g, c_w, d, w_f, s_f,w_p_i,s_p_i);\n",
    "println(\"Dispatch of Coventional Generators: \",g_opt, \" MW\")\n",
    "println(\"\\n\")\n",
    "println(\"Dispatch of Wind Generator: \",w_opt, \" MW\")\n",
    "println(\"\\n\")\n",
    "println(\"Dispatch of Solar Generator: \",s_opt, \" MW\")\n",
    "println(\"\\n\")\n",
    "println(\"Wind Power Wastage: \",w_diff, \" MW\")\n",
    "println(\"\\n\")\n",
    "println(\"Solar Power Wastage: \",s_diff, \" MW\")\n",
    "println(\"\\n\")\n",
    "println(\"Up/Down of generators:\",u, \" Bin\")\n",
    "println(\"\\n\")\n",
    "println(\"Total cost: \", obj, \"\\$\")\n"
   ]
  },
  {
   "cell_type": "code",
   "execution_count": 74,
   "metadata": {},
   "outputs": [
    {
     "data": {
      "application/vnd.vegalite.v4+json": {
       "data": {
        "values": [
         {
          "Time": 1,
          "value": 0,
          "variable": "Conv"
         },
         {
          "Time": 2,
          "value": 0,
          "variable": "Conv"
         },
         {
          "Time": 3,
          "value": 0,
          "variable": "Conv"
         },
         {
          "Time": 4,
          "value": 0,
          "variable": "Conv"
         },
         {
          "Time": 5,
          "value": 0,
          "variable": "Conv"
         },
         {
          "Time": 6,
          "value": 20.47456936138392,
          "variable": "Conv"
         },
         {
          "Time": 7,
          "value": 20,
          "variable": "Conv"
         },
         {
          "Time": 8,
          "value": 20,
          "variable": "Conv"
         },
         {
          "Time": 9,
          "value": 20,
          "variable": "Conv"
         },
         {
          "Time": 10,
          "value": 20,
          "variable": "Conv"
         },
         {
          "Time": 11,
          "value": 32.540652106797324,
          "variable": "Conv"
         },
         {
          "Time": 12,
          "value": 59.185520189263244,
          "variable": "Conv"
         },
         {
          "Time": 13,
          "value": 26.331052390378233,
          "variable": "Conv"
         },
         {
          "Time": 14,
          "value": 20,
          "variable": "Conv"
         },
         {
          "Time": 15,
          "value": 28.455628414738463,
          "variable": "Conv"
         },
         {
          "Time": 16,
          "value": 52.39750456890948,
          "variable": "Conv"
         },
         {
          "Time": 17,
          "value": 44.903391758400964,
          "variable": "Conv"
         },
         {
          "Time": 18,
          "value": 59.10357552102343,
          "variable": "Conv"
         },
         {
          "Time": 19,
          "value": 25,
          "variable": "Conv"
         },
         {
          "Time": 20,
          "value": 8.077002274559312,
          "variable": "Conv"
         },
         {
          "Time": 21,
          "value": 0,
          "variable": "Conv"
         },
         {
          "Time": 22,
          "value": 0,
          "variable": "Conv"
         },
         {
          "Time": 23,
          "value": 0,
          "variable": "Conv"
         },
         {
          "Time": 24,
          "value": 0,
          "variable": "Conv"
         },
         {
          "Time": 1,
          "value": 35.89,
          "variable": "Wind"
         },
         {
          "Time": 2,
          "value": 33.7843964828,
          "variable": "Wind"
         },
         {
          "Time": 3,
          "value": 32.25505739222036,
          "variable": "Wind"
         },
         {
          "Time": 4,
          "value": 31.402381154972012,
          "variable": "Wind"
         },
         {
          "Time": 5,
          "value": 30.94489025116989,
          "variable": "Wind"
         },
         {
          "Time": 6,
          "value": 30.715790211514232,
          "variable": "Wind"
         },
         {
          "Time": 7,
          "value": 25.020000000000003,
          "variable": "Wind"
         },
         {
          "Time": 8,
          "value": 15.629999999999999,
          "variable": "Wind"
         },
         {
          "Time": 9,
          "value": 20.310000000000002,
          "variable": "Wind"
         },
         {
          "Time": 10,
          "value": 30.676871958234912,
          "variable": "Wind"
         },
         {
          "Time": 11,
          "value": 30.74227704317396,
          "variable": "Wind"
         },
         {
          "Time": 12,
          "value": 30.814479810736756,
          "variable": "Wind"
         },
         {
          "Time": 13,
          "value": 30.888947609621766,
          "variable": "Wind"
         },
         {
          "Time": 14,
          "value": 29.6,
          "variable": "Wind"
         },
         {
          "Time": 15,
          "value": 31.03437158526154,
          "variable": "Wind"
         },
         {
          "Time": 16,
          "value": 31.102495431090517,
          "variable": "Wind"
         },
         {
          "Time": 17,
          "value": 31.16660824159903,
          "variable": "Wind"
         },
         {
          "Time": 18,
          "value": 31.226424478976572,
          "variable": "Wind"
         },
         {
          "Time": 19,
          "value": 8.780000000000001,
          "variable": "Wind"
         },
         {
          "Time": 20,
          "value": 31.332997725440684,
          "variable": "Wind"
         },
         {
          "Time": 21,
          "value": 31.379966720405772,
          "variable": "Wind"
         },
         {
          "Time": 22,
          "value": 31.422980511874545,
          "variable": "Wind"
         },
         {
          "Time": 23,
          "value": 31.462277273681437,
          "variable": "Wind"
         },
         {
          "Time": 24,
          "value": 29.65,
          "variable": "Wind"
         },
         {
          "Time": 1,
          "value": 0,
          "variable": "Solar"
         },
         {
          "Time": 2,
          "value": 11.715603517200002,
          "variable": "Solar"
         },
         {
          "Time": 3,
          "value": 9.64494260777964,
          "variable": "Solar"
         },
         {
          "Time": 4,
          "value": 7.197618845027989,
          "variable": "Solar"
         },
         {
          "Time": 5,
          "value": 12.215109748830105,
          "variable": "Solar"
         },
         {
          "Time": 6,
          "value": 14.369640427101848,
          "variable": "Solar"
         },
         {
          "Time": 7,
          "value": 0,
          "variable": "Solar"
         },
         {
          "Time": 8,
          "value": 3.552713678800501e-15,
          "variable": "Solar"
         },
         {
          "Time": 9,
          "value": 0,
          "variable": "Solar"
         },
         {
          "Time": 10,
          "value": 6.173128041765089,
          "variable": "Solar"
         },
         {
          "Time": 11,
          "value": 11.267070850028711,
          "variable": "Solar"
         },
         {
          "Time": 12,
          "value": 0,
          "variable": "Solar"
         },
         {
          "Time": 13,
          "value": 0,
          "variable": "Solar"
         },
         {
          "Time": 14,
          "value": 0,
          "variable": "Solar"
         },
         {
          "Time": 15,
          "value": 0,
          "variable": "Solar"
         },
         {
          "Time": 16,
          "value": 0,
          "variable": "Solar"
         },
         {
          "Time": 17,
          "value": 0,
          "variable": "Solar"
         },
         {
          "Time": 18,
          "value": 0,
          "variable": "Solar"
         },
         {
          "Time": 19,
          "value": 0,
          "variable": "Solar"
         },
         {
          "Time": 20,
          "value": 0,
          "variable": "Solar"
         },
         {
          "Time": 21,
          "value": 3.580033279594229,
          "variable": "Solar"
         },
         {
          "Time": 22,
          "value": 5.3070194881254515,
          "variable": "Solar"
         },
         {
          "Time": 23,
          "value": 1.037722726318563,
          "variable": "Solar"
         },
         {
          "Time": 24,
          "value": 0,
          "variable": "Solar"
         }
        ]
       },
       "encoding": {
        "color": {
         "field": "variable",
         "type": "nominal"
        },
        "x": {
         "field": "Time",
         "type": "quantitative"
        },
        "y": {
         "field": "value",
         "stack": "zero",
         "type": "quantitative"
        }
       },
       "height": 250,
       "mark": "area",
       "width": 450
      },
      "image/png": "[encoded data removed]",
      "image/svg+xml": [
       "<?xml version=\"1.0\" encoding=\"utf-8\"?>\n",
       "<!DOCTYPE svg PUBLIC \"-//W3C//DTD SVG 1.1//EN\" \"http://www.w3.org/Graphics/SVG/1.1/DTD/svg11.dtd\">\n",
       "<svg xmlns=\"http://www.w3.org/2000/svg\" xmlns:xlink=\"http://www.w3.org/1999/xlink\" version=\"1.1\" class=\"marks\" width=\"560\" height=\"297\" viewBox=\"0 0 560 297\"><rect width=\"560\" height=\"297\" fill=\"white\"/><g fill=\"none\" stroke-miterlimit=\"10\" transform=\"translate(42,10)\"><g class=\"mark-group role-frame root\" role=\"graphics-object\" aria-roledescription=\"group mark container\"><g transform=\"translate(0,0)\"><path class=\"background\" aria-hidden=\"true\" d=\"M0.5,0.5h450v250h-450Z\" stroke=\"#ddd\"/><g><g class=\"mark-group role-axis\" aria-hidden=\"true\"><g transform=\"translate(0.5,250.5)\"><path class=\"background\" aria-hidden=\"true\" d=\"M0,0h0v0h0Z\" pointer-events=\"none\"/><g><g class=\"mark-rule role-axis-grid\" pointer-events=\"none\"><line transform=\"translate(0,-250)\" x2=\"0\" y2=\"250\" stroke=\"#ddd\" stroke-width=\"1\" opacity=\"1\"/><line transform=\"translate(38,-250)\" x2=\"0\" y2=\"250\" stroke=\"#ddd\" stroke-width=\"1\" opacity=\"1\"/><line transform=\"translate(75,-250)\" x2=\"0\" y2=\"250\" stroke=\"#ddd\" stroke-width=\"1\" opacity=\"1\"/><line transform=\"translate(113,-250)\" x2=\"0\" y2=\"250\" stroke=\"#ddd\" stroke-width=\"1\" opacity=\"1\"/><line transform=\"translate(150,-250)\" x2=\"0\" y2=\"250\" stroke=\"#ddd\" stroke-width=\"1\" opacity=\"1\"/><line transform=\"translate(188,-250)\" x2=\"0\" y2=\"250\" stroke=\"#ddd\" stroke-width=\"1\" opacity=\"1\"/><line transform=\"translate(225,-250)\" x2=\"0\" y2=\"250\" stroke=\"#ddd\" stroke-width=\"1\" opacity=\"1\"/><line transform=\"translate(263,-250)\" x2=\"0\" y2=\"250\" stroke=\"#ddd\" stroke-width=\"1\" opacity=\"1\"/><line transform=\"translate(300,-250)\" x2=\"0\" y2=\"250\" stroke=\"#ddd\" stroke-width=\"1\" opacity=\"1\"/><line transform=\"translate(338,-250)\" x2=\"0\" y2=\"250\" stroke=\"#ddd\" stroke-width=\"1\" opacity=\"1\"/><line transform=\"translate(375,-250)\" x2=\"0\" y2=\"250\" stroke=\"#ddd\" stroke-width=\"1\" opacity=\"1\"/><line transform=\"translate(413,-250)\" x2=\"0\" y2=\"250\" stroke=\"#ddd\" stroke-width=\"1\" opacity=\"1\"/><line transform=\"translate(450,-250)\" x2=\"0\" y2=\"250\" stroke=\"#ddd\" stroke-width=\"1\" opacity=\"1\"/></g></g><path class=\"foreground\" aria-hidden=\"true\" d=\"\" pointer-events=\"none\" display=\"none\"/></g></g><g class=\"mark-group role-axis\" aria-hidden=\"true\"><g transform=\"translate(0.5,0.5)\"><path class=\"background\" aria-hidden=\"true\" d=\"M0,0h0v0h0Z\" pointer-events=\"none\"/><g><g class=\"mark-rule role-axis-grid\" pointer-events=\"none\"><line transform=\"translate(0,250)\" x2=\"450\" y2=\"0\" stroke=\"#ddd\" stroke-width=\"1\" opacity=\"1\"/><line transform=\"translate(0,200)\" x2=\"450\" y2=\"0\" stroke=\"#ddd\" stroke-width=\"1\" opacity=\"1\"/><line transform=\"translate(0,150)\" x2=\"450\" y2=\"0\" stroke=\"#ddd\" stroke-width=\"1\" opacity=\"1\"/><line transform=\"translate(0,100)\" x2=\"450\" y2=\"0\" stroke=\"#ddd\" stroke-width=\"1\" opacity=\"1\"/><line transform=\"translate(0,50)\" x2=\"450\" y2=\"0\" stroke=\"#ddd\" stroke-width=\"1\" opacity=\"1\"/><line transform=\"translate(0,0)\" x2=\"450\" y2=\"0\" stroke=\"#ddd\" stroke-width=\"1\" opacity=\"1\"/></g></g><path class=\"foreground\" aria-hidden=\"true\" d=\"\" pointer-events=\"none\" display=\"none\"/></g></g><g class=\"mark-group role-axis\" role=\"graphics-symbol\" aria-roledescription=\"axis\" aria-label=\"X-axis titled 'Time' for a linear scale with values from 0 to 24\"><g transform=\"translate(0.5,250.5)\"><path class=\"background\" aria-hidden=\"true\" d=\"M0,0h0v0h0Z\" pointer-events=\"none\"/><g><g class=\"mark-rule role-axis-tick\" pointer-events=\"none\"><line transform=\"translate(0,0)\" x2=\"0\" y2=\"5\" stroke=\"#888\" stroke-width=\"1\" opacity=\"1\"/><line transform=\"translate(38,0)\" x2=\"0\" y2=\"5\" stroke=\"#888\" stroke-width=\"1\" opacity=\"1\"/><line transform=\"translate(75,0)\" x2=\"0\" y2=\"5\" stroke=\"#888\" stroke-width=\"1\" opacity=\"1\"/><line transform=\"translate(113,0)\" x2=\"0\" y2=\"5\" stroke=\"#888\" stroke-width=\"1\" opacity=\"1\"/><line transform=\"translate(150,0)\" x2=\"0\" y2=\"5\" stroke=\"#888\" stroke-width=\"1\" opacity=\"1\"/><line transform=\"translate(188,0)\" x2=\"0\" y2=\"5\" stroke=\"#888\" stroke-width=\"1\" opacity=\"1\"/><line transform=\"translate(225,0)\" x2=\"0\" y2=\"5\" stroke=\"#888\" stroke-width=\"1\" opacity=\"1\"/><line transform=\"translate(263,0)\" x2=\"0\" y2=\"5\" stroke=\"#888\" stroke-width=\"1\" opacity=\"1\"/><line transform=\"translate(300,0)\" x2=\"0\" y2=\"5\" stroke=\"#888\" stroke-width=\"1\" opacity=\"1\"/><line transform=\"translate(338,0)\" x2=\"0\" y2=\"5\" stroke=\"#888\" stroke-width=\"1\" opacity=\"1\"/><line transform=\"translate(375,0)\" x2=\"0\" y2=\"5\" stroke=\"#888\" stroke-width=\"1\" opacity=\"1\"/><line transform=\"translate(413,0)\" x2=\"0\" y2=\"5\" stroke=\"#888\" stroke-width=\"1\" opacity=\"1\"/><line transform=\"translate(450,0)\" x2=\"0\" y2=\"5\" stroke=\"#888\" stroke-width=\"1\" opacity=\"1\"/></g><g class=\"mark-text role-axis-label\" pointer-events=\"none\"><text text-anchor=\"start\" transform=\"translate(0,15)\" font-family=\"sans-serif\" font-size=\"10px\" fill=\"#000\" opacity=\"1\">0</text><text text-anchor=\"middle\" transform=\"translate(37.5,15)\" font-family=\"sans-serif\" font-size=\"10px\" fill=\"#000\" opacity=\"1\">2</text><text text-anchor=\"middle\" transform=\"translate(75,15)\" font-family=\"sans-serif\" font-size=\"10px\" fill=\"#000\" opacity=\"1\">4</text><text text-anchor=\"middle\" transform=\"translate(112.5,15)\" font-family=\"sans-serif\" font-size=\"10px\" fill=\"#000\" opacity=\"1\">6</text><text text-anchor=\"middle\" transform=\"translate(150,15)\" font-family=\"sans-serif\" font-size=\"10px\" fill=\"#000\" opacity=\"1\">8</text><text text-anchor=\"middle\" transform=\"translate(187.5,15)\" font-family=\"sans-serif\" font-size=\"10px\" fill=\"#000\" opacity=\"1\">10</text><text text-anchor=\"middle\" transform=\"translate(225,15)\" font-family=\"sans-serif\" font-size=\"10px\" fill=\"#000\" opacity=\"1\">12</text><text text-anchor=\"middle\" transform=\"translate(262.5,15)\" font-family=\"sans-serif\" font-size=\"10px\" fill=\"#000\" opacity=\"1\">14</text><text text-anchor=\"middle\" transform=\"translate(300,15)\" font-family=\"sans-serif\" font-size=\"10px\" fill=\"#000\" opacity=\"1\">16</text><text text-anchor=\"middle\" transform=\"translate(337.5,15)\" font-family=\"sans-serif\" font-size=\"10px\" fill=\"#000\" opacity=\"1\">18</text><text text-anchor=\"middle\" transform=\"translate(375,15)\" font-family=\"sans-serif\" font-size=\"10px\" fill=\"#000\" opacity=\"1\">20</text><text text-anchor=\"middle\" transform=\"translate(412.5,15)\" font-family=\"sans-serif\" font-size=\"10px\" fill=\"#000\" opacity=\"1\">22</text><text text-anchor=\"end\" transform=\"translate(450,15)\" font-family=\"sans-serif\" font-size=\"10px\" fill=\"#000\" opacity=\"1\">24</text></g><g class=\"mark-rule role-axis-domain\" pointer-events=\"none\"><line transform=\"translate(0,0)\" x2=\"450\" y2=\"0\" stroke=\"#888\" stroke-width=\"1\" opacity=\"1\"/></g><g class=\"mark-text role-axis-title\" pointer-events=\"none\"><text text-anchor=\"middle\" transform=\"translate(225,30)\" font-family=\"sans-serif\" font-size=\"11px\" font-weight=\"bold\" fill=\"#000\" opacity=\"1\">Time</text></g></g><path class=\"foreground\" aria-hidden=\"true\" d=\"\" pointer-events=\"none\" display=\"none\"/></g></g><g class=\"mark-group role-axis\" role=\"graphics-symbol\" aria-roledescription=\"axis\" aria-label=\"Y-axis titled 'value' for a linear scale with values from 0 to 100\"><g transform=\"translate(0.5,0.5)\"><path class=\"background\" aria-hidden=\"true\" d=\"M0,0h0v0h0Z\" pointer-events=\"none\"/><g><g class=\"mark-rule role-axis-tick\" pointer-events=\"none\"><line transform=\"translate(0,250)\" x2=\"-5\" y2=\"0\" stroke=\"#888\" stroke-width=\"1\" opacity=\"1\"/><line transform=\"translate(0,200)\" x2=\"-5\" y2=\"0\" stroke=\"#888\" stroke-width=\"1\" opacity=\"1\"/><line transform=\"translate(0,150)\" x2=\"-5\" y2=\"0\" stroke=\"#888\" stroke-width=\"1\" opacity=\"1\"/><line transform=\"translate(0,100)\" x2=\"-5\" y2=\"0\" stroke=\"#888\" stroke-width=\"1\" opacity=\"1\"/><line transform=\"translate(0,50)\" x2=\"-5\" y2=\"0\" stroke=\"#888\" stroke-width=\"1\" opacity=\"1\"/><line transform=\"translate(0,0)\" x2=\"-5\" y2=\"0\" stroke=\"#888\" stroke-width=\"1\" opacity=\"1\"/></g><g class=\"mark-text role-axis-label\" pointer-events=\"none\"><text text-anchor=\"end\" transform=\"translate(-7,253)\" font-family=\"sans-serif\" font-size=\"10px\" fill=\"#000\" opacity=\"1\">0</text><text text-anchor=\"end\" transform=\"translate(-7,203)\" font-family=\"sans-serif\" font-size=\"10px\" fill=\"#000\" opacity=\"1\">20</text><text text-anchor=\"end\" transform=\"translate(-7,153)\" font-family=\"sans-serif\" font-size=\"10px\" fill=\"#000\" opacity=\"1\">40</text><text text-anchor=\"end\" transform=\"translate(-7,103)\" font-family=\"sans-serif\" font-size=\"10px\" fill=\"#000\" opacity=\"1\">60</text><text text-anchor=\"end\" transform=\"translate(-7,52.999999999999986)\" font-family=\"sans-serif\" font-size=\"10px\" fill=\"#000\" opacity=\"1\">80</text><text text-anchor=\"end\" transform=\"translate(-7,3)\" font-family=\"sans-serif\" font-size=\"10px\" fill=\"#000\" opacity=\"1\">100</text></g><g class=\"mark-rule role-axis-domain\" pointer-events=\"none\"><line transform=\"translate(0,250)\" x2=\"0\" y2=\"-250\" stroke=\"#888\" stroke-width=\"1\" opacity=\"1\"/></g><g class=\"mark-text role-axis-title\" pointer-events=\"none\"><text text-anchor=\"middle\" transform=\"translate(-26,125) rotate(-90) translate(0,-2)\" font-family=\"sans-serif\" font-size=\"11px\" font-weight=\"bold\" fill=\"#000\" opacity=\"1\">value</text></g></g><path class=\"foreground\" aria-hidden=\"true\" d=\"\" pointer-events=\"none\" display=\"none\"/></g></g><g class=\"mark-group role-scope pathgroup\" role=\"graphics-object\" aria-roledescription=\"group mark container\"><g transform=\"translate(0,0)\"><path class=\"background\" aria-hidden=\"true\" d=\"M0,0h450v250h-450Z\"/><g><g class=\"mark-area role-mark marks\" role=\"graphics-object\" aria-roledescription=\"area mark container\"><path aria-label=\"Time: 1; value: 0; variable: Conv\" role=\"graphics-symbol\" aria-roledescription=\"area mark\" d=\"M18.75,160.275L37.5,136.24999999999997L56.25,145.25L75,153.5L93.75,142.1L112.5,86.09999999999998L131.25,137.45L150,160.92499999999998L168.75,149.225L187.5,107.875L206.25,63.625000000000014L225,24.999999999999993L243.74999999999997,106.94999999999999L262.5,126L281.25,101.275L300,41.25000000000001L318.75,59.82500000000002L337.5,24.175L356.25,165.55L375,151.47500000000002L393.75,162.6L412.5,158.175L431.25,168.75L450,175.875L450,175.875L431.25,168.75L412.5,158.175L393.75,162.6L375,171.66750568639827L356.25,228.05L337.5,171.93393880255857L318.75,172.08347939600245L300,172.2437614222737L281.25,172.41407103684614L262.5,176L243.74999999999997,172.77763097594558L225,172.96380047315813L206.25,144.9766302669933L187.5,157.875L168.75,199.225L150,210.925L131.25,187.45000000000002L112.5,137.28642340345982L93.75,142.1L75,153.5L56.25,145.25L37.5,136.24999999999997L18.75,160.275Z\" fill=\"#4c78a8\"/></g></g><path class=\"foreground\" aria-hidden=\"true\" d=\"\" display=\"none\"/></g><g transform=\"translate(0,0)\"><path class=\"background\" aria-hidden=\"true\" d=\"M0,0h450v250h-450Z\"/><g><g class=\"mark-area role-mark marks\" role=\"graphics-object\" aria-roledescription=\"area mark container\"><path aria-label=\"Time: 1; value: 35.89; variable: Wind\" role=\"graphics-symbol\" aria-roledescription=\"area mark\" d=\"M18.75,160.275L37.5,165.539008793L56.25,169.3623565194491L75,171.49404711256997L93.75,172.63777437207528L112.5,173.21052447121443L131.25,187.45000000000002L150,210.925L168.75,199.225L187.5,173.3078201044127L206.25,173.1443073920651L225,172.96380047315813L243.74999999999997,172.77763097594558L262.5,176L281.25,172.41407103684614L300,172.2437614222737L318.75,172.08347939600245L337.5,171.93393880255857L356.25,228.05L375,171.66750568639827L393.75,171.55008319898556L412.5,171.44254872031365L431.25,171.34430681579641L450,175.875L450,250L431.25,250L412.5,250L393.75,250L375,250L356.25,250L337.5,250L318.75,250L300,250L281.25,250L262.5,250L243.74999999999997,250L225,250L206.25,250L187.5,250L168.75,250L150,250L131.25,250L112.5,250L93.75,250L75,250L56.25,250L37.5,250L18.75,250Z\" fill=\"#e45756\"/></g></g><path class=\"foreground\" aria-hidden=\"true\" d=\"\" display=\"none\"/></g><g transform=\"translate(0,0)\"><path class=\"background\" aria-hidden=\"true\" d=\"M0,0h450v250h-450Z\"/><g><g class=\"mark-area role-mark marks\" role=\"graphics-object\" aria-roledescription=\"area mark container\"><path aria-label=\"Time: 1; value: 0; variable: Solar\" role=\"graphics-symbol\" aria-roledescription=\"area mark\" d=\"M18.75,160.275L37.5,136.24999999999997L56.25,145.25L75,153.5L93.75,142.1L112.5,137.28642340345982L131.25,187.45000000000002L150,210.925L168.75,199.225L187.5,157.875L206.25,144.9766302669933L225,172.96380047315813L243.74999999999997,172.77763097594558L262.5,176L281.25,172.41407103684614L300,172.2437614222737L318.75,172.08347939600245L337.5,171.93393880255857L356.25,228.05L375,171.66750568639827L393.75,162.6L412.5,158.175L431.25,168.75L450,175.875L450,175.875L431.25,171.34430681579641L412.5,171.44254872031365L393.75,171.55008319898556L375,171.66750568639827L356.25,228.05L337.5,171.93393880255857L318.75,172.08347939600245L300,172.2437614222737L281.25,172.41407103684614L262.5,176L243.74999999999997,172.77763097594558L225,172.96380047315813L206.25,173.1443073920651L187.5,173.3078201044127L168.75,199.225L150,210.925L131.25,187.45000000000002L112.5,173.21052447121443L93.75,172.63777437207528L75,171.49404711256997L56.25,169.3623565194491L37.5,165.539008793L18.75,160.275Z\" fill=\"#f58518\"/></g></g><path class=\"foreground\" aria-hidden=\"true\" d=\"\" display=\"none\"/></g></g><g class=\"mark-group role-legend\" role=\"graphics-symbol\" aria-roledescription=\"legend\" aria-label=\"Symbol legend titled 'variable' for fill color with 3 values: Conv, Solar, Wind\"><g transform=\"translate(468,0)\"><path class=\"background\" aria-hidden=\"true\" d=\"M0,0h45v53h-45Z\" pointer-events=\"none\"/><g><g class=\"mark-group role-legend-entry\"><g transform=\"translate(0,16)\"><path class=\"background\" aria-hidden=\"true\" d=\"M0,0h0v0h0Z\" pointer-events=\"none\"/><g><g class=\"mark-group role-scope\" role=\"graphics-object\" aria-roledescription=\"group mark container\"><g transform=\"translate(0,0)\"><path class=\"background\" aria-hidden=\"true\" d=\"M0,0h39v11h-39Z\" pointer-events=\"none\" opacity=\"1\"/><g><g class=\"mark-symbol role-legend-symbol\" pointer-events=\"none\"><path transform=\"translate(6,6)\" d=\"M5,0A5,5,0,1,1,-5,0A5,5,0,1,1,5,0\" fill=\"#4c78a8\" stroke-width=\"1.5\" opacity=\"1\"/></g><g class=\"mark-text role-legend-label\" pointer-events=\"none\"><text text-anchor=\"start\" transform=\"translate(16,9)\" font-family=\"sans-serif\" font-size=\"10px\" fill=\"#000\" opacity=\"1\">Conv</text></g></g><path class=\"foreground\" aria-hidden=\"true\" d=\"\" pointer-events=\"none\" display=\"none\"/></g><g transform=\"translate(0,13)\"><path class=\"background\" aria-hidden=\"true\" d=\"M0,0h39v11h-39Z\" pointer-events=\"none\" opacity=\"1\"/><g><g class=\"mark-symbol role-legend-symbol\" pointer-events=\"none\"><path transform=\"translate(6,6)\" d=\"M5,0A5,5,0,1,1,-5,0A5,5,0,1,1,5,0\" fill=\"#f58518\" stroke-width=\"1.5\" opacity=\"1\"/></g><g class=\"mark-text role-legend-label\" pointer-events=\"none\"><text text-anchor=\"start\" transform=\"translate(16,9)\" font-family=\"sans-serif\" font-size=\"10px\" fill=\"#000\" opacity=\"1\">Solar</text></g></g><path class=\"foreground\" aria-hidden=\"true\" d=\"\" pointer-events=\"none\" display=\"none\"/></g><g transform=\"translate(0,26)\"><path class=\"background\" aria-hidden=\"true\" d=\"M0,0h39v11h-39Z\" pointer-events=\"none\" opacity=\"1\"/><g><g class=\"mark-symbol role-legend-symbol\" pointer-events=\"none\"><path transform=\"translate(6,6)\" d=\"M5,0A5,5,0,1,1,-5,0A5,5,0,1,1,5,0\" fill=\"#e45756\" stroke-width=\"1.5\" opacity=\"1\"/></g><g class=\"mark-text role-legend-label\" pointer-events=\"none\"><text text-anchor=\"start\" transform=\"translate(16,9)\" font-family=\"sans-serif\" font-size=\"10px\" fill=\"#000\" opacity=\"1\">Wind</text></g></g><path class=\"foreground\" aria-hidden=\"true\" d=\"\" pointer-events=\"none\" display=\"none\"/></g></g></g><path class=\"foreground\" aria-hidden=\"true\" d=\"\" pointer-events=\"none\" display=\"none\"/></g></g><g class=\"mark-text role-legend-title\" pointer-events=\"none\"><text text-anchor=\"start\" transform=\"translate(0,9)\" font-family=\"sans-serif\" font-size=\"11px\" font-weight=\"bold\" fill=\"#000\" opacity=\"1\">variable</text></g></g><path class=\"foreground\" aria-hidden=\"true\" d=\"\" pointer-events=\"none\" display=\"none\"/></g></g></g><path class=\"foreground\" aria-hidden=\"true\" d=\"\" display=\"none\"/></g></g></g></svg>\n"
      ],
      "text/plain": [
       "@vlplot(\n",
       "    width=450,\n",
       "    height=250,\n",
       "    mark=\"area\",\n",
       "    encoding={\n",
       "        x={\n",
       "            field=\"Time\"\n",
       "        },\n",
       "        y={\n",
       "            stack=\"zero\",\n",
       "            field=\"value\"\n",
       "        },\n",
       "        color={\n",
       "            field=\"variable\",\n",
       "            type=\"nominal\"\n",
       "        }\n",
       "    },\n",
       "    data={\n",
       "        values=...\n",
       "    }\n",
       ")"
      ]
     },
     "execution_count": 74,
     "metadata": {},
     "output_type": "execute_result"
    }
   ],
   "source": [
    "g_opt_tot=g_opt[1,:].+g_opt[2,:]+g_opt[3,:]\n",
    "sNames = [\"Conv\",\"Wind\",\"Solar\"]\n",
    "xLabels = [1,2,3,4,5,6,7,8,9,10,11,12,13,14,15,16,17,18,19,20,21,22,23,24]\n",
    "\n",
    "df = DataFrame(Time=xLabels, Conv=vec(g_opt_tot), Wind=vec(w_opt), Solar=vec(s_opt))\n",
    "df |> stack |> @vlplot(:area, x=:Time, y={:value, stack=:zero}, color=\"variable:n\",width=450, height=250)"
   ]
  },
  {
   "cell_type": "code",
   "execution_count": 67,
   "metadata": {},
   "outputs": [
    {
     "data": {
      "image/svg+xml": [
       "<?xml version=\"1.0\" encoding=\"utf-8\"?>\n",
       "<svg xmlns=\"http://www.w3.org/2000/svg\" xmlns:xlink=\"http://www.w3.org/1999/xlink\" width=\"450\" height=\"200\" viewBox=\"0 0 1800 800\">\n",
       "<defs>\n",
       "  <clipPath id=\"clip620\">\n",
       "    <rect x=\"0\" y=\"0\" width=\"1800\" height=\"800\"/>\n",
       "  </clipPath>\n",
       "</defs>\n",
       "<path clip-path=\"url(#clip620)\" d=\"\n",
       "M0 800 L1800 800 L1800 0 L0 0  Z\n",
       "  \" fill=\"#ffffff\" fill-rule=\"evenodd\" fill-opacity=\"1\"/>\n",
       "<defs>\n",
       "  <clipPath id=\"clip621\">\n",
       "    <rect x=\"360\" y=\"0\" width=\"1261\" height=\"800\"/>\n",
       "  </clipPath>\n",
       "</defs>\n",
       "<path clip-path=\"url(#clip620)\" d=\"\n",
       "M198.677 658.54 L1572.76 658.54 L1572.76 47.2441 L198.677 47.2441  Z\n",
       "  \" fill=\"#ffffff\" fill-rule=\"evenodd\" fill-opacity=\"1\"/>\n",
       "<defs>\n",
       "  <clipPath id=\"clip622\">\n",
       "    <rect x=\"198\" y=\"47\" width=\"1375\" height=\"612\"/>\n",
       "  </clipPath>\n",
       "</defs>\n",
       "<polyline clip-path=\"url(#clip622)\" style=\"stroke:#000000; stroke-linecap:butt; stroke-linejoin:round; stroke-width:2; stroke-opacity:0.1; fill:none\" points=\"\n",
       "  456.317,658.54 456.317,47.2441 \n",
       "  \"/>\n",
       "<polyline clip-path=\"url(#clip622)\" style=\"stroke:#000000; stroke-linecap:butt; stroke-linejoin:round; stroke-width:2; stroke-opacity:0.1; fill:none\" points=\"\n",
       "  742.583,658.54 742.583,47.2441 \n",
       "  \"/>\n",
       "<polyline clip-path=\"url(#clip622)\" style=\"stroke:#000000; stroke-linecap:butt; stroke-linejoin:round; stroke-width:2; stroke-opacity:0.1; fill:none\" points=\"\n",
       "  1028.85,658.54 1028.85,47.2441 \n",
       "  \"/>\n",
       "<polyline clip-path=\"url(#clip622)\" style=\"stroke:#000000; stroke-linecap:butt; stroke-linejoin:round; stroke-width:2; stroke-opacity:0.1; fill:none\" points=\"\n",
       "  1315.12,658.54 1315.12,47.2441 \n",
       "  \"/>\n",
       "<polyline clip-path=\"url(#clip620)\" style=\"stroke:#000000; stroke-linecap:butt; stroke-linejoin:round; stroke-width:4; stroke-opacity:1; fill:none\" points=\"\n",
       "  198.677,658.54 1572.76,658.54 \n",
       "  \"/>\n",
       "<polyline clip-path=\"url(#clip620)\" style=\"stroke:#000000; stroke-linecap:butt; stroke-linejoin:round; stroke-width:4; stroke-opacity:1; fill:none\" points=\"\n",
       "  456.317,658.54 456.317,639.642 \n",
       "  \"/>\n",
       "<polyline clip-path=\"url(#clip620)\" style=\"stroke:#000000; stroke-linecap:butt; stroke-linejoin:round; stroke-width:4; stroke-opacity:1; fill:none\" points=\"\n",
       "  742.583,658.54 742.583,639.642 \n",
       "  \"/>\n",
       "<polyline clip-path=\"url(#clip620)\" style=\"stroke:#000000; stroke-linecap:butt; stroke-linejoin:round; stroke-width:4; stroke-opacity:1; fill:none\" points=\"\n",
       "  1028.85,658.54 1028.85,639.642 \n",
       "  \"/>\n",
       "<polyline clip-path=\"url(#clip620)\" style=\"stroke:#000000; stroke-linecap:butt; stroke-linejoin:round; stroke-width:4; stroke-opacity:1; fill:none\" points=\"\n",
       "  1315.12,658.54 1315.12,639.642 \n",
       "  \"/>\n",
       "<path clip-path=\"url(#clip620)\" d=\"M446.594 681.58 L464.951 681.58 L464.951 685.515 L450.877 685.515 L450.877 693.987 Q451.895 693.64 452.914 693.478 Q453.932 693.293 454.951 693.293 Q460.738 693.293 464.117 696.464 Q467.497 699.635 467.497 705.052 Q467.497 710.631 464.025 713.732 Q460.553 716.811 454.233 716.811 Q452.057 716.811 449.789 716.441 Q447.543 716.07 445.136 715.33 L445.136 710.631 Q447.219 711.765 449.442 712.32 Q451.664 712.876 454.141 712.876 Q458.145 712.876 460.483 710.77 Q462.821 708.663 462.821 705.052 Q462.821 701.441 460.483 699.334 Q458.145 697.228 454.141 697.228 Q452.266 697.228 450.391 697.645 Q448.539 698.061 446.594 698.941 L446.594 681.58 Z\" fill=\"#000000\" fill-rule=\"evenodd\" fill-opacity=\"1\" /><path clip-path=\"url(#clip620)\" d=\"M717.271 712.205 L724.91 712.205 L724.91 685.839 L716.599 687.506 L716.599 683.247 L724.863 681.58 L729.539 681.58 L729.539 712.205 L737.178 712.205 L737.178 716.14 L717.271 716.14 L717.271 712.205 Z\" fill=\"#000000\" fill-rule=\"evenodd\" fill-opacity=\"1\" /><path clip-path=\"url(#clip620)\" d=\"M756.622 684.659 Q753.011 684.659 751.183 688.223 Q749.377 691.765 749.377 698.895 Q749.377 706.001 751.183 709.566 Q753.011 713.107 756.622 713.107 Q760.257 713.107 762.062 709.566 Q763.891 706.001 763.891 698.895 Q763.891 691.765 762.062 688.223 Q760.257 684.659 756.622 684.659 M756.622 680.955 Q762.432 680.955 765.488 685.561 Q768.567 690.145 768.567 698.895 Q768.567 707.621 765.488 712.228 Q762.432 716.811 756.622 716.811 Q750.812 716.811 747.733 712.228 Q744.678 707.621 744.678 698.895 Q744.678 690.145 747.733 685.561 Q750.812 680.955 756.622 680.955 Z\" fill=\"#000000\" fill-rule=\"evenodd\" fill-opacity=\"1\" /><path clip-path=\"url(#clip620)\" d=\"M1004.03 712.205 L1011.67 712.205 L1011.67 685.839 L1003.36 687.506 L1003.36 683.247 L1011.63 681.58 L1016.3 681.58 L1016.3 712.205 L1023.94 712.205 L1023.94 716.14 L1004.03 716.14 L1004.03 712.205 Z\" fill=\"#000000\" fill-rule=\"evenodd\" fill-opacity=\"1\" /><path clip-path=\"url(#clip620)\" d=\"M1033.43 681.58 L1051.79 681.58 L1051.79 685.515 L1037.72 685.515 L1037.72 693.987 Q1038.73 693.64 1039.75 693.478 Q1040.77 693.293 1041.79 693.293 Q1047.58 693.293 1050.96 696.464 Q1054.34 699.635 1054.34 705.052 Q1054.34 710.631 1050.86 713.732 Q1047.39 716.811 1041.07 716.811 Q1038.9 716.811 1036.63 716.441 Q1034.38 716.07 1031.97 715.33 L1031.97 710.631 Q1034.06 711.765 1036.28 712.32 Q1038.5 712.876 1040.98 712.876 Q1044.98 712.876 1047.32 710.77 Q1049.66 708.663 1049.66 705.052 Q1049.66 701.441 1047.32 699.334 Q1044.98 697.228 1040.98 697.228 Q1039.1 697.228 1037.23 697.645 Q1035.38 698.061 1033.43 698.941 L1033.43 681.58 Z\" fill=\"#000000\" fill-rule=\"evenodd\" fill-opacity=\"1\" /><path clip-path=\"url(#clip620)\" d=\"M1293.89 712.205 L1310.21 712.205 L1310.21 716.14 L1288.26 716.14 L1288.26 712.205 Q1290.93 709.45 1295.51 704.82 Q1300.12 700.168 1301.3 698.825 Q1303.54 696.302 1304.42 694.566 Q1305.32 692.807 1305.32 691.117 Q1305.32 688.362 1303.38 686.626 Q1301.46 684.89 1298.36 684.89 Q1296.16 684.89 1293.7 685.654 Q1291.27 686.418 1288.5 687.969 L1288.5 683.247 Q1291.32 682.112 1293.77 681.534 Q1296.23 680.955 1298.26 680.955 Q1303.63 680.955 1306.83 683.64 Q1310.02 686.325 1310.02 690.816 Q1310.02 692.946 1309.21 694.867 Q1308.43 696.765 1306.32 699.358 Q1305.74 700.029 1302.64 703.246 Q1299.54 706.441 1293.89 712.205 Z\" fill=\"#000000\" fill-rule=\"evenodd\" fill-opacity=\"1\" /><path clip-path=\"url(#clip620)\" d=\"M1330.02 684.659 Q1326.41 684.659 1324.58 688.223 Q1322.78 691.765 1322.78 698.895 Q1322.78 706.001 1324.58 709.566 Q1326.41 713.107 1330.02 713.107 Q1333.66 713.107 1335.46 709.566 Q1337.29 706.001 1337.29 698.895 Q1337.29 691.765 1335.46 688.223 Q1333.66 684.659 1330.02 684.659 M1330.02 680.955 Q1335.83 680.955 1338.89 685.561 Q1341.97 690.145 1341.97 698.895 Q1341.97 707.621 1338.89 712.228 Q1335.83 716.811 1330.02 716.811 Q1324.21 716.811 1321.13 712.228 Q1318.08 707.621 1318.08 698.895 Q1318.08 690.145 1321.13 685.561 Q1324.21 680.955 1330.02 680.955 Z\" fill=\"#000000\" fill-rule=\"evenodd\" fill-opacity=\"1\" /><path clip-path=\"url(#clip620)\" d=\"M807.593 746.884 L847.793 746.884 L847.793 752.295 L830.923 752.295 L830.923 794.404 L824.462 794.404 L824.462 752.295 L807.593 752.295 L807.593 746.884 Z\" fill=\"#000000\" fill-rule=\"evenodd\" fill-opacity=\"1\" /><path clip-path=\"url(#clip620)\" d=\"M851.739 758.756 L857.596 758.756 L857.596 794.404 L851.739 794.404 L851.739 758.756 M851.739 744.879 L857.596 744.879 L857.596 752.295 L851.739 752.295 L851.739 744.879 Z\" fill=\"#000000\" fill-rule=\"evenodd\" fill-opacity=\"1\" /><path clip-path=\"url(#clip620)\" d=\"M897.604 765.599 Q899.8 761.652 902.856 759.774 Q905.911 757.897 910.049 757.897 Q915.619 757.897 918.643 761.811 Q921.667 765.695 921.667 772.888 L921.667 794.404 L915.778 794.404 L915.778 773.079 Q915.778 767.954 913.964 765.472 Q912.15 762.989 908.426 762.989 Q903.874 762.989 901.233 766.013 Q898.591 769.037 898.591 774.256 L898.591 794.404 L892.703 794.404 L892.703 773.079 Q892.703 767.923 890.888 765.472 Q889.074 762.989 885.287 762.989 Q880.799 762.989 878.157 766.045 Q875.515 769.068 875.515 774.256 L875.515 794.404 L869.627 794.404 L869.627 758.756 L875.515 758.756 L875.515 764.294 Q877.52 761.016 880.321 759.456 Q883.122 757.897 886.974 757.897 Q890.857 757.897 893.562 759.87 Q896.299 761.843 897.604 765.599 Z\" fill=\"#000000\" fill-rule=\"evenodd\" fill-opacity=\"1\" /><path clip-path=\"url(#clip620)\" d=\"M963.839 775.116 L963.839 777.98 L936.912 777.98 Q937.294 784.028 940.541 787.211 Q943.819 790.362 949.644 790.362 Q953.018 790.362 956.169 789.534 Q959.352 788.707 962.471 787.051 L962.471 792.59 Q959.32 793.926 956.01 794.627 Q952.699 795.327 949.294 795.327 Q940.764 795.327 935.767 790.362 Q930.801 785.396 930.801 776.93 Q930.801 768.177 935.512 763.053 Q940.254 757.897 948.275 757.897 Q955.469 757.897 959.638 762.543 Q963.839 767.159 963.839 775.116 M957.983 773.397 Q957.919 768.591 955.278 765.726 Q952.668 762.862 948.339 762.862 Q943.437 762.862 940.477 765.631 Q937.549 768.4 937.103 773.429 L957.983 773.397 Z\" fill=\"#000000\" fill-rule=\"evenodd\" fill-opacity=\"1\" /><polyline clip-path=\"url(#clip622)\" style=\"stroke:#000000; stroke-linecap:butt; stroke-linejoin:round; stroke-width:2; stroke-opacity:0.1; fill:none\" points=\"\n",
       "  198.677,505.716 1572.76,505.716 \n",
       "  \"/>\n",
       "<polyline clip-path=\"url(#clip622)\" style=\"stroke:#000000; stroke-linecap:butt; stroke-linejoin:round; stroke-width:2; stroke-opacity:0.1; fill:none\" points=\"\n",
       "  198.677,200.068 1572.76,200.068 \n",
       "  \"/>\n",
       "<polyline clip-path=\"url(#clip620)\" style=\"stroke:#000000; stroke-linecap:butt; stroke-linejoin:round; stroke-width:4; stroke-opacity:1; fill:none\" points=\"\n",
       "  198.677,658.54 198.677,47.2441 \n",
       "  \"/>\n",
       "<polyline clip-path=\"url(#clip620)\" style=\"stroke:#000000; stroke-linecap:butt; stroke-linejoin:round; stroke-width:4; stroke-opacity:1; fill:none\" points=\"\n",
       "  198.677,505.716 215.386,505.716 \n",
       "  \"/>\n",
       "<polyline clip-path=\"url(#clip620)\" style=\"stroke:#000000; stroke-linecap:butt; stroke-linejoin:round; stroke-width:4; stroke-opacity:1; fill:none\" points=\"\n",
       "  198.677,200.068 215.386,200.068 \n",
       "  \"/>\n",
       "<path clip-path=\"url(#clip620)\" d=\"M58.4134 488.436 L63.1356 488.436 L70.4041 517.649 L77.6494 488.436 L82.904 488.436 L90.1725 517.649 L97.4178 488.436 L102.163 488.436 L93.4827 522.996 L87.6031 522.996 L80.3114 492.996 L72.9504 522.996 L67.0708 522.996 L58.4134 488.436 Z\" fill=\"#000000\" fill-rule=\"evenodd\" fill-opacity=\"1\" /><path clip-path=\"url(#clip620)\" d=\"M107.14 497.07 L111.399 497.07 L111.399 522.996 L107.14 522.996 L107.14 497.07 M107.14 486.978 L111.399 486.978 L111.399 492.371 L107.14 492.371 L107.14 486.978 Z\" fill=\"#000000\" fill-rule=\"evenodd\" fill-opacity=\"1\" /><path clip-path=\"url(#clip620)\" d=\"M141.862 507.348 L141.862 522.996 L137.603 522.996 L137.603 507.487 Q137.603 503.806 136.168 501.977 Q134.732 500.149 131.862 500.149 Q128.413 500.149 126.422 502.348 Q124.432 504.547 124.432 508.343 L124.432 522.996 L120.149 522.996 L120.149 497.07 L124.432 497.07 L124.432 501.098 Q125.959 498.76 128.02 497.603 Q130.103 496.445 132.811 496.445 Q137.279 496.445 139.57 499.223 Q141.862 501.977 141.862 507.348 Z\" fill=\"#000000\" fill-rule=\"evenodd\" fill-opacity=\"1\" /><path clip-path=\"url(#clip620)\" d=\"M167.417 501.005 L167.417 486.978 L171.677 486.978 L171.677 522.996 L167.417 522.996 L167.417 519.107 Q166.075 521.422 164.015 522.556 Q161.978 523.667 159.107 523.667 Q154.408 523.667 151.445 519.917 Q148.506 516.167 148.506 510.056 Q148.506 503.945 151.445 500.195 Q154.408 496.445 159.107 496.445 Q161.978 496.445 164.015 497.579 Q166.075 498.69 167.417 501.005 M152.904 510.056 Q152.904 514.755 154.825 517.44 Q156.769 520.102 160.149 520.102 Q163.529 520.102 165.473 517.44 Q167.417 514.755 167.417 510.056 Q167.417 505.357 165.473 502.695 Q163.529 500.01 160.149 500.01 Q156.769 500.01 154.825 502.695 Q152.904 505.357 152.904 510.056 Z\" fill=\"#000000\" fill-rule=\"evenodd\" fill-opacity=\"1\" /><path clip-path=\"url(#clip620)\" d=\"M76.2374 183.922 L76.2374 188.482 Q73.5754 187.209 71.2143 186.584 Q68.8532 185.959 66.6541 185.959 Q62.8347 185.959 60.7513 187.441 Q58.6912 188.922 58.6912 191.654 Q58.6912 193.945 60.0569 195.126 Q61.4458 196.283 65.2884 197.001 L68.1124 197.58 Q73.3439 198.575 75.8207 201.098 Q78.3207 203.598 78.3207 207.811 Q78.3207 212.834 74.9411 215.427 Q71.5846 218.019 65.08 218.019 Q62.6263 218.019 59.8486 217.464 Q57.094 216.908 54.131 215.82 L54.131 211.005 Q56.9782 212.603 59.7097 213.413 Q62.4412 214.223 65.08 214.223 Q69.0846 214.223 71.2606 212.649 Q73.4365 211.075 73.4365 208.158 Q73.4365 205.612 71.8624 204.177 Q70.3115 202.742 66.7467 202.024 L63.8995 201.468 Q58.668 200.427 56.3301 198.205 Q53.9921 195.982 53.9921 192.024 Q53.9921 187.441 57.2097 184.802 Q60.4504 182.163 66.1217 182.163 Q68.5522 182.163 71.0754 182.603 Q73.5985 183.043 76.2374 183.922 Z\" fill=\"#000000\" fill-rule=\"evenodd\" fill-opacity=\"1\" /><path clip-path=\"url(#clip620)\" d=\"M95.4734 194.408 Q92.0475 194.408 90.0567 197.094 Q88.066 199.756 88.066 204.408 Q88.066 209.061 90.0336 211.746 Q92.0243 214.408 95.4734 214.408 Q98.8761 214.408 100.867 211.723 Q102.858 209.038 102.858 204.408 Q102.858 199.802 100.867 197.117 Q98.8761 194.408 95.4734 194.408 M95.4734 190.797 Q101.029 190.797 104.2 194.408 Q107.371 198.019 107.371 204.408 Q107.371 210.774 104.2 214.408 Q101.029 218.019 95.4734 218.019 Q89.8947 218.019 86.7234 214.408 Q83.5753 210.774 83.5753 204.408 Q83.5753 198.019 86.7234 194.408 Q89.8947 190.797 95.4734 190.797 Z\" fill=\"#000000\" fill-rule=\"evenodd\" fill-opacity=\"1\" /><path clip-path=\"url(#clip620)\" d=\"M114.432 181.33 L118.691 181.33 L118.691 217.348 L114.432 217.348 L114.432 181.33 Z\" fill=\"#000000\" fill-rule=\"evenodd\" fill-opacity=\"1\" /><path clip-path=\"url(#clip620)\" d=\"M139.385 204.316 Q134.223 204.316 132.232 205.496 Q130.242 206.677 130.242 209.524 Q130.242 211.793 131.723 213.135 Q133.228 214.455 135.797 214.455 Q139.339 214.455 141.469 211.955 Q143.621 209.431 143.621 205.265 L143.621 204.316 L139.385 204.316 M147.881 202.556 L147.881 217.348 L143.621 217.348 L143.621 213.413 Q142.163 215.774 139.987 216.908 Q137.811 218.019 134.663 218.019 Q130.682 218.019 128.32 215.797 Q125.982 213.552 125.982 209.802 Q125.982 205.427 128.899 203.205 Q131.839 200.982 137.649 200.982 L143.621 200.982 L143.621 200.566 Q143.621 197.626 141.677 196.029 Q139.756 194.408 136.26 194.408 Q134.038 194.408 131.932 194.941 Q129.825 195.473 127.881 196.538 L127.881 192.603 Q130.219 191.7 132.418 191.26 Q134.617 190.797 136.7 190.797 Q142.325 190.797 145.103 193.714 Q147.881 196.631 147.881 202.556 Z\" fill=\"#000000\" fill-rule=\"evenodd\" fill-opacity=\"1\" /><path clip-path=\"url(#clip620)\" d=\"M171.677 195.404 Q170.959 194.987 170.103 194.802 Q169.269 194.594 168.251 194.594 Q164.64 194.594 162.695 196.955 Q160.774 199.293 160.774 203.691 L160.774 217.348 L156.492 217.348 L156.492 191.422 L160.774 191.422 L160.774 195.45 Q162.117 193.089 164.269 191.955 Q166.422 190.797 169.501 190.797 Q169.941 190.797 170.473 190.867 Q171.005 190.913 171.654 191.029 L171.677 195.404 Z\" fill=\"#000000\" fill-rule=\"evenodd\" fill-opacity=\"1\" /><g clip-path=\"url(#clip622)\">\n",
       "<image width=\"1374\" height=\"611\" xlink:href=\"data:image/png;base64,\n",
       "iVBORw0KGgoAAAANSUhEUgAABV4AAAJjCAYAAAD0/gp2AAATKElEQVR4nO3aPY4NYACFYdfIXKIR\n",
       "hYyYRC0TjVpEo0YyGhX2YAEapdgAiUahkqhUOo1SLEAyk1EJiZ+GjPYu4P3ul5jnWcGp35zF1VNn\n",
       "D48dAU8f3p49YQ0WswcM9/f3z9kThtu6eX/2hLU4c+nK7AnDvd+9NnvCcCdOL2dPGG7j5ObsCWtx\n",
       "Yffe7AnDbd24M3sCAMBQ+29ezJ6wFstz27MnDPftw7vZE4b78+P77AnDHZ89AAAAAADgfyO8AgAA\n",
       "AADEhFcAAAAAgJjwCgAAAAAQE14BAAAAAGLCKwAAAABATHgFAAAAAIgJrwAAAAAAMeEVAAAAACAm\n",
       "vAIAAAAAxIRXAAAAAICY8AoAAAAAEBNeAQAAAABiwisAAAAAQEx4BQAAAACICa8AAAAAADHhFQAA\n",
       "AAAgJrwCAAAAAMSEVwAAAACAmPAKAAAAABATXgEAAAAAYsIrAAAAAEBMeAUAAAAAiAmvAAAAAAAx\n",
       "4RUAAAAAICa8AgAAAADEhFcAAAAAgJjwCgAAAAAQE14BAAAAAGLCKwAAAABATHgFAAAAAIgJrwAA\n",
       "AAAAMeEVAAAAACAmvAIAAAAAxIRXAAAAAICY8AoAAAAAEBNeAQAAAABiwisAAAAAQEx4BQAAAACI\n",
       "Ca8AAAAAADHhFQAAAAAgJrwCAAAAAMSEVwAAAACAmPAKAAAAABATXgEAAAAAYsIrAAAAAEBMeAUA\n",
       "AAAAiAmvAAAAAAAx4RUAAAAAICa8AgAAAADEhFcAAAAAgJjwCgAAAAAQE14BAAAAAGLCKwAAAABA\n",
       "THgFAAAAAIgJrwAAAAAAMeEVAAAAACAmvAIAAAAAxIRXAAAAAICY8AoAAAAAEBNeAQAAAABiwisA\n",
       "AAAAQEx4BQAAAACICa8AAAAAADHhFQAAAAAgJrwCAAAAAMSEVwAAAACAmPAKAAAAABATXgEAAAAA\n",
       "YsIrAAAAAEBMeAUAAAAAiAmvAAAAAAAx4RUAAAAAICa8AgAAAADEhFcAAAAAgJjwCgAAAAAQE14B\n",
       "AAAAAGLCKwAAAABATHgFAAAAAIgJrwAAAAAAMeEVAAAAACAmvAIAAAAAxIRXAAAAAICY8AoAAAAA\n",
       "EBNeAQAAAABiwisAAAAAQEx4BQAAAACICa8AAAAAADHhFQAAAAAgJrwCAAAAAMSEVwAAAACAmPAK\n",
       "AAAAABATXgEAAAAAYsIrAAAAAEBMeAUAAAAAiAmvAAAAAAAx4RUAAAAAICa8AgAAAADEhFcAAAAA\n",
       "gJjwCgAAAAAQE14BAAAAAGLCKwAAAABATHgFAAAAAIgJrwAAAAAAMeEVAAAAACAmvAIAAAAAxIRX\n",
       "AAAAAICY8AoAAAAAEBNeAQAAAABiwisAAAAAQEx4BQAAAACICa8AAAAAADHhFQAAAAAgJrwCAAAA\n",
       "AMSEVwAAAACAmPAKAAAAABATXgEAAAAAYsIrAAAAAEBMeAUAAAAAiAmvAAAAAAAx4RUAAAAAICa8\n",
       "AgAAAADEhFcAAAAAgJjwCgAAAAAQE14BAAAAAGLCKwAAAABATHgFAAAAAIgJrwAAAAAAMeEVAAAA\n",
       "ACAmvAIAAAAAxIRXAAAAAICY8AoAAAAAEBNeAQAAAABiwisAAAAAQEx4BQAAAACICa8AAAAAADHh\n",
       "FQAAAAAgJrwCAAAAAMSEVwAAAACAmPAKAAAAABATXgEAAAAAYsIrAAAAAEBMeAUAAAAAiAmvAAAA\n",
       "AAAx4RUAAAAAICa8AgAAAADEhFcAAAAAgJjwCgAAAAAQE14BAAAAAGLCKwAAAABATHgFAAAAAIgJ\n",
       "rwAAAAAAMeEVAAAAACAmvAIAAAAAxIRXAAAAAICY8AoAAAAAEBNeAQAAAABiwisAAAAAQEx4BQAA\n",
       "AACICa8AAAAAADHhFQAAAAAgJrwCAAAAAMSEVwAAAACAmPAKAAAAABATXgEAAAAAYsIrAAAAAEBM\n",
       "eAUAAAAAiAmvAAAAAAAx4RUAAAAAICa8AgAAAADEhFcAAAAAgJjwCgAAAAAQE14BAAAAAGLCKwAA\n",
       "AABATHgFAAAAAIgJrwAAAAAAMeEVAAAAACAmvAIAAAAAxIRXAAAAAICY8AoAAAAAEBNeAQAAAABi\n",
       "wisAAAAAQEx4BQAAAACICa8AAAAAADHhFQAAAAAgJrwCAAAAAMSEVwAAAACAmPAKAAAAABATXgEA\n",
       "AAAAYsIrAAAAAEBMeAUAAAAAiAmvAAAAAAAx4RUAAAAAICa8AgAAAADEhFcAAAAAgJjwCgAAAAAQ\n",
       "E14BAAAAAGLCKwAAAABATHgFAAAAAIgJrwAAAAAAMeEVAAAAACAmvAIAAAAAxIRXAAAAAICY8AoA\n",
       "AAAAEBNeAQAAAABiwisAAAAAQEx4BQAAAACICa8AAAAAADHhFQAAAAAgJrwCAAAAAMSEVwAAAACA\n",
       "mPAKAAAAABATXgEAAAAAYsIrAAAAAEBMeAUAAAAAiAmvAAAAAAAx4RUAAAAAICa8AgAAAADEhFcA\n",
       "AAAAgJjwCgAAAAAQE14BAAAAAGLCKwAAAABATHgFAAAAAIgJrwAAAAAAMeEVAAAAACAmvAIAAAAA\n",
       "xIRXAAAAAICY8AoAAAAAEBNeAQAAAABiwisAAAAAQEx4BQAAAACICa8AAAAAADHhFQAAAAAgJrwC\n",
       "AAAAAMSEVwAAAACAmPAKAAAAABATXgEAAAAAYsIrAAAAAEBMeAUAAAAAiAmvAAAAAAAx4RUAAAAA\n",
       "ICa8AgAAAADEhFcAAAAAgJjwCgAAAAAQE14BAAAAAGLCKwAAAABATHgFAAAAAIgJrwAAAAAAMeEV\n",
       "AAAAACAmvAIAAAAAxIRXAAAAAICY8AoAAAAAEBNeAQAAAABiwisAAAAAQEx4BQAAAACICa8AAAAA\n",
       "ADHhFQAAAAAgJrwCAAAAAMSEVwAAAACAmPAKAAAAABATXgEAAAAAYsIrAAAAAEBMeAUAAAAAiAmv\n",
       "AAAAAAAx4RUAAAAAICa8AgAAAADEhFcAAAAAgJjwCgAAAAAQE14BAAAAAGLCKwAAAABATHgFAAAA\n",
       "AIgJrwAAAAAAMeEVAAAAACAmvAIAAAAAxIRXAAAAAICY8AoAAAAAEBNeAQAAAABiwisAAAAAQEx4\n",
       "BQAAAACICa8AAAAAADHhFQAAAAAgJrwCAAAAAMSEVwAAAACAmPAKAAAAABATXgEAAAAAYsIrAAAA\n",
       "AEBMeAUAAAAAiAmvAAAAAAAx4RUAAAAAICa8AgAAAADEhFcAAAAAgJjwCgAAAAAQE14BAAAAAGLC\n",
       "KwAAAABATHgFAAAAAIgJrwAAAAAAMeEVAAAAACAmvAIAAAAAxIRXAAAAAICY8AoAAAAAEBNeAQAA\n",
       "AABiwisAAAAAQEx4BQAAAACICa8AAAAAADHhFQAAAAAgtvh6sH84e8Q6bGwuZ08AjpiDt69mTxju\n",
       "0+MnsycMd/76zuwJa7Hz6NnsCcCKvdfPZ08YbvvWg9kTgBV3L16ePWG4l58/zp4ArPj1ZW/2hOE8\n",
       "XgEAAAAAYsIrAAAAAEBMeAUAAAAAiAmvAAAAAAAx4RUAAAAAICa8AgAAAADEhFcAAAAAgJjwCgAA\n",
       "AAAQE14BAAAAAGLCKwAAAABATHgFAAAAAIgJrwAAAAAAMeEVAAAAACAmvAIAAAAAxIRXAAAAAICY\n",
       "8AoAAAAAEBNeAQAAAABiwisAAAAAQEx4BQAAAACICa8AAAAAADHhFQAAAAAgJrwCAAAAAMSEVwAA\n",
       "AACAmPAKAAAAABATXgEAAAAAYsIrAAAAAEBMeAUAAAAAiAmvAAAAAAAx4RUAAAAAICa8AgAAAADE\n",
       "hFcAAAAAgJjwCgAAAAAQE14BAAAAAGLCKwAAAABATHgFAAAAAIgJrwAAAAAAMeEVAAAAACAmvAIA\n",
       "AAAAxIRXAAAAAICY8AoAAAAAEBNeAQAAAABiwisAAAAAQEx4BQAAAACICa8AAAAAADHhFQAAAAAg\n",
       "JrwCAAAAAMSEVwAAAACAmPAKAAAAABATXgEAAAAAYsIrAAAAAEBMeAUAAAAAiAmvAAAAAAAx4RUA\n",
       "AAAAICa8AgAAAADEhFcAAAAAgJjwCgAAAAAQE14BAAAAAGLCKwAAAABATHgFAAAAAIgJrwAAAAAA\n",
       "MeEVAAAAACAmvAIAAAAAxIRXAAAAAICY8AoAAAAAEBNeAQAAAABiwisAAAAAQEx4BQAAAACICa8A\n",
       "AAAAADHhFQAAAAAgJrwCAAAAAMSEVwAAAACAmPAKAAAAABATXgEAAAAAYsIrAAAAAEBMeAUAAAAA\n",
       "iAmvAAAAAAAx4RUAAAAAICa8AgAAAADEhFcAAAAAgJjwCgAAAAAQE14BAAAAAGLCKwAAAABATHgF\n",
       "AAAAAIgJrwAAAAAAMeEVAAAAACAmvAIAAAAAxIRXAAAAAICY8AoAAAAAEBNeAQAAAABiwisAAAAA\n",
       "QEx4BQAAAACICa8AAAAAADHhFQAAAAAgJrwCAAAAAMSEVwAAAACAmPAKAAAAABATXgEAAAAAYsIr\n",
       "AAAAAEBMeAUAAAAAiAmvAAAAAAAx4RUAAAAAICa8AgAAAADEhFcAAAAAgJjwCgAAAAAQE14BAAAA\n",
       "AGLCKwAAAABATHgFAAAAAIgJrwAAAAAAMeEVAAAAACAmvAIAAAAAxIRXAAAAAICY8AoAAAAAEBNe\n",
       "AQAAAABiwisAAAAAQEx4BQAAAACICa8AAAAAADHhFQAAAAAgJrwCAAAAAMSEVwAAAACAmPAKAAAA\n",
       "ABATXgEAAAAAYsIrAAAAAEBMeAUAAAAAiAmvAAAAAAAx4RUAAAAAICa8AgAAAADEhFcAAAAAgJjw\n",
       "CgAAAAAQE14BAAAAAGLCKwAAAABATHgFAAAAAIgJrwAAAAAAMeEVAAAAACAmvAIAAAAAxIRXAAAA\n",
       "AICY8AoAAAAAEBNeAQAAAABiwisAAAAAQEx4BQAAAACICa8AAAAAADHhFQAAAAAgJrwCAAAAAMSE\n",
       "VwAAAACAmPAKAAAAABATXgEAAAAAYsIrAAAAAEBMeAUAAAAAiAmvAAAAAAAx4RUAAAAAICa8AgAA\n",
       "AADEhFcAAAAAgJjwCgAAAAAQE14BAAAAAGLCKwAAAABATHgFAAAAAIgJrwAAAAAAMeEVAAAAACAm\n",
       "vAIAAAAAxIRXAAAAAICY8AoAAAAAEBNeAQAAAABiwisAAAAAQEx4BQAAAACICa8AAAAAADHhFQAA\n",
       "AAAgJrwCAAAAAMSEVwAAAACAmPAKAAAAABATXgEAAAAAYsIrAAAAAEBMeAUAAAAAiAmvAAAAAAAx\n",
       "4RUAAAAAICa8AgAAAADEhFcAAAAAgJjwCgAAAAAQE14BAAAAAGLCKwAAAABATHgFAAAAAIgJrwAA\n",
       "AAAAMeEVAAAAACAmvAIAAAAAxIRXAAAAAICY8AoAAAAAEBNeAQAAAABiwisAAAAAQEx4BQAAAACI\n",
       "Ca8AAAAAADHhFQAAAAAgJrwCAAAAAMSEVwAAAACAmPAKAAAAABATXgEAAAAAYsIrAAAAAEBMeAUA\n",
       "AAAAiAmvAAAAAAAx4RUAAAAAICa8AgAAAADEhFcAAAAAgJjwCgAAAAAQE14BAAAAAGLCKwAAAABA\n",
       "THgFAAAAAIgJrwAAAAAAMeEVAAAAACAmvAIAAAAAxIRXAAAAAICY8AoAAAAAEBNeAQAAAABiwisA\n",
       "AAAAQEx4BQAAAACICa8AAAAAADHhFQAAAAAgJrwCAAAAAMSEVwAAAACAmPAKAAAAABATXgEAAAAA\n",
       "YsIrAAAAAEBMeAUAAAAAiAmvAAAAAAAx4RUAAAAAICa8AgAAAADEhFcAAAAAgJjwCgAAAAAQE14B\n",
       "AAAAAGLCKwAAAABATHgFAAAAAIgJrwAAAAAAMeEVAAAAACAmvAIAAAAAxIRXAAAAAICY8AoAAAAA\n",
       "EBNeAQAAAABiwisAAAAAQEx4BQAAAACICa8AAAAAADHhFQAAAAAgJrwCAAAAAMSEVwAAAACAmPAK\n",
       "AAAAABATXgEAAAAAYsIrAAAAAEBMeAUAAAAAiAmvAAAAAAAx4RUAAAAAICa8AgAAAADEhFcAAAAA\n",
       "gJjwCgAAAAAQE14BAAAAAGLCKwAAAABATHgFAAAAAIgJrwAAAAAAMeEVAAAAACAmvAIAAAAAxIRX\n",
       "AAAAAICY8AoAAAAAEBNeAQAAAABiwisAAAAAQEx4BQAAAACICa8AAAAAADHhFQAAAAAgJrwCAAAA\n",
       "AMSEVwAAAACAmPAKAAAAABATXgEAAAAAYsIrAAAAAEBMeAUAAAAAiAmvAAAAAAAx4RUAAAAAICa8\n",
       "AgAAAADEhFcAAAAAgJjwCgAAAAAQE14BAAAAAGLCKwAAAABATHgFAAAAAIgJrwAAAAAAMeEVAAAA\n",
       "ACAmvAIAAAAAxIRXAAAAAICY8AoAAAAAEBNeAQAAAABiwisAAAAAQEx4BQAAAACICa8AAAAAADHh\n",
       "FQAAAAAgJrwCAAAAAMSEVwAAAACAmPAKAAAAABATXgEAAAAAYsIrAAAAAEBMeAUAAAAAiAmvAAAA\n",
       "AAAx4RUAAAAAICa8AgAAAADEhFcAAAAAgJjwCgAAAAAQE14BAAAAAGLCKwAAAABATHgFAAAAAIgJ\n",
       "rwAAAAAAMeEVAAAAACAmvAIAAAAAxIRXAAAAAICY8AoAAAAAEPsHPWIo5ruqUPUAAAAASUVORK5C\n",
       "YII=\n",
       "\" transform=\"translate(199, 47)\"/>\n",
       "</g>\n",
       "<defs>\n",
       "  <clipPath id=\"clip623\">\n",
       "    <rect x=\"1608\" y=\"47\" width=\"55\" height=\"612\"/>\n",
       "  </clipPath>\n",
       "</defs>\n",
       "<g clip-path=\"url(#clip623)\">\n",
       "<image width=\"54\" height=\"611\" xlink:href=\"data:image/png;base64,\n",
       "iVBORw0KGgoAAAANSUhEUgAAADYAAAJjCAYAAABHmeKwAAAEKElEQVR4nO3dwW3kMBREQVHgZY/O\n",
       "x/mn5Y1iMHiNqgjcoNT8pLXe8/vv5+8Z9H77B/iU2WD3POfbP8NHWLGa2RWbDXY3H8TlFXvP5prt\n",
       "rtjmeg2v2Gwwk0fNfa1Yy2ywOzp4LK+Y8mixYjWzwe5qstVczz2jO/Tsis0Gc+dRY/KocTVQMxtM\n",
       "3deYFWucx2pmg5kVa2zQNbPBlEeNyaPGO1YzG8xBs0bd18wGs4/VOGjWqPua2WDqvkbd1/hqoGY2\n",
       "mPKosUHXzAZzbKlRHjU26JrZYOq+Rt3XzAazj9Wo+xp1XzMbTN3XqPua2WDKo8bkUaPua2aDqfsa\n",
       "K1aj7mtmg93zt1kfwyv27Z/gQ2ZXbDaYfazGn6yuUfc1s8HUfY3yqJkN5lGssWI1Nuia2WDKo8bV\n",
       "QM19n8n/cn13xWaDKY8aG3TNbDCPYo26r3E1UDMbTHnU3HMcNFNmg5kVa9R9jRWrmQ12X5NHi/Ko\n",
       "mQ3mUawx3dd4x2pmg7mlqlEeNVasZjbYPaPRRmMpj57ZYGbFGuVRY8VqZoN5FGvu6J8w3V2x2WDK\n",
       "o8bVQI13rGY2mEexxorV3NVoo7GGgymPGitWMxvMo1hj8qjxjtXMBrtn9FncXbHVaKOxhoPZx2rU\n",
       "fY26r5kNpu5r7jO6ZLsrdl4rljIbzPeKNab7mtlgvlesMSvWqPua2WD3cWxpcZlTMxvM5FHjlqrG\n",
       "O1YzG8yxpUZ51MwGM3nUKI8aK1YzG8ysWOMmuMY7VjMbzORRozxqZoOZPGqUR819Rr/r20z1DAcz\n",
       "K9a4u6+ZDaY8asyKNWbFmtlg6r7GrFjjHauZDWZWrDEr1swGs4/VmBVr1H3NbDCzYo0NumY2mEex\n",
       "5h6TR4vP+mpmg5kVaxw0a2aDmRVr1H2Nuq+ZDebYUqPua9R9zWww032Nuq+ZDWYfq1EeNc5jNbPB\n",
       "1H2Nuq+ZDaY8alwN1Kj7mtlg6r7GQbPGN8E1s8HMijVWrGY2mH2sRnnUOI/VzAbzZy9q1H3NbDD7\n",
       "WI1fStR4x2pmgymPGrNizX3ezWybqZ7hYOq+xqxYMxvM5FHjF3813rGa2WAexRp1XzMbzMfONQ6a\n",
       "NS5zamaDKY8a033NbDD7WI26r3Eeq5kN5paqxqxYY4OumQ1muq9RHjWzwUweNf7xaY26r5kNpu5r\n",
       "XObUzAZTHjUmjxqXOTWzwfyr2hrlUWOkqpkNZlasUfc1s8GUR43vFWvcBNfMBnNsqbFB18wGc2yp\n",
       "UR41PhKrmQ1mVqxR9zWzwcyKNcqjxjtWMxvMJ0c1pvsadV8zG8ysWKM8amaDKY8anxzV+OSoZjaY\n",
       "g2aN8qiZDaY8ahw0a9zd18wGU/c1ZsUa71jNbDCzYo1ZsWY2mPKo8Yu/Gu9YzWwwx5aae8yKLbPB\n",
       "lEeNe8Uas2LNbDB1X6Pua/4DxBsQjFQoBX0AAAAASUVORK5CYII=\n",
       "\" transform=\"translate(1609, 47)\"/>\n",
       "</g>\n",
       "<path clip-path=\"url(#clip620)\" d=\"M1701.7 640.71 Q1698.09 640.71 1696.26 644.275 Q1694.45 647.816 1694.45 654.946 Q1694.45 662.052 1696.26 665.617 Q1698.09 669.159 1701.7 669.159 Q1705.33 669.159 1707.14 665.617 Q1708.97 662.052 1708.97 654.946 Q1708.97 647.816 1707.14 644.275 Q1705.33 640.71 1701.7 640.71 M1701.7 637.006 Q1707.51 637.006 1710.57 641.613 Q1713.64 646.196 1713.64 654.946 Q1713.64 663.673 1710.57 668.279 Q1707.51 672.862 1701.7 672.862 Q1695.89 672.862 1692.81 668.279 Q1689.76 663.673 1689.76 654.946 Q1689.76 646.196 1692.81 641.613 Q1695.89 637.006 1701.7 637.006 Z\" fill=\"#000000\" fill-rule=\"evenodd\" fill-opacity=\"1\" /><path clip-path=\"url(#clip620)\" d=\"M1695.38 603.423 L1711.7 603.423 L1711.7 607.358 L1689.76 607.358 L1689.76 603.423 Q1692.42 600.668 1697 596.038 Q1701.61 591.386 1702.79 590.043 Q1705.03 587.52 1705.91 585.784 Q1706.82 584.025 1706.82 582.335 Q1706.82 579.58 1704.87 577.844 Q1702.95 576.108 1699.85 576.108 Q1697.65 576.108 1695.2 576.872 Q1692.77 577.636 1689.99 579.187 L1689.99 574.464 Q1692.81 573.33 1695.27 572.751 Q1697.72 572.173 1699.76 572.173 Q1705.13 572.173 1708.32 574.858 Q1711.52 577.543 1711.52 582.034 Q1711.52 584.163 1710.7 586.085 Q1709.92 587.983 1707.81 590.575 Q1707.23 591.247 1704.13 594.464 Q1701.03 597.659 1695.38 603.423 Z\" fill=\"#000000\" fill-rule=\"evenodd\" fill-opacity=\"1\" /><path clip-path=\"url(#clip620)\" d=\"M1721.51 601.478 L1726.4 601.478 L1726.4 607.358 L1721.51 607.358 L1721.51 601.478 Z\" fill=\"#000000\" fill-rule=\"evenodd\" fill-opacity=\"1\" /><path clip-path=\"url(#clip620)\" d=\"M1736.63 572.798 L1754.99 572.798 L1754.99 576.733 L1740.91 576.733 L1740.91 585.205 Q1741.93 584.858 1742.95 584.696 Q1743.97 584.511 1744.99 584.511 Q1750.77 584.511 1754.15 587.682 Q1757.53 590.853 1757.53 596.27 Q1757.53 601.849 1754.06 604.95 Q1750.59 608.029 1744.27 608.029 Q1742.09 608.029 1739.83 607.659 Q1737.58 607.288 1735.17 606.548 L1735.17 601.849 Q1737.26 602.983 1739.48 603.538 Q1741.7 604.094 1744.18 604.094 Q1748.18 604.094 1750.52 601.987 Q1752.86 599.881 1752.86 596.27 Q1752.86 592.659 1750.52 590.552 Q1748.18 588.446 1744.18 588.446 Q1742.3 588.446 1740.43 588.863 Q1738.58 589.279 1736.63 590.159 L1736.63 572.798 Z\" fill=\"#000000\" fill-rule=\"evenodd\" fill-opacity=\"1\" /><path clip-path=\"url(#clip620)\" d=\"M1691.21 507.965 L1709.57 507.965 L1709.57 511.9 L1695.5 511.9 L1695.5 520.372 Q1696.52 520.025 1697.53 519.863 Q1698.55 519.677 1699.57 519.677 Q1705.36 519.677 1708.74 522.849 Q1712.12 526.02 1712.12 531.437 Q1712.12 537.015 1708.64 540.117 Q1705.17 543.196 1698.85 543.196 Q1696.68 543.196 1694.41 542.825 Q1692.16 542.455 1689.76 541.714 L1689.76 537.015 Q1691.84 538.15 1694.06 538.705 Q1696.28 539.261 1698.76 539.261 Q1702.77 539.261 1705.1 537.154 Q1707.44 535.048 1707.44 531.437 Q1707.44 527.826 1705.1 525.719 Q1702.77 523.613 1698.76 523.613 Q1696.89 523.613 1695.01 524.029 Q1693.16 524.446 1691.21 525.326 L1691.21 507.965 Z\" fill=\"#000000\" fill-rule=\"evenodd\" fill-opacity=\"1\" /><path clip-path=\"url(#clip620)\" d=\"M1721.33 536.645 L1726.21 536.645 L1726.21 542.525 L1721.33 542.525 L1721.33 536.645 Z\" fill=\"#000000\" fill-rule=\"evenodd\" fill-opacity=\"1\" /><path clip-path=\"url(#clip620)\" d=\"M1746.4 511.043 Q1742.79 511.043 1740.96 514.608 Q1739.15 518.15 1739.15 525.279 Q1739.15 532.386 1740.96 535.95 Q1742.79 539.492 1746.4 539.492 Q1750.03 539.492 1751.84 535.95 Q1753.67 532.386 1753.67 525.279 Q1753.67 518.15 1751.84 514.608 Q1750.03 511.043 1746.4 511.043 M1746.4 507.34 Q1752.21 507.34 1755.26 511.946 Q1758.34 516.529 1758.34 525.279 Q1758.34 534.006 1755.26 538.613 Q1752.21 543.196 1746.4 543.196 Q1740.59 543.196 1737.51 538.613 Q1734.45 534.006 1734.45 525.279 Q1734.45 516.529 1737.51 511.946 Q1740.59 507.34 1746.4 507.34 Z\" fill=\"#000000\" fill-rule=\"evenodd\" fill-opacity=\"1\" /><path clip-path=\"url(#clip620)\" d=\"M1689.76 443.131 L1711.98 443.131 L1711.98 445.122 L1699.43 477.691 L1694.55 477.691 L1706.35 447.066 L1689.76 447.066 L1689.76 443.131 Z\" fill=\"#000000\" fill-rule=\"evenodd\" fill-opacity=\"1\" /><path clip-path=\"url(#clip620)\" d=\"M1721.1 471.812 L1725.98 471.812 L1725.98 477.691 L1721.1 477.691 L1721.1 471.812 Z\" fill=\"#000000\" fill-rule=\"evenodd\" fill-opacity=\"1\" /><path clip-path=\"url(#clip620)\" d=\"M1736.21 443.131 L1754.57 443.131 L1754.57 447.066 L1740.5 447.066 L1740.5 455.539 Q1741.51 455.191 1742.53 455.029 Q1743.55 454.844 1744.57 454.844 Q1750.36 454.844 1753.74 458.015 Q1757.12 461.187 1757.12 466.603 Q1757.12 472.182 1753.64 475.284 Q1750.17 478.363 1743.85 478.363 Q1741.68 478.363 1739.41 477.992 Q1737.16 477.622 1734.76 476.881 L1734.76 472.182 Q1736.84 473.316 1739.06 473.872 Q1741.28 474.427 1743.76 474.427 Q1747.76 474.427 1750.1 472.321 Q1752.44 470.214 1752.44 466.603 Q1752.44 462.992 1750.1 460.886 Q1747.76 458.779 1743.76 458.779 Q1741.89 458.779 1740.01 459.196 Q1738.16 459.613 1736.21 460.492 L1736.21 443.131 Z\" fill=\"#000000\" fill-rule=\"evenodd\" fill-opacity=\"1\" /><path clip-path=\"url(#clip620)\" d=\"M1690.43 408.923 L1698.07 408.923 L1698.07 382.557 L1689.76 384.224 L1689.76 379.965 L1698.02 378.298 L1702.7 378.298 L1702.7 408.923 L1710.33 408.923 L1710.33 412.858 L1690.43 412.858 L1690.43 408.923 Z\" fill=\"#000000\" fill-rule=\"evenodd\" fill-opacity=\"1\" /><path clip-path=\"url(#clip620)\" d=\"M1729.78 381.377 Q1726.17 381.377 1724.34 384.941 Q1722.53 388.483 1722.53 395.613 Q1722.53 402.719 1724.34 406.284 Q1726.17 409.826 1729.78 409.826 Q1733.41 409.826 1735.22 406.284 Q1737.05 402.719 1737.05 395.613 Q1737.05 388.483 1735.22 384.941 Q1733.41 381.377 1729.78 381.377 M1729.78 377.673 Q1735.59 377.673 1738.64 382.279 Q1741.72 386.863 1741.72 395.613 Q1741.72 404.34 1738.64 408.946 Q1735.59 413.529 1729.78 413.529 Q1723.97 413.529 1720.89 408.946 Q1717.83 404.34 1717.83 395.613 Q1717.83 386.863 1720.89 382.279 Q1723.97 377.673 1729.78 377.673 Z\" fill=\"#000000\" fill-rule=\"evenodd\" fill-opacity=\"1\" /><path clip-path=\"url(#clip620)\" d=\"M1749.94 406.978 L1754.83 406.978 L1754.83 412.858 L1749.94 412.858 L1749.94 406.978 Z\" fill=\"#000000\" fill-rule=\"evenodd\" fill-opacity=\"1\" /><path clip-path=\"url(#clip620)\" d=\"M1775.01 381.377 Q1771.4 381.377 1769.57 384.941 Q1767.76 388.483 1767.76 395.613 Q1767.76 402.719 1769.57 406.284 Q1771.4 409.826 1775.01 409.826 Q1778.64 409.826 1780.45 406.284 Q1782.28 402.719 1782.28 395.613 Q1782.28 388.483 1780.45 384.941 Q1778.64 381.377 1775.01 381.377 M1775.01 377.673 Q1780.82 377.673 1783.88 382.279 Q1786.95 386.863 1786.95 395.613 Q1786.95 404.34 1783.88 408.946 Q1780.82 413.529 1775.01 413.529 Q1769.2 413.529 1766.12 408.946 Q1763.07 404.34 1763.07 395.613 Q1763.07 386.863 1766.12 382.279 Q1769.2 377.673 1775.01 377.673 Z\" fill=\"#000000\" fill-rule=\"evenodd\" fill-opacity=\"1\" /><path clip-path=\"url(#clip620)\" d=\"M1690.43 344.09 L1698.07 344.09 L1698.07 317.724 L1689.76 319.391 L1689.76 315.131 L1698.02 313.465 L1702.7 313.465 L1702.7 344.09 L1710.33 344.09 L1710.33 348.025 L1690.43 348.025 L1690.43 344.09 Z\" fill=\"#000000\" fill-rule=\"evenodd\" fill-opacity=\"1\" /><path clip-path=\"url(#clip620)\" d=\"M1723.81 344.09 L1740.13 344.09 L1740.13 348.025 L1718.18 348.025 L1718.18 344.09 Q1720.84 341.335 1725.43 336.705 Q1730.03 332.053 1731.21 330.71 Q1733.46 328.187 1734.34 326.451 Q1735.24 324.692 1735.24 323.002 Q1735.24 320.247 1733.3 318.511 Q1731.38 316.775 1728.27 316.775 Q1726.08 316.775 1723.62 317.539 Q1721.19 318.303 1718.41 319.854 L1718.41 315.131 Q1721.24 313.997 1723.69 313.418 Q1726.14 312.84 1728.18 312.84 Q1733.55 312.84 1736.75 315.525 Q1739.94 318.21 1739.94 322.701 Q1739.94 324.83 1739.13 326.752 Q1738.34 328.65 1736.24 331.242 Q1735.66 331.914 1732.56 335.131 Q1729.45 338.326 1723.81 344.09 Z\" fill=\"#000000\" fill-rule=\"evenodd\" fill-opacity=\"1\" /><path clip-path=\"url(#clip620)\" d=\"M1749.94 342.145 L1754.83 342.145 L1754.83 348.025 L1749.94 348.025 L1749.94 342.145 Z\" fill=\"#000000\" fill-rule=\"evenodd\" fill-opacity=\"1\" /><path clip-path=\"url(#clip620)\" d=\"M1765.06 313.465 L1783.41 313.465 L1783.41 317.4 L1769.34 317.4 L1769.34 325.872 Q1770.36 325.525 1771.38 325.363 Q1772.39 325.178 1773.41 325.178 Q1779.2 325.178 1782.58 328.349 Q1785.96 331.52 1785.96 336.937 Q1785.96 342.516 1782.49 345.617 Q1779.01 348.696 1772.7 348.696 Q1770.52 348.696 1768.25 348.326 Q1766.01 347.955 1763.6 347.215 L1763.6 342.516 Q1765.68 343.65 1767.9 344.205 Q1770.13 344.761 1772.6 344.761 Q1776.61 344.761 1778.95 342.654 Q1781.28 340.548 1781.28 336.937 Q1781.28 333.326 1778.95 331.219 Q1776.61 329.113 1772.6 329.113 Q1770.73 329.113 1768.85 329.529 Q1767 329.946 1765.06 330.826 L1765.06 313.465 Z\" fill=\"#000000\" fill-rule=\"evenodd\" fill-opacity=\"1\" /><path clip-path=\"url(#clip620)\" d=\"M1690.43 279.256 L1698.07 279.256 L1698.07 252.891 L1689.76 254.557 L1689.76 250.298 L1698.02 248.631 L1702.7 248.631 L1702.7 279.256 L1710.33 279.256 L1710.33 283.191 L1690.43 283.191 L1690.43 279.256 Z\" fill=\"#000000\" fill-rule=\"evenodd\" fill-opacity=\"1\" /><path clip-path=\"url(#clip620)\" d=\"M1719.83 248.631 L1738.18 248.631 L1738.18 252.567 L1724.11 252.567 L1724.11 261.039 Q1725.13 260.692 1726.14 260.53 Q1727.16 260.344 1728.18 260.344 Q1733.97 260.344 1737.35 263.516 Q1740.73 266.687 1740.73 272.104 Q1740.73 277.682 1737.26 280.784 Q1733.78 283.863 1727.46 283.863 Q1725.29 283.863 1723.02 283.492 Q1720.77 283.122 1718.37 282.381 L1718.37 277.682 Q1720.45 278.817 1722.67 279.372 Q1724.89 279.928 1727.37 279.928 Q1731.38 279.928 1733.71 277.821 Q1736.05 275.715 1736.05 272.104 Q1736.05 268.493 1733.71 266.386 Q1731.38 264.28 1727.37 264.28 Q1725.5 264.28 1723.62 264.696 Q1721.77 265.113 1719.83 265.993 L1719.83 248.631 Z\" fill=\"#000000\" fill-rule=\"evenodd\" fill-opacity=\"1\" /><path clip-path=\"url(#clip620)\" d=\"M1749.94 277.312 L1754.83 277.312 L1754.83 283.191 L1749.94 283.191 L1749.94 277.312 Z\" fill=\"#000000\" fill-rule=\"evenodd\" fill-opacity=\"1\" /><path clip-path=\"url(#clip620)\" d=\"M1775.01 251.71 Q1771.4 251.71 1769.57 255.275 Q1767.76 258.817 1767.76 265.946 Q1767.76 273.053 1769.57 276.617 Q1771.4 280.159 1775.01 280.159 Q1778.64 280.159 1780.45 276.617 Q1782.28 273.053 1782.28 265.946 Q1782.28 258.817 1780.45 255.275 Q1778.64 251.71 1775.01 251.71 M1775.01 248.007 Q1780.82 248.007 1783.88 252.613 Q1786.95 257.196 1786.95 265.946 Q1786.95 274.673 1783.88 279.279 Q1780.82 283.863 1775.01 283.863 Q1769.2 283.863 1766.12 279.279 Q1763.07 274.673 1763.07 265.946 Q1763.07 257.196 1766.12 252.613 Q1769.2 248.007 1775.01 248.007 Z\" fill=\"#000000\" fill-rule=\"evenodd\" fill-opacity=\"1\" /><path clip-path=\"url(#clip620)\" d=\"M1690.43 214.423 L1698.07 214.423 L1698.07 188.057 L1689.76 189.724 L1689.76 185.465 L1698.02 183.798 L1702.7 183.798 L1702.7 214.423 L1710.33 214.423 L1710.33 218.358 L1690.43 218.358 L1690.43 214.423 Z\" fill=\"#000000\" fill-rule=\"evenodd\" fill-opacity=\"1\" /><path clip-path=\"url(#clip620)\" d=\"M1718.6 183.798 L1740.82 183.798 L1740.82 185.789 L1728.27 218.358 L1723.39 218.358 L1735.2 187.733 L1718.6 187.733 L1718.6 183.798 Z\" fill=\"#000000\" fill-rule=\"evenodd\" fill-opacity=\"1\" /><path clip-path=\"url(#clip620)\" d=\"M1749.94 212.479 L1754.83 212.479 L1754.83 218.358 L1749.94 218.358 L1749.94 212.479 Z\" fill=\"#000000\" fill-rule=\"evenodd\" fill-opacity=\"1\" /><path clip-path=\"url(#clip620)\" d=\"M1765.06 183.798 L1783.41 183.798 L1783.41 187.733 L1769.34 187.733 L1769.34 196.206 Q1770.36 195.858 1771.38 195.696 Q1772.39 195.511 1773.41 195.511 Q1779.2 195.511 1782.58 198.682 Q1785.96 201.854 1785.96 207.27 Q1785.96 212.849 1782.49 215.951 Q1779.01 219.03 1772.7 219.03 Q1770.52 219.03 1768.25 218.659 Q1766.01 218.289 1763.6 217.548 L1763.6 212.849 Q1765.68 213.983 1767.9 214.539 Q1770.13 215.094 1772.6 215.094 Q1776.61 215.094 1778.95 212.988 Q1781.28 210.881 1781.28 207.27 Q1781.28 203.659 1778.95 201.553 Q1776.61 199.446 1772.6 199.446 Q1770.73 199.446 1768.85 199.863 Q1767 200.28 1765.06 201.159 L1765.06 183.798 Z\" fill=\"#000000\" fill-rule=\"evenodd\" fill-opacity=\"1\" /><path clip-path=\"url(#clip620)\" d=\"M1695.38 149.59 L1711.7 149.59 L1711.7 153.525 L1689.76 153.525 L1689.76 149.59 Q1692.42 146.835 1697 142.206 Q1701.61 137.553 1702.79 136.21 Q1705.03 133.687 1705.91 131.951 Q1706.82 130.192 1706.82 128.502 Q1706.82 125.747 1704.87 124.011 Q1702.95 122.275 1699.85 122.275 Q1697.65 122.275 1695.2 123.039 Q1692.77 123.803 1689.99 125.354 L1689.99 120.632 Q1692.81 119.497 1695.27 118.919 Q1697.72 118.34 1699.76 118.34 Q1705.13 118.34 1708.32 121.025 Q1711.52 123.71 1711.52 128.201 Q1711.52 130.331 1710.7 132.252 Q1709.92 134.15 1707.81 136.743 Q1707.23 137.414 1704.13 140.632 Q1701.03 143.826 1695.38 149.59 Z\" fill=\"#000000\" fill-rule=\"evenodd\" fill-opacity=\"1\" /><path clip-path=\"url(#clip620)\" d=\"M1731.51 122.044 Q1727.9 122.044 1726.08 125.608 Q1724.27 129.15 1724.27 136.28 Q1724.27 143.386 1726.08 146.951 Q1727.9 150.493 1731.51 150.493 Q1735.15 150.493 1736.95 146.951 Q1738.78 143.386 1738.78 136.28 Q1738.78 129.15 1736.95 125.608 Q1735.15 122.044 1731.51 122.044 M1731.51 118.34 Q1737.33 118.34 1740.38 122.946 Q1743.46 127.53 1743.46 136.28 Q1743.46 145.007 1740.38 149.613 Q1737.33 154.196 1731.51 154.196 Q1725.7 154.196 1722.63 149.613 Q1719.57 145.007 1719.57 136.28 Q1719.57 127.53 1722.63 122.946 Q1725.7 118.34 1731.51 118.34 Z\" fill=\"#000000\" fill-rule=\"evenodd\" fill-opacity=\"1\" /><path clip-path=\"url(#clip620)\" d=\"M1751.68 147.645 L1756.56 147.645 L1756.56 153.525 L1751.68 153.525 L1751.68 147.645 Z\" fill=\"#000000\" fill-rule=\"evenodd\" fill-opacity=\"1\" /><path clip-path=\"url(#clip620)\" d=\"M1776.75 122.044 Q1773.14 122.044 1771.31 125.608 Q1769.5 129.15 1769.5 136.28 Q1769.5 143.386 1771.31 146.951 Q1773.14 150.493 1776.75 150.493 Q1780.38 150.493 1782.19 146.951 Q1784.01 143.386 1784.01 136.28 Q1784.01 129.15 1782.19 125.608 Q1780.38 122.044 1776.75 122.044 M1776.75 118.34 Q1782.56 118.34 1785.61 122.946 Q1788.69 127.53 1788.69 136.28 Q1788.69 145.007 1785.61 149.613 Q1782.56 154.196 1776.75 154.196 Q1770.94 154.196 1767.86 149.613 Q1764.8 145.007 1764.8 136.28 Q1764.8 127.53 1767.86 122.946 Q1770.94 118.34 1776.75 118.34 Z\" fill=\"#000000\" fill-rule=\"evenodd\" fill-opacity=\"1\" /><path clip-path=\"url(#clip620)\" d=\"M1695.38 84.7566 L1711.7 84.7566 L1711.7 88.6917 L1689.76 88.6917 L1689.76 84.7566 Q1692.42 82.0019 1697 77.3723 Q1701.61 72.7196 1702.79 71.377 Q1705.03 68.8539 1705.91 67.1178 Q1706.82 65.3585 1706.82 63.6687 Q1706.82 60.9141 1704.87 59.178 Q1702.95 57.4419 1699.85 57.4419 Q1697.65 57.4419 1695.2 58.2058 Q1692.77 58.9697 1689.99 60.5206 L1689.99 55.7984 Q1692.81 54.6641 1695.27 54.0854 Q1697.72 53.5067 1699.76 53.5067 Q1705.13 53.5067 1708.32 56.1919 Q1711.52 58.8771 1711.52 63.3678 Q1711.52 65.4974 1710.7 67.4187 Q1709.92 69.3168 1707.81 71.9094 Q1707.23 72.5807 1704.13 75.7983 Q1701.03 78.9927 1695.38 84.7566 Z\" fill=\"#000000\" fill-rule=\"evenodd\" fill-opacity=\"1\" /><path clip-path=\"url(#clip620)\" d=\"M1725.54 84.7566 L1741.86 84.7566 L1741.86 88.6917 L1719.92 88.6917 L1719.92 84.7566 Q1722.58 82.0019 1727.16 77.3723 Q1731.77 72.7196 1732.95 71.377 Q1735.2 68.8539 1736.08 67.1178 Q1736.98 65.3585 1736.98 63.6687 Q1736.98 60.9141 1735.03 59.178 Q1733.11 57.4419 1730.01 57.4419 Q1727.81 57.4419 1725.36 58.2058 Q1722.93 58.9697 1720.15 60.5206 L1720.15 55.7984 Q1722.97 54.6641 1725.43 54.0854 Q1727.88 53.5067 1729.92 53.5067 Q1735.29 53.5067 1738.48 56.1919 Q1741.68 58.8771 1741.68 63.3678 Q1741.68 65.4974 1740.87 67.4187 Q1740.08 69.3168 1737.97 71.9094 Q1737.39 72.5807 1734.29 75.7983 Q1731.19 78.9927 1725.54 84.7566 Z\" fill=\"#000000\" fill-rule=\"evenodd\" fill-opacity=\"1\" /><path clip-path=\"url(#clip620)\" d=\"M1751.68 82.8121 L1756.56 82.8121 L1756.56 88.6917 L1751.68 88.6917 L1751.68 82.8121 Z\" fill=\"#000000\" fill-rule=\"evenodd\" fill-opacity=\"1\" /><path clip-path=\"url(#clip620)\" d=\"M1766.79 54.1317 L1785.15 54.1317 L1785.15 58.0669 L1771.07 58.0669 L1771.07 66.5391 Q1772.09 66.1918 1773.11 66.0298 Q1774.13 65.8446 1775.15 65.8446 Q1780.94 65.8446 1784.32 69.0159 Q1787.7 72.1872 1787.7 77.6038 Q1787.7 83.1825 1784.22 86.2843 Q1780.75 89.363 1774.43 89.363 Q1772.26 89.363 1769.99 88.9926 Q1767.74 88.6223 1765.33 87.8815 L1765.33 83.1825 Q1767.42 84.3167 1769.64 84.8723 Q1771.86 85.4279 1774.34 85.4279 Q1778.34 85.4279 1780.68 83.3214 Q1783.02 81.2149 1783.02 77.6038 Q1783.02 73.9927 1780.68 71.8863 Q1778.34 69.7798 1774.34 69.7798 Q1772.46 69.7798 1770.59 70.1965 Q1768.74 70.6131 1766.79 71.4927 L1766.79 54.1317 Z\" fill=\"#000000\" fill-rule=\"evenodd\" fill-opacity=\"1\" /><polyline clip-path=\"url(#clip620)\" style=\"stroke:#000000; stroke-linecap:butt; stroke-linejoin:round; stroke-width:4; stroke-opacity:1; fill:none\" points=\"\n",
       "  1662.76,658.54 1662.76,658.54 1680.76,658.54 1662.76,658.54 1662.76,593.707 1680.76,593.707 1662.76,593.707 1662.76,528.873 1680.76,528.873 1662.76,528.873 \n",
       "  1662.76,464.04 1680.76,464.04 1662.76,464.04 1662.76,399.207 1680.76,399.207 1662.76,399.207 1662.76,334.374 1680.76,334.374 1662.76,334.374 1662.76,269.54 \n",
       "  1680.76,269.54 1662.76,269.54 1662.76,204.707 1680.76,204.707 1662.76,204.707 1662.76,139.874 1680.76,139.874 1662.76,139.874 1662.76,75.0405 1680.76,75.0405 \n",
       "  1662.76,75.0405 1662.76,47.2441 \n",
       "  \"/>\n",
       "</svg>\n"
      ]
     },
     "execution_count": 67,
     "metadata": {},
     "output_type": "execute_result"
    }
   ],
   "source": [
    "s_diff[1:1,12:20] .=0;\n",
    "p=heatmap([xLabels],[\"Wind\",\"Solar\"],[w_diff;s_diff],c=cgrad(:amp),size = (450,200),xlabel=\"Time\")\n",
    "p\n",
    "#savefig(p,\"st-wastage.svg\")"
   ]
  },
  {
   "cell_type": "code",
   "execution_count": 52,
   "metadata": {},
   "outputs": [
    {
     "data": {
      "image/svg+xml": [
       "<?xml version=\"1.0\" encoding=\"utf-8\"?>\n",
       "<svg xmlns=\"http://www.w3.org/2000/svg\" xmlns:xlink=\"http://www.w3.org/1999/xlink\" width=\"450\" height=\"250\" viewBox=\"0 0 1800 1000\">\n",
       "<defs>\n",
       "  <clipPath id=\"clip420\">\n",
       "    <rect x=\"0\" y=\"0\" width=\"1800\" height=\"1000\"/>\n",
       "  </clipPath>\n",
       "</defs>\n",
       "<path clip-path=\"url(#clip420)\" d=\"\n",
       "M0 1000 L1800 1000 L1800 0 L0 0  Z\n",
       "  \" fill=\"#ffffff\" fill-rule=\"evenodd\" fill-opacity=\"1\"/>\n",
       "<defs>\n",
       "  <clipPath id=\"clip421\">\n",
       "    <rect x=\"360\" y=\"0\" width=\"1261\" height=\"1000\"/>\n",
       "  </clipPath>\n",
       "</defs>\n",
       "<path clip-path=\"url(#clip420)\" d=\"\n",
       "M355.783 842.86 L1752.76 842.86 L1752.76 47.2441 L355.783 47.2441  Z\n",
       "  \" fill=\"#ffffff\" fill-rule=\"evenodd\" fill-opacity=\"1\"/>\n",
       "<defs>\n",
       "  <clipPath id=\"clip422\">\n",
       "    <rect x=\"355\" y=\"47\" width=\"1398\" height=\"797\"/>\n",
       "  </clipPath>\n",
       "</defs>\n",
       "<polyline clip-path=\"url(#clip422)\" style=\"stroke:#000000; stroke-linecap:butt; stroke-linejoin:round; stroke-width:2; stroke-opacity:0.1; fill:none\" points=\"\n",
       "  624.52,842.86 624.52,47.2441 \n",
       "  \"/>\n",
       "<polyline clip-path=\"url(#clip422)\" style=\"stroke:#000000; stroke-linecap:butt; stroke-linejoin:round; stroke-width:2; stroke-opacity:0.1; fill:none\" points=\"\n",
       "  911.02,842.86 911.02,47.2441 \n",
       "  \"/>\n",
       "<polyline clip-path=\"url(#clip422)\" style=\"stroke:#000000; stroke-linecap:butt; stroke-linejoin:round; stroke-width:2; stroke-opacity:0.1; fill:none\" points=\"\n",
       "  1197.52,842.86 1197.52,47.2441 \n",
       "  \"/>\n",
       "<polyline clip-path=\"url(#clip422)\" style=\"stroke:#000000; stroke-linecap:butt; stroke-linejoin:round; stroke-width:2; stroke-opacity:0.1; fill:none\" points=\"\n",
       "  1484.02,842.86 1484.02,47.2441 \n",
       "  \"/>\n",
       "<polyline clip-path=\"url(#clip420)\" style=\"stroke:#000000; stroke-linecap:butt; stroke-linejoin:round; stroke-width:4; stroke-opacity:1; fill:none\" points=\"\n",
       "  355.783,842.86 1752.76,842.86 \n",
       "  \"/>\n",
       "<polyline clip-path=\"url(#clip420)\" style=\"stroke:#000000; stroke-linecap:butt; stroke-linejoin:round; stroke-width:4; stroke-opacity:1; fill:none\" points=\"\n",
       "  624.52,842.86 624.52,823.962 \n",
       "  \"/>\n",
       "<polyline clip-path=\"url(#clip420)\" style=\"stroke:#000000; stroke-linecap:butt; stroke-linejoin:round; stroke-width:4; stroke-opacity:1; fill:none\" points=\"\n",
       "  911.02,842.86 911.02,823.962 \n",
       "  \"/>\n",
       "<polyline clip-path=\"url(#clip420)\" style=\"stroke:#000000; stroke-linecap:butt; stroke-linejoin:round; stroke-width:4; stroke-opacity:1; fill:none\" points=\"\n",
       "  1197.52,842.86 1197.52,823.962 \n",
       "  \"/>\n",
       "<polyline clip-path=\"url(#clip420)\" style=\"stroke:#000000; stroke-linecap:butt; stroke-linejoin:round; stroke-width:4; stroke-opacity:1; fill:none\" points=\"\n",
       "  1484.02,842.86 1484.02,823.962 \n",
       "  \"/>\n",
       "<path clip-path=\"url(#clip420)\" d=\"M614.798 865.9 L633.154 865.9 L633.154 869.835 L619.08 869.835 L619.08 878.307 Q620.099 877.96 621.117 877.798 Q622.136 877.613 623.154 877.613 Q628.941 877.613 632.321 880.784 Q635.701 883.955 635.701 889.372 Q635.701 894.951 632.228 898.052 Q628.756 901.131 622.437 901.131 Q620.261 901.131 617.992 900.761 Q615.747 900.39 613.34 899.65 L613.34 894.951 Q615.423 896.085 617.645 896.64 Q619.867 897.196 622.344 897.196 Q626.349 897.196 628.687 895.09 Q631.025 892.983 631.025 889.372 Q631.025 885.761 628.687 883.654 Q626.349 881.548 622.344 881.548 Q620.469 881.548 618.594 881.965 Q616.742 882.381 614.798 883.261 L614.798 865.9 Z\" fill=\"#000000\" fill-rule=\"evenodd\" fill-opacity=\"1\" /><path clip-path=\"url(#clip420)\" d=\"M885.707 896.525 L893.346 896.525 L893.346 870.159 L885.036 871.826 L885.036 867.567 L893.3 865.9 L897.976 865.9 L897.976 896.525 L905.615 896.525 L905.615 900.46 L885.707 900.46 L885.707 896.525 Z\" fill=\"#000000\" fill-rule=\"evenodd\" fill-opacity=\"1\" /><path clip-path=\"url(#clip420)\" d=\"M925.059 868.979 Q921.448 868.979 919.619 872.543 Q917.814 876.085 917.814 883.215 Q917.814 890.321 919.619 893.886 Q921.448 897.427 925.059 897.427 Q928.693 897.427 930.499 893.886 Q932.328 890.321 932.328 883.215 Q932.328 876.085 930.499 872.543 Q928.693 868.979 925.059 868.979 M925.059 865.275 Q930.869 865.275 933.925 869.881 Q937.003 874.465 937.003 883.215 Q937.003 891.941 933.925 896.548 Q930.869 901.131 925.059 901.131 Q919.249 901.131 916.17 896.548 Q913.115 891.941 913.115 883.215 Q913.115 874.465 916.17 869.881 Q919.249 865.275 925.059 865.275 Z\" fill=\"#000000\" fill-rule=\"evenodd\" fill-opacity=\"1\" /><path clip-path=\"url(#clip420)\" d=\"M1172.7 896.525 L1180.34 896.525 L1180.34 870.159 L1172.03 871.826 L1172.03 867.567 L1180.3 865.9 L1184.97 865.9 L1184.97 896.525 L1192.61 896.525 L1192.61 900.46 L1172.7 900.46 L1172.7 896.525 Z\" fill=\"#000000\" fill-rule=\"evenodd\" fill-opacity=\"1\" /><path clip-path=\"url(#clip420)\" d=\"M1202.1 865.9 L1220.46 865.9 L1220.46 869.835 L1206.39 869.835 L1206.39 878.307 Q1207.4 877.96 1208.42 877.798 Q1209.44 877.613 1210.46 877.613 Q1216.25 877.613 1219.63 880.784 Q1223.01 883.955 1223.01 889.372 Q1223.01 894.951 1219.53 898.052 Q1216.06 901.131 1209.74 901.131 Q1207.57 901.131 1205.3 900.761 Q1203.05 900.39 1200.64 899.65 L1200.64 894.951 Q1202.73 896.085 1204.95 896.64 Q1207.17 897.196 1209.65 897.196 Q1213.65 897.196 1215.99 895.09 Q1218.33 892.983 1218.33 889.372 Q1218.33 885.761 1215.99 883.654 Q1213.65 881.548 1209.65 881.548 Q1207.77 881.548 1205.9 881.965 Q1204.05 882.381 1202.1 883.261 L1202.1 865.9 Z\" fill=\"#000000\" fill-rule=\"evenodd\" fill-opacity=\"1\" /><path clip-path=\"url(#clip420)\" d=\"M1462.79 896.525 L1479.11 896.525 L1479.11 900.46 L1457.17 900.46 L1457.17 896.525 Q1459.83 893.77 1464.41 889.14 Q1469.02 884.488 1470.2 883.145 Q1472.45 880.622 1473.32 878.886 Q1474.23 877.127 1474.23 875.437 Q1474.23 872.682 1472.28 870.946 Q1470.36 869.21 1467.26 869.21 Q1465.06 869.21 1462.61 869.974 Q1460.18 870.738 1457.4 872.289 L1457.4 867.567 Q1460.22 866.432 1462.68 865.854 Q1465.13 865.275 1467.17 865.275 Q1472.54 865.275 1475.73 867.96 Q1478.93 870.645 1478.93 875.136 Q1478.93 877.266 1478.12 879.187 Q1477.33 881.085 1475.22 883.678 Q1474.64 884.349 1471.54 887.566 Q1468.44 890.761 1462.79 896.525 Z\" fill=\"#000000\" fill-rule=\"evenodd\" fill-opacity=\"1\" /><path clip-path=\"url(#clip420)\" d=\"M1498.93 868.979 Q1495.32 868.979 1493.49 872.543 Q1491.68 876.085 1491.68 883.215 Q1491.68 890.321 1493.49 893.886 Q1495.32 897.427 1498.93 897.427 Q1502.56 897.427 1504.37 893.886 Q1506.2 890.321 1506.2 883.215 Q1506.2 876.085 1504.37 872.543 Q1502.56 868.979 1498.93 868.979 M1498.93 865.275 Q1504.74 865.275 1507.79 869.881 Q1510.87 874.465 1510.87 883.215 Q1510.87 891.941 1507.79 896.548 Q1504.74 901.131 1498.93 901.131 Q1493.12 901.131 1490.04 896.548 Q1486.98 891.941 1486.98 883.215 Q1486.98 874.465 1490.04 869.881 Q1493.12 865.275 1498.93 865.275 Z\" fill=\"#000000\" fill-rule=\"evenodd\" fill-opacity=\"1\" /><path clip-path=\"url(#clip420)\" d=\"M976.147 931.204 L1016.35 931.204 L1016.35 936.615 L999.477 936.615 L999.477 978.724 L993.016 978.724 L993.016 936.615 L976.147 936.615 L976.147 931.204 Z\" fill=\"#000000\" fill-rule=\"evenodd\" fill-opacity=\"1\" /><path clip-path=\"url(#clip420)\" d=\"M1020.29 943.076 L1026.15 943.076 L1026.15 978.724 L1020.29 978.724 L1020.29 943.076 M1020.29 929.199 L1026.15 929.199 L1026.15 936.615 L1020.29 936.615 L1020.29 929.199 Z\" fill=\"#000000\" fill-rule=\"evenodd\" fill-opacity=\"1\" /><path clip-path=\"url(#clip420)\" d=\"M1066.16 949.919 Q1068.35 945.972 1071.41 944.094 Q1074.46 942.217 1078.6 942.217 Q1084.17 942.217 1087.2 946.131 Q1090.22 950.015 1090.22 957.208 L1090.22 978.724 L1084.33 978.724 L1084.33 957.399 Q1084.33 952.274 1082.52 949.792 Q1080.7 947.309 1076.98 947.309 Q1072.43 947.309 1069.79 950.333 Q1067.14 953.357 1067.14 958.576 L1067.14 978.724 L1061.26 978.724 L1061.26 957.399 Q1061.26 952.243 1059.44 949.792 Q1057.63 947.309 1053.84 947.309 Q1049.35 947.309 1046.71 950.365 Q1044.07 953.388 1044.07 958.576 L1044.07 978.724 L1038.18 978.724 L1038.18 943.076 L1044.07 943.076 L1044.07 948.614 Q1046.07 945.336 1048.87 943.776 Q1051.68 942.217 1055.53 942.217 Q1059.41 942.217 1062.12 944.19 Q1064.85 946.163 1066.16 949.919 Z\" fill=\"#000000\" fill-rule=\"evenodd\" fill-opacity=\"1\" /><path clip-path=\"url(#clip420)\" d=\"M1132.39 959.436 L1132.39 962.3 L1105.47 962.3 Q1105.85 968.348 1109.09 971.531 Q1112.37 974.682 1118.2 974.682 Q1121.57 974.682 1124.72 973.854 Q1127.9 973.027 1131.02 971.371 L1131.02 976.91 Q1127.87 978.246 1124.56 978.947 Q1121.25 979.647 1117.85 979.647 Q1109.32 979.647 1104.32 974.682 Q1099.35 969.716 1099.35 961.25 Q1099.35 952.497 1104.07 947.373 Q1108.81 942.217 1116.83 942.217 Q1124.02 942.217 1128.19 946.863 Q1132.39 951.479 1132.39 959.436 M1126.54 957.717 Q1126.47 952.911 1123.83 950.046 Q1121.22 947.182 1116.89 947.182 Q1111.99 947.182 1109.03 949.951 Q1106.1 952.72 1105.66 957.749 L1126.54 957.717 Z\" fill=\"#000000\" fill-rule=\"evenodd\" fill-opacity=\"1\" /><polyline clip-path=\"url(#clip422)\" style=\"stroke:#000000; stroke-linecap:butt; stroke-linejoin:round; stroke-width:2; stroke-opacity:0.1; fill:none\" points=\"\n",
       "  355.783,831 1752.76,831 \n",
       "  \"/>\n",
       "<polyline clip-path=\"url(#clip422)\" style=\"stroke:#000000; stroke-linecap:butt; stroke-linejoin:round; stroke-width:2; stroke-opacity:0.1; fill:none\" points=\"\n",
       "  355.783,682.518 1752.76,682.518 \n",
       "  \"/>\n",
       "<polyline clip-path=\"url(#clip422)\" style=\"stroke:#000000; stroke-linecap:butt; stroke-linejoin:round; stroke-width:2; stroke-opacity:0.1; fill:none\" points=\"\n",
       "  355.783,534.036 1752.76,534.036 \n",
       "  \"/>\n",
       "<polyline clip-path=\"url(#clip422)\" style=\"stroke:#000000; stroke-linecap:butt; stroke-linejoin:round; stroke-width:2; stroke-opacity:0.1; fill:none\" points=\"\n",
       "  355.783,385.553 1752.76,385.553 \n",
       "  \"/>\n",
       "<polyline clip-path=\"url(#clip422)\" style=\"stroke:#000000; stroke-linecap:butt; stroke-linejoin:round; stroke-width:2; stroke-opacity:0.1; fill:none\" points=\"\n",
       "  355.783,237.071 1752.76,237.071 \n",
       "  \"/>\n",
       "<polyline clip-path=\"url(#clip422)\" style=\"stroke:#000000; stroke-linecap:butt; stroke-linejoin:round; stroke-width:2; stroke-opacity:0.1; fill:none\" points=\"\n",
       "  355.783,88.5884 1752.76,88.5884 \n",
       "  \"/>\n",
       "<polyline clip-path=\"url(#clip420)\" style=\"stroke:#000000; stroke-linecap:butt; stroke-linejoin:round; stroke-width:4; stroke-opacity:1; fill:none\" points=\"\n",
       "  355.783,842.86 355.783,47.2441 \n",
       "  \"/>\n",
       "<polyline clip-path=\"url(#clip420)\" style=\"stroke:#000000; stroke-linecap:butt; stroke-linejoin:round; stroke-width:4; stroke-opacity:1; fill:none\" points=\"\n",
       "  355.783,831 374.681,831 \n",
       "  \"/>\n",
       "<polyline clip-path=\"url(#clip420)\" style=\"stroke:#000000; stroke-linecap:butt; stroke-linejoin:round; stroke-width:4; stroke-opacity:1; fill:none\" points=\"\n",
       "  355.783,682.518 374.681,682.518 \n",
       "  \"/>\n",
       "<polyline clip-path=\"url(#clip420)\" style=\"stroke:#000000; stroke-linecap:butt; stroke-linejoin:round; stroke-width:4; stroke-opacity:1; fill:none\" points=\"\n",
       "  355.783,534.036 374.681,534.036 \n",
       "  \"/>\n",
       "<polyline clip-path=\"url(#clip420)\" style=\"stroke:#000000; stroke-linecap:butt; stroke-linejoin:round; stroke-width:4; stroke-opacity:1; fill:none\" points=\"\n",
       "  355.783,385.553 374.681,385.553 \n",
       "  \"/>\n",
       "<polyline clip-path=\"url(#clip420)\" style=\"stroke:#000000; stroke-linecap:butt; stroke-linejoin:round; stroke-width:4; stroke-opacity:1; fill:none\" points=\"\n",
       "  355.783,237.071 374.681,237.071 \n",
       "  \"/>\n",
       "<polyline clip-path=\"url(#clip420)\" style=\"stroke:#000000; stroke-linecap:butt; stroke-linejoin:round; stroke-width:4; stroke-opacity:1; fill:none\" points=\"\n",
       "  355.783,88.5884 374.681,88.5884 \n",
       "  \"/>\n",
       "<path clip-path=\"url(#clip420)\" d=\"M316.839 816.799 Q313.228 816.799 311.399 820.364 Q309.594 823.906 309.594 831.035 Q309.594 838.142 311.399 841.706 Q313.228 845.248 316.839 845.248 Q320.473 845.248 322.279 841.706 Q324.108 838.142 324.108 831.035 Q324.108 823.906 322.279 820.364 Q320.473 816.799 316.839 816.799 M316.839 813.095 Q322.649 813.095 325.705 817.702 Q328.783 822.285 328.783 831.035 Q328.783 839.762 325.705 844.368 Q322.649 848.952 316.839 848.952 Q311.029 848.952 307.95 844.368 Q304.895 839.762 304.895 831.035 Q304.895 822.285 307.95 817.702 Q311.029 813.095 316.839 813.095 Z\" fill=\"#000000\" fill-rule=\"evenodd\" fill-opacity=\"1\" /><path clip-path=\"url(#clip420)\" d=\"M112.958 671.686 L131.315 671.686 L131.315 675.621 L117.241 675.621 L117.241 684.093 Q118.259 683.746 119.278 683.584 Q120.296 683.399 121.315 683.399 Q127.102 683.399 130.482 686.57 Q133.861 689.741 133.861 695.158 Q133.861 700.736 130.389 703.838 Q126.917 706.917 120.597 706.917 Q118.421 706.917 116.153 706.547 Q113.908 706.176 111.5 705.435 L111.5 700.736 Q113.583 701.871 115.806 702.426 Q118.028 702.982 120.505 702.982 Q124.509 702.982 126.847 700.875 Q129.185 698.769 129.185 695.158 Q129.185 691.547 126.847 689.44 Q124.509 687.334 120.505 687.334 Q118.63 687.334 116.755 687.75 Q114.903 688.167 112.958 689.047 L112.958 671.686 Z\" fill=\"#000000\" fill-rule=\"evenodd\" fill-opacity=\"1\" /><path clip-path=\"url(#clip420)\" d=\"M143.074 700.366 L147.958 700.366 L147.958 706.246 L143.074 706.246 L143.074 700.366 Z\" fill=\"#000000\" fill-rule=\"evenodd\" fill-opacity=\"1\" /><path clip-path=\"url(#clip420)\" d=\"M168.143 674.764 Q164.532 674.764 162.704 678.329 Q160.898 681.871 160.898 689 Q160.898 696.107 162.704 699.672 Q164.532 703.213 168.143 703.213 Q171.778 703.213 173.583 699.672 Q175.412 696.107 175.412 689 Q175.412 681.871 173.583 678.329 Q171.778 674.764 168.143 674.764 M168.143 671.061 Q173.954 671.061 177.009 675.667 Q180.088 680.25 180.088 689 Q180.088 697.727 177.009 702.334 Q173.954 706.917 168.143 706.917 Q162.333 706.917 159.255 702.334 Q156.199 697.727 156.199 689 Q156.199 680.25 159.255 675.667 Q162.333 671.061 168.143 671.061 Z\" fill=\"#000000\" fill-rule=\"evenodd\" fill-opacity=\"1\" /><path clip-path=\"url(#clip420)\" d=\"M198.305 674.764 Q194.694 674.764 192.865 678.329 Q191.06 681.871 191.06 689 Q191.06 696.107 192.865 699.672 Q194.694 703.213 198.305 703.213 Q201.939 703.213 203.745 699.672 Q205.574 696.107 205.574 689 Q205.574 681.871 203.745 678.329 Q201.939 674.764 198.305 674.764 M198.305 671.061 Q204.115 671.061 207.171 675.667 Q210.25 680.25 210.25 689 Q210.25 697.727 207.171 702.334 Q204.115 706.917 198.305 706.917 Q192.495 706.917 189.416 702.334 Q186.361 697.727 186.361 689 Q186.361 680.25 189.416 675.667 Q192.495 671.061 198.305 671.061 Z\" fill=\"#000000\" fill-rule=\"evenodd\" fill-opacity=\"1\" /><path clip-path=\"url(#clip420)\" d=\"M246.638 680.783 L236.06 691.408 L246.638 701.986 L243.884 704.787 L233.259 694.162 L222.634 704.787 L219.902 701.986 L230.458 691.408 L219.902 680.783 L222.634 677.982 L233.259 688.607 L243.884 677.982 L246.638 680.783 Z\" fill=\"#000000\" fill-rule=\"evenodd\" fill-opacity=\"1\" /><path clip-path=\"url(#clip420)\" d=\"M258.999 702.311 L266.638 702.311 L266.638 675.945 L258.328 677.612 L258.328 673.352 L266.592 671.686 L271.268 671.686 L271.268 702.311 L278.907 702.311 L278.907 706.246 L258.999 706.246 L258.999 702.311 Z\" fill=\"#000000\" fill-rule=\"evenodd\" fill-opacity=\"1\" /><path clip-path=\"url(#clip420)\" d=\"M298.351 674.764 Q294.74 674.764 292.911 678.329 Q291.106 681.871 291.106 689 Q291.106 696.107 292.911 699.672 Q294.74 703.213 298.351 703.213 Q301.985 703.213 303.791 699.672 Q305.619 696.107 305.619 689 Q305.619 681.871 303.791 678.329 Q301.985 674.764 298.351 674.764 M298.351 671.061 Q304.161 671.061 307.217 675.667 Q310.295 680.25 310.295 689 Q310.295 697.727 307.217 702.334 Q304.161 706.917 298.351 706.917 Q292.541 706.917 289.462 702.334 Q286.407 697.727 286.407 689 Q286.407 680.25 289.462 675.667 Q292.541 671.061 298.351 671.061 Z\" fill=\"#000000\" fill-rule=\"evenodd\" fill-opacity=\"1\" /><path clip-path=\"url(#clip420)\" d=\"M322.991 663.695 Q325.718 664.278 327.241 666.121 Q328.783 667.964 328.783 670.673 Q328.783 674.829 325.925 677.105 Q323.066 679.381 317.8 679.381 Q316.032 679.381 314.151 679.023 Q312.289 678.685 310.295 677.989 L310.295 674.321 Q311.875 675.243 313.756 675.713 Q315.637 676.183 317.687 676.183 Q321.26 676.183 323.122 674.773 Q325.003 673.362 325.003 670.673 Q325.003 668.19 323.254 666.798 Q321.524 665.388 318.42 665.388 L315.148 665.388 L315.148 662.266 L318.571 662.266 Q321.373 662.266 322.859 661.156 Q324.345 660.028 324.345 657.921 Q324.345 655.758 322.803 654.611 Q321.279 653.445 318.42 653.445 Q316.859 653.445 315.073 653.783 Q313.286 654.122 311.142 654.837 L311.142 651.451 Q313.305 650.849 315.185 650.548 Q317.085 650.247 318.759 650.247 Q323.085 650.247 325.605 652.222 Q328.125 654.178 328.125 657.526 Q328.125 659.858 326.79 661.476 Q325.454 663.074 322.991 663.695 Z\" fill=\"#000000\" fill-rule=\"evenodd\" fill-opacity=\"1\" /><path clip-path=\"url(#clip420)\" d=\"M111.748 553.828 L119.386 553.828 L119.386 527.463 L111.076 529.129 L111.076 524.87 L119.34 523.203 L124.016 523.203 L124.016 553.828 L131.655 553.828 L131.655 557.763 L111.748 557.763 L111.748 553.828 Z\" fill=\"#000000\" fill-rule=\"evenodd\" fill-opacity=\"1\" /><path clip-path=\"url(#clip420)\" d=\"M141.099 551.884 L145.983 551.884 L145.983 557.763 L141.099 557.763 L141.099 551.884 Z\" fill=\"#000000\" fill-rule=\"evenodd\" fill-opacity=\"1\" /><path clip-path=\"url(#clip420)\" d=\"M166.169 526.282 Q162.557 526.282 160.729 529.847 Q158.923 533.388 158.923 540.518 Q158.923 547.624 160.729 551.189 Q162.557 554.731 166.169 554.731 Q169.803 554.731 171.608 551.189 Q173.437 547.624 173.437 540.518 Q173.437 533.388 171.608 529.847 Q169.803 526.282 166.169 526.282 M166.169 522.578 Q171.979 522.578 175.034 527.185 Q178.113 531.768 178.113 540.518 Q178.113 549.245 175.034 553.851 Q171.979 558.435 166.169 558.435 Q160.358 558.435 157.28 553.851 Q154.224 549.245 154.224 540.518 Q154.224 531.768 157.28 527.185 Q160.358 522.578 166.169 522.578 Z\" fill=\"#000000\" fill-rule=\"evenodd\" fill-opacity=\"1\" /><path clip-path=\"url(#clip420)\" d=\"M196.33 526.282 Q192.719 526.282 190.891 529.847 Q189.085 533.388 189.085 540.518 Q189.085 547.624 190.891 551.189 Q192.719 554.731 196.33 554.731 Q199.965 554.731 201.77 551.189 Q203.599 547.624 203.599 540.518 Q203.599 533.388 201.77 529.847 Q199.965 526.282 196.33 526.282 M196.33 522.578 Q202.141 522.578 205.196 527.185 Q208.275 531.768 208.275 540.518 Q208.275 549.245 205.196 553.851 Q202.141 558.435 196.33 558.435 Q190.52 558.435 187.442 553.851 Q184.386 549.245 184.386 540.518 Q184.386 531.768 187.442 527.185 Q190.52 522.578 196.33 522.578 Z\" fill=\"#000000\" fill-rule=\"evenodd\" fill-opacity=\"1\" /><path clip-path=\"url(#clip420)\" d=\"M244.664 532.3 L234.085 542.925 L244.664 553.504 L241.909 556.305 L231.284 545.68 L220.659 556.305 L217.928 553.504 L228.483 542.925 L217.928 532.3 L220.659 529.5 L231.284 540.124 L241.909 529.5 L244.664 532.3 Z\" fill=\"#000000\" fill-rule=\"evenodd\" fill-opacity=\"1\" /><path clip-path=\"url(#clip420)\" d=\"M257.025 553.828 L264.663 553.828 L264.663 527.463 L256.353 529.129 L256.353 524.87 L264.617 523.203 L269.293 523.203 L269.293 553.828 L276.932 553.828 L276.932 557.763 L257.025 557.763 L257.025 553.828 Z\" fill=\"#000000\" fill-rule=\"evenodd\" fill-opacity=\"1\" /><path clip-path=\"url(#clip420)\" d=\"M296.376 526.282 Q292.765 526.282 290.936 529.847 Q289.131 533.388 289.131 540.518 Q289.131 547.624 290.936 551.189 Q292.765 554.731 296.376 554.731 Q300.01 554.731 301.816 551.189 Q303.645 547.624 303.645 540.518 Q303.645 533.388 301.816 529.847 Q300.01 526.282 296.376 526.282 M296.376 522.578 Q302.186 522.578 305.242 527.185 Q308.321 531.768 308.321 540.518 Q308.321 549.245 305.242 553.851 Q302.186 558.435 296.376 558.435 Q290.566 558.435 287.487 553.851 Q284.432 549.245 284.432 540.518 Q284.432 531.768 287.487 527.185 Q290.566 522.578 296.376 522.578 Z\" fill=\"#000000\" fill-rule=\"evenodd\" fill-opacity=\"1\" /><path clip-path=\"url(#clip420)\" d=\"M320.997 505.583 L311.405 520.573 L320.997 520.573 L320.997 505.583 M320 502.273 L324.777 502.273 L324.777 520.573 L328.783 520.573 L328.783 523.733 L324.777 523.733 L324.777 530.353 L320.997 530.353 L320.997 523.733 L308.321 523.733 L308.321 520.065 L320 502.273 Z\" fill=\"#000000\" fill-rule=\"evenodd\" fill-opacity=\"1\" /><path clip-path=\"url(#clip420)\" d=\"M111.748 405.346 L119.386 405.346 L119.386 378.98 L111.076 380.647 L111.076 376.388 L119.34 374.721 L124.016 374.721 L124.016 405.346 L131.655 405.346 L131.655 409.281 L111.748 409.281 L111.748 405.346 Z\" fill=\"#000000\" fill-rule=\"evenodd\" fill-opacity=\"1\" /><path clip-path=\"url(#clip420)\" d=\"M141.099 403.401 L145.983 403.401 L145.983 409.281 L141.099 409.281 L141.099 403.401 Z\" fill=\"#000000\" fill-rule=\"evenodd\" fill-opacity=\"1\" /><path clip-path=\"url(#clip420)\" d=\"M156.215 374.721 L174.571 374.721 L174.571 378.656 L160.497 378.656 L160.497 387.128 Q161.516 386.781 162.534 386.619 Q163.553 386.434 164.571 386.434 Q170.358 386.434 173.738 389.605 Q177.118 392.776 177.118 398.193 Q177.118 403.772 173.645 406.873 Q170.173 409.952 163.854 409.952 Q161.678 409.952 159.409 409.582 Q157.164 409.211 154.757 408.471 L154.757 403.772 Q156.84 404.906 159.062 405.461 Q161.284 406.017 163.761 406.017 Q167.766 406.017 170.104 403.911 Q172.442 401.804 172.442 398.193 Q172.442 394.582 170.104 392.475 Q167.766 390.369 163.761 390.369 Q161.886 390.369 160.011 390.786 Q158.159 391.202 156.215 392.082 L156.215 374.721 Z\" fill=\"#000000\" fill-rule=\"evenodd\" fill-opacity=\"1\" /><path clip-path=\"url(#clip420)\" d=\"M196.33 377.8 Q192.719 377.8 190.891 381.364 Q189.085 384.906 189.085 392.036 Q189.085 399.142 190.891 402.707 Q192.719 406.248 196.33 406.248 Q199.965 406.248 201.77 402.707 Q203.599 399.142 203.599 392.036 Q203.599 384.906 201.77 381.364 Q199.965 377.8 196.33 377.8 M196.33 374.096 Q202.141 374.096 205.196 378.702 Q208.275 383.286 208.275 392.036 Q208.275 400.762 205.196 405.369 Q202.141 409.952 196.33 409.952 Q190.52 409.952 187.442 405.369 Q184.386 400.762 184.386 392.036 Q184.386 383.286 187.442 378.702 Q190.52 374.096 196.33 374.096 Z\" fill=\"#000000\" fill-rule=\"evenodd\" fill-opacity=\"1\" /><path clip-path=\"url(#clip420)\" d=\"M244.664 383.818 L234.085 394.443 L244.664 405.022 L241.909 407.823 L231.284 397.198 L220.659 407.823 L217.928 405.022 L228.483 394.443 L217.928 383.818 L220.659 381.017 L231.284 391.642 L241.909 381.017 L244.664 383.818 Z\" fill=\"#000000\" fill-rule=\"evenodd\" fill-opacity=\"1\" /><path clip-path=\"url(#clip420)\" d=\"M257.025 405.346 L264.663 405.346 L264.663 378.98 L256.353 380.647 L256.353 376.388 L264.617 374.721 L269.293 374.721 L269.293 405.346 L276.932 405.346 L276.932 409.281 L257.025 409.281 L257.025 405.346 Z\" fill=\"#000000\" fill-rule=\"evenodd\" fill-opacity=\"1\" /><path clip-path=\"url(#clip420)\" d=\"M296.376 377.8 Q292.765 377.8 290.936 381.364 Q289.131 384.906 289.131 392.036 Q289.131 399.142 290.936 402.707 Q292.765 406.248 296.376 406.248 Q300.01 406.248 301.816 402.707 Q303.645 399.142 303.645 392.036 Q303.645 384.906 301.816 381.364 Q300.01 377.8 296.376 377.8 M296.376 374.096 Q302.186 374.096 305.242 378.702 Q308.321 383.286 308.321 392.036 Q308.321 400.762 305.242 405.369 Q302.186 409.952 296.376 409.952 Q290.566 409.952 287.487 405.369 Q284.432 400.762 284.432 392.036 Q284.432 383.286 287.487 378.702 Q290.566 374.096 296.376 374.096 Z\" fill=\"#000000\" fill-rule=\"evenodd\" fill-opacity=\"1\" /><path clip-path=\"url(#clip420)\" d=\"M320.997 357.101 L311.405 372.09 L320.997 372.09 L320.997 357.101 M320 353.79 L324.777 353.79 L324.777 372.09 L328.783 372.09 L328.783 375.25 L324.777 375.25 L324.777 381.87 L320.997 381.87 L320.997 375.25 L308.321 375.25 L308.321 371.583 L320 353.79 Z\" fill=\"#000000\" fill-rule=\"evenodd\" fill-opacity=\"1\" /><path clip-path=\"url(#clip420)\" d=\"M114.965 256.863 L131.284 256.863 L131.284 260.798 L109.34 260.798 L109.34 256.863 Q112.002 254.109 116.585 249.479 Q121.192 244.826 122.372 243.484 Q124.618 240.961 125.497 239.224 Q126.4 237.465 126.4 235.775 Q126.4 233.021 124.456 231.285 Q122.535 229.549 119.433 229.549 Q117.234 229.549 114.78 230.313 Q112.349 231.076 109.572 232.627 L109.572 227.905 Q112.396 226.771 114.849 226.192 Q117.303 225.613 119.34 225.613 Q124.71 225.613 127.905 228.299 Q131.099 230.984 131.099 235.475 Q131.099 237.604 130.289 239.525 Q129.502 241.424 127.396 244.016 Q126.817 244.687 123.715 247.905 Q120.613 251.099 114.965 256.863 Z\" fill=\"#000000\" fill-rule=\"evenodd\" fill-opacity=\"1\" /><path clip-path=\"url(#clip420)\" d=\"M141.099 254.919 L145.983 254.919 L145.983 260.798 L141.099 260.798 L141.099 254.919 Z\" fill=\"#000000\" fill-rule=\"evenodd\" fill-opacity=\"1\" /><path clip-path=\"url(#clip420)\" d=\"M166.169 229.317 Q162.557 229.317 160.729 232.882 Q158.923 236.424 158.923 243.553 Q158.923 250.66 160.729 254.224 Q162.557 257.766 166.169 257.766 Q169.803 257.766 171.608 254.224 Q173.437 250.66 173.437 243.553 Q173.437 236.424 171.608 232.882 Q169.803 229.317 166.169 229.317 M166.169 225.613 Q171.979 225.613 175.034 230.22 Q178.113 234.803 178.113 243.553 Q178.113 252.28 175.034 256.886 Q171.979 261.47 166.169 261.47 Q160.358 261.47 157.28 256.886 Q154.224 252.28 154.224 243.553 Q154.224 234.803 157.28 230.22 Q160.358 225.613 166.169 225.613 Z\" fill=\"#000000\" fill-rule=\"evenodd\" fill-opacity=\"1\" /><path clip-path=\"url(#clip420)\" d=\"M196.33 229.317 Q192.719 229.317 190.891 232.882 Q189.085 236.424 189.085 243.553 Q189.085 250.66 190.891 254.224 Q192.719 257.766 196.33 257.766 Q199.965 257.766 201.77 254.224 Q203.599 250.66 203.599 243.553 Q203.599 236.424 201.77 232.882 Q199.965 229.317 196.33 229.317 M196.33 225.613 Q202.141 225.613 205.196 230.22 Q208.275 234.803 208.275 243.553 Q208.275 252.28 205.196 256.886 Q202.141 261.47 196.33 261.47 Q190.52 261.47 187.442 256.886 Q184.386 252.28 184.386 243.553 Q184.386 234.803 187.442 230.22 Q190.52 225.613 196.33 225.613 Z\" fill=\"#000000\" fill-rule=\"evenodd\" fill-opacity=\"1\" /><path clip-path=\"url(#clip420)\" d=\"M244.664 235.336 L234.085 245.961 L244.664 256.539 L241.909 259.34 L231.284 248.715 L220.659 259.34 L217.928 256.539 L228.483 245.961 L217.928 235.336 L220.659 232.535 L231.284 243.16 L241.909 232.535 L244.664 235.336 Z\" fill=\"#000000\" fill-rule=\"evenodd\" fill-opacity=\"1\" /><path clip-path=\"url(#clip420)\" d=\"M257.025 256.863 L264.663 256.863 L264.663 230.498 L256.353 232.164 L256.353 227.905 L264.617 226.238 L269.293 226.238 L269.293 256.863 L276.932 256.863 L276.932 260.798 L257.025 260.798 L257.025 256.863 Z\" fill=\"#000000\" fill-rule=\"evenodd\" fill-opacity=\"1\" /><path clip-path=\"url(#clip420)\" d=\"M296.376 229.317 Q292.765 229.317 290.936 232.882 Q289.131 236.424 289.131 243.553 Q289.131 250.66 290.936 254.224 Q292.765 257.766 296.376 257.766 Q300.01 257.766 301.816 254.224 Q303.645 250.66 303.645 243.553 Q303.645 236.424 301.816 232.882 Q300.01 229.317 296.376 229.317 M296.376 225.613 Q302.186 225.613 305.242 230.22 Q308.321 234.803 308.321 243.553 Q308.321 252.28 305.242 256.886 Q302.186 261.47 296.376 261.47 Q290.566 261.47 287.487 256.886 Q284.432 252.28 284.432 243.553 Q284.432 234.803 287.487 230.22 Q290.566 225.613 296.376 225.613 Z\" fill=\"#000000\" fill-rule=\"evenodd\" fill-opacity=\"1\" /><path clip-path=\"url(#clip420)\" d=\"M320.997 208.618 L311.405 223.608 L320.997 223.608 L320.997 208.618 M320 205.308 L324.777 205.308 L324.777 223.608 L328.783 223.608 L328.783 226.768 L324.777 226.768 L324.777 233.388 L320.997 233.388 L320.997 226.768 L308.321 226.768 L308.321 223.1 L320 205.308 Z\" fill=\"#000000\" fill-rule=\"evenodd\" fill-opacity=\"1\" /><path clip-path=\"url(#clip420)\" d=\"M114.965 108.381 L131.284 108.381 L131.284 112.316 L109.34 112.316 L109.34 108.381 Q112.002 105.626 116.585 100.997 Q121.192 96.3439 122.372 95.0013 Q124.618 92.4782 125.497 90.7421 Q126.4 88.9828 126.4 87.293 Q126.4 84.5384 124.456 82.8023 Q122.535 81.0662 119.433 81.0662 Q117.234 81.0662 114.78 81.8301 Q112.349 82.594 109.572 84.1449 L109.572 79.4227 Q112.396 78.2885 114.849 77.7098 Q117.303 77.1311 119.34 77.1311 Q124.71 77.1311 127.905 79.8162 Q131.099 82.5014 131.099 86.9921 Q131.099 89.1217 130.289 91.043 Q129.502 92.9412 127.396 95.5337 Q126.817 96.205 123.715 99.4226 Q120.613 102.617 114.965 108.381 Z\" fill=\"#000000\" fill-rule=\"evenodd\" fill-opacity=\"1\" /><path clip-path=\"url(#clip420)\" d=\"M141.099 106.436 L145.983 106.436 L145.983 112.316 L141.099 112.316 L141.099 106.436 Z\" fill=\"#000000\" fill-rule=\"evenodd\" fill-opacity=\"1\" /><path clip-path=\"url(#clip420)\" d=\"M156.215 77.756 L174.571 77.756 L174.571 81.6912 L160.497 81.6912 L160.497 90.1634 Q161.516 89.8162 162.534 89.6541 Q163.553 89.4689 164.571 89.4689 Q170.358 89.4689 173.738 92.6402 Q177.118 95.8115 177.118 101.228 Q177.118 106.807 173.645 109.909 Q170.173 112.987 163.854 112.987 Q161.678 112.987 159.409 112.617 Q157.164 112.247 154.757 111.506 L154.757 106.807 Q156.84 107.941 159.062 108.497 Q161.284 109.052 163.761 109.052 Q167.766 109.052 170.104 106.946 Q172.442 104.839 172.442 101.228 Q172.442 97.6171 170.104 95.5106 Q167.766 93.4041 163.761 93.4041 Q161.886 93.4041 160.011 93.8208 Q158.159 94.2374 156.215 95.1171 L156.215 77.756 Z\" fill=\"#000000\" fill-rule=\"evenodd\" fill-opacity=\"1\" /><path clip-path=\"url(#clip420)\" d=\"M196.33 80.8347 Q192.719 80.8347 190.891 84.3995 Q189.085 87.9412 189.085 95.0708 Q189.085 102.177 190.891 105.742 Q192.719 109.284 196.33 109.284 Q199.965 109.284 201.77 105.742 Q203.599 102.177 203.599 95.0708 Q203.599 87.9412 201.77 84.3995 Q199.965 80.8347 196.33 80.8347 M196.33 77.1311 Q202.141 77.1311 205.196 81.7375 Q208.275 86.3208 208.275 95.0708 Q208.275 103.798 205.196 108.404 Q202.141 112.987 196.33 112.987 Q190.52 112.987 187.442 108.404 Q184.386 103.798 184.386 95.0708 Q184.386 86.3208 187.442 81.7375 Q190.52 77.1311 196.33 77.1311 Z\" fill=\"#000000\" fill-rule=\"evenodd\" fill-opacity=\"1\" /><path clip-path=\"url(#clip420)\" d=\"M244.664 86.8532 L234.085 97.4782 L244.664 108.057 L241.909 110.858 L231.284 100.233 L220.659 110.858 L217.928 108.057 L228.483 97.4782 L217.928 86.8532 L220.659 84.0523 L231.284 94.6773 L241.909 84.0523 L244.664 86.8532 Z\" fill=\"#000000\" fill-rule=\"evenodd\" fill-opacity=\"1\" /><path clip-path=\"url(#clip420)\" d=\"M257.025 108.381 L264.663 108.381 L264.663 82.0153 L256.353 83.6819 L256.353 79.4227 L264.617 77.756 L269.293 77.756 L269.293 108.381 L276.932 108.381 L276.932 112.316 L257.025 112.316 L257.025 108.381 Z\" fill=\"#000000\" fill-rule=\"evenodd\" fill-opacity=\"1\" /><path clip-path=\"url(#clip420)\" d=\"M296.376 80.8347 Q292.765 80.8347 290.936 84.3995 Q289.131 87.9412 289.131 95.0708 Q289.131 102.177 290.936 105.742 Q292.765 109.284 296.376 109.284 Q300.01 109.284 301.816 105.742 Q303.645 102.177 303.645 95.0708 Q303.645 87.9412 301.816 84.3995 Q300.01 80.8347 296.376 80.8347 M296.376 77.1311 Q302.186 77.1311 305.242 81.7375 Q308.321 86.3208 308.321 95.0708 Q308.321 103.798 305.242 108.404 Q302.186 112.987 296.376 112.987 Q290.566 112.987 287.487 108.404 Q284.432 103.798 284.432 95.0708 Q284.432 86.3208 287.487 81.7375 Q290.566 77.1311 296.376 77.1311 Z\" fill=\"#000000\" fill-rule=\"evenodd\" fill-opacity=\"1\" /><path clip-path=\"url(#clip420)\" d=\"M320.997 60.1358 L311.405 75.1256 L320.997 75.1256 L320.997 60.1358 M320 56.8256 L324.777 56.8256 L324.777 75.1256 L328.783 75.1256 L328.783 78.2853 L324.777 78.2853 L324.777 84.9056 L320.997 84.9056 L320.997 78.2853 L308.321 78.2853 L308.321 74.6178 L320 56.8256 Z\" fill=\"#000000\" fill-rule=\"evenodd\" fill-opacity=\"1\" /><path clip-path=\"url(#clip420)\" d=\"M24.2244 476.578 L31.0039 476.578 Q27.9802 479.825 26.4843 483.517 Q24.9883 487.177 24.9883 491.315 Q24.9883 499.463 29.9854 503.792 Q34.9507 508.12 44.3719 508.12 Q53.7613 508.12 58.7584 503.792 Q63.7236 499.463 63.7236 491.315 Q63.7236 487.177 62.2277 483.517 Q60.7318 479.825 57.7081 476.578 L64.4239 476.578 Q66.7155 479.952 67.8614 483.74 Q69.0072 487.495 69.0072 491.697 Q69.0072 502.487 62.4187 508.693 Q55.7983 514.9 44.3719 514.9 Q32.9136 514.9 26.3251 508.693 Q19.7048 502.487 19.7048 491.697 Q19.7048 487.432 20.8506 483.676 Q21.9646 479.888 24.2244 476.578 Z\" fill=\"#000000\" fill-rule=\"evenodd\" fill-opacity=\"1\" /><path clip-path=\"url(#clip420)\" d=\"M36.5421 453.089 Q36.5421 457.799 40.2342 460.537 Q43.8945 463.274 50.292 463.274 Q56.6895 463.274 60.3817 460.568 Q64.0419 457.831 64.0419 453.089 Q64.0419 448.41 60.3498 445.673 Q56.6577 442.935 50.292 442.935 Q43.9581 442.935 40.266 445.673 Q36.5421 448.41 36.5421 453.089 M31.5768 453.089 Q31.5768 445.45 36.5421 441.089 Q41.5073 436.729 50.292 436.729 Q59.0449 436.729 64.0419 441.089 Q69.0072 445.45 69.0072 453.089 Q69.0072 460.759 64.0419 465.12 Q59.0449 469.449 50.292 469.449 Q41.5073 469.449 36.5421 465.12 Q31.5768 460.759 31.5768 453.089 Z\" fill=\"#000000\" fill-rule=\"evenodd\" fill-opacity=\"1\" /><path clip-path=\"url(#clip420)\" d=\"M33.4865 404.296 L39.0247 404.296 Q37.7516 406.778 37.115 409.452 Q36.4784 412.125 36.4784 414.99 Q36.4784 419.35 37.8152 421.547 Q39.152 423.711 41.8256 423.711 Q43.8626 423.711 45.0403 422.151 Q46.1861 420.592 47.2365 415.881 L47.6821 413.876 Q49.0189 407.638 51.4697 405.028 Q53.8886 402.386 58.2491 402.386 Q63.2144 402.386 66.1108 406.333 Q69.0072 410.247 69.0072 417.122 Q69.0072 419.987 68.4343 423.106 Q67.8932 426.194 66.7792 429.631 L60.7318 429.631 Q62.4187 426.385 63.278 423.234 Q64.1056 420.082 64.1056 416.995 Q64.1056 412.857 62.7051 410.629 Q61.2729 408.401 58.6947 408.401 Q56.3076 408.401 55.0345 410.025 Q53.7613 411.616 52.5837 417.059 L52.1062 419.096 Q50.9604 424.538 48.6051 426.957 Q46.218 429.376 42.0802 429.376 Q37.0513 429.376 34.3141 425.812 Q31.5768 422.247 31.5768 415.69 Q31.5768 412.444 32.0543 409.579 Q32.5317 406.715 33.4865 404.296 Z\" fill=\"#000000\" fill-rule=\"evenodd\" fill-opacity=\"1\" /><path clip-path=\"url(#clip420)\" d=\"M22.3147 387.267 L32.4362 387.267 L32.4362 375.204 L36.9877 375.204 L36.9877 387.267 L56.3394 387.267 Q60.6999 387.267 61.9413 386.09 Q63.1826 384.88 63.1826 381.22 L63.1826 375.204 L68.0842 375.204 L68.0842 381.22 Q68.0842 387.999 65.5697 390.577 Q63.0234 393.156 56.3394 393.156 L36.9877 393.156 L36.9877 397.452 L32.4362 397.452 L32.4362 393.156 L22.3147 393.156 L22.3147 387.267 Z\" fill=\"#000000\" fill-rule=\"evenodd\" fill-opacity=\"1\" /><polyline clip-path=\"url(#clip422)\" style=\"stroke:#000000; stroke-linecap:butt; stroke-linejoin:round; stroke-width:16; stroke-opacity:1; fill:none\" points=\"\n",
       "  395.32,820.342 452.62,806.831 509.92,794.388 567.22,782.925 624.52,770.108 681.82,732.165 739.12,700.68 796.42,671.985 853.72,641.899 911.02,606.902 \n",
       "  968.32,555.524 1025.62,479.761 1082.92,439.859 1140.22,407.015 1197.52,363.226 1254.82,296.492 1312.12,237.998 1369.42,163.358 1426.72,129.02 1484.02,109.507 \n",
       "  1541.32,99.1254 1598.62,88.2179 1655.92,78.5665 1713.22,69.7615 \n",
       "  \"/>\n",
       "</svg>\n"
      ]
     },
     "execution_count": 52,
     "metadata": {},
     "output_type": "execute_result"
    }
   ],
   "source": [
    "plot([xLabels],cumsum(vec(cost)),linewidth = 4, linecolor = :black,size = (450,250),xlabel=\"Time\",ylabel=\"Cost\", legend = false) #|> save(\"st-cost.svg\")"
   ]
  },
  {
   "cell_type": "code",
   "execution_count": null,
   "metadata": {},
   "outputs": [],
   "source": []
  },
  {
   "cell_type": "code",
   "execution_count": null,
   "metadata": {},
   "outputs": [],
   "source": []
  },
  {
   "cell_type": "code",
   "execution_count": null,
   "metadata": {},
   "outputs": [],
   "source": []
  }
 ],
 "metadata": {
  "kernelspec": {
   "display_name": "Julia 1.6.3",
   "language": "julia",
   "name": "julia-1.6"
  },
  "language_info": {
   "file_extension": ".jl",
   "mimetype": "application/julia",
   "name": "julia",
   "version": "1.6.3"
  }
 },
 "nbformat": 4,
 "nbformat_minor": 4
}
